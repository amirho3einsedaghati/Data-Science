{
 "cells": [
  {
   "cell_type": "markdown",
   "id": "e8c34ba6",
   "metadata": {},
   "source": [
    "# re.search(), re.split(), re.findall()"
   ]
  },
  {
   "cell_type": "code",
   "execution_count": 88,
   "id": "df9e375b",
   "metadata": {},
   "outputs": [],
   "source": [
    "import re"
   ]
  },
  {
   "cell_type": "code",
   "execution_count": 89,
   "id": "d7066dcd",
   "metadata": {},
   "outputs": [],
   "source": [
    "txt = \"this is a good day\""
   ]
  },
  {
   "cell_type": "markdown",
   "id": "2f7d377e",
   "metadata": {},
   "source": [
    "<br>\n",
    "re.search() looks for some pattern and returns to us a new object, called re.Match object.\n",
    "\n",
    "An re.Match object always has a boolean value of True, so we can always evaluate it in an if statement.\n",
    "\n",
    "The rendering of the match object also tells us what a case is matched with our pattern."
   ]
  },
  {
   "cell_type": "markdown",
   "id": "f473ca03",
   "metadata": {},
   "source": [
    "<br>\n",
    "in this case, the word good is matched with our pattern in the location the match is in, that is in the location that sapn shows."
   ]
  },
  {
   "cell_type": "code",
   "execution_count": 90,
   "id": "58353922",
   "metadata": {},
   "outputs": [
    {
     "data": {
      "text/plain": [
       "<re.Match object; span=(10, 14), match='good'>"
      ]
     },
     "execution_count": 90,
     "metadata": {},
     "output_type": "execute_result"
    }
   ],
   "source": [
    "re.search(\"good\", txt)"
   ]
  },
  {
   "cell_type": "code",
   "execution_count": 91,
   "id": "f58f8325",
   "metadata": {},
   "outputs": [
    {
     "name": "stdout",
     "output_type": "stream",
     "text": [
      "alas :(\n"
     ]
    }
   ],
   "source": [
    "if re.search(\"bad\", txt):\n",
    "    print(\"wonderful !\")\n",
    "else:\n",
    "    print(\"alas :(\")"
   ]
  },
  {
   "cell_type": "code",
   "execution_count": 92,
   "id": "e36f8c8f",
   "metadata": {},
   "outputs": [
    {
     "data": {
      "text/plain": [
       "<re.Match object; span=(25, 29), match='amir'>"
      ]
     },
     "execution_count": 92,
     "metadata": {},
     "output_type": "execute_result"
    }
   ],
   "source": [
    "txt = \"Sara studies diligently. amir gets good grades. amir gets a good job\"\n",
    "\n",
    "re.search(\"amir\", txt)"
   ]
  },
  {
   "cell_type": "code",
   "execution_count": 93,
   "id": "9520425f",
   "metadata": {},
   "outputs": [
    {
     "data": {
      "text/plain": [
       "'amir'"
      ]
     },
     "execution_count": 93,
     "metadata": {},
     "output_type": "execute_result"
    }
   ],
   "source": [
    "re.search(\"amir\", txt).group()"
   ]
  },
  {
   "cell_type": "markdown",
   "id": "90ae5c17",
   "metadata": {},
   "source": [
    "<br>\n",
    "The findall() and split() functions will parse the string for us and return chunks."
   ]
  },
  {
   "cell_type": "markdown",
   "id": "b87a19cb",
   "metadata": {},
   "source": [
    "<br>\n",
    ".split() will use a pattern for creating a list of substrings."
   ]
  },
  {
   "cell_type": "code",
   "execution_count": 94,
   "id": "e403cbee",
   "metadata": {},
   "outputs": [
    {
     "data": {
      "text/plain": [
       "['', ' studies diligently. ', ' gets good grades. ', ' gets a good job']"
      ]
     },
     "execution_count": 94,
     "metadata": {},
     "output_type": "execute_result"
    }
   ],
   "source": [
    "txt = \"amir studies diligently. amir gets good grades. amir gets a good job\"\n",
    "\n",
    "txt.split(\"amir\")"
   ]
  },
  {
   "cell_type": "code",
   "execution_count": 95,
   "id": "3310f3af",
   "metadata": {},
   "outputs": [
    {
     "data": {
      "text/plain": [
       "['', ' studies diligently. ', ' gets good grades. ', ' gets a good job']"
      ]
     },
     "execution_count": 95,
     "metadata": {},
     "output_type": "execute_result"
    }
   ],
   "source": [
    "re.split(\"amir\", txt)"
   ]
  },
  {
   "cell_type": "markdown",
   "id": "d7b0d406",
   "metadata": {},
   "source": [
    "<br>\n",
    ".findall() will look for a pattern and pull out all occurences."
   ]
  },
  {
   "cell_type": "code",
   "execution_count": 96,
   "id": "3e948632",
   "metadata": {},
   "outputs": [
    {
     "data": {
      "text/plain": [
       "['amir', 'amir', 'amir']"
      ]
     },
     "execution_count": 96,
     "metadata": {},
     "output_type": "execute_result"
    }
   ],
   "source": [
    "re.findall(pattern= \"amir\", string= txt)"
   ]
  },
  {
   "cell_type": "markdown",
   "id": "3c2bf533",
   "metadata": {},
   "source": [
    "### Anchors (^ or $)"
   ]
  },
  {
   "cell_type": "markdown",
   "id": "d3c2b932",
   "metadata": {},
   "source": [
    "<br>\n",
    "specification standard defines a markup language to describe patterns in text.\n",
    "\n",
    "Anchors specify the start and/or the end of the string that we are trying to match it with our pattern.\n",
    "\n",
    "The caret character ^ means the start of the string and the dollar sign character $ means the end of the string. \n",
    "\n",
    "If we put ^ in the beginning of a string, it means that the text the regex processor retrieves must start with the pattern we specify.\n",
    "\n",
    "If we put put the $ character in the ending of a string, it means that the text Regex processor retrieves must end with the pattern we specify."
   ]
  },
  {
   "cell_type": "code",
   "execution_count": 97,
   "id": "3921c5eb",
   "metadata": {},
   "outputs": [
    {
     "name": "stdout",
     "output_type": "stream",
     "text": [
      "alas :(\n"
     ]
    }
   ],
   "source": [
    "txt = \"Sara studies diligently. amir gets good grades. amir gets a good job\"\n",
    "\n",
    "if re.search(\"^amir\", txt):\n",
    "    print(re.search(\"amir\", txt))\n",
    "else:\n",
    "    print(\"alas :(\")"
   ]
  },
  {
   "cell_type": "code",
   "execution_count": 98,
   "id": "0110454c",
   "metadata": {},
   "outputs": [
    {
     "data": {
      "text/plain": [
       "<re.Match object; span=(0, 4), match='amir'>"
      ]
     },
     "execution_count": 98,
     "metadata": {},
     "output_type": "execute_result"
    }
   ],
   "source": [
    "txt = \"amir studies diligently. amir gets good grades. amir gets a good job\"\n",
    "\n",
    "re.search(\"^amir\", txt)"
   ]
  },
  {
   "cell_type": "code",
   "execution_count": 99,
   "id": "003d459f",
   "metadata": {},
   "outputs": [
    {
     "name": "stdout",
     "output_type": "stream",
     "text": [
      "alas :(\n"
     ]
    }
   ],
   "source": [
    "txt = \"amir studies diligently. amir gets good grades. amir gets a good job.\"\n",
    "\n",
    "if re.search(\"job$\", txt):\n",
    "    print(re.search(\"job$\", txt))\n",
    "else:\n",
    "    print(\"alas :(\")"
   ]
  },
  {
   "cell_type": "code",
   "execution_count": 100,
   "id": "130021ec",
   "metadata": {},
   "outputs": [
    {
     "name": "stdout",
     "output_type": "stream",
     "text": [
      "<re.Match object; span=(65, 68), match='job'>\n"
     ]
    }
   ],
   "source": [
    "txt = \"amir studies diligently. amir gets good grades. amir gets a good job\"\n",
    "\n",
    "if re.search(\"job$\", txt):\n",
    "    print(re.search(\"job$\", txt))\n",
    "else:\n",
    "    print(\"alas :(\")"
   ]
  },
  {
   "cell_type": "markdown",
   "id": "f59e4970",
   "metadata": {},
   "source": [
    "# pattern and character classes "
   ]
  },
  {
   "cell_type": "code",
   "execution_count": 101,
   "id": "f0ed305a",
   "metadata": {},
   "outputs": [
    {
     "data": {
      "text/plain": [
       "15"
      ]
     },
     "execution_count": 101,
     "metadata": {},
     "output_type": "execute_result"
    }
   ],
   "source": [
    "grades = \"ACAAABBCCDAABDD\"\n",
    "len(grades)"
   ]
  },
  {
   "cell_type": "code",
   "execution_count": 102,
   "id": "19f763cf",
   "metadata": {},
   "outputs": [
    {
     "data": {
      "text/plain": [
       "['A', 'C', 'A', 'A', 'A', 'B', 'B', 'C', 'C', 'A', 'A', 'B']"
      ]
     },
     "execution_count": 102,
     "metadata": {},
     "output_type": "execute_result"
    }
   ],
   "source": [
    "re.findall(\"[A-C]\", grades)"
   ]
  },
  {
   "cell_type": "markdown",
   "id": "2a149c83",
   "metadata": {},
   "source": [
    "<br>\n",
    "by unsing set operator, [ ] sign, in \"re\" library and the .findall() method, we can create a set of differrent patterns including one character or several characters."
   ]
  },
  {
   "cell_type": "markdown",
   "id": "78116be2",
   "metadata": {},
   "source": [
    "<br>\n",
    "the [AC] pattern describes a set of possible characters which could be either (A OR C)"
   ]
  },
  {
   "cell_type": "code",
   "execution_count": 103,
   "id": "9853e969",
   "metadata": {},
   "outputs": [
    {
     "data": {
      "text/plain": [
       "True"
      ]
     },
     "execution_count": 103,
     "metadata": {},
     "output_type": "execute_result"
    }
   ],
   "source": [
    "re.findall(\"[AC]\", grades) == re.findall(\"A|C\", grades)"
   ]
  },
  {
   "cell_type": "code",
   "execution_count": 104,
   "id": "2a71c9b6",
   "metadata": {},
   "outputs": [
    {
     "data": {
      "text/plain": [
       "['A', 'C', 'A', 'A', 'A', 'C', 'C', 'A', 'A']"
      ]
     },
     "execution_count": 104,
     "metadata": {},
     "output_type": "execute_result"
    }
   ],
   "source": [
    "re.findall(\"[AC]\", grades)"
   ]
  },
  {
   "cell_type": "markdown",
   "id": "bc52579d",
   "metadata": {},
   "source": [
    "<br>\n",
    "pip charater, which means OR."
   ]
  },
  {
   "cell_type": "code",
   "execution_count": 105,
   "id": "7f67afae",
   "metadata": {},
   "outputs": [
    {
     "data": {
      "text/plain": [
       "['A', 'C', 'A', 'A', 'A', 'C', 'C', 'A', 'A']"
      ]
     },
     "execution_count": 105,
     "metadata": {},
     "output_type": "execute_result"
    }
   ],
   "source": [
    "re.findall(\"A|C\", grades)"
   ]
  },
  {
   "cell_type": "markdown",
   "id": "ec883066",
   "metadata": {},
   "source": [
    "<br>\n",
    "the [A-C] pattern describes a set of possible characters which could be either (A, B, OR C)"
   ]
  },
  {
   "cell_type": "code",
   "execution_count": 106,
   "id": "59b52a07",
   "metadata": {},
   "outputs": [
    {
     "data": {
      "text/plain": [
       "['A', 'C', 'A', 'A', 'A', 'B', 'B', 'C', 'C', 'A', 'A', 'B']"
      ]
     },
     "execution_count": 106,
     "metadata": {},
     "output_type": "execute_result"
    }
   ],
   "source": [
    "re.findall(\"[A-C]\", grades)"
   ]
  },
  {
   "cell_type": "markdown",
   "id": "831c1571",
   "metadata": {},
   "source": [
    "<br>\n",
    "the [A-Z] pattern describes a set of possible characters which could be either (A, B,...., OR Z). because we don't have the further characters of D, the .findall() method just receives the characters that exist."
   ]
  },
  {
   "cell_type": "code",
   "execution_count": 107,
   "id": "54d02481",
   "metadata": {},
   "outputs": [
    {
     "data": {
      "text/plain": [
       "['A', 'C', 'A', 'A', 'A', 'B', 'B', 'C', 'C', 'D', 'A', 'A', 'B', 'D', 'D']"
      ]
     },
     "execution_count": 107,
     "metadata": {},
     "output_type": "execute_result"
    }
   ],
   "source": [
    "re.findall(\"[A-Z]\", grades)"
   ]
  },
  {
   "cell_type": "code",
   "execution_count": null,
   "id": "9631adf3",
   "metadata": {},
   "outputs": [],
   "source": []
  },
  {
   "cell_type": "markdown",
   "id": "7565f97c",
   "metadata": {},
   "source": [
    "<br>\n",
    "the patterns that have 2 set operators denote two sets of characters which must have been matched back to back."
   ]
  },
  {
   "cell_type": "code",
   "execution_count": 108,
   "id": "1a5c6973",
   "metadata": {},
   "outputs": [
    {
     "data": {
      "text/plain": [
       "['AA', 'AA']"
      ]
     },
     "execution_count": 108,
     "metadata": {},
     "output_type": "execute_result"
    }
   ],
   "source": [
    "re.findall(\"[A][AD]\", grades)"
   ]
  },
  {
   "cell_type": "markdown",
   "id": "b8073345",
   "metadata": {},
   "source": [
    "<br>\n",
    "in this example, a regex receives all instances in that an A follows either a A, a B, a C, or a C."
   ]
  },
  {
   "cell_type": "code",
   "execution_count": 109,
   "id": "0c687284",
   "metadata": {},
   "outputs": [
    {
     "data": {
      "text/plain": [
       "['AC', 'AA', 'AB', 'AA']"
      ]
     },
     "execution_count": 109,
     "metadata": {},
     "output_type": "execute_result"
    }
   ],
   "source": [
    "re.findall(\"[A][A-D]\", grades)"
   ]
  },
  {
   "cell_type": "code",
   "execution_count": 110,
   "id": "a86be464",
   "metadata": {},
   "outputs": [
    {
     "data": {
      "text/plain": [
       "['AC', 'AB', 'BC', 'AB']"
      ]
     },
     "execution_count": 110,
     "metadata": {},
     "output_type": "execute_result"
    }
   ],
   "source": [
    "re.findall(\"[AB][B-D]\", grades)"
   ]
  },
  {
   "cell_type": "code",
   "execution_count": 111,
   "id": "24fb70df",
   "metadata": {},
   "outputs": [
    {
     "data": {
      "text/plain": [
       "['AC', 'AB', 'CC', 'AB']"
      ]
     },
     "execution_count": 111,
     "metadata": {},
     "output_type": "execute_result"
    }
   ],
   "source": [
    "re.findall(\"[AC][B-D]\", grades)"
   ]
  },
  {
   "cell_type": "code",
   "execution_count": null,
   "id": "220573d4",
   "metadata": {},
   "outputs": [],
   "source": []
  },
  {
   "cell_type": "markdown",
   "id": "5c8589b9",
   "metadata": {},
   "source": [
    "<br>\n",
    "We can use the caret inside of the set operator to negate our results.\n",
    "\n",
    "if we want to parse out only the grades which were not A's, we should use the caret inside of the set operator."
   ]
  },
  {
   "cell_type": "code",
   "execution_count": 112,
   "id": "0fae708e",
   "metadata": {},
   "outputs": [
    {
     "data": {
      "text/plain": [
       "['C', 'B', 'B', 'C', 'C', 'D', 'B', 'D', 'D']"
      ]
     },
     "execution_count": 112,
     "metadata": {},
     "output_type": "execute_result"
    }
   ],
   "source": [
    "re.findall(\"[^A]\", grades)"
   ]
  },
  {
   "cell_type": "markdown",
   "id": "37642698",
   "metadata": {},
   "source": [
    "<br>\n",
    "the caret which put in the beginning of a string as an anchor point checks whether the string starts with the pattern we specify."
   ]
  },
  {
   "cell_type": "code",
   "execution_count": 113,
   "id": "3f168183",
   "metadata": {},
   "outputs": [
    {
     "data": {
      "text/plain": [
       "[]"
      ]
     },
     "execution_count": 113,
     "metadata": {},
     "output_type": "execute_result"
    }
   ],
   "source": [
    "re.findall(\"^[^A]\", grades)"
   ]
  },
  {
   "cell_type": "code",
   "execution_count": 114,
   "id": "b3161d0c",
   "metadata": {},
   "outputs": [
    {
     "data": {
      "text/plain": [
       "['A']"
      ]
     },
     "execution_count": 114,
     "metadata": {},
     "output_type": "execute_result"
    }
   ],
   "source": [
    "re.findall(\"^[A]\", grades)"
   ]
  },
  {
   "cell_type": "code",
   "execution_count": 115,
   "id": "4417883c",
   "metadata": {},
   "outputs": [
    {
     "data": {
      "text/plain": [
       "['B']"
      ]
     },
     "execution_count": 115,
     "metadata": {},
     "output_type": "execute_result"
    }
   ],
   "source": [
    "grades = \"BAACDAABC\"\n",
    "\n",
    "re.findall(\"^[^A]\", grades)"
   ]
  },
  {
   "cell_type": "code",
   "execution_count": null,
   "id": "bd7ae136",
   "metadata": {},
   "outputs": [],
   "source": []
  },
  {
   "cell_type": "markdown",
   "id": "73dc4fbf",
   "metadata": {},
   "source": [
    "# Quantifiers"
   ]
  },
  {
   "cell_type": "markdown",
   "id": "83f671b5",
   "metadata": {},
   "source": [
    "<br>\n",
    "the most basic syntax for Quantifiers is : e{m, n}\n",
    "\n",
    "Quantifiers are the number of times you want a pattern in order to match.\n",
    "\n",
    "where e is the expression or character we are matching, m is the minimum number of times you want it to matched, and n is the maximum number of times the item 'e' could be matched."
   ]
  },
  {
   "cell_type": "code",
   "execution_count": 116,
   "id": "c42d4ec5",
   "metadata": {},
   "outputs": [],
   "source": [
    "grades = \"ACAAABBCCDAABDD\""
   ]
  },
  {
   "cell_type": "markdown",
   "id": "c55929a1",
   "metadata": {},
   "source": [
    "<br>\n",
    "The below pattern is looking for a pattern that include one character A."
   ]
  },
  {
   "cell_type": "code",
   "execution_count": 117,
   "id": "6121b8ae",
   "metadata": {},
   "outputs": [
    {
     "data": {
      "text/plain": [
       "['A', 'A', 'A', 'A', 'A', 'A']"
      ]
     },
     "execution_count": 117,
     "metadata": {},
     "output_type": "execute_result"
    }
   ],
   "source": [
    "re.findall(\"A{1,1}\", grades)"
   ]
  },
  {
   "cell_type": "code",
   "execution_count": 118,
   "id": "f6621560",
   "metadata": {},
   "outputs": [
    {
     "data": {
      "text/plain": [
       "['A', 'A', 'A', 'A', 'A', 'A']"
      ]
     },
     "execution_count": 118,
     "metadata": {},
     "output_type": "execute_result"
    }
   ],
   "source": [
    "re.findall(\"A{1}\", grades)"
   ]
  },
  {
   "cell_type": "markdown",
   "id": "64712a1c",
   "metadata": {},
   "source": [
    "<br>\n",
    "The below pattern is looking for any combination of two A's up to ten A's in a row. So it sees four A's as a single streak."
   ]
  },
  {
   "cell_type": "code",
   "execution_count": 119,
   "id": "afadfd13",
   "metadata": {},
   "outputs": [
    {
     "data": {
      "text/plain": [
       "['AAA', 'AA']"
      ]
     },
     "execution_count": 119,
     "metadata": {},
     "output_type": "execute_result"
    }
   ],
   "source": [
    "re.findall(\"A{2,10}\", grades)"
   ]
  },
  {
   "cell_type": "code",
   "execution_count": 120,
   "id": "12929a60",
   "metadata": {},
   "outputs": [
    {
     "data": {
      "text/plain": [
       "['A', 'AA', 'A', 'AA']"
      ]
     },
     "execution_count": 120,
     "metadata": {},
     "output_type": "execute_result"
    }
   ],
   "source": [
    "re.findall(\"A{1,2}\", grades)"
   ]
  },
  {
   "cell_type": "code",
   "execution_count": 121,
   "id": "91f259b6",
   "metadata": {},
   "outputs": [
    {
     "data": {
      "text/plain": [
       "['AA', 'AA']"
      ]
     },
     "execution_count": 121,
     "metadata": {},
     "output_type": "execute_result"
    }
   ],
   "source": [
    "re.findall(\"A{2}\", grades)"
   ]
  },
  {
   "cell_type": "markdown",
   "id": "1ef25625",
   "metadata": {},
   "source": [
    "<br>\n",
    "It's important to note that the regex quantifier syntax does not allow us to deviate from the {m,n} pattern. In particular, if we have an extra space in between the braces we'll always get an empty result."
   ]
  },
  {
   "cell_type": "code",
   "execution_count": 122,
   "id": "511a2cae",
   "metadata": {},
   "outputs": [
    {
     "data": {
      "text/plain": [
       "[]"
      ]
     },
     "execution_count": 122,
     "metadata": {},
     "output_type": "execute_result"
    }
   ],
   "source": [
    "re.findall(\"A{2, 2}\", grades)"
   ]
  },
  {
   "cell_type": "markdown",
   "id": "1614e006",
   "metadata": {},
   "source": [
    "<br>\n",
    "The below pattern is looking for two A's back to back."
   ]
  },
  {
   "cell_type": "code",
   "execution_count": 123,
   "id": "6ffb952f",
   "metadata": {},
   "outputs": [
    {
     "data": {
      "text/plain": [
       "['AA', 'AA']"
      ]
     },
     "execution_count": 123,
     "metadata": {},
     "output_type": "execute_result"
    }
   ],
   "source": [
    "re.findall(\"A{1,1}A{1}\", grades)"
   ]
  },
  {
   "cell_type": "code",
   "execution_count": 124,
   "id": "fc9c59b7",
   "metadata": {},
   "outputs": [
    {
     "data": {
      "text/plain": [
       "['AA', 'AA']"
      ]
     },
     "execution_count": 124,
     "metadata": {},
     "output_type": "execute_result"
    }
   ],
   "source": [
    "re.findall(\"AA\", grades)"
   ]
  },
  {
   "cell_type": "code",
   "execution_count": 125,
   "id": "2550e1fd",
   "metadata": {},
   "outputs": [
    {
     "data": {
      "text/plain": [
       "['AAA', 'AA']"
      ]
     },
     "execution_count": 125,
     "metadata": {},
     "output_type": "execute_result"
    }
   ],
   "source": [
    "re.findall(\"A{2,3}\", grades)"
   ]
  },
  {
   "cell_type": "code",
   "execution_count": 126,
   "id": "f2fc5a2f",
   "metadata": {},
   "outputs": [
    {
     "data": {
      "text/plain": [
       "['AAABBCCD']"
      ]
     },
     "execution_count": 126,
     "metadata": {},
     "output_type": "execute_result"
    }
   ],
   "source": [
    "re.findall(\"A{1,10}B{1,10}C{1,10}D{1,10}\", grades)"
   ]
  },
  {
   "cell_type": "code",
   "execution_count": 127,
   "id": "6df4bea1",
   "metadata": {},
   "outputs": [
    {
     "data": {
      "text/plain": [
       "['AAABBCCD', 'AABDD']"
      ]
     },
     "execution_count": 127,
     "metadata": {},
     "output_type": "execute_result"
    }
   ],
   "source": [
    "re.findall(\"A{2,3}B{1,3}C{0,2}D{1,3}\", grades)"
   ]
  },
  {
   "cell_type": "markdown",
   "id": "697d6891",
   "metadata": {},
   "source": [
    "## complex example: (data scraping)"
   ]
  },
  {
   "cell_type": "markdown",
   "id": "e4db954d",
   "metadata": {},
   "source": [
    "### the first example : Wikipedia Data"
   ]
  },
  {
   "cell_type": "markdown",
   "id": "2dc4676d",
   "metadata": {},
   "source": [
    "<br>\n",
    "There are three other quantifiers that are used as short hand.\n",
    "\n",
    "1. an asterix '*' to match 0 or more times.\n",
    "2. a question mark '?' to match one or more times.\n",
    "3. a '+' plus sign to match one or more times."
   ]
  },
  {
   "cell_type": "code",
   "execution_count": 128,
   "id": "ee238159",
   "metadata": {},
   "outputs": [
    {
     "data": {
      "text/plain": [
       "'Overview[edit]\\nFERPA gives parents access to their child\\'s education records, an opportunity to seek to have the records amended, and some control over the disclosure of information from the records. With several exceptions, schools must have a student\\'s consent prior to the disclosure of education records after that student is 18 years old. The law applies only to educational agencies and institutions that receive funds under a program administered by the U.S. Department of Education.\\n\\nOther regulations under this act, effective starting January 3, 2012, allow for greater disclosures of personal and directory student identifying information and regulate student IDs and e-mail addresses.[2] For example, schools may provide external companies with a student\\'s personally identifiable information without the student\\'s consent.[2]\\n\\nExamples of situations affected by FERPA include school employees divulging information to anyone other than the student about the student\\'s grades or behavior, and school work posted on a bulletin board with a grade. Generally, schools must have written permission from the parent or eligible student in order to release any information from a student\\'s education record.\\n\\nThis privacy policy also governs how state agencies transmit testing data to federal agencies, such as the Education Data Exchange Network.\\n\\nThis U.S. federal law also gave students 18 years of age or older, or students of any age if enrolled in any post-secondary educational institution, the right of privacy regarding grades, enrollment, and even billing information unless the school has specific permission from the student to share that specific type of information.\\n\\nFERPA also permits a school to disclose personally identifiable information from education records of an \"eligible student\" (a student age 18 or older or enrolled in a postsecondary institution at any age) to his or her parents if the student is a \"dependent student\" as that term is defined in Section 152 of the Internal Revenue Code. Generally, if either parent has claimed the student as a dependent on the parent\\'s most recent income tax statement, the school may non-consensually disclose the student\\'s education records to both parents.[3]\\n\\nThe law allowed students who apply to an educational institution such as graduate school permission to view recommendations submitted by others as part of the application. However, on standard application forms, students are given the option to waive this right.\\n\\nFERPA specifically excludes employees of an educational institution if they are not students.\\n\\nThe act is also referred to as the Buckley Amendment, for one of its proponents, Senator James L. Buckley of New York.\\n\\nAccess to public records[edit]\\nThe citing of FERPA to conceal public records that are not \"educational\" in nature has been widely criticized, including by the act\\'s primary Senate sponsor.[4] For example, in the Owasso Independent School District v. Falvo case, an important part of the debate was determining the relationship between peer-grading and \"education records\" as defined in FERPA. In the Court of Appeals, it was ruled that students placing grades on the work of other students made such work into an \"education record.\" Thus, peer-grading was determined as a violation of FERPA privacy policies because students had access to other students\\' academic performance without full consent.[5] However, when the case went to the Supreme Court, it was officially ruled that peer-grading was not a violation of FERPA. This is because a grade written on a student\\'s work does not become an \"education record\" until the teacher writes the final grade into a grade book.[6]\\n\\nStudent medical records[edit]\\nLegal experts have debated the issue of whether student medical records (for example records of therapy sessions with a therapist at an on-campus counseling center) might be released to the school administration under certain triggering events, such as when a student sued his college or university.[7][8]\\n\\nUsually, student medical treatment records will remain under the protection of FERPA, not the Health Insurance Portability and Accountability Act (HIPAA). This is due to the \"FERPA Exception\" written within HIPAA.[9]'"
      ]
     },
     "execution_count": 128,
     "metadata": {},
     "output_type": "execute_result"
    }
   ],
   "source": [
    "with open(\"datasets/ferpa.txt\", \"r\") as file:\n",
    "    wiki = file.read()\n",
    "\n",
    "wiki"
   ]
  },
  {
   "cell_type": "markdown",
   "id": "24b69227",
   "metadata": {},
   "source": [
    "### '\\w' metacharacter and asterisk quantifier '*' "
   ]
  },
  {
   "cell_type": "markdown",
   "id": "f9505482",
   "metadata": {},
   "source": [
    "to match 0 or more characters, we should use asterisk quantifier '*'. \n",
    "\n",
    "asterisk quantifier '*' considers special characters as a space character."
   ]
  },
  {
   "cell_type": "markdown",
   "id": "ed236950",
   "metadata": {},
   "source": [
    "<br>\n",
    "'\\w' is a metacharacter. There are actually a number of different metacharacters listed in the documentation. For instance, \\s matches any whitespace character."
   ]
  },
  {
   "cell_type": "markdown",
   "id": "e2648fe5",
   "metadata": {},
   "source": [
    "<br>\n",
    "by using '\\w' we can access to any characters that exist inside wiki except for special characters."
   ]
  },
  {
   "cell_type": "code",
   "execution_count": 129,
   "id": "7cc1ca4a",
   "metadata": {
    "scrolled": true
   },
   "outputs": [
    {
     "data": {
      "text/plain": [
       "['O',\n",
       " 'v',\n",
       " 'e',\n",
       " 'r',\n",
       " 'v',\n",
       " 'i',\n",
       " 'e',\n",
       " 'w',\n",
       " 'e',\n",
       " 'd',\n",
       " 'i',\n",
       " 't',\n",
       " 'F',\n",
       " 'E',\n",
       " 'R',\n",
       " 'P',\n",
       " 'A',\n",
       " 'g',\n",
       " 'i',\n",
       " 'v',\n",
       " 'e',\n",
       " 's',\n",
       " 'p',\n",
       " 'a',\n",
       " 'r',\n",
       " 'e',\n",
       " 'n',\n",
       " 't',\n",
       " 's',\n",
       " 'a',\n",
       " 'c',\n",
       " 'c',\n",
       " 'e',\n",
       " 's',\n",
       " 's',\n",
       " 't',\n",
       " 'o',\n",
       " 't',\n",
       " 'h',\n",
       " 'e',\n",
       " 'i',\n",
       " 'r',\n",
       " 'c',\n",
       " 'h',\n",
       " 'i',\n",
       " 'l',\n",
       " 'd',\n",
       " 's',\n",
       " 'e',\n",
       " 'd',\n",
       " 'u',\n",
       " 'c',\n",
       " 'a',\n",
       " 't',\n",
       " 'i',\n",
       " 'o',\n",
       " 'n',\n",
       " 'r',\n",
       " 'e',\n",
       " 'c',\n",
       " 'o',\n",
       " 'r',\n",
       " 'd',\n",
       " 's',\n",
       " 'a',\n",
       " 'n',\n",
       " 'o',\n",
       " 'p',\n",
       " 'p',\n",
       " 'o',\n",
       " 'r',\n",
       " 't',\n",
       " 'u',\n",
       " 'n',\n",
       " 'i',\n",
       " 't',\n",
       " 'y',\n",
       " 't',\n",
       " 'o',\n",
       " 's',\n",
       " 'e',\n",
       " 'e',\n",
       " 'k',\n",
       " 't',\n",
       " 'o',\n",
       " 'h',\n",
       " 'a',\n",
       " 'v',\n",
       " 'e',\n",
       " 't',\n",
       " 'h',\n",
       " 'e',\n",
       " 'r',\n",
       " 'e',\n",
       " 'c',\n",
       " 'o',\n",
       " 'r',\n",
       " 'd',\n",
       " 's',\n",
       " 'a',\n",
       " 'm',\n",
       " 'e',\n",
       " 'n',\n",
       " 'd',\n",
       " 'e',\n",
       " 'd',\n",
       " 'a',\n",
       " 'n',\n",
       " 'd',\n",
       " 's',\n",
       " 'o',\n",
       " 'm',\n",
       " 'e',\n",
       " 'c',\n",
       " 'o',\n",
       " 'n',\n",
       " 't',\n",
       " 'r',\n",
       " 'o',\n",
       " 'l',\n",
       " 'o',\n",
       " 'v',\n",
       " 'e',\n",
       " 'r',\n",
       " 't',\n",
       " 'h',\n",
       " 'e',\n",
       " 'd',\n",
       " 'i',\n",
       " 's',\n",
       " 'c',\n",
       " 'l',\n",
       " 'o',\n",
       " 's',\n",
       " 'u',\n",
       " 'r',\n",
       " 'e',\n",
       " 'o',\n",
       " 'f',\n",
       " 'i',\n",
       " 'n',\n",
       " 'f',\n",
       " 'o',\n",
       " 'r',\n",
       " 'm',\n",
       " 'a',\n",
       " 't',\n",
       " 'i',\n",
       " 'o',\n",
       " 'n',\n",
       " 'f',\n",
       " 'r',\n",
       " 'o',\n",
       " 'm',\n",
       " 't',\n",
       " 'h',\n",
       " 'e',\n",
       " 'r',\n",
       " 'e',\n",
       " 'c',\n",
       " 'o',\n",
       " 'r',\n",
       " 'd',\n",
       " 's',\n",
       " 'W',\n",
       " 'i',\n",
       " 't',\n",
       " 'h',\n",
       " 's',\n",
       " 'e',\n",
       " 'v',\n",
       " 'e',\n",
       " 'r',\n",
       " 'a',\n",
       " 'l',\n",
       " 'e',\n",
       " 'x',\n",
       " 'c',\n",
       " 'e',\n",
       " 'p',\n",
       " 't',\n",
       " 'i',\n",
       " 'o',\n",
       " 'n',\n",
       " 's',\n",
       " 's',\n",
       " 'c',\n",
       " 'h',\n",
       " 'o',\n",
       " 'o',\n",
       " 'l',\n",
       " 's',\n",
       " 'm',\n",
       " 'u',\n",
       " 's',\n",
       " 't',\n",
       " 'h',\n",
       " 'a',\n",
       " 'v',\n",
       " 'e',\n",
       " 'a',\n",
       " 's',\n",
       " 't',\n",
       " 'u',\n",
       " 'd',\n",
       " 'e',\n",
       " 'n',\n",
       " 't',\n",
       " 's',\n",
       " 'c',\n",
       " 'o',\n",
       " 'n',\n",
       " 's',\n",
       " 'e',\n",
       " 'n',\n",
       " 't',\n",
       " 'p',\n",
       " 'r',\n",
       " 'i',\n",
       " 'o',\n",
       " 'r',\n",
       " 't',\n",
       " 'o',\n",
       " 't',\n",
       " 'h',\n",
       " 'e',\n",
       " 'd',\n",
       " 'i',\n",
       " 's',\n",
       " 'c',\n",
       " 'l',\n",
       " 'o',\n",
       " 's',\n",
       " 'u',\n",
       " 'r',\n",
       " 'e',\n",
       " 'o',\n",
       " 'f',\n",
       " 'e',\n",
       " 'd',\n",
       " 'u',\n",
       " 'c',\n",
       " 'a',\n",
       " 't',\n",
       " 'i',\n",
       " 'o',\n",
       " 'n',\n",
       " 'r',\n",
       " 'e',\n",
       " 'c',\n",
       " 'o',\n",
       " 'r',\n",
       " 'd',\n",
       " 's',\n",
       " 'a',\n",
       " 'f',\n",
       " 't',\n",
       " 'e',\n",
       " 'r',\n",
       " 't',\n",
       " 'h',\n",
       " 'a',\n",
       " 't',\n",
       " 's',\n",
       " 't',\n",
       " 'u',\n",
       " 'd',\n",
       " 'e',\n",
       " 'n',\n",
       " 't',\n",
       " 'i',\n",
       " 's',\n",
       " '1',\n",
       " '8',\n",
       " 'y',\n",
       " 'e',\n",
       " 'a',\n",
       " 'r',\n",
       " 's',\n",
       " 'o',\n",
       " 'l',\n",
       " 'd',\n",
       " 'T',\n",
       " 'h',\n",
       " 'e',\n",
       " 'l',\n",
       " 'a',\n",
       " 'w',\n",
       " 'a',\n",
       " 'p',\n",
       " 'p',\n",
       " 'l',\n",
       " 'i',\n",
       " 'e',\n",
       " 's',\n",
       " 'o',\n",
       " 'n',\n",
       " 'l',\n",
       " 'y',\n",
       " 't',\n",
       " 'o',\n",
       " 'e',\n",
       " 'd',\n",
       " 'u',\n",
       " 'c',\n",
       " 'a',\n",
       " 't',\n",
       " 'i',\n",
       " 'o',\n",
       " 'n',\n",
       " 'a',\n",
       " 'l',\n",
       " 'a',\n",
       " 'g',\n",
       " 'e',\n",
       " 'n',\n",
       " 'c',\n",
       " 'i',\n",
       " 'e',\n",
       " 's',\n",
       " 'a',\n",
       " 'n',\n",
       " 'd',\n",
       " 'i',\n",
       " 'n',\n",
       " 's',\n",
       " 't',\n",
       " 'i',\n",
       " 't',\n",
       " 'u',\n",
       " 't',\n",
       " 'i',\n",
       " 'o',\n",
       " 'n',\n",
       " 's',\n",
       " 't',\n",
       " 'h',\n",
       " 'a',\n",
       " 't',\n",
       " 'r',\n",
       " 'e',\n",
       " 'c',\n",
       " 'e',\n",
       " 'i',\n",
       " 'v',\n",
       " 'e',\n",
       " 'f',\n",
       " 'u',\n",
       " 'n',\n",
       " 'd',\n",
       " 's',\n",
       " 'u',\n",
       " 'n',\n",
       " 'd',\n",
       " 'e',\n",
       " 'r',\n",
       " 'a',\n",
       " 'p',\n",
       " 'r',\n",
       " 'o',\n",
       " 'g',\n",
       " 'r',\n",
       " 'a',\n",
       " 'm',\n",
       " 'a',\n",
       " 'd',\n",
       " 'm',\n",
       " 'i',\n",
       " 'n',\n",
       " 'i',\n",
       " 's',\n",
       " 't',\n",
       " 'e',\n",
       " 'r',\n",
       " 'e',\n",
       " 'd',\n",
       " 'b',\n",
       " 'y',\n",
       " 't',\n",
       " 'h',\n",
       " 'e',\n",
       " 'U',\n",
       " 'S',\n",
       " 'D',\n",
       " 'e',\n",
       " 'p',\n",
       " 'a',\n",
       " 'r',\n",
       " 't',\n",
       " 'm',\n",
       " 'e',\n",
       " 'n',\n",
       " 't',\n",
       " 'o',\n",
       " 'f',\n",
       " 'E',\n",
       " 'd',\n",
       " 'u',\n",
       " 'c',\n",
       " 'a',\n",
       " 't',\n",
       " 'i',\n",
       " 'o',\n",
       " 'n',\n",
       " 'O',\n",
       " 't',\n",
       " 'h',\n",
       " 'e',\n",
       " 'r',\n",
       " 'r',\n",
       " 'e',\n",
       " 'g',\n",
       " 'u',\n",
       " 'l',\n",
       " 'a',\n",
       " 't',\n",
       " 'i',\n",
       " 'o',\n",
       " 'n',\n",
       " 's',\n",
       " 'u',\n",
       " 'n',\n",
       " 'd',\n",
       " 'e',\n",
       " 'r',\n",
       " 't',\n",
       " 'h',\n",
       " 'i',\n",
       " 's',\n",
       " 'a',\n",
       " 'c',\n",
       " 't',\n",
       " 'e',\n",
       " 'f',\n",
       " 'f',\n",
       " 'e',\n",
       " 'c',\n",
       " 't',\n",
       " 'i',\n",
       " 'v',\n",
       " 'e',\n",
       " 's',\n",
       " 't',\n",
       " 'a',\n",
       " 'r',\n",
       " 't',\n",
       " 'i',\n",
       " 'n',\n",
       " 'g',\n",
       " 'J',\n",
       " 'a',\n",
       " 'n',\n",
       " 'u',\n",
       " 'a',\n",
       " 'r',\n",
       " 'y',\n",
       " '3',\n",
       " '2',\n",
       " '0',\n",
       " '1',\n",
       " '2',\n",
       " 'a',\n",
       " 'l',\n",
       " 'l',\n",
       " 'o',\n",
       " 'w',\n",
       " 'f',\n",
       " 'o',\n",
       " 'r',\n",
       " 'g',\n",
       " 'r',\n",
       " 'e',\n",
       " 'a',\n",
       " 't',\n",
       " 'e',\n",
       " 'r',\n",
       " 'd',\n",
       " 'i',\n",
       " 's',\n",
       " 'c',\n",
       " 'l',\n",
       " 'o',\n",
       " 's',\n",
       " 'u',\n",
       " 'r',\n",
       " 'e',\n",
       " 's',\n",
       " 'o',\n",
       " 'f',\n",
       " 'p',\n",
       " 'e',\n",
       " 'r',\n",
       " 's',\n",
       " 'o',\n",
       " 'n',\n",
       " 'a',\n",
       " 'l',\n",
       " 'a',\n",
       " 'n',\n",
       " 'd',\n",
       " 'd',\n",
       " 'i',\n",
       " 'r',\n",
       " 'e',\n",
       " 'c',\n",
       " 't',\n",
       " 'o',\n",
       " 'r',\n",
       " 'y',\n",
       " 's',\n",
       " 't',\n",
       " 'u',\n",
       " 'd',\n",
       " 'e',\n",
       " 'n',\n",
       " 't',\n",
       " 'i',\n",
       " 'd',\n",
       " 'e',\n",
       " 'n',\n",
       " 't',\n",
       " 'i',\n",
       " 'f',\n",
       " 'y',\n",
       " 'i',\n",
       " 'n',\n",
       " 'g',\n",
       " 'i',\n",
       " 'n',\n",
       " 'f',\n",
       " 'o',\n",
       " 'r',\n",
       " 'm',\n",
       " 'a',\n",
       " 't',\n",
       " 'i',\n",
       " 'o',\n",
       " 'n',\n",
       " 'a',\n",
       " 'n',\n",
       " 'd',\n",
       " 'r',\n",
       " 'e',\n",
       " 'g',\n",
       " 'u',\n",
       " 'l',\n",
       " 'a',\n",
       " 't',\n",
       " 'e',\n",
       " 's',\n",
       " 't',\n",
       " 'u',\n",
       " 'd',\n",
       " 'e',\n",
       " 'n',\n",
       " 't',\n",
       " 'I',\n",
       " 'D',\n",
       " 's',\n",
       " 'a',\n",
       " 'n',\n",
       " 'd',\n",
       " 'e',\n",
       " 'm',\n",
       " 'a',\n",
       " 'i',\n",
       " 'l',\n",
       " 'a',\n",
       " 'd',\n",
       " 'd',\n",
       " 'r',\n",
       " 'e',\n",
       " 's',\n",
       " 's',\n",
       " 'e',\n",
       " 's',\n",
       " '2',\n",
       " 'F',\n",
       " 'o',\n",
       " 'r',\n",
       " 'e',\n",
       " 'x',\n",
       " 'a',\n",
       " 'm',\n",
       " 'p',\n",
       " 'l',\n",
       " 'e',\n",
       " 's',\n",
       " 'c',\n",
       " 'h',\n",
       " 'o',\n",
       " 'o',\n",
       " 'l',\n",
       " 's',\n",
       " 'm',\n",
       " 'a',\n",
       " 'y',\n",
       " 'p',\n",
       " 'r',\n",
       " 'o',\n",
       " 'v',\n",
       " 'i',\n",
       " 'd',\n",
       " 'e',\n",
       " 'e',\n",
       " 'x',\n",
       " 't',\n",
       " 'e',\n",
       " 'r',\n",
       " 'n',\n",
       " 'a',\n",
       " 'l',\n",
       " 'c',\n",
       " 'o',\n",
       " 'm',\n",
       " 'p',\n",
       " 'a',\n",
       " 'n',\n",
       " 'i',\n",
       " 'e',\n",
       " 's',\n",
       " 'w',\n",
       " 'i',\n",
       " 't',\n",
       " 'h',\n",
       " 'a',\n",
       " 's',\n",
       " 't',\n",
       " 'u',\n",
       " 'd',\n",
       " 'e',\n",
       " 'n',\n",
       " 't',\n",
       " 's',\n",
       " 'p',\n",
       " 'e',\n",
       " 'r',\n",
       " 's',\n",
       " 'o',\n",
       " 'n',\n",
       " 'a',\n",
       " 'l',\n",
       " 'l',\n",
       " 'y',\n",
       " 'i',\n",
       " 'd',\n",
       " 'e',\n",
       " 'n',\n",
       " 't',\n",
       " 'i',\n",
       " 'f',\n",
       " 'i',\n",
       " 'a',\n",
       " 'b',\n",
       " 'l',\n",
       " 'e',\n",
       " 'i',\n",
       " 'n',\n",
       " 'f',\n",
       " 'o',\n",
       " 'r',\n",
       " 'm',\n",
       " 'a',\n",
       " 't',\n",
       " 'i',\n",
       " 'o',\n",
       " 'n',\n",
       " 'w',\n",
       " 'i',\n",
       " 't',\n",
       " 'h',\n",
       " 'o',\n",
       " 'u',\n",
       " 't',\n",
       " 't',\n",
       " 'h',\n",
       " 'e',\n",
       " 's',\n",
       " 't',\n",
       " 'u',\n",
       " 'd',\n",
       " 'e',\n",
       " 'n',\n",
       " 't',\n",
       " 's',\n",
       " 'c',\n",
       " 'o',\n",
       " 'n',\n",
       " 's',\n",
       " 'e',\n",
       " 'n',\n",
       " 't',\n",
       " '2',\n",
       " 'E',\n",
       " 'x',\n",
       " 'a',\n",
       " 'm',\n",
       " 'p',\n",
       " 'l',\n",
       " 'e',\n",
       " 's',\n",
       " 'o',\n",
       " 'f',\n",
       " 's',\n",
       " 'i',\n",
       " 't',\n",
       " 'u',\n",
       " 'a',\n",
       " 't',\n",
       " 'i',\n",
       " 'o',\n",
       " 'n',\n",
       " 's',\n",
       " 'a',\n",
       " 'f',\n",
       " 'f',\n",
       " 'e',\n",
       " 'c',\n",
       " 't',\n",
       " 'e',\n",
       " 'd',\n",
       " 'b',\n",
       " 'y',\n",
       " 'F',\n",
       " 'E',\n",
       " 'R',\n",
       " 'P',\n",
       " 'A',\n",
       " 'i',\n",
       " 'n',\n",
       " 'c',\n",
       " 'l',\n",
       " 'u',\n",
       " 'd',\n",
       " 'e',\n",
       " 's',\n",
       " 'c',\n",
       " 'h',\n",
       " 'o',\n",
       " 'o',\n",
       " 'l',\n",
       " 'e',\n",
       " 'm',\n",
       " 'p',\n",
       " 'l',\n",
       " 'o',\n",
       " 'y',\n",
       " 'e',\n",
       " 'e',\n",
       " 's',\n",
       " 'd',\n",
       " 'i',\n",
       " 'v',\n",
       " 'u',\n",
       " 'l',\n",
       " 'g',\n",
       " 'i',\n",
       " 'n',\n",
       " 'g',\n",
       " 'i',\n",
       " 'n',\n",
       " 'f',\n",
       " 'o',\n",
       " 'r',\n",
       " 'm',\n",
       " 'a',\n",
       " 't',\n",
       " 'i',\n",
       " 'o',\n",
       " 'n',\n",
       " 't',\n",
       " 'o',\n",
       " 'a',\n",
       " 'n',\n",
       " 'y',\n",
       " 'o',\n",
       " 'n',\n",
       " 'e',\n",
       " 'o',\n",
       " 't',\n",
       " 'h',\n",
       " 'e',\n",
       " 'r',\n",
       " 't',\n",
       " 'h',\n",
       " 'a',\n",
       " 'n',\n",
       " 't',\n",
       " 'h',\n",
       " 'e',\n",
       " 's',\n",
       " 't',\n",
       " 'u',\n",
       " 'd',\n",
       " 'e',\n",
       " 'n',\n",
       " 't',\n",
       " 'a',\n",
       " 'b',\n",
       " 'o',\n",
       " 'u',\n",
       " 't',\n",
       " 't',\n",
       " 'h',\n",
       " 'e',\n",
       " 's',\n",
       " 't',\n",
       " 'u',\n",
       " 'd',\n",
       " 'e',\n",
       " 'n',\n",
       " 't',\n",
       " 's',\n",
       " 'g',\n",
       " 'r',\n",
       " 'a',\n",
       " 'd',\n",
       " 'e',\n",
       " 's',\n",
       " 'o',\n",
       " 'r',\n",
       " 'b',\n",
       " 'e',\n",
       " 'h',\n",
       " 'a',\n",
       " 'v',\n",
       " 'i',\n",
       " 'o',\n",
       " 'r',\n",
       " 'a',\n",
       " 'n',\n",
       " 'd',\n",
       " 's',\n",
       " 'c',\n",
       " 'h',\n",
       " 'o',\n",
       " 'o',\n",
       " 'l',\n",
       " 'w',\n",
       " 'o',\n",
       " 'r',\n",
       " 'k',\n",
       " 'p',\n",
       " 'o',\n",
       " 's',\n",
       " 't',\n",
       " 'e',\n",
       " 'd',\n",
       " 'o',\n",
       " 'n',\n",
       " 'a',\n",
       " 'b',\n",
       " 'u',\n",
       " 'l',\n",
       " 'l',\n",
       " 'e',\n",
       " 't',\n",
       " 'i',\n",
       " 'n',\n",
       " 'b',\n",
       " 'o',\n",
       " 'a',\n",
       " 'r',\n",
       " 'd',\n",
       " 'w',\n",
       " 'i',\n",
       " 't',\n",
       " 'h',\n",
       " 'a',\n",
       " 'g',\n",
       " 'r',\n",
       " 'a',\n",
       " 'd',\n",
       " 'e',\n",
       " 'G',\n",
       " 'e',\n",
       " 'n',\n",
       " 'e',\n",
       " 'r',\n",
       " 'a',\n",
       " 'l',\n",
       " 'l',\n",
       " 'y',\n",
       " 's',\n",
       " 'c',\n",
       " 'h',\n",
       " 'o',\n",
       " 'o',\n",
       " 'l',\n",
       " 's',\n",
       " 'm',\n",
       " 'u',\n",
       " 's',\n",
       " 't',\n",
       " 'h',\n",
       " 'a',\n",
       " 'v',\n",
       " 'e',\n",
       " 'w',\n",
       " 'r',\n",
       " 'i',\n",
       " 't',\n",
       " 't',\n",
       " 'e',\n",
       " 'n',\n",
       " 'p',\n",
       " 'e',\n",
       " 'r',\n",
       " 'm',\n",
       " 'i',\n",
       " 's',\n",
       " 's',\n",
       " 'i',\n",
       " 'o',\n",
       " 'n',\n",
       " 'f',\n",
       " 'r',\n",
       " 'o',\n",
       " 'm',\n",
       " 't',\n",
       " 'h',\n",
       " 'e',\n",
       " 'p',\n",
       " 'a',\n",
       " 'r',\n",
       " 'e',\n",
       " 'n',\n",
       " 't',\n",
       " 'o',\n",
       " 'r',\n",
       " 'e',\n",
       " 'l',\n",
       " 'i',\n",
       " 'g',\n",
       " 'i',\n",
       " 'b',\n",
       " 'l',\n",
       " 'e',\n",
       " 's',\n",
       " 't',\n",
       " 'u',\n",
       " 'd',\n",
       " 'e',\n",
       " 'n',\n",
       " 't',\n",
       " 'i',\n",
       " 'n',\n",
       " 'o',\n",
       " 'r',\n",
       " 'd',\n",
       " 'e',\n",
       " 'r',\n",
       " 't',\n",
       " 'o',\n",
       " 'r',\n",
       " 'e',\n",
       " 'l',\n",
       " 'e',\n",
       " 'a',\n",
       " 's',\n",
       " 'e',\n",
       " 'a',\n",
       " 'n',\n",
       " 'y',\n",
       " 'i',\n",
       " 'n',\n",
       " 'f',\n",
       " 'o',\n",
       " 'r',\n",
       " 'm',\n",
       " 'a',\n",
       " 't',\n",
       " 'i',\n",
       " 'o',\n",
       " 'n',\n",
       " 'f',\n",
       " 'r',\n",
       " 'o',\n",
       " 'm',\n",
       " 'a',\n",
       " 's',\n",
       " 't',\n",
       " 'u',\n",
       " 'd',\n",
       " 'e',\n",
       " 'n',\n",
       " 't',\n",
       " 's',\n",
       " 'e',\n",
       " 'd',\n",
       " 'u',\n",
       " 'c',\n",
       " 'a',\n",
       " 't',\n",
       " 'i',\n",
       " 'o',\n",
       " 'n',\n",
       " 'r',\n",
       " 'e',\n",
       " 'c',\n",
       " ...]"
      ]
     },
     "execution_count": 129,
     "metadata": {},
     "output_type": "execute_result"
    }
   ],
   "source": [
    "re.findall(\"[\\w]\", wiki)"
   ]
  },
  {
   "cell_type": "markdown",
   "id": "50bd44bb",
   "metadata": {},
   "source": [
    "<br>\n",
    "by using '\\w' and a 'quantifier' we can match any word characters, including letters or numbers."
   ]
  },
  {
   "cell_type": "code",
   "execution_count": 130,
   "id": "c9ed368e",
   "metadata": {},
   "outputs": [
    {
     "data": {
      "text/plain": [
       "['Overview',\n",
       " '',\n",
       " 'edit',\n",
       " '',\n",
       " '',\n",
       " 'FERPA',\n",
       " '',\n",
       " 'gives',\n",
       " '',\n",
       " 'parents',\n",
       " '',\n",
       " 'access',\n",
       " '',\n",
       " 'to',\n",
       " '',\n",
       " 'their',\n",
       " '',\n",
       " 'child',\n",
       " '',\n",
       " 's',\n",
       " '',\n",
       " 'education',\n",
       " '',\n",
       " 'records',\n",
       " '',\n",
       " '',\n",
       " 'an',\n",
       " '',\n",
       " 'opportunity',\n",
       " '',\n",
       " 'to',\n",
       " '',\n",
       " 'seek',\n",
       " '',\n",
       " 'to',\n",
       " '',\n",
       " 'have',\n",
       " '',\n",
       " 'the',\n",
       " '',\n",
       " 'records',\n",
       " '',\n",
       " 'amended',\n",
       " '',\n",
       " '',\n",
       " 'and',\n",
       " '',\n",
       " 'some',\n",
       " '',\n",
       " 'control',\n",
       " '',\n",
       " 'over',\n",
       " '',\n",
       " 'the',\n",
       " '',\n",
       " 'disclosure',\n",
       " '',\n",
       " 'of',\n",
       " '',\n",
       " 'information',\n",
       " '',\n",
       " 'from',\n",
       " '',\n",
       " 'the',\n",
       " '',\n",
       " 'records',\n",
       " '',\n",
       " '',\n",
       " 'With',\n",
       " '',\n",
       " 'several',\n",
       " '',\n",
       " 'exceptions',\n",
       " '',\n",
       " '',\n",
       " 'schools',\n",
       " '',\n",
       " 'must',\n",
       " '',\n",
       " 'have',\n",
       " '',\n",
       " 'a',\n",
       " '',\n",
       " 'student',\n",
       " '',\n",
       " 's',\n",
       " '',\n",
       " 'consent',\n",
       " '',\n",
       " 'prior',\n",
       " '',\n",
       " 'to',\n",
       " '',\n",
       " 'the',\n",
       " '',\n",
       " 'disclosure',\n",
       " '',\n",
       " 'of',\n",
       " '',\n",
       " 'education',\n",
       " '',\n",
       " 'records',\n",
       " '',\n",
       " 'after',\n",
       " '',\n",
       " 'that',\n",
       " '',\n",
       " 'student',\n",
       " '',\n",
       " 'is',\n",
       " '',\n",
       " '18',\n",
       " '',\n",
       " 'years',\n",
       " '',\n",
       " 'old',\n",
       " '',\n",
       " '',\n",
       " 'The',\n",
       " '',\n",
       " 'law',\n",
       " '',\n",
       " 'applies',\n",
       " '',\n",
       " 'only',\n",
       " '',\n",
       " 'to',\n",
       " '',\n",
       " 'educational',\n",
       " '',\n",
       " 'agencies',\n",
       " '',\n",
       " 'and',\n",
       " '',\n",
       " 'institutions',\n",
       " '',\n",
       " 'that',\n",
       " '',\n",
       " 'receive',\n",
       " '',\n",
       " 'funds',\n",
       " '',\n",
       " 'under',\n",
       " '',\n",
       " 'a',\n",
       " '',\n",
       " 'program',\n",
       " '',\n",
       " 'administered',\n",
       " '',\n",
       " 'by',\n",
       " '',\n",
       " 'the',\n",
       " '',\n",
       " 'U',\n",
       " '',\n",
       " 'S',\n",
       " '',\n",
       " '',\n",
       " 'Department',\n",
       " '',\n",
       " 'of',\n",
       " '',\n",
       " 'Education',\n",
       " '',\n",
       " '',\n",
       " '',\n",
       " 'Other',\n",
       " '',\n",
       " 'regulations',\n",
       " '',\n",
       " 'under',\n",
       " '',\n",
       " 'this',\n",
       " '',\n",
       " 'act',\n",
       " '',\n",
       " '',\n",
       " 'effective',\n",
       " '',\n",
       " 'starting',\n",
       " '',\n",
       " 'January',\n",
       " '',\n",
       " '3',\n",
       " '',\n",
       " '',\n",
       " '2012',\n",
       " '',\n",
       " '',\n",
       " 'allow',\n",
       " '',\n",
       " 'for',\n",
       " '',\n",
       " 'greater',\n",
       " '',\n",
       " 'disclosures',\n",
       " '',\n",
       " 'of',\n",
       " '',\n",
       " 'personal',\n",
       " '',\n",
       " 'and',\n",
       " '',\n",
       " 'directory',\n",
       " '',\n",
       " 'student',\n",
       " '',\n",
       " 'identifying',\n",
       " '',\n",
       " 'information',\n",
       " '',\n",
       " 'and',\n",
       " '',\n",
       " 'regulate',\n",
       " '',\n",
       " 'student',\n",
       " '',\n",
       " 'IDs',\n",
       " '',\n",
       " 'and',\n",
       " '',\n",
       " 'e',\n",
       " '',\n",
       " 'mail',\n",
       " '',\n",
       " 'addresses',\n",
       " '',\n",
       " '',\n",
       " '2',\n",
       " '',\n",
       " '',\n",
       " 'For',\n",
       " '',\n",
       " 'example',\n",
       " '',\n",
       " '',\n",
       " 'schools',\n",
       " '',\n",
       " 'may',\n",
       " '',\n",
       " 'provide',\n",
       " '',\n",
       " 'external',\n",
       " '',\n",
       " 'companies',\n",
       " '',\n",
       " 'with',\n",
       " '',\n",
       " 'a',\n",
       " '',\n",
       " 'student',\n",
       " '',\n",
       " 's',\n",
       " '',\n",
       " 'personally',\n",
       " '',\n",
       " 'identifiable',\n",
       " '',\n",
       " 'information',\n",
       " '',\n",
       " 'without',\n",
       " '',\n",
       " 'the',\n",
       " '',\n",
       " 'student',\n",
       " '',\n",
       " 's',\n",
       " '',\n",
       " 'consent',\n",
       " '',\n",
       " '',\n",
       " '2',\n",
       " '',\n",
       " '',\n",
       " '',\n",
       " 'Examples',\n",
       " '',\n",
       " 'of',\n",
       " '',\n",
       " 'situations',\n",
       " '',\n",
       " 'affected',\n",
       " '',\n",
       " 'by',\n",
       " '',\n",
       " 'FERPA',\n",
       " '',\n",
       " 'include',\n",
       " '',\n",
       " 'school',\n",
       " '',\n",
       " 'employees',\n",
       " '',\n",
       " 'divulging',\n",
       " '',\n",
       " 'information',\n",
       " '',\n",
       " 'to',\n",
       " '',\n",
       " 'anyone',\n",
       " '',\n",
       " 'other',\n",
       " '',\n",
       " 'than',\n",
       " '',\n",
       " 'the',\n",
       " '',\n",
       " 'student',\n",
       " '',\n",
       " 'about',\n",
       " '',\n",
       " 'the',\n",
       " '',\n",
       " 'student',\n",
       " '',\n",
       " 's',\n",
       " '',\n",
       " 'grades',\n",
       " '',\n",
       " 'or',\n",
       " '',\n",
       " 'behavior',\n",
       " '',\n",
       " '',\n",
       " 'and',\n",
       " '',\n",
       " 'school',\n",
       " '',\n",
       " 'work',\n",
       " '',\n",
       " 'posted',\n",
       " '',\n",
       " 'on',\n",
       " '',\n",
       " 'a',\n",
       " '',\n",
       " 'bulletin',\n",
       " '',\n",
       " 'board',\n",
       " '',\n",
       " 'with',\n",
       " '',\n",
       " 'a',\n",
       " '',\n",
       " 'grade',\n",
       " '',\n",
       " '',\n",
       " 'Generally',\n",
       " '',\n",
       " '',\n",
       " 'schools',\n",
       " '',\n",
       " 'must',\n",
       " '',\n",
       " 'have',\n",
       " '',\n",
       " 'written',\n",
       " '',\n",
       " 'permission',\n",
       " '',\n",
       " 'from',\n",
       " '',\n",
       " 'the',\n",
       " '',\n",
       " 'parent',\n",
       " '',\n",
       " 'or',\n",
       " '',\n",
       " 'eligible',\n",
       " '',\n",
       " 'student',\n",
       " '',\n",
       " 'in',\n",
       " '',\n",
       " 'order',\n",
       " '',\n",
       " 'to',\n",
       " '',\n",
       " 'release',\n",
       " '',\n",
       " 'any',\n",
       " '',\n",
       " 'information',\n",
       " '',\n",
       " 'from',\n",
       " '',\n",
       " 'a',\n",
       " '',\n",
       " 'student',\n",
       " '',\n",
       " 's',\n",
       " '',\n",
       " 'education',\n",
       " '',\n",
       " 'record',\n",
       " '',\n",
       " '',\n",
       " '',\n",
       " 'This',\n",
       " '',\n",
       " 'privacy',\n",
       " '',\n",
       " 'policy',\n",
       " '',\n",
       " 'also',\n",
       " '',\n",
       " 'governs',\n",
       " '',\n",
       " 'how',\n",
       " '',\n",
       " 'state',\n",
       " '',\n",
       " 'agencies',\n",
       " '',\n",
       " 'transmit',\n",
       " '',\n",
       " 'testing',\n",
       " '',\n",
       " 'data',\n",
       " '',\n",
       " 'to',\n",
       " '',\n",
       " 'federal',\n",
       " '',\n",
       " 'agencies',\n",
       " '',\n",
       " '',\n",
       " 'such',\n",
       " '',\n",
       " 'as',\n",
       " '',\n",
       " 'the',\n",
       " '',\n",
       " 'Education',\n",
       " '',\n",
       " 'Data',\n",
       " '',\n",
       " 'Exchange',\n",
       " '',\n",
       " 'Network',\n",
       " '',\n",
       " '',\n",
       " '',\n",
       " 'This',\n",
       " '',\n",
       " 'U',\n",
       " '',\n",
       " 'S',\n",
       " '',\n",
       " '',\n",
       " 'federal',\n",
       " '',\n",
       " 'law',\n",
       " '',\n",
       " 'also',\n",
       " '',\n",
       " 'gave',\n",
       " '',\n",
       " 'students',\n",
       " '',\n",
       " '18',\n",
       " '',\n",
       " 'years',\n",
       " '',\n",
       " 'of',\n",
       " '',\n",
       " 'age',\n",
       " '',\n",
       " 'or',\n",
       " '',\n",
       " 'older',\n",
       " '',\n",
       " '',\n",
       " 'or',\n",
       " '',\n",
       " 'students',\n",
       " '',\n",
       " 'of',\n",
       " '',\n",
       " 'any',\n",
       " '',\n",
       " 'age',\n",
       " '',\n",
       " 'if',\n",
       " '',\n",
       " 'enrolled',\n",
       " '',\n",
       " 'in',\n",
       " '',\n",
       " 'any',\n",
       " '',\n",
       " 'post',\n",
       " '',\n",
       " 'secondary',\n",
       " '',\n",
       " 'educational',\n",
       " '',\n",
       " 'institution',\n",
       " '',\n",
       " '',\n",
       " 'the',\n",
       " '',\n",
       " 'right',\n",
       " '',\n",
       " 'of',\n",
       " '',\n",
       " 'privacy',\n",
       " '',\n",
       " 'regarding',\n",
       " '',\n",
       " 'grades',\n",
       " '',\n",
       " '',\n",
       " 'enrollment',\n",
       " '',\n",
       " '',\n",
       " 'and',\n",
       " '',\n",
       " 'even',\n",
       " '',\n",
       " 'billing',\n",
       " '',\n",
       " 'information',\n",
       " '',\n",
       " 'unless',\n",
       " '',\n",
       " 'the',\n",
       " '',\n",
       " 'school',\n",
       " '',\n",
       " 'has',\n",
       " '',\n",
       " 'specific',\n",
       " '',\n",
       " 'permission',\n",
       " '',\n",
       " 'from',\n",
       " '',\n",
       " 'the',\n",
       " '',\n",
       " 'student',\n",
       " '',\n",
       " 'to',\n",
       " '',\n",
       " 'share',\n",
       " '',\n",
       " 'that',\n",
       " '',\n",
       " 'specific',\n",
       " '',\n",
       " 'type',\n",
       " '',\n",
       " 'of',\n",
       " '',\n",
       " 'information',\n",
       " '',\n",
       " '',\n",
       " '',\n",
       " 'FERPA',\n",
       " '',\n",
       " 'also',\n",
       " '',\n",
       " 'permits',\n",
       " '',\n",
       " 'a',\n",
       " '',\n",
       " 'school',\n",
       " '',\n",
       " 'to',\n",
       " '',\n",
       " 'disclose',\n",
       " '',\n",
       " 'personally',\n",
       " '',\n",
       " 'identifiable',\n",
       " '',\n",
       " 'information',\n",
       " '',\n",
       " 'from',\n",
       " '',\n",
       " 'education',\n",
       " '',\n",
       " 'records',\n",
       " '',\n",
       " 'of',\n",
       " '',\n",
       " 'an',\n",
       " '',\n",
       " '',\n",
       " 'eligible',\n",
       " '',\n",
       " 'student',\n",
       " '',\n",
       " '',\n",
       " '',\n",
       " 'a',\n",
       " '',\n",
       " 'student',\n",
       " '',\n",
       " 'age',\n",
       " '',\n",
       " '18',\n",
       " '',\n",
       " 'or',\n",
       " '',\n",
       " 'older',\n",
       " '',\n",
       " 'or',\n",
       " '',\n",
       " 'enrolled',\n",
       " '',\n",
       " 'in',\n",
       " '',\n",
       " 'a',\n",
       " '',\n",
       " 'postsecondary',\n",
       " '',\n",
       " 'institution',\n",
       " '',\n",
       " 'at',\n",
       " '',\n",
       " 'any',\n",
       " '',\n",
       " 'age',\n",
       " '',\n",
       " '',\n",
       " 'to',\n",
       " '',\n",
       " 'his',\n",
       " '',\n",
       " 'or',\n",
       " '',\n",
       " 'her',\n",
       " '',\n",
       " 'parents',\n",
       " '',\n",
       " 'if',\n",
       " '',\n",
       " 'the',\n",
       " '',\n",
       " 'student',\n",
       " '',\n",
       " 'is',\n",
       " '',\n",
       " 'a',\n",
       " '',\n",
       " '',\n",
       " 'dependent',\n",
       " '',\n",
       " 'student',\n",
       " '',\n",
       " '',\n",
       " 'as',\n",
       " '',\n",
       " 'that',\n",
       " '',\n",
       " 'term',\n",
       " '',\n",
       " 'is',\n",
       " '',\n",
       " 'defined',\n",
       " '',\n",
       " 'in',\n",
       " '',\n",
       " 'Section',\n",
       " '',\n",
       " '152',\n",
       " '',\n",
       " 'of',\n",
       " '',\n",
       " 'the',\n",
       " '',\n",
       " 'Internal',\n",
       " '',\n",
       " 'Revenue',\n",
       " '',\n",
       " 'Code',\n",
       " '',\n",
       " '',\n",
       " 'Generally',\n",
       " '',\n",
       " '',\n",
       " 'if',\n",
       " '',\n",
       " 'either',\n",
       " '',\n",
       " 'parent',\n",
       " '',\n",
       " 'has',\n",
       " '',\n",
       " 'claimed',\n",
       " '',\n",
       " 'the',\n",
       " '',\n",
       " 'student',\n",
       " '',\n",
       " 'as',\n",
       " '',\n",
       " 'a',\n",
       " '',\n",
       " 'dependent',\n",
       " '',\n",
       " 'on',\n",
       " '',\n",
       " 'the',\n",
       " '',\n",
       " 'parent',\n",
       " '',\n",
       " 's',\n",
       " '',\n",
       " 'most',\n",
       " '',\n",
       " 'recent',\n",
       " '',\n",
       " 'income',\n",
       " '',\n",
       " 'tax',\n",
       " '',\n",
       " 'statement',\n",
       " '',\n",
       " '',\n",
       " 'the',\n",
       " '',\n",
       " 'school',\n",
       " '',\n",
       " 'may',\n",
       " '',\n",
       " 'non',\n",
       " '',\n",
       " 'consensually',\n",
       " '',\n",
       " 'disclose',\n",
       " '',\n",
       " 'the',\n",
       " '',\n",
       " 'student',\n",
       " '',\n",
       " 's',\n",
       " '',\n",
       " 'education',\n",
       " '',\n",
       " 'records',\n",
       " '',\n",
       " 'to',\n",
       " '',\n",
       " 'both',\n",
       " '',\n",
       " 'parents',\n",
       " '',\n",
       " '',\n",
       " '3',\n",
       " '',\n",
       " '',\n",
       " '',\n",
       " 'The',\n",
       " '',\n",
       " 'law',\n",
       " '',\n",
       " 'allowed',\n",
       " '',\n",
       " 'students',\n",
       " '',\n",
       " 'who',\n",
       " '',\n",
       " 'apply',\n",
       " '',\n",
       " 'to',\n",
       " '',\n",
       " 'an',\n",
       " '',\n",
       " 'educational',\n",
       " '',\n",
       " 'institution',\n",
       " '',\n",
       " 'such',\n",
       " '',\n",
       " 'as',\n",
       " '',\n",
       " 'graduate',\n",
       " '',\n",
       " 'school',\n",
       " '',\n",
       " 'permission',\n",
       " '',\n",
       " 'to',\n",
       " '',\n",
       " 'view',\n",
       " '',\n",
       " 'recommendations',\n",
       " '',\n",
       " 'submitted',\n",
       " '',\n",
       " 'by',\n",
       " '',\n",
       " 'others',\n",
       " '',\n",
       " 'as',\n",
       " '',\n",
       " 'part',\n",
       " '',\n",
       " 'of',\n",
       " '',\n",
       " 'the',\n",
       " '',\n",
       " 'application',\n",
       " '',\n",
       " '',\n",
       " 'However',\n",
       " '',\n",
       " '',\n",
       " 'on',\n",
       " '',\n",
       " 'standard',\n",
       " '',\n",
       " 'application',\n",
       " '',\n",
       " 'forms',\n",
       " '',\n",
       " '',\n",
       " 'students',\n",
       " '',\n",
       " 'are',\n",
       " '',\n",
       " 'given',\n",
       " '',\n",
       " 'the',\n",
       " '',\n",
       " 'option',\n",
       " '',\n",
       " 'to',\n",
       " '',\n",
       " 'waive',\n",
       " '',\n",
       " 'this',\n",
       " '',\n",
       " 'right',\n",
       " '',\n",
       " '',\n",
       " '',\n",
       " 'FERPA',\n",
       " '',\n",
       " 'specifically',\n",
       " '',\n",
       " 'excludes',\n",
       " '',\n",
       " 'employees',\n",
       " '',\n",
       " 'of',\n",
       " '',\n",
       " 'an',\n",
       " '',\n",
       " 'educational',\n",
       " '',\n",
       " 'institution',\n",
       " '',\n",
       " 'if',\n",
       " '',\n",
       " 'they',\n",
       " '',\n",
       " 'are',\n",
       " '',\n",
       " 'not',\n",
       " '',\n",
       " 'students',\n",
       " '',\n",
       " '',\n",
       " '',\n",
       " 'The',\n",
       " '',\n",
       " 'act',\n",
       " '',\n",
       " 'is',\n",
       " '',\n",
       " 'also',\n",
       " '',\n",
       " 'referred',\n",
       " '',\n",
       " 'to',\n",
       " '',\n",
       " 'as',\n",
       " '',\n",
       " 'the',\n",
       " '',\n",
       " 'Buckley',\n",
       " '',\n",
       " 'Amendment',\n",
       " '',\n",
       " '',\n",
       " 'for',\n",
       " '',\n",
       " 'one',\n",
       " '',\n",
       " 'of',\n",
       " '',\n",
       " 'its',\n",
       " '',\n",
       " 'proponents',\n",
       " '',\n",
       " '',\n",
       " 'Senator',\n",
       " '',\n",
       " 'James',\n",
       " '',\n",
       " 'L',\n",
       " '',\n",
       " '',\n",
       " 'Buckley',\n",
       " '',\n",
       " 'of',\n",
       " '',\n",
       " 'New',\n",
       " '',\n",
       " 'York',\n",
       " '',\n",
       " '',\n",
       " '',\n",
       " 'Access',\n",
       " '',\n",
       " 'to',\n",
       " '',\n",
       " 'public',\n",
       " '',\n",
       " 'records',\n",
       " '',\n",
       " 'edit',\n",
       " '',\n",
       " '',\n",
       " 'The',\n",
       " '',\n",
       " 'citing',\n",
       " '',\n",
       " 'of',\n",
       " '',\n",
       " 'FERPA',\n",
       " '',\n",
       " 'to',\n",
       " '',\n",
       " 'conceal',\n",
       " '',\n",
       " 'public',\n",
       " '',\n",
       " 'records',\n",
       " '',\n",
       " 'that',\n",
       " '',\n",
       " 'are',\n",
       " '',\n",
       " 'not',\n",
       " '',\n",
       " '',\n",
       " 'educational',\n",
       " '',\n",
       " '',\n",
       " 'in',\n",
       " '',\n",
       " 'nature',\n",
       " '',\n",
       " 'has',\n",
       " '',\n",
       " 'been',\n",
       " '',\n",
       " 'widely',\n",
       " '',\n",
       " 'criticized',\n",
       " '',\n",
       " '',\n",
       " 'including',\n",
       " '',\n",
       " 'by',\n",
       " '',\n",
       " 'the',\n",
       " '',\n",
       " 'act',\n",
       " '',\n",
       " 's',\n",
       " '',\n",
       " 'primary',\n",
       " '',\n",
       " 'Senate',\n",
       " '',\n",
       " 'sponsor',\n",
       " '',\n",
       " '',\n",
       " '4',\n",
       " '',\n",
       " '',\n",
       " 'For',\n",
       " '',\n",
       " 'example',\n",
       " '',\n",
       " '',\n",
       " 'in',\n",
       " '',\n",
       " 'the',\n",
       " '',\n",
       " 'Owasso',\n",
       " '',\n",
       " 'Independent',\n",
       " '',\n",
       " ...]"
      ]
     },
     "execution_count": 130,
     "metadata": {},
     "output_type": "execute_result"
    }
   ],
   "source": [
    "re.findall(\"[\\w]*\", wiki)"
   ]
  },
  {
   "cell_type": "markdown",
   "id": "289c8fb6",
   "metadata": {},
   "source": [
    "<br>\n",
    "if we use [\\w ]* in our pattern section, re.findall() adds a space after all of the words unless the word already has a space."
   ]
  },
  {
   "cell_type": "code",
   "execution_count": null,
   "id": "7e3c2967",
   "metadata": {},
   "outputs": [],
   "source": [
    "re.findall(\"[\\w ]*\", wiki)"
   ]
  },
  {
   "cell_type": "code",
   "execution_count": null,
   "id": "6a0260e4",
   "metadata": {},
   "outputs": [],
   "source": [
    "re.findall(\"\\[edit\\]\", wiki)"
   ]
  },
  {
   "cell_type": "markdown",
   "id": "61f3168c",
   "metadata": {},
   "source": [
    "### question mark quantifier '?' "
   ]
  },
  {
   "cell_type": "markdown",
   "id": "b683d6d6",
   "metadata": {},
   "source": [
    "to access to any characters that exist inside the string, we should use question mark quantifier '?'. \n",
    "\n",
    "question mark quantifier '?' considers special characters as a space character."
   ]
  },
  {
   "cell_type": "code",
   "execution_count": null,
   "id": "5c70279a",
   "metadata": {},
   "outputs": [],
   "source": [
    "re.findall(\"[\\w]?\", wiki) == re.findall(\"[\\w ]?\", wiki)"
   ]
  },
  {
   "cell_type": "markdown",
   "id": "28c823c4",
   "metadata": {},
   "source": [
    "<br>\n",
    "by using [\\w]? in the pattern we can get all of the string characters and get the space character instead of special characters like /, [ ], and so on."
   ]
  },
  {
   "cell_type": "code",
   "execution_count": null,
   "id": "916d93fc",
   "metadata": {},
   "outputs": [],
   "source": [
    "re.findall(\"[\\w]?\", wiki)"
   ]
  },
  {
   "cell_type": "markdown",
   "id": "4a30ec42",
   "metadata": {},
   "source": [
    "<br>\n",
    "by using [\\w ]? in the pattern not only we can get all of the string characters and get the space character instead of special characters like /, [ ], and so on, but also we can see added another space character in where we have a space character."
   ]
  },
  {
   "cell_type": "code",
   "execution_count": null,
   "id": "77f9a5a1",
   "metadata": {},
   "outputs": [],
   "source": [
    "re.findall(\"[\\w ]?\", wiki)"
   ]
  },
  {
   "cell_type": "markdown",
   "id": "e1ced8e5",
   "metadata": {},
   "source": [
    "### plus quantifier '+'"
   ]
  },
  {
   "cell_type": "markdown",
   "id": "884cf618",
   "metadata": {},
   "source": [
    "to match 1 or more characters, we should use plus quantifier '+'.\n",
    "\n",
    "plus quantifier '+' doesn't consider any of special characters, space character and other characters.\n"
   ]
  },
  {
   "cell_type": "code",
   "execution_count": null,
   "id": "1a5ff4ec",
   "metadata": {},
   "outputs": [],
   "source": [
    "re.findall(\"[\\w]+\", wiki)"
   ]
  },
  {
   "cell_type": "code",
   "execution_count": null,
   "id": "75734245",
   "metadata": {},
   "outputs": [],
   "source": [
    "re.findall(\"[\\w ]+\", wiki)"
   ]
  },
  {
   "cell_type": "code",
   "execution_count": null,
   "id": "95f364f6",
   "metadata": {},
   "outputs": [],
   "source": [
    "re.findall(\"[\\w ]+\", wiki) == re.findall(\"[\\w ]*\", wiki)"
   ]
  },
  {
   "cell_type": "markdown",
   "id": "03bf6d68",
   "metadata": {},
   "source": [
    "#### note : we wanna find the main section of headers of this document"
   ]
  },
  {
   "cell_type": "markdown",
   "id": "2f1e4236",
   "metadata": {},
   "source": [
    "<br>\n",
    "Scanning through this document one of the things we notice is that the headers all have the words [edit] behind them, followed by a newline character.\n",
    "\n",
    "So if we wanted to get a list of all of the headers in this article we could do so using re.findall()"
   ]
  },
  {
   "cell_type": "markdown",
   "id": "e2a24af0",
   "metadata": {},
   "source": [
    "<br>\n",
    "the below command don't quite work because re.findall() don't get all sections of the headers and only get the last word of the header, so we have to improve it with others commands."
   ]
  },
  {
   "cell_type": "code",
   "execution_count": null,
   "id": "4aeb56b9",
   "metadata": {},
   "outputs": [],
   "source": [
    "re.findall('[a-zA-Z]{1,100}\\[edit\\]', wiki)"
   ]
  },
  {
   "cell_type": "markdown",
   "id": "1df36c0c",
   "metadata": {},
   "source": [
    "<br>\n",
    "alas! by using \\w in the pattern section the result of re.findall() don't change, that means we don't have all sections of the headers yet."
   ]
  },
  {
   "cell_type": "code",
   "execution_count": null,
   "id": "0feb3ec1",
   "metadata": {},
   "outputs": [],
   "source": [
    "re.findall(\"[\\w]{1,100}\\[edit\\]\", wiki)"
   ]
  },
  {
   "cell_type": "markdown",
   "id": "89ee4c0c",
   "metadata": {},
   "source": [
    "<br>\n",
    "alas! by using asterisk quantifier * in the pattern section the result of re.findall() don't change, that means we don't have all sections of the headers yet."
   ]
  },
  {
   "cell_type": "code",
   "execution_count": null,
   "id": "d665fe82",
   "metadata": {},
   "outputs": [],
   "source": [
    "re.findall(\"[\\w]*\\[edit\\]\", wiki)"
   ]
  },
  {
   "cell_type": "markdown",
   "id": "9222fd35",
   "metadata": {},
   "source": [
    "<br>\n",
    "alas! by using \\w and asterisk quantifier * in tthe pattern sections the result of re.findall() don't change, that means we don't have all section of the headers yet."
   ]
  },
  {
   "cell_type": "code",
   "execution_count": null,
   "id": "93a45547",
   "metadata": {},
   "outputs": [],
   "source": [
    "re.findall(\"[\\w]*\\[edit\\]\", wiki)"
   ]
  },
  {
   "cell_type": "markdown",
   "id": "232f9572",
   "metadata": {},
   "source": [
    "<br>\n",
    "We can add a space to the pattern section using the space character. with doing this we can get all sections of the headers."
   ]
  },
  {
   "cell_type": "code",
   "execution_count": null,
   "id": "5d7c111b",
   "metadata": {},
   "outputs": [],
   "source": [
    "re.findall(\"[\\w ]*\\[edit\\]\", wiki)"
   ]
  },
  {
   "cell_type": "code",
   "execution_count": null,
   "id": "2e641e3d",
   "metadata": {},
   "outputs": [],
   "source": [
    "for title in re.findall(\"[\\w ]*\\[edit\\]\", wiki):\n",
    "    print(re.split(\"[\\[]\", title))"
   ]
  },
  {
   "cell_type": "markdown",
   "id": "d6047156",
   "metadata": {},
   "source": [
    "<br>\n",
    "for access to the main part of headers we have to use 0 in the indexing operator."
   ]
  },
  {
   "cell_type": "markdown",
   "id": "efae25b9",
   "metadata": {},
   "source": [
    "the re.split() splits the original string to substrings when it meets the first character of square bracket ["
   ]
  },
  {
   "cell_type": "code",
   "execution_count": null,
   "id": "7cec7dc3",
   "metadata": {},
   "outputs": [],
   "source": [
    "for title in re.findall(\"[\\w ]*\\[edit\\]\", wiki):\n",
    "    print(re.split(\"[\\[]\", title)[0])"
   ]
  },
  {
   "cell_type": "markdown",
   "id": "ad9593ad",
   "metadata": {},
   "source": [
    "# Groups"
   ]
  },
  {
   "cell_type": "markdown",
   "id": "d9213d67",
   "metadata": {},
   "source": [
    "<br>\n",
    "to group patterns, we must use parentheses to create groups."
   ]
  },
  {
   "cell_type": "code",
   "execution_count": null,
   "id": "6ff191ee",
   "metadata": {},
   "outputs": [],
   "source": [
    "re.findall(\"([\\w ]*)(\\[edit\\])\", wiki)"
   ]
  },
  {
   "cell_type": "markdown",
   "id": "d6415af5",
   "metadata": {},
   "source": [
    "## re.finditer(), Match_object.groups(), Match_object.group(), Match_object.groupdict()"
   ]
  },
  {
   "cell_type": "markdown",
   "id": "5ee64f68",
   "metadata": {},
   "source": [
    "<br>\n",
    "to have a list of Match objects or a dictionary of Match objects, we must use re.finditer()"
   ]
  },
  {
   "cell_type": "code",
   "execution_count": null,
   "id": "bc4b54ec",
   "metadata": {},
   "outputs": [],
   "source": [
    "re.finditer(\"([\\w]*)(\\[edit\\])\", wiki)"
   ]
  },
  {
   "cell_type": "code",
   "execution_count": null,
   "id": "34dadaae",
   "metadata": {},
   "outputs": [],
   "source": [
    "for item in re.finditer(\"([\\w ]*)(\\[edit\\])\", wiki):\n",
    "    print(item)"
   ]
  },
  {
   "cell_type": "markdown",
   "id": "d39fd321",
   "metadata": {},
   "source": [
    "<br>\n",
    "to get a tuple of the groups, we must use .groups() for each match object."
   ]
  },
  {
   "cell_type": "code",
   "execution_count": null,
   "id": "e34eddf7",
   "metadata": {},
   "outputs": [],
   "source": [
    "for item in re.finditer(\"([\\w ]*)(\\[edit\\])\", wiki):\n",
    "    print(item.groups())"
   ]
  },
  {
   "cell_type": "markdown",
   "id": "3fc3787d",
   "metadata": {},
   "source": [
    "<br>\n",
    "to get an individual group, we must use .group(number) for each match object. \n",
    "\n",
    "if we don't have any value for number or number value is 0, we get the whole match.\n",
    "\n",
    "each other number is the portion of the match we are interested in."
   ]
  },
  {
   "cell_type": "code",
   "execution_count": null,
   "id": "4107f7fc",
   "metadata": {},
   "outputs": [],
   "source": [
    "for item in re.finditer(\"([\\w ]*)(\\[edit\\])\", wiki):\n",
    "    print(item.group())"
   ]
  },
  {
   "cell_type": "code",
   "execution_count": null,
   "id": "89326def",
   "metadata": {},
   "outputs": [],
   "source": [
    "for item in re.finditer(\"([\\w ]*)(\\[edit\\])\", wiki):\n",
    "    print(item.group(0))"
   ]
  },
  {
   "cell_type": "code",
   "execution_count": null,
   "id": "32fe1620",
   "metadata": {},
   "outputs": [],
   "source": [
    "for item in re.finditer(\"([\\w ]*)(\\[edit\\])\", wiki):\n",
    "    print(item.group(1))"
   ]
  },
  {
   "cell_type": "code",
   "execution_count": null,
   "id": "67006c1e",
   "metadata": {},
   "outputs": [],
   "source": [
    "for item in re.finditer(\"([\\w ]*)(\\[edit\\])\", wiki):\n",
    "    print(item.group(2))"
   ]
  },
  {
   "cell_type": "code",
   "execution_count": null,
   "id": "7f844606",
   "metadata": {},
   "outputs": [],
   "source": [
    "# to create a dictionary of regexes, we must use this syntax '?P<dict_key_name>'\n",
    "\n",
    "# '?P' is an extension used for creating basic regexes.\n",
    "\n",
    "# '<dict_key_name>' is the dictionary key we want to have in our dictionary."
   ]
  },
  {
   "cell_type": "code",
   "execution_count": null,
   "id": "a8e063be",
   "metadata": {},
   "outputs": [],
   "source": [
    "for item in re.finditer(\"(?P<title>[\\w ]*)(?P<edit_label>\\[edit\\])\", wiki):\n",
    "    print(item.group())\n",
    "    \n",
    "    "
   ]
  },
  {
   "cell_type": "code",
   "execution_count": null,
   "id": "ed277c76",
   "metadata": {},
   "outputs": [],
   "source": [
    "for item in re.finditer(\"(?P<title>[\\w ]*)(?P<edit_label>\\[edit\\])\", wiki):\n",
    "    print(item.groupdict())\n",
    "    "
   ]
  },
  {
   "cell_type": "code",
   "execution_count": null,
   "id": "29c58e2f",
   "metadata": {},
   "outputs": [],
   "source": [
    "for item in re.finditer(\"(?P<title>[\\w ]*)(?P<edit_label>\\[edit\\])\", wiki):\n",
    "    print(item.groupdict()['title'])\n",
    "    "
   ]
  },
  {
   "cell_type": "markdown",
   "id": "6e5b51b9",
   "metadata": {},
   "source": [
    "### other metacharacters"
   ]
  },
  {
   "cell_type": "markdown",
   "id": "ef13f56a",
   "metadata": {},
   "source": [
    "ther are a number of metacharacters which are used with regexes for different kinds of characters, including:\n",
    "\n",
    "* a '.' for any single character which is not a newline (\\n).\n",
    "* a '\\d' for any digit.\n",
    "* a '\\s' for any whitespace character, like spaces and tabs."
   ]
  },
  {
   "cell_type": "markdown",
   "id": "3fc0eb0c",
   "metadata": {},
   "source": [
    "by using '.' metacharacter, we can get any single character which is not a newline (\\n)"
   ]
  },
  {
   "cell_type": "code",
   "execution_count": null,
   "id": "0e885193",
   "metadata": {
    "scrolled": true
   },
   "outputs": [],
   "source": [
    "re.findall(\"(.*)\", wiki)"
   ]
  },
  {
   "cell_type": "code",
   "execution_count": null,
   "id": "405bdc52",
   "metadata": {
    "scrolled": true
   },
   "outputs": [],
   "source": [
    "re.findall(\"(.+)\", wiki)"
   ]
  },
  {
   "cell_type": "markdown",
   "id": "7c06f295",
   "metadata": {},
   "source": [
    "by using '\\d' metacharacter, we can get any digit character that exist in the string."
   ]
  },
  {
   "cell_type": "code",
   "execution_count": null,
   "id": "9504bc75",
   "metadata": {},
   "outputs": [],
   "source": [
    "re.findall(\"\\d+\", wiki)"
   ]
  },
  {
   "cell_type": "markdown",
   "id": "857d98fa",
   "metadata": {},
   "source": [
    "by using '\\s' metacharacter, we can get any whitespace character like spaces, tabs, and \\n."
   ]
  },
  {
   "cell_type": "code",
   "execution_count": null,
   "id": "1a864719",
   "metadata": {},
   "outputs": [],
   "source": [
    "len(re.findall(\"\\s+\", wiki))"
   ]
  },
  {
   "cell_type": "markdown",
   "id": "13df9e03",
   "metadata": {},
   "source": [
    "# Look-ahead and Look-behind"
   ]
  },
  {
   "cell_type": "markdown",
   "id": "2b4ddc2d",
   "metadata": {},
   "source": [
    "look-ahead syntax:\n",
    "    \n",
    "1. A(?=B) : find epression A which has expression B after it, and then skip B.\n",
    "2. A(?!B) : find epression A which doesn't have expression B after it.\n",
    "\n",
    "\n",
    "look-behind syntax:\n",
    "\n",
    "1. (?<=B)A : find expression A which has expression B before it, and then skip B.\n",
    "2. (?<!B)A : find expression A which doesn't have expression B before it."
   ]
  },
  {
   "cell_type": "markdown",
   "id": "b2b4d11e",
   "metadata": {},
   "source": [
    "<br>\n",
    "We can get a dictionary returned for the 'item' with .groupdict()"
   ]
  },
  {
   "cell_type": "code",
   "execution_count": null,
   "id": "b705c480",
   "metadata": {},
   "outputs": [],
   "source": [
    "for item in re.finditer(\"(?P<title>[\\w ]*)(?=\\[edit\\])\",wiki):\n",
    "    print(item)"
   ]
  },
  {
   "cell_type": "code",
   "execution_count": null,
   "id": "786e5ab0",
   "metadata": {},
   "outputs": [],
   "source": [
    "for item in re.finditer(\"(?P<title>[\\w ]*)(?!\\[edit\\])\", wiki):\n",
    "    print(item.groupdict())"
   ]
  },
  {
   "cell_type": "code",
   "execution_count": null,
   "id": "611d3901",
   "metadata": {},
   "outputs": [],
   "source": [
    "for item in re.finditer(\"(?P<title>[\\w ]+)(?=\\[edit\\])\", wiki):\n",
    "    print(item)"
   ]
  },
  {
   "cell_type": "code",
   "execution_count": null,
   "id": "8fdd34b7",
   "metadata": {},
   "outputs": [],
   "source": [
    "for item in re.finditer(\"(?P<title>[\\w ]+)(?!\\[edit\\])\", wiki):\n",
    "    print(item.groupdict())"
   ]
  },
  {
   "cell_type": "code",
   "execution_count": null,
   "id": "89e7077e",
   "metadata": {},
   "outputs": [],
   "source": [
    "for item in re.finditer(\"(?P<title>[\\w ]+)(?=\\[edit\\])\", wiki):\n",
    "    print(item.groupdict())"
   ]
  },
  {
   "cell_type": "markdown",
   "id": "45916065",
   "metadata": {},
   "source": [
    "# the second example : Wikipedia "
   ]
  },
  {
   "cell_type": "markdown",
   "id": "d8768d60",
   "metadata": {},
   "source": [
    "## VERBOSE mode "
   ]
  },
  {
   "cell_type": "markdown",
   "id": "46a5fae6",
   "metadata": {},
   "source": [
    "<br>\n",
    "The verbose mode allows us to write multi-line regexes and increases pattern readability. \n",
    "\n",
    "For this mode, we have to explicitly indicate all whitespace characters, either by prepending them with a '\\ ' or by using the '\\s' special value. \n",
    "\n",
    "actually, VERBOSE mode allows us to write our regex a bit more like code, and can even include comments with '#'."
   ]
  },
  {
   "cell_type": "markdown",
   "id": "61e1f576",
   "metadata": {},
   "source": [
    "<br>\n",
    "Here's some data on universities in the US which are buddhist-based"
   ]
  },
  {
   "cell_type": "code",
   "execution_count": null,
   "id": "5e89a142",
   "metadata": {},
   "outputs": [],
   "source": [
    "with open(\"datasets/buddhist.txt\", 'r') as file:\n",
    "    wiki = file.read()\n",
    "\n",
    "wiki"
   ]
  },
  {
   "cell_type": "markdown",
   "id": "8ef768d5",
   "metadata": {},
   "source": [
    "#### we want to get the university title and  a city and state the university is in using a dictionary."
   ]
  },
  {
   "cell_type": "markdown",
   "id": "60bd2a93",
   "metadata": {},
   "source": [
    "<br>\n",
    "hint : We can see that each university follows a fairly similar pattern, with the name followed by an – then the words \"located in\" followed by the city and state.\n"
   ]
  },
  {
   "cell_type": "code",
   "execution_count": null,
   "id": "c40fd33b",
   "metadata": {},
   "outputs": [],
   "source": [
    "pattern = \"\"\"\n",
    "(?P<Uni_Title>.*)\n",
    "(â€“\\slocated\\sin\\s)\n",
    "(?P<City>\\w*)\n",
    "(,\\s)\n",
    "(?P<State>\\w*)\n",
    "\"\"\""
   ]
  },
  {
   "cell_type": "code",
   "execution_count": null,
   "id": "c58f3c75",
   "metadata": {
    "scrolled": true
   },
   "outputs": [],
   "source": [
    "for item in re.finditer(pattern, wiki, re.VERBOSE):\n",
    "    print(item.groupdict())"
   ]
  },
  {
   "cell_type": "markdown",
   "id": "149dbfc7",
   "metadata": {},
   "source": [
    "# the third example : New York Times health tweets"
   ]
  },
  {
   "cell_type": "markdown",
   "id": "99326229",
   "metadata": {},
   "source": [
    "<br>\n",
    "This data came from the UC Irvine Machine Learning Repository which is a great source of different kinds of data."
   ]
  },
  {
   "cell_type": "code",
   "execution_count": null,
   "id": "2b195852",
   "metadata": {},
   "outputs": [],
   "source": [
    "with open(\"datasets/nytimeshealth.txt\", 'rt', encoding= \"utf8\") as file:\n",
    "    tweets = file.read()\n",
    "    \n",
    "tweets"
   ]
  },
  {
   "cell_type": "markdown",
   "id": "e4edf051",
   "metadata": {},
   "source": [
    "#### we want to get a list of all of the hashtags."
   ]
  },
  {
   "cell_type": "markdown",
   "id": "77ad787b",
   "metadata": {},
   "source": [
    "hint : for creating a pattern, We have to consider the hash sign first, then any number of alphanumeric characters, And we end when we see some whitespace."
   ]
  },
  {
   "cell_type": "code",
   "execution_count": null,
   "id": "7a5f7ec0",
   "metadata": {},
   "outputs": [],
   "source": [
    "pattern = \"(#[\\w\\d]*)(?=\\s)\""
   ]
  },
  {
   "cell_type": "code",
   "execution_count": null,
   "id": "07b7d6e5",
   "metadata": {},
   "outputs": [],
   "source": [
    "hashtags = re.findall(pattern, tweets)\n",
    "hashtags"
   ]
  },
  {
   "cell_type": "code",
   "execution_count": null,
   "id": "0e552f34",
   "metadata": {},
   "outputs": [],
   "source": [
    "di = {}\n",
    "for hashtag in hashtags:\n",
    "    if hashtag in di:\n",
    "        di[hashtag] = di[hashtag] + 1\n",
    "    else:\n",
    "        di[hashtag] = 1\n",
    "di"
   ]
  },
  {
   "cell_type": "code",
   "execution_count": null,
   "id": "90e3102c",
   "metadata": {},
   "outputs": [],
   "source": [
    "di['#Ebola']"
   ]
  },
  {
   "cell_type": "code",
   "execution_count": null,
   "id": "c069c3af",
   "metadata": {},
   "outputs": [],
   "source": []
  },
  {
   "cell_type": "code",
   "execution_count": null,
   "id": "133dad6a",
   "metadata": {},
   "outputs": [],
   "source": []
  }
 ],
 "metadata": {
  "kernelspec": {
   "display_name": "Python 3 (ipykernel)",
   "language": "python",
   "name": "python3"
  },
  "language_info": {
   "codemirror_mode": {
    "name": "ipython",
    "version": 3
   },
   "file_extension": ".py",
   "mimetype": "text/x-python",
   "name": "python",
   "nbconvert_exporter": "python",
   "pygments_lexer": "ipython3",
   "version": "3.9.7"
  },
  "latex_envs": {
   "LaTeX_envs_menu_present": true,
   "autoclose": false,
   "autocomplete": true,
   "bibliofile": "biblio.bib",
   "cite_by": "apalike",
   "current_citInitial": 1,
   "eqLabelWithNumbers": true,
   "eqNumInitial": 1,
   "hotkeys": {
    "equation": "Ctrl-E",
    "itemize": "Ctrl-I"
   },
   "labels_anchors": false,
   "latex_user_defs": false,
   "report_style_numbering": false,
   "user_envs_cfg": false
  }
 },
 "nbformat": 4,
 "nbformat_minor": 5
}
