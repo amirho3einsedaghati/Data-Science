{
 "cells": [
  {
   "cell_type": "code",
   "execution_count": 93,
   "id": "3262d14d",
   "metadata": {},
   "outputs": [],
   "source": [
    "import datetime as dt\n",
    "import time as tm"
   ]
  },
  {
   "cell_type": "markdown",
   "id": "dd8cd57e",
   "metadata": {},
   "source": [
    "<br>\n",
    "`time` returns the current time in seconds since the Epoch (January 1st, 1970)."
   ]
  },
  {
   "cell_type": "code",
   "execution_count": 94,
   "id": "26c0a3df",
   "metadata": {},
   "outputs": [
    {
     "data": {
      "text/plain": [
       "1662061926.0936143"
      ]
     },
     "execution_count": 94,
     "metadata": {},
     "output_type": "execute_result"
    }
   ],
   "source": [
    "tm.time()"
   ]
  },
  {
   "cell_type": "markdown",
   "id": "ef26b245",
   "metadata": {},
   "source": [
    "<br>\n",
    "Convert the timestamp to datetime (local time zone = local date + local time)."
   ]
  },
  {
   "cell_type": "code",
   "execution_count": 95,
   "id": "6b758d3f",
   "metadata": {},
   "outputs": [
    {
     "data": {
      "text/plain": [
       "datetime.datetime(2022, 9, 2, 0, 22, 6, 430406)"
      ]
     },
     "execution_count": 95,
     "metadata": {},
     "output_type": "execute_result"
    }
   ],
   "source": [
    "dtNow = dt.datetime.fromtimestamp(tm.time())\n",
    "dtNow"
   ]
  },
  {
   "cell_type": "code",
   "execution_count": 96,
   "id": "c0c4159b",
   "metadata": {},
   "outputs": [
    {
     "name": "stdout",
     "output_type": "stream",
     "text": [
      "2022-09-02 00:22:06.430406\n"
     ]
    }
   ],
   "source": [
    "print(dtNow)"
   ]
  },
  {
   "cell_type": "markdown",
   "id": "eb453f54",
   "metadata": {},
   "source": [
    "<br>\n",
    "Handy datetime attributes: year, month, day, hour, minute, and second"
   ]
  },
  {
   "cell_type": "code",
   "execution_count": 97,
   "id": "dc6ccdb2",
   "metadata": {},
   "outputs": [
    {
     "data": {
      "text/plain": [
       "2022"
      ]
     },
     "execution_count": 97,
     "metadata": {},
     "output_type": "execute_result"
    }
   ],
   "source": [
    "dtNow.year"
   ]
  },
  {
   "cell_type": "code",
   "execution_count": 98,
   "id": "7c1d11a7",
   "metadata": {},
   "outputs": [
    {
     "data": {
      "text/plain": [
       "(2022, 9, 2)"
      ]
     },
     "execution_count": 98,
     "metadata": {},
     "output_type": "execute_result"
    }
   ],
   "source": [
    "dtNow.year, dtNow.month, dtNow.day"
   ]
  },
  {
   "cell_type": "code",
   "execution_count": 99,
   "id": "bd365d65",
   "metadata": {},
   "outputs": [
    {
     "data": {
      "text/plain": [
       "(0, 22, 6)"
      ]
     },
     "execution_count": 99,
     "metadata": {},
     "output_type": "execute_result"
    }
   ],
   "source": [
    "dtNow.hour, dtNow.minute, dtNow.second"
   ]
  },
  {
   "cell_type": "markdown",
   "id": "8c2e8da5",
   "metadata": {},
   "source": [
    "<br>\n",
    "`timedelta` is a duration expressing the difference between two dates (today date and target date)."
   ]
  },
  {
   "cell_type": "code",
   "execution_count": 100,
   "id": "27557e9c",
   "metadata": {},
   "outputs": [
    {
     "data": {
      "text/plain": [
       "datetime.timedelta(days=200)"
      ]
     },
     "execution_count": 100,
     "metadata": {},
     "output_type": "execute_result"
    }
   ],
   "source": [
    "delta= dt.timedelta(days= 200)\n",
    "delta"
   ]
  },
  {
   "cell_type": "code",
   "execution_count": 101,
   "id": "76863f8e",
   "metadata": {},
   "outputs": [
    {
     "name": "stdout",
     "output_type": "stream",
     "text": [
      "200 days, 0:00:00\n"
     ]
    }
   ],
   "source": [
    "print(delta)"
   ]
  },
  {
   "cell_type": "markdown",
   "id": "97709314",
   "metadata": {},
   "source": [
    "<br>\n",
    "`date.today` returns the current local date."
   ]
  },
  {
   "cell_type": "code",
   "execution_count": 102,
   "id": "d5202687",
   "metadata": {},
   "outputs": [
    {
     "data": {
      "text/plain": [
       "datetime.date(2022, 9, 2)"
      ]
     },
     "execution_count": 102,
     "metadata": {},
     "output_type": "execute_result"
    }
   ],
   "source": [
    "todayDT= dt.date.today()\n",
    "todayDT"
   ]
  },
  {
   "cell_type": "markdown",
   "id": "51034cea",
   "metadata": {},
   "source": [
    "<br>\n",
    "target time"
   ]
  },
  {
   "cell_type": "code",
   "execution_count": 103,
   "id": "4468ee8b",
   "metadata": {},
   "outputs": [
    {
     "data": {
      "text/plain": [
       "datetime.date(2023, 3, 21)"
      ]
     },
     "execution_count": 103,
     "metadata": {},
     "output_type": "execute_result"
    }
   ],
   "source": [
    "targetDT = todayDT + delta\n",
    "targetDT"
   ]
  },
  {
   "cell_type": "markdown",
   "id": "478a2df4",
   "metadata": {},
   "source": [
    "<br>\n",
    "evaluating"
   ]
  },
  {
   "cell_type": "code",
   "execution_count": 104,
   "id": "a8693a6e",
   "metadata": {},
   "outputs": [
    {
     "data": {
      "text/plain": [
       "False"
      ]
     },
     "execution_count": 104,
     "metadata": {},
     "output_type": "execute_result"
    }
   ],
   "source": [
    "todayDT > todayDT + delta"
   ]
  },
  {
   "cell_type": "markdown",
   "id": "70c7e0cb",
   "metadata": {},
   "source": [
    "<br>\n",
    "`timedelta` is a duration expressing the difference between two dates (today date and target date)."
   ]
  },
  {
   "cell_type": "code",
   "execution_count": 105,
   "id": "ab09a4ef",
   "metadata": {},
   "outputs": [
    {
     "data": {
      "text/plain": [
       "datetime.timedelta(days=100, seconds=31530)"
      ]
     },
     "execution_count": 105,
     "metadata": {},
     "output_type": "execute_result"
    }
   ],
   "source": [
    "delta = dt.timedelta(days = 100, hours= 8, minutes= 45, seconds= 30) # 8h(28800s) & 45m(2700s) 30s are 31530(28800 + 2700 + 30) seconds.\n",
    "delta"
   ]
  },
  {
   "cell_type": "code",
   "execution_count": 106,
   "id": "7463c56e",
   "metadata": {},
   "outputs": [
    {
     "name": "stdout",
     "output_type": "stream",
     "text": [
      "100 days, 8:45:30\n"
     ]
    }
   ],
   "source": [
    "print(delta)"
   ]
  },
  {
   "cell_type": "markdown",
   "id": "8cde915b",
   "metadata": {},
   "source": [
    "<br>\n",
    "`date.today` returns the current local date."
   ]
  },
  {
   "cell_type": "code",
   "execution_count": 107,
   "id": "e6f79f84",
   "metadata": {},
   "outputs": [
    {
     "data": {
      "text/plain": [
       "datetime.date(2022, 9, 2)"
      ]
     },
     "execution_count": 107,
     "metadata": {},
     "output_type": "execute_result"
    }
   ],
   "source": [
    "today = dt.date.today()\n",
    "today"
   ]
  },
  {
   "cell_type": "code",
   "execution_count": 108,
   "id": "127f51f2",
   "metadata": {},
   "outputs": [
    {
     "name": "stdout",
     "output_type": "stream",
     "text": [
      "2022-09-02\n"
     ]
    }
   ],
   "source": [
    "print(today)"
   ]
  },
  {
   "cell_type": "markdown",
   "id": "6ee251fe",
   "metadata": {},
   "source": [
    "<br>\n",
    "target time"
   ]
  },
  {
   "cell_type": "code",
   "execution_count": 109,
   "id": "1662d61e",
   "metadata": {},
   "outputs": [
    {
     "data": {
      "text/plain": [
       "datetime.date(2022, 5, 25)"
      ]
     },
     "execution_count": 109,
     "metadata": {},
     "output_type": "execute_result"
    }
   ],
   "source": [
    "targetTime= today - delta\n",
    "targetTime"
   ]
  },
  {
   "cell_type": "code",
   "execution_count": 110,
   "id": "b6eae1f7",
   "metadata": {},
   "outputs": [
    {
     "name": "stdout",
     "output_type": "stream",
     "text": [
      "2022-05-25\n"
     ]
    }
   ],
   "source": [
    "print(targetTime)"
   ]
  },
  {
   "cell_type": "markdown",
   "id": "10c7bf48",
   "metadata": {},
   "source": [
    "<br>\n",
    "evaluating"
   ]
  },
  {
   "cell_type": "code",
   "execution_count": 111,
   "id": "dce771f9",
   "metadata": {},
   "outputs": [
    {
     "data": {
      "text/plain": [
       "True"
      ]
     },
     "execution_count": 111,
     "metadata": {},
     "output_type": "execute_result"
    }
   ],
   "source": [
    "today > today - delta"
   ]
  },
  {
   "cell_type": "code",
   "execution_count": null,
   "id": "56de4c49",
   "metadata": {},
   "outputs": [],
   "source": []
  },
  {
   "cell_type": "code",
   "execution_count": null,
   "id": "27ce8e10",
   "metadata": {},
   "outputs": [],
   "source": []
  },
  {
   "cell_type": "code",
   "execution_count": null,
   "id": "356b89a1",
   "metadata": {},
   "outputs": [],
   "source": []
  }
 ],
 "metadata": {
  "kernelspec": {
   "display_name": "Python 3 (ipykernel)",
   "language": "python",
   "name": "python3"
  },
  "language_info": {
   "codemirror_mode": {
    "name": "ipython",
    "version": 3
   },
   "file_extension": ".py",
   "mimetype": "text/x-python",
   "name": "python",
   "nbconvert_exporter": "python",
   "pygments_lexer": "ipython3",
   "version": "3.9.7"
  },
  "latex_envs": {
   "LaTeX_envs_menu_present": true,
   "autoclose": false,
   "autocomplete": true,
   "bibliofile": "biblio.bib",
   "cite_by": "apalike",
   "current_citInitial": 1,
   "eqLabelWithNumbers": true,
   "eqNumInitial": 1,
   "hotkeys": {
    "equation": "Ctrl-E",
    "itemize": "Ctrl-I"
   },
   "labels_anchors": false,
   "latex_user_defs": false,
   "report_style_numbering": false,
   "user_envs_cfg": false
  }
 },
 "nbformat": 4,
 "nbformat_minor": 5
}
