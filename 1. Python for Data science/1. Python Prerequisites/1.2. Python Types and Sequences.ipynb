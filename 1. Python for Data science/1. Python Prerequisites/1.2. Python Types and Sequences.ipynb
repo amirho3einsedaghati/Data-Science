{
 "cells": [
  {
   "cell_type": "markdown",
   "id": "4d2595ab",
   "metadata": {},
   "source": [
    "<br>\n",
    "Use `type` to return the object's type."
   ]
  },
  {
   "cell_type": "code",
   "execution_count": 1,
   "id": "295bb065",
   "metadata": {},
   "outputs": [
    {
     "data": {
      "text/plain": [
       "str"
      ]
     },
     "execution_count": 1,
     "metadata": {},
     "output_type": "execute_result"
    }
   ],
   "source": [
    "type(\"this is a sample string\")"
   ]
  },
  {
   "cell_type": "code",
   "execution_count": 2,
   "id": "a2c75a2d",
   "metadata": {},
   "outputs": [
    {
     "data": {
      "text/plain": [
       "NoneType"
      ]
     },
     "execution_count": 2,
     "metadata": {},
     "output_type": "execute_result"
    }
   ],
   "source": [
    "type(None)"
   ]
  },
  {
   "cell_type": "code",
   "execution_count": 3,
   "id": "c0650d05",
   "metadata": {},
   "outputs": [
    {
     "data": {
      "text/plain": [
       "float"
      ]
     },
     "execution_count": 3,
     "metadata": {},
     "output_type": "execute_result"
    }
   ],
   "source": [
    "type(1.3)"
   ]
  },
  {
   "cell_type": "code",
   "execution_count": 5,
   "id": "49773dcf",
   "metadata": {},
   "outputs": [
    {
     "data": {
      "text/plain": [
       "int"
      ]
     },
     "execution_count": 5,
     "metadata": {},
     "output_type": "execute_result"
    }
   ],
   "source": [
    "type(1)"
   ]
  },
  {
   "cell_type": "markdown",
   "id": "288959c6",
   "metadata": {},
   "source": [
    "<br>\n",
    "`add_numbers` is a function that takes two numbers and adds them together."
   ]
  },
  {
   "cell_type": "code",
   "execution_count": 6,
   "id": "3f212e04",
   "metadata": {},
   "outputs": [
    {
     "data": {
      "text/plain": [
       "function"
      ]
     },
     "execution_count": 6,
     "metadata": {},
     "output_type": "execute_result"
    }
   ],
   "source": [
    "def add_numbers(x, y):\n",
    "    return x + y\n",
    "\n",
    "type(add_numbers)"
   ]
  },
  {
   "cell_type": "markdown",
   "id": "ddd98548",
   "metadata": {},
   "source": [
    "<br>\n",
    "Tuples are an immutable data structure (cannot be altered)."
   ]
  },
  {
   "cell_type": "code",
   "execution_count": 7,
   "id": "a2abc9e0",
   "metadata": {},
   "outputs": [
    {
     "data": {
      "text/plain": [
       "tuple"
      ]
     },
     "execution_count": 7,
     "metadata": {},
     "output_type": "execute_result"
    }
   ],
   "source": [
    "alpha= (1, \"a\", 2, \"b\")\n",
    "type(alpha)"
   ]
  },
  {
   "cell_type": "markdown",
   "id": "d36887c6",
   "metadata": {},
   "source": [
    "<br>\n",
    "Lists are a mutable data structure."
   ]
  },
  {
   "cell_type": "code",
   "execution_count": 58,
   "id": "456b0697",
   "metadata": {},
   "outputs": [
    {
     "data": {
      "text/plain": [
       "list"
      ]
     },
     "execution_count": 58,
     "metadata": {},
     "output_type": "execute_result"
    }
   ],
   "source": [
    "alpha= [1, \"a\", 2, \"b\"]\n",
    "type(alpha)"
   ]
  },
  {
   "cell_type": "markdown",
   "id": "c817fcda",
   "metadata": {},
   "source": [
    "<br>\n",
    "Use `append` to append an object to a list."
   ]
  },
  {
   "cell_type": "code",
   "execution_count": 69,
   "id": "40117414",
   "metadata": {},
   "outputs": [],
   "source": [
    "alpha.append(3.4)"
   ]
  },
  {
   "cell_type": "markdown",
   "id": "46ad5b50",
   "metadata": {},
   "source": [
    "<br>\n",
    "This is an example of how to loop on each items in the list using the for loop."
   ]
  },
  {
   "cell_type": "code",
   "execution_count": 70,
   "id": "453842ea",
   "metadata": {},
   "outputs": [
    {
     "name": "stdout",
     "output_type": "stream",
     "text": [
      "1\n",
      "a\n",
      "2\n",
      "b\n",
      "3.4\n"
     ]
    }
   ],
   "source": [
    "for item in alpha:\n",
    "    print(item)"
   ]
  },
  {
   "cell_type": "markdown",
   "id": "43f4e3a0",
   "metadata": {},
   "source": [
    "<br>\n",
    "This is an example of how to loop on each items in the list using and the while loop and the indexing operator."
   ]
  },
  {
   "cell_type": "code",
   "execution_count": 71,
   "id": "a21e2da2",
   "metadata": {},
   "outputs": [
    {
     "name": "stdout",
     "output_type": "stream",
     "text": [
      "1\n",
      "a\n",
      "2\n",
      "b\n",
      "3.4\n"
     ]
    }
   ],
   "source": [
    "i=0\n",
    "while( i != len(alpha) ):\n",
    "    print(alpha[i])\n",
    "    i = i + 1"
   ]
  },
  {
   "cell_type": "markdown",
   "id": "451852dd",
   "metadata": {},
   "source": [
    "# the plus operator"
   ]
  },
  {
   "cell_type": "markdown",
   "id": "b4fc468d",
   "metadata": {},
   "source": [
    "<br>\n",
    "Use `+` to concatenate lists."
   ]
  },
  {
   "cell_type": "code",
   "execution_count": 14,
   "id": "bd1f6e29",
   "metadata": {},
   "outputs": [
    {
     "data": {
      "text/plain": [
       "[1, 2, 3, 1, 2, 3]"
      ]
     },
     "execution_count": 14,
     "metadata": {},
     "output_type": "execute_result"
    }
   ],
   "source": [
    "[1,2,3] + [1,2,3]"
   ]
  },
  {
   "cell_type": "markdown",
   "id": "df3844fe",
   "metadata": {},
   "source": [
    "# the asterisk operator\n",
    "<br>\n",
    "Use `*` to repeat lists."
   ]
  },
  {
   "cell_type": "code",
   "execution_count": 12,
   "id": "586f324c",
   "metadata": {},
   "outputs": [
    {
     "data": {
      "text/plain": [
       "[1, 2, 3, 1, 2, 3]"
      ]
     },
     "execution_count": 12,
     "metadata": {},
     "output_type": "execute_result"
    }
   ],
   "source": [
    "[1,2,3] * 2"
   ]
  },
  {
   "cell_type": "code",
   "execution_count": 13,
   "id": "e570e4e1",
   "metadata": {},
   "outputs": [
    {
     "data": {
      "text/plain": [
       "[1, 1, 1, 1, 1, 1, 1, 1, 1, 1, 1, 1]"
      ]
     },
     "execution_count": 13,
     "metadata": {},
     "output_type": "execute_result"
    }
   ],
   "source": [
    "[1,1,1] * 4"
   ]
  },
  {
   "cell_type": "markdown",
   "id": "cbeb275a",
   "metadata": {},
   "source": [
    "<br>\n",
    "Use the `in` operator to check if something is inside a list."
   ]
  },
  {
   "cell_type": "code",
   "execution_count": 16,
   "id": "78b4c14d",
   "metadata": {},
   "outputs": [
    {
     "data": {
      "text/plain": [
       "True"
      ]
     },
     "execution_count": 16,
     "metadata": {},
     "output_type": "execute_result"
    }
   ],
   "source": [
    "1 in [1,2,3]"
   ]
  },
  {
   "cell_type": "code",
   "execution_count": 17,
   "id": "26237787",
   "metadata": {},
   "outputs": [
    {
     "data": {
      "text/plain": [
       "False"
      ]
     },
     "execution_count": 17,
     "metadata": {},
     "output_type": "execute_result"
    }
   ],
   "source": [
    "4 in [1,2,3]"
   ]
  },
  {
   "cell_type": "markdown",
   "id": "dd78c119",
   "metadata": {},
   "source": [
    "# 1. Manipulating Strings with Slicing\n",
    "<br>slicing strings which is done with the indexing operator.\n",
    "<br>the indexing operator which is shown with the square bracket."
   ]
  },
  {
   "cell_type": "code",
   "execution_count": null,
   "id": "a9298812",
   "metadata": {},
   "outputs": [],
   "source": [
    "txt= \"this is a sample string\"\n",
    "print(txt[0])\n",
    "print(txt[0:1])\n",
    "print(txt[1:3])"
   ]
  },
  {
   "cell_type": "markdown",
   "id": "979b66b1",
   "metadata": {},
   "source": [
    "<br>\n",
    "This will return the last element of the string."
   ]
  },
  {
   "cell_type": "code",
   "execution_count": 19,
   "id": "469a31d3",
   "metadata": {},
   "outputs": [
    {
     "data": {
      "text/plain": [
       "'g'"
      ]
     },
     "execution_count": 19,
     "metadata": {},
     "output_type": "execute_result"
    }
   ],
   "source": [
    "txt[-1]"
   ]
  },
  {
   "cell_type": "markdown",
   "id": "d8f78d20",
   "metadata": {},
   "source": [
    "<br>\n",
    "This will return the slice starting from the 4th element from the end and stopping before the 2nd element from the end."
   ]
  },
  {
   "cell_type": "code",
   "execution_count": 20,
   "id": "23193d58",
   "metadata": {},
   "outputs": [
    {
     "data": {
      "text/plain": [
       "'ri'"
      ]
     },
     "execution_count": 20,
     "metadata": {},
     "output_type": "execute_result"
    }
   ],
   "source": [
    "txt[-4: -2]"
   ]
  },
  {
   "cell_type": "markdown",
   "id": "72d022a2",
   "metadata": {},
   "source": [
    "<br>\n",
    "This is a slice from the beginning of the string and stopping before the 4rd element."
   ]
  },
  {
   "cell_type": "code",
   "execution_count": 21,
   "id": "6add57cb",
   "metadata": {},
   "outputs": [
    {
     "data": {
      "text/plain": [
       "'this'"
      ]
     },
     "execution_count": 21,
     "metadata": {},
     "output_type": "execute_result"
    }
   ],
   "source": [
    "txt[:4]"
   ]
  },
  {
   "cell_type": "markdown",
   "id": "103d56bd",
   "metadata": {},
   "source": [
    "<br>\n",
    "this is a slice starting from the 5th element of the string and going all the way to the end."
   ]
  },
  {
   "cell_type": "code",
   "execution_count": 22,
   "id": "0f51fb08",
   "metadata": {},
   "outputs": [
    {
     "data": {
      "text/plain": [
       "'is a sample string'"
      ]
     },
     "execution_count": 22,
     "metadata": {},
     "output_type": "execute_result"
    }
   ],
   "source": [
    "txt[5:]"
   ]
  },
  {
   "cell_type": "code",
   "execution_count": 23,
   "id": "e1902da3",
   "metadata": {},
   "outputs": [
    {
     "data": {
      "text/plain": [
       "'Hosein'"
      ]
     },
     "execution_count": 23,
     "metadata": {},
     "output_type": "execute_result"
    }
   ],
   "source": [
    "myFullName= 'Amir Hosein Sedaghati'\n",
    "myFullName[5:11]"
   ]
  },
  {
   "cell_type": "code",
   "execution_count": 31,
   "id": "231243a5",
   "metadata": {},
   "outputs": [
    {
     "name": "stdout",
     "output_type": "stream",
     "text": [
      "Amir Hosein Sedaghati\n",
      "Amir HoseinAmir HoseinAmir Hosein\n",
      "True\n",
      "False\n"
     ]
    }
   ],
   "source": [
    "firstName= \"Amir Hosein\"\n",
    "lastName= \"Sedaghati\"\n",
    "\n",
    "print(firstName + ' ' + lastName)\n",
    "print(firstName * 3)\n",
    "print('se' in firstName)\n",
    "print('q' in lastName)"
   ]
  },
  {
   "cell_type": "markdown",
   "id": "e3de255d",
   "metadata": {},
   "source": [
    "# 2. Manipulating Strings with split function"
   ]
  },
  {
   "cell_type": "markdown",
   "id": "42b7482e",
   "metadata": {},
   "source": [
    "<br>\n",
    "`split` returns a list of all the words in a string"
   ]
  },
  {
   "cell_type": "code",
   "execution_count": 41,
   "id": "141e495f",
   "metadata": {},
   "outputs": [
    {
     "name": "stdout",
     "output_type": "stream",
     "text": [
      "Amir Hosein\n",
      "sedaghati\n",
      "Amir Hosein sedaghati\n"
     ]
    }
   ],
   "source": [
    "firstName= \"Amir Hosein sedaghati\"[:11] \n",
    "lastName= \"Amir Hosein sedaghati\".split(' ')[-1] # [-1] selects the last element of the list\n",
    "\n",
    "print(firstName)\n",
    "print(lastName)\n",
    "print(firstName + ' ' + lastName)"
   ]
  },
  {
   "cell_type": "markdown",
   "id": "35e2f875",
   "metadata": {},
   "source": [
    "<br>\n",
    "Make sure you have converted objects to strings before concatenating."
   ]
  },
  {
   "cell_type": "code",
   "execution_count": 78,
   "id": "ed5d812d",
   "metadata": {},
   "outputs": [
    {
     "ename": "TypeError",
     "evalue": "can only concatenate str (not \"int\") to str",
     "output_type": "error",
     "traceback": [
      "\u001b[1;31m---------------------------------------------------------------------------\u001b[0m",
      "\u001b[1;31mTypeError\u001b[0m                                 Traceback (most recent call last)",
      "Input \u001b[1;32mIn [78]\u001b[0m, in \u001b[0;36m<cell line: 1>\u001b[1;34m()\u001b[0m\n\u001b[1;32m----> 1\u001b[0m \u001b[38;5;124;43m'\u001b[39;49m\u001b[38;5;124;43mamir\u001b[39;49m\u001b[38;5;124;43m'\u001b[39;49m\u001b[43m \u001b[49m\u001b[38;5;241;43m+\u001b[39;49m\u001b[43m \u001b[49m\u001b[38;5;241;43m2\u001b[39;49m\n",
      "\u001b[1;31mTypeError\u001b[0m: can only concatenate str (not \"int\") to str"
     ]
    }
   ],
   "source": [
    "'amir' + 2"
   ]
  },
  {
   "cell_type": "code",
   "execution_count": 44,
   "id": "e6f842df",
   "metadata": {},
   "outputs": [
    {
     "data": {
      "text/plain": [
       "'amir7'"
      ]
     },
     "execution_count": 44,
     "metadata": {},
     "output_type": "execute_result"
    }
   ],
   "source": [
    "\"amir\" + str(7)"
   ]
  },
  {
   "cell_type": "markdown",
   "id": "4d221771",
   "metadata": {},
   "source": [
    "<br>\n",
    "Dictionaries associate keys with values."
   ]
  },
  {
   "cell_type": "code",
   "execution_count": 81,
   "id": "768bb6c7",
   "metadata": {},
   "outputs": [
    {
     "data": {
      "text/plain": [
       "'amirhosseinsedaghati42@gmail.com'"
      ]
     },
     "execution_count": 81,
     "metadata": {},
     "output_type": "execute_result"
    }
   ],
   "source": [
    "x= {\"amir hosein sedaghati\": \"amirhosseinsedaghati42@gmail.com\", \"reza avar\": \"rezaavar@gmail.com\"}\n",
    "\n",
    "x[\"amir hosein sedaghati\"]\n"
   ]
  },
  {
   "cell_type": "markdown",
   "id": "d4227da0",
   "metadata": {},
   "source": [
    "<br>\n",
    "add a new item into a dictionary with the indexing operator:"
   ]
  },
  {
   "cell_type": "code",
   "execution_count": 47,
   "id": "fda118f4",
   "metadata": {},
   "outputs": [
    {
     "data": {
      "text/plain": [
       "'billg@microsoft.com'"
      ]
     },
     "execution_count": 47,
     "metadata": {},
     "output_type": "execute_result"
    }
   ],
   "source": [
    "x[\"bill gates\"]= \"billg@microsoft.com\"\n",
    "x[\"bill gates\"]"
   ]
  },
  {
   "cell_type": "markdown",
   "id": "d30a279f",
   "metadata": {},
   "source": [
    "<br>\n",
    "Iterate over all of the keys in the list:"
   ]
  },
  {
   "cell_type": "code",
   "execution_count": 48,
   "id": "f73dda33",
   "metadata": {},
   "outputs": [
    {
     "name": "stdout",
     "output_type": "stream",
     "text": [
      "amirhosseinsedaghati42@gmail.com\n",
      "rezaavar@gmail.com\n",
      "billg@microsoft.com\n"
     ]
    }
   ],
   "source": [
    "for key in x:\n",
    "    print(x[key])"
   ]
  },
  {
   "cell_type": "markdown",
   "id": "f985e483",
   "metadata": {},
   "source": [
    "<br>\n",
    "Iterate over all of the values in the list:"
   ]
  },
  {
   "cell_type": "code",
   "execution_count": 49,
   "id": "1066e822",
   "metadata": {},
   "outputs": [
    {
     "name": "stdout",
     "output_type": "stream",
     "text": [
      "amirhosseinsedaghati42@gmail.com\n",
      "rezaavar@gmail.com\n",
      "billg@microsoft.com\n"
     ]
    }
   ],
   "source": [
    "for value in x.values():\n",
    "    print(value)"
   ]
  },
  {
   "cell_type": "markdown",
   "id": "8182a625",
   "metadata": {},
   "source": [
    "<br>\n",
    "Iterate over all of the items in the list:"
   ]
  },
  {
   "cell_type": "code",
   "execution_count": 50,
   "id": "c7d7f600",
   "metadata": {},
   "outputs": [
    {
     "name": "stdout",
     "output_type": "stream",
     "text": [
      "amir hosein sedaghati : amirhosseinsedaghati42@gmail.com\n",
      "reza avar : rezaavar@gmail.com\n",
      "bill gates : billg@microsoft.com\n"
     ]
    }
   ],
   "source": [
    "for key, value in x.items():\n",
    "    print(f\"{key} : {value}\")"
   ]
  },
  {
   "cell_type": "markdown",
   "id": "77a5ec76",
   "metadata": {},
   "source": [
    "# unpacking"
   ]
  },
  {
   "cell_type": "markdown",
   "id": "c5161286",
   "metadata": {},
   "source": [
    "<br>\n",
    "We can unpack the content of a sequence into different variables."
   ]
  },
  {
   "cell_type": "code",
   "execution_count": 51,
   "id": "d9c7b9e0",
   "metadata": {},
   "outputs": [
    {
     "name": "stdout",
     "output_type": "stream",
     "text": [
      "Amir Hosein\n",
      "Sedaghati\n",
      "amirhosseinsedaghati42@gmail.com\n"
     ]
    }
   ],
   "source": [
    "x= (\"Amir Hosein\", \"Sedaghati\", \"amirhosseinsedaghati42@gmail.com\")\n",
    "firstName, lastName, email = x\n",
    "\n",
    "print(firstName)\n",
    "print(lastName)\n",
    "print(email)"
   ]
  },
  {
   "cell_type": "markdown",
   "id": "4c956859",
   "metadata": {},
   "source": [
    "<br>\n",
    "Make sure the number of values you are unpacking matches the number of variables being assigned."
   ]
  },
  {
   "cell_type": "code",
   "execution_count": 53,
   "id": "f854bf12",
   "metadata": {},
   "outputs": [
    {
     "ename": "ValueError",
     "evalue": "too many values to unpack (expected 3)",
     "output_type": "error",
     "traceback": [
      "\u001b[1;31m---------------------------------------------------------------------------\u001b[0m",
      "\u001b[1;31mValueError\u001b[0m                                Traceback (most recent call last)",
      "Input \u001b[1;32mIn [53]\u001b[0m, in \u001b[0;36m<cell line: 2>\u001b[1;34m()\u001b[0m\n\u001b[0;32m      1\u001b[0m ex\u001b[38;5;241m=\u001b[39m [\u001b[38;5;124m\"\u001b[39m\u001b[38;5;124mreza\u001b[39m\u001b[38;5;124m\"\u001b[39m, \u001b[38;5;124m\"\u001b[39m\u001b[38;5;124mavar\u001b[39m\u001b[38;5;124m\"\u001b[39m, \u001b[38;5;124m\"\u001b[39m\u001b[38;5;124mrezaavar@gmail.com\u001b[39m\u001b[38;5;124m\"\u001b[39m, \u001b[38;5;124m\"\u001b[39m\u001b[38;5;124mbill gates\u001b[39m\u001b[38;5;124m\"\u001b[39m]\n\u001b[1;32m----> 2\u001b[0m firstName, lastName, email \u001b[38;5;241m=\u001b[39m ex\n\u001b[0;32m      4\u001b[0m \u001b[38;5;28mprint\u001b[39m(firstName)\n\u001b[0;32m      5\u001b[0m \u001b[38;5;28mprint\u001b[39m(lastName)\n",
      "\u001b[1;31mValueError\u001b[0m: too many values to unpack (expected 3)"
     ]
    }
   ],
   "source": [
    "ex= [\"reza\", \"avar\", \"rezaavar@gmail.com\", \"bill gates\"]\n",
    "firstName, lastName, email = ex\n",
    "\n",
    "print(firstName)\n",
    "print(lastName)\n",
    "print(email)"
   ]
  },
  {
   "cell_type": "code",
   "execution_count": null,
   "id": "763bac8f",
   "metadata": {},
   "outputs": [],
   "source": []
  }
 ],
 "metadata": {
  "kernelspec": {
   "display_name": "Python 3 (ipykernel)",
   "language": "python",
   "name": "python3"
  },
  "language_info": {
   "codemirror_mode": {
    "name": "ipython",
    "version": 3
   },
   "file_extension": ".py",
   "mimetype": "text/x-python",
   "name": "python",
   "nbconvert_exporter": "python",
   "pygments_lexer": "ipython3",
   "version": "3.9.1"
  },
  "latex_envs": {
   "LaTeX_envs_menu_present": true,
   "autoclose": false,
   "autocomplete": true,
   "bibliofile": "biblio.bib",
   "cite_by": "apalike",
   "current_citInitial": 1,
   "eqLabelWithNumbers": true,
   "eqNumInitial": 1,
   "hotkeys": {
    "equation": "Ctrl-E",
    "itemize": "Ctrl-I"
   },
   "labels_anchors": false,
   "latex_user_defs": false,
   "report_style_numbering": false,
   "user_envs_cfg": false
  }
 },
 "nbformat": 4,
 "nbformat_minor": 5
}
