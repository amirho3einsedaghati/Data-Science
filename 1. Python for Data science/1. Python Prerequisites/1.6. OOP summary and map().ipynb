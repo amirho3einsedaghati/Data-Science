{
 "cells": [
  {
   "cell_type": "markdown",
   "id": "095f483d",
   "metadata": {},
   "source": [
    "# OOP summary "
   ]
  },
  {
   "cell_type": "markdown",
   "id": "7df89c2f",
   "metadata": {},
   "source": [
    "<br>\n",
    "A example of a class in python:"
   ]
  },
  {
   "cell_type": "code",
   "execution_count": 1,
   "id": "f28fabbd",
   "metadata": {},
   "outputs": [],
   "source": [
    "class Person:\n",
    "    department = 'School of Information' #a class variable\n",
    "\n",
    "    def set_name(self, new_name): #a method\n",
    "        self.name = new_name # an instance variable\n",
    "    def set_location(self, new_location):\n",
    "        self.location = new_location"
   ]
  },
  {
   "cell_type": "code",
   "execution_count": 2,
   "id": "18a85ad8",
   "metadata": {},
   "outputs": [
    {
     "name": "stdout",
     "output_type": "stream",
     "text": [
      "Christopher Brooks live in Ann Arbor, MI, USA and works in the department School of Information\n"
     ]
    }
   ],
   "source": [
    "person = Person()\n",
    "person.set_name('Christopher Brooks')\n",
    "person.set_location('Ann Arbor, MI, USA')\n",
    "print('{} live in {} and works in the department {}'.format(person.name, person.location, person.department))"
   ]
  },
  {
   "cell_type": "markdown",
   "id": "26f1a972",
   "metadata": {},
   "source": [
    "<br>\n",
    "A complex example of a class in python:"
   ]
  },
  {
   "cell_type": "code",
   "execution_count": 3,
   "id": "a07428e2",
   "metadata": {},
   "outputs": [],
   "source": [
    "class Person:\n",
    "    department= \"the school of information\" #a class variable\n",
    "    \n",
    "    def __init__(self, name= \"\", location= \"\"):\n",
    "        self.__name = name # an instance variable\n",
    "        self.__location = location # an instance variable\n",
    "        \n",
    "    @property\n",
    "    def name(self):\n",
    "        return self.__name\n",
    "    \n",
    "    @name.setter\n",
    "    def name(self, newName):\n",
    "        self.__name = newName\n",
    "        \n",
    "    @name.deleter\n",
    "    def name(self):\n",
    "        print(\"instance name was deleted\")\n",
    "        del self.__name\n",
    "        \n",
    "    @property\n",
    "    def location(self):\n",
    "        return self.__location\n",
    "    \n",
    "    @location.setter\n",
    "    def location(self, newLocation):\n",
    "        self.__location = newLocation\n",
    "        \n",
    "    @location.deleter\n",
    "    def location(self):\n",
    "        print(\"instance location was deleted\")\n",
    "        del self.__location\n",
    "        \n",
    "    def showInformation(self):\n",
    "        print(\"{} lives in {} and works in {} department.\".format(self.name, self.location, self.department))"
   ]
  },
  {
   "cell_type": "markdown",
   "id": "4f93428c",
   "metadata": {},
   "source": [
    "<br>\n",
    "the below line shows us the instantiation process of the Person class of which an instance or object is created."
   ]
  },
  {
   "cell_type": "code",
   "execution_count": 4,
   "id": "e2409d22",
   "metadata": {},
   "outputs": [],
   "source": [
    "amir = Person()"
   ]
  },
  {
   "cell_type": "code",
   "execution_count": 5,
   "id": "ea5c35cb",
   "metadata": {},
   "outputs": [
    {
     "data": {
      "text/plain": [
       "'the school of information'"
      ]
     },
     "execution_count": 5,
     "metadata": {},
     "output_type": "execute_result"
    }
   ],
   "source": [
    "amir.department"
   ]
  },
  {
   "cell_type": "code",
   "execution_count": 6,
   "id": "7c54545d",
   "metadata": {},
   "outputs": [
    {
     "data": {
      "text/plain": [
       "'amir hosein sedaghati'"
      ]
     },
     "execution_count": 6,
     "metadata": {},
     "output_type": "execute_result"
    }
   ],
   "source": [
    "amir.name = \"amir hosein sedaghati\"\n",
    "amir.name"
   ]
  },
  {
   "cell_type": "code",
   "execution_count": 7,
   "id": "8a43c437",
   "metadata": {},
   "outputs": [
    {
     "data": {
      "text/plain": [
       "'karaj'"
      ]
     },
     "execution_count": 7,
     "metadata": {},
     "output_type": "execute_result"
    }
   ],
   "source": [
    "amir.location = \"karaj\"\n",
    "amir.location"
   ]
  },
  {
   "cell_type": "markdown",
   "id": "02889385",
   "metadata": {},
   "source": [
    "name mangling allows us to access to class-private members. ( ._classname__private member name )"
   ]
  },
  {
   "cell_type": "code",
   "execution_count": 8,
   "id": "083c3845",
   "metadata": {},
   "outputs": [
    {
     "data": {
      "text/plain": [
       "'amir hosein sedaghati'"
      ]
     },
     "execution_count": 8,
     "metadata": {},
     "output_type": "execute_result"
    }
   ],
   "source": [
    "amir._Person__name"
   ]
  },
  {
   "cell_type": "code",
   "execution_count": 9,
   "id": "17c65efd",
   "metadata": {},
   "outputs": [
    {
     "data": {
      "text/plain": [
       "'karaj'"
      ]
     },
     "execution_count": 9,
     "metadata": {},
     "output_type": "execute_result"
    }
   ],
   "source": [
    "amir._Person__location"
   ]
  },
  {
   "cell_type": "code",
   "execution_count": 10,
   "id": "a37f6748",
   "metadata": {},
   "outputs": [
    {
     "name": "stdout",
     "output_type": "stream",
     "text": [
      "amir hosein sedaghati lives in karaj and works in the school of information department.\n"
     ]
    }
   ],
   "source": [
    "amir.showInformation()"
   ]
  },
  {
   "cell_type": "code",
   "execution_count": 11,
   "id": "23930fcd",
   "metadata": {},
   "outputs": [
    {
     "name": "stdout",
     "output_type": "stream",
     "text": [
      "instance name was deleted\n"
     ]
    }
   ],
   "source": [
    "del amir.name"
   ]
  },
  {
   "cell_type": "markdown",
   "id": "2daf6085",
   "metadata": {},
   "source": [
    "because we have deleted the value of instance name, get function \"name\" is declared, but there is no value to get back, and we get the below error. this is good because show us the deltter function \"name\" is working."
   ]
  },
  {
   "cell_type": "code",
   "execution_count": 12,
   "id": "60bd119e",
   "metadata": {},
   "outputs": [
    {
     "ename": "AttributeError",
     "evalue": "'Person' object has no attribute '_Person__name'",
     "output_type": "error",
     "traceback": [
      "\u001b[1;31m---------------------------------------------------------------------------\u001b[0m",
      "\u001b[1;31mAttributeError\u001b[0m                            Traceback (most recent call last)",
      "\u001b[1;32mC:\\Users\\IRANIN~1\\AppData\\Local\\Temp/ipykernel_7420/3506631078.py\u001b[0m in \u001b[0;36m<module>\u001b[1;34m\u001b[0m\n\u001b[1;32m----> 1\u001b[1;33m \u001b[0mamir\u001b[0m\u001b[1;33m.\u001b[0m\u001b[0mname\u001b[0m\u001b[1;33m\u001b[0m\u001b[1;33m\u001b[0m\u001b[0m\n\u001b[0m",
      "\u001b[1;32mC:\\Users\\IRANIN~1\\AppData\\Local\\Temp/ipykernel_7420/3383242541.py\u001b[0m in \u001b[0;36mname\u001b[1;34m(self)\u001b[0m\n\u001b[0;32m      8\u001b[0m     \u001b[1;33m@\u001b[0m\u001b[0mproperty\u001b[0m\u001b[1;33m\u001b[0m\u001b[1;33m\u001b[0m\u001b[0m\n\u001b[0;32m      9\u001b[0m     \u001b[1;32mdef\u001b[0m \u001b[0mname\u001b[0m\u001b[1;33m(\u001b[0m\u001b[0mself\u001b[0m\u001b[1;33m)\u001b[0m\u001b[1;33m:\u001b[0m\u001b[1;33m\u001b[0m\u001b[1;33m\u001b[0m\u001b[0m\n\u001b[1;32m---> 10\u001b[1;33m         \u001b[1;32mreturn\u001b[0m \u001b[0mself\u001b[0m\u001b[1;33m.\u001b[0m\u001b[0m__name\u001b[0m\u001b[1;33m\u001b[0m\u001b[1;33m\u001b[0m\u001b[0m\n\u001b[0m\u001b[0;32m     11\u001b[0m \u001b[1;33m\u001b[0m\u001b[0m\n\u001b[0;32m     12\u001b[0m     \u001b[1;33m@\u001b[0m\u001b[0mname\u001b[0m\u001b[1;33m.\u001b[0m\u001b[0msetter\u001b[0m\u001b[1;33m\u001b[0m\u001b[1;33m\u001b[0m\u001b[0m\n",
      "\u001b[1;31mAttributeError\u001b[0m: 'Person' object has no attribute '_Person__name'"
     ]
    }
   ],
   "source": [
    "amir.name"
   ]
  },
  {
   "cell_type": "code",
   "execution_count": null,
   "id": "5d5e004d",
   "metadata": {},
   "outputs": [],
   "source": []
  },
  {
   "cell_type": "code",
   "execution_count": null,
   "id": "76cd8632",
   "metadata": {},
   "outputs": [],
   "source": []
  },
  {
   "cell_type": "code",
   "execution_count": null,
   "id": "b625bb3a",
   "metadata": {},
   "outputs": [],
   "source": [
    "sara = Person()\n",
    "sara.department"
   ]
  },
  {
   "cell_type": "code",
   "execution_count": null,
   "id": "943a1345",
   "metadata": {},
   "outputs": [],
   "source": [
    "sara.department = \"the art and acting\"\n",
    "sara.department"
   ]
  },
  {
   "cell_type": "code",
   "execution_count": null,
   "id": "7e2fee94",
   "metadata": {},
   "outputs": [],
   "source": [
    "sara.name = \"sara bahrami\"\n",
    "sara.name"
   ]
  },
  {
   "cell_type": "code",
   "execution_count": null,
   "id": "d679640d",
   "metadata": {},
   "outputs": [],
   "source": [
    "sara.location = \"tehran\"\n",
    "sara.location"
   ]
  },
  {
   "cell_type": "markdown",
   "id": "9e012598",
   "metadata": {},
   "source": [
    "name mangling allows us to access to class-private members. ( ._classname__private member name )"
   ]
  },
  {
   "cell_type": "code",
   "execution_count": null,
   "id": "84412005",
   "metadata": {},
   "outputs": [],
   "source": [
    "sara._Person__name"
   ]
  },
  {
   "cell_type": "code",
   "execution_count": null,
   "id": "7523df1f",
   "metadata": {},
   "outputs": [],
   "source": [
    "sara._Person__location"
   ]
  },
  {
   "cell_type": "code",
   "execution_count": null,
   "id": "5a68f362",
   "metadata": {},
   "outputs": [],
   "source": [
    "sara.showInformation()"
   ]
  },
  {
   "cell_type": "code",
   "execution_count": null,
   "id": "ac8e5014",
   "metadata": {},
   "outputs": [],
   "source": [
    "del sara.location"
   ]
  },
  {
   "cell_type": "markdown",
   "id": "2fa6922b",
   "metadata": {},
   "source": [
    "because we have deleted the value of instance location, get function \"location\" is declared, but there is no value to get back, and we get the below error. this is good because show us the deltter function \"location\" is working."
   ]
  },
  {
   "cell_type": "code",
   "execution_count": null,
   "id": "fcc4e649",
   "metadata": {},
   "outputs": [],
   "source": [
    "sara.location"
   ]
  },
  {
   "cell_type": "code",
   "execution_count": null,
   "id": "ebd56043",
   "metadata": {},
   "outputs": [],
   "source": []
  },
  {
   "cell_type": "code",
   "execution_count": null,
   "id": "3fe32d42",
   "metadata": {},
   "outputs": [],
   "source": []
  },
  {
   "cell_type": "markdown",
   "id": "5a0dc4f9",
   "metadata": {},
   "source": [
    "# Map Function:"
   ]
  },
  {
   "cell_type": "markdown",
   "id": "14ec7ece",
   "metadata": {},
   "source": [
    "<br>\n",
    "Here's an example of mapping the `min` function between two lists."
   ]
  },
  {
   "cell_type": "code",
   "execution_count": null,
   "id": "081c0bad",
   "metadata": {},
   "outputs": [],
   "source": [
    "sotre1 = [10.00, 12.34, 21.34, 7.89]\n",
    "store2 = [9.35, 12.34, 21.00, 8.21]\n",
    "\n",
    "items= map(min, sotre1, store2)\n",
    "items"
   ]
  },
  {
   "cell_type": "markdown",
   "id": "b697c5e3",
   "metadata": {},
   "source": [
    "<br>\n",
    "Now let's iterate through the map object to see the values."
   ]
  },
  {
   "cell_type": "code",
   "execution_count": null,
   "id": "76603728",
   "metadata": {},
   "outputs": [],
   "source": [
    "for case in items:\n",
    "    print(case)"
   ]
  },
  {
   "cell_type": "markdown",
   "id": "f598f97f",
   "metadata": {},
   "source": [
    "because we can just one time access the values of a map object, we see nothing in the list."
   ]
  },
  {
   "cell_type": "code",
   "execution_count": null,
   "id": "ee6e60ac",
   "metadata": {},
   "outputs": [],
   "source": [
    "list(items)"
   ]
  },
  {
   "cell_type": "markdown",
   "id": "9b587765",
   "metadata": {},
   "source": [
    "we get a list of all faculty titles and last names using a function that we have wrote it and a map function (e.g. ['Dr. Brooks', 'Dr. Collins-Thompson', …])."
   ]
  },
  {
   "cell_type": "code",
   "execution_count": null,
   "id": "b27bf912",
   "metadata": {},
   "outputs": [],
   "source": [
    "people = ['Dr. Christopher Brooks', 'Dr. Kevyn Collins-Thompson', 'Dr. VG Vinod Vydiswaran', 'Dr. Daniel Romero']\n",
    "\n",
    "def split_title_and_name(person):\n",
    "    li = person.split(\" \")\n",
    "    facultyTitle = li[0]\n",
    "    lastName = li[len(li) - 1]\n",
    "    concatenated = first + \"\" + last\n",
    "    return concatenated\n",
    "\n",
    "list(map(split_title_and_name, people))"
   ]
  },
  {
   "cell_type": "markdown",
   "id": "58b12ed7",
   "metadata": {},
   "source": [
    "we get a list of all faculty titles and last names using for loop (e.g. ['Dr. Brooks', 'Dr. Collins-Thompson', …])."
   ]
  },
  {
   "cell_type": "code",
   "execution_count": null,
   "id": "72cd491b",
   "metadata": {},
   "outputs": [],
   "source": [
    "answer = []\n",
    "for item in people:\n",
    "    facultyTitle= item.split()[0]\n",
    "    lastName= item.split()[-1]\n",
    "    answer.append(\"{}{}\".format(facultyTitle, lastName))\n",
    "    \n",
    "answer\n"
   ]
  },
  {
   "cell_type": "code",
   "execution_count": null,
   "id": "f7162280",
   "metadata": {},
   "outputs": [],
   "source": []
  }
 ],
 "metadata": {
  "kernelspec": {
   "display_name": "Python 3 (ipykernel)",
   "language": "python",
   "name": "python3"
  },
  "language_info": {
   "codemirror_mode": {
    "name": "ipython",
    "version": 3
   },
   "file_extension": ".py",
   "mimetype": "text/x-python",
   "name": "python",
   "nbconvert_exporter": "python",
   "pygments_lexer": "ipython3",
   "version": "3.9.7"
  },
  "latex_envs": {
   "LaTeX_envs_menu_present": true,
   "autoclose": false,
   "autocomplete": true,
   "bibliofile": "biblio.bib",
   "cite_by": "apalike",
   "current_citInitial": 1,
   "eqLabelWithNumbers": true,
   "eqNumInitial": 1,
   "hotkeys": {
    "equation": "Ctrl-E",
    "itemize": "Ctrl-I"
   },
   "labels_anchors": false,
   "latex_user_defs": false,
   "report_style_numbering": false,
   "user_envs_cfg": false
  }
 },
 "nbformat": 4,
 "nbformat_minor": 5
}
