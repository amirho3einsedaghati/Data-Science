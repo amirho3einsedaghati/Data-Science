{
 "cells": [
  {
   "cell_type": "markdown",
   "id": "365e01aa",
   "metadata": {},
   "source": [
    "# Pandas Scales :"
   ]
  },
  {
   "cell_type": "markdown",
   "id": "d0f987da",
   "metadata": {},
   "source": [
    "# 1. Ratio Scales :"
   ]
  },
  {
   "cell_type": "markdown",
   "id": "ceab7cbf",
   "metadata": {},
   "source": [
    "**in ratio scale**:\n",
    "\n",
    "* the measurement units **are equally spaced** and there **is a true zero**.\n",
    "* the mathematical operations of **+-/*** are all valid.\n",
    "* a good example for ratio scales is **height and weight**.\n"
   ]
  },
  {
   "cell_type": "markdown",
   "id": "b2d32b50",
   "metadata": {},
   "source": [
    "# 2. Interval Scales :"
   ]
  },
  {
   "cell_type": "markdown",
   "id": "c8027a1b",
   "metadata": {},
   "source": [
    "**in interval scale** :\n",
    "\n",
    "* the measurement units **are eaqually spaced** like Ratio Scales, but there **is no true zero**.\n",
    "* the mathematical operations of __-+__ are all valid.\n",
    "* a good example for Interval Scales is :\n",
    "    * **temperature measurement** in celsius and fahrenheit. in this case, **zero degree is actually a meaningful value itself**.\n",
    "    * **the direction on a campus** is another good example where **zero direction doesn't indicate a lack of direction**, but instead it **describes a direction** itself."
   ]
  },
  {
   "cell_type": "markdown",
   "id": "486aa25a",
   "metadata": {},
   "source": [
    "**in data minig**, it's important to **have a distinction between the different scales** in our mind **when we're applying the advanced statistics tests to the different algorthems**."
   ]
  },
  {
   "cell_type": "markdown",
   "id": "e2036058",
   "metadata": {},
   "source": [
    "# 3. Ordinal Scales :"
   ]
  },
  {
   "cell_type": "markdown",
   "id": "38dfb7f2",
   "metadata": {},
   "source": [
    "**in ordinal scale** :\n",
    "\n",
    "* **the order of units (or values) is important** but the **differences between values are not equally spaced**.\n",
    "* we can **create an oridinal object (or an ordered categorical object)** with **passing a category and setting the ordered parameter** into the __True__ value in **CategoricalDtype() class**.\n",
    "* we can use a certain serie of **mathematical operations like max, min, and etc on the original object**.\n",
    "* a good example for ordinal scales is :\n",
    "* **letter grades** such as A-, A, A+.\n",
    "* **the human evolution process**."
   ]
  },
  {
   "cell_type": "markdown",
   "id": "f825fe92",
   "metadata": {},
   "source": [
    "**oridinal scale is very common in machine learning** and sometimes it's can be a bit of challenge to work with."
   ]
  },
  {
   "cell_type": "markdown",
   "id": "3db39e68",
   "metadata": {},
   "source": [
    "# 4. Nominal Scales (or Categorical Data) :"
   ]
  },
  {
   "cell_type": "markdown",
   "id": "29eac8fa",
   "metadata": {},
   "source": [
    "**in nominal scale** :\n",
    "\n",
    "* there are **categories of data** that **have no order with respect to the other categories**.\n",
    "* a good example for nominal scale is **the teams of a sport**.\n",
    "* **changing their order** with a mathematical function is **meaningless**.\n",
    "* **categorical values are very common** and we generally **refer to categories** where there are **2 only possible values as binary categories**."
   ]
  },
  {
   "cell_type": "code",
   "execution_count": 5,
   "id": "b532dd14",
   "metadata": {},
   "outputs": [],
   "source": [
    "import pandas as pd\n",
    "import numpy as np"
   ]
  },
  {
   "cell_type": "code",
   "execution_count": 9,
   "id": "f39028db",
   "metadata": {},
   "outputs": [
    {
     "data": {
      "text/html": [
       "<div>\n",
       "<style scoped>\n",
       "    .dataframe tbody tr th:only-of-type {\n",
       "        vertical-align: middle;\n",
       "    }\n",
       "\n",
       "    .dataframe tbody tr th {\n",
       "        vertical-align: top;\n",
       "    }\n",
       "\n",
       "    .dataframe thead th {\n",
       "        text-align: right;\n",
       "    }\n",
       "</style>\n",
       "<table border=\"1\" class=\"dataframe\">\n",
       "  <thead>\n",
       "    <tr style=\"text-align: right;\">\n",
       "      <th></th>\n",
       "      <th>grades</th>\n",
       "    </tr>\n",
       "  </thead>\n",
       "  <tbody>\n",
       "    <tr>\n",
       "      <th>excellent</th>\n",
       "      <td>A+</td>\n",
       "    </tr>\n",
       "    <tr>\n",
       "      <th>excellent</th>\n",
       "      <td>A</td>\n",
       "    </tr>\n",
       "    <tr>\n",
       "      <th>excellent</th>\n",
       "      <td>A-</td>\n",
       "    </tr>\n",
       "    <tr>\n",
       "      <th>good</th>\n",
       "      <td>B+</td>\n",
       "    </tr>\n",
       "    <tr>\n",
       "      <th>good</th>\n",
       "      <td>B</td>\n",
       "    </tr>\n",
       "    <tr>\n",
       "      <th>good</th>\n",
       "      <td>B-</td>\n",
       "    </tr>\n",
       "    <tr>\n",
       "      <th>ok</th>\n",
       "      <td>C+</td>\n",
       "    </tr>\n",
       "    <tr>\n",
       "      <th>ok</th>\n",
       "      <td>C</td>\n",
       "    </tr>\n",
       "    <tr>\n",
       "      <th>ok</th>\n",
       "      <td>C-</td>\n",
       "    </tr>\n",
       "    <tr>\n",
       "      <th>poor</th>\n",
       "      <td>D+</td>\n",
       "    </tr>\n",
       "    <tr>\n",
       "      <th>poor</th>\n",
       "      <td>D</td>\n",
       "    </tr>\n",
       "    <tr>\n",
       "      <th>poor</th>\n",
       "      <td>D-</td>\n",
       "    </tr>\n",
       "  </tbody>\n",
       "</table>\n",
       "</div>"
      ],
      "text/plain": [
       "          grades\n",
       "excellent     A+\n",
       "excellent      A\n",
       "excellent     A-\n",
       "good          B+\n",
       "good           B\n",
       "good          B-\n",
       "ok            C+\n",
       "ok             C\n",
       "ok            C-\n",
       "poor          D+\n",
       "poor           D\n",
       "poor          D-"
      ]
     },
     "execution_count": 9,
     "metadata": {},
     "output_type": "execute_result"
    }
   ],
   "source": [
    "df = pd.DataFrame(['A+','A', 'A-', 'B+', 'B', 'B-',\n",
    "                  'C+', 'C', 'C-', 'D+', 'D', 'D-'],\n",
    "                 index= ['excellent', 'excellent', 'excellent',\n",
    "                        'good', 'good', 'good', 'ok', 'ok', 'ok',\n",
    "                        'poor', 'poor', 'poor'])\n",
    "df.columns = [\"grades\"]\n",
    "df"
   ]
  },
  {
   "cell_type": "markdown",
   "id": "c8d58000",
   "metadata": {},
   "source": [
    "if we check the datatype of this column, we see that it's just an object, since we set string values for a column."
   ]
  },
  {
   "cell_type": "code",
   "execution_count": 22,
   "id": "6ad6b3ec",
   "metadata": {},
   "outputs": [
    {
     "data": {
      "text/plain": [
       "grades    object\n",
       "dtype: object"
      ]
     },
     "execution_count": 22,
     "metadata": {},
     "output_type": "execute_result"
    }
   ],
   "source": [
    "df.dtypes"
   ]
  },
  {
   "cell_type": "code",
   "execution_count": null,
   "id": "9f796081",
   "metadata": {},
   "outputs": [],
   "source": []
  },
  {
   "cell_type": "markdown",
   "id": "fb7c9c5e",
   "metadata": {},
   "source": [
    "with __.astype()__, we can **change the type of a dataframe or a series object to our arbitrary type** we are interested in.\n",
    "\n",
    "we can change **the type of below series object to the categorical type** with **passing category__ to the .astype() method**."
   ]
  },
  {
   "cell_type": "code",
   "execution_count": 23,
   "id": "4ec9ef90",
   "metadata": {},
   "outputs": [
    {
     "data": {
      "text/plain": [
       "pandas.core.series.Series"
      ]
     },
     "execution_count": 23,
     "metadata": {},
     "output_type": "execute_result"
    }
   ],
   "source": [
    "type(df[\"grades\"].astype(\"category\"))"
   ]
  },
  {
   "cell_type": "code",
   "execution_count": 59,
   "id": "2fdfbeb3",
   "metadata": {},
   "outputs": [
    {
     "data": {
      "text/plain": [
       "excellent    A+\n",
       "excellent     A\n",
       "excellent    A-\n",
       "good         B+\n",
       "good          B\n",
       "good         B-\n",
       "ok           C+\n",
       "ok            C\n",
       "ok           C-\n",
       "poor         D+\n",
       "poor          D\n",
       "poor         D-\n",
       "Name: grades, dtype: category\n",
       "Categories (12, object): ['A', 'A+', 'A-', 'B', ..., 'C-', 'D', 'D+', 'D-']"
      ]
     },
     "execution_count": 59,
     "metadata": {},
     "output_type": "execute_result"
    }
   ],
   "source": [
    "df[\"grades\"].astype(\"category\")"
   ]
  },
  {
   "cell_type": "markdown",
   "id": "0cfc3168",
   "metadata": {},
   "source": [
    "We see now that there are twelve categories, and pandas is aware of what those categories are. More interesting though is that our data isn't just categorical, but that it's ordered, but that it's ordered. That is, an A- comes after a B+, and B comes before a B+."
   ]
  },
  {
   "cell_type": "code",
   "execution_count": null,
   "id": "3ad1247b",
   "metadata": {},
   "outputs": [],
   "source": []
  },
  {
   "cell_type": "markdown",
   "id": "5b512734",
   "metadata": {},
   "source": [
    "we can __create a categorical object (or a nominal object)__ with **passing a category into the CategoricalDtype() class**."
   ]
  },
  {
   "cell_type": "code",
   "execution_count": 55,
   "id": "5877b7be",
   "metadata": {},
   "outputs": [
    {
     "name": "stdout",
     "output_type": "stream",
     "text": [
      "<class 'pandas.core.dtypes.dtypes.CategoricalDtype'>\n"
     ]
    }
   ],
   "source": [
    "categorical_object = pd.CategoricalDtype(categories= ['D-', 'D', 'D+',\n",
    "                                                   'C-', 'C', 'C+',\n",
    "                                                   'B-', 'B', 'B+',\n",
    "                                                   'A-', 'A', 'A+'])\n",
    "print(type(categorical_object))"
   ]
  },
  {
   "cell_type": "code",
   "execution_count": 56,
   "id": "68bf8687",
   "metadata": {},
   "outputs": [
    {
     "data": {
      "text/plain": [
       "excellent    A+\n",
       "excellent     A\n",
       "excellent    A-\n",
       "good         B+\n",
       "good          B\n",
       "good         B-\n",
       "ok           C+\n",
       "ok            C\n",
       "ok           C-\n",
       "poor         D+\n",
       "poor          D\n",
       "poor         D-\n",
       "Name: grades, dtype: category\n",
       "Categories (12, object): ['D-', 'D', 'D+', 'C-', ..., 'B+', 'A-', 'A', 'A+']"
      ]
     },
     "execution_count": 56,
     "metadata": {},
     "output_type": "execute_result"
    }
   ],
   "source": [
    "categorical_series = df[\"grades\"].astype(categorical_object)\n",
    "categorical_series"
   ]
  },
  {
   "cell_type": "code",
   "execution_count": null,
   "id": "f0336109",
   "metadata": {},
   "outputs": [],
   "source": []
  },
  {
   "cell_type": "markdown",
   "id": "e9aee279",
   "metadata": {},
   "source": [
    "we can **create an ordinal object (or an ordered categorical object)** with __.CategoricalDtype() class__. "
   ]
  },
  {
   "cell_type": "code",
   "execution_count": 38,
   "id": "49180701",
   "metadata": {},
   "outputs": [
    {
     "name": "stdout",
     "output_type": "stream",
     "text": [
      "<class 'pandas.core.dtypes.dtypes.CategoricalDtype'>\n"
     ]
    }
   ],
   "source": [
    "ordinal_object = pd.CategoricalDtype(categories= ['D-', 'D', 'D+',\n",
    "                                                   'C-', 'C', 'C+',\n",
    "                                                   'B-', 'B', 'B+',\n",
    "                                                   'A-', 'A', 'A+'],\n",
    "                                          ordered= True) \n",
    "print(type(ordinal_object))"
   ]
  },
  {
   "cell_type": "code",
   "execution_count": 50,
   "id": "0b656b7d",
   "metadata": {},
   "outputs": [
    {
     "data": {
      "text/plain": [
       "excellent    A+\n",
       "excellent     A\n",
       "excellent    A-\n",
       "good         B+\n",
       "good          B\n",
       "good         B-\n",
       "ok           C+\n",
       "ok            C\n",
       "ok           C-\n",
       "poor         D+\n",
       "poor          D\n",
       "poor         D-\n",
       "Name: grades, dtype: category\n",
       "Categories (12, object): ['D-' < 'D' < 'D+' < 'C-' ... 'B+' < 'A-' < 'A' < 'A+']"
      ]
     },
     "execution_count": 50,
     "metadata": {},
     "output_type": "execute_result"
    }
   ],
   "source": [
    "ordinal_series = df[\"grades\"].astype(ordinal_object)\n",
    "ordinal_series"
   ]
  },
  {
   "cell_type": "markdown",
   "id": "08e4d3bd",
   "metadata": {},
   "source": [
    "Now we see that pandas is not only aware that there are 12 categories, but it is also aware of the order of those categoreies.\n",
    "\n",
    "So, **what can we do with an ordinal series or a ordinal dataframe object?** \n",
    "Well because **there is an ordering, this can help us with comparisons and boolean masking**."
   ]
  },
  {
   "cell_type": "code",
   "execution_count": null,
   "id": "6b13f597",
   "metadata": {},
   "outputs": [],
   "source": []
  },
  {
   "cell_type": "markdown",
   "id": "8a10e2d8",
   "metadata": {},
   "source": [
    "in the following cases, **we don't have an ordered categorical dataframe or series (or an ordinal series or dataframe)**."
   ]
  },
  {
   "cell_type": "markdown",
   "id": "3234cbbf",
   "metadata": {},
   "source": [
    "For instance, if we have a list of our grades and we compare them to a “C” we see that the lexicographical comparison returns results we were not intending because we don't have an ordered categorical dataframe or a series object here."
   ]
  },
  {
   "cell_type": "code",
   "execution_count": 51,
   "id": "b961af2f",
   "metadata": {},
   "outputs": [
    {
     "data": {
      "text/html": [
       "<div>\n",
       "<style scoped>\n",
       "    .dataframe tbody tr th:only-of-type {\n",
       "        vertical-align: middle;\n",
       "    }\n",
       "\n",
       "    .dataframe tbody tr th {\n",
       "        vertical-align: top;\n",
       "    }\n",
       "\n",
       "    .dataframe thead th {\n",
       "        text-align: right;\n",
       "    }\n",
       "</style>\n",
       "<table border=\"1\" class=\"dataframe\">\n",
       "  <thead>\n",
       "    <tr style=\"text-align: right;\">\n",
       "      <th></th>\n",
       "      <th>grades</th>\n",
       "    </tr>\n",
       "  </thead>\n",
       "  <tbody>\n",
       "    <tr>\n",
       "      <th>ok</th>\n",
       "      <td>C+</td>\n",
       "    </tr>\n",
       "    <tr>\n",
       "      <th>ok</th>\n",
       "      <td>C-</td>\n",
       "    </tr>\n",
       "    <tr>\n",
       "      <th>poor</th>\n",
       "      <td>D+</td>\n",
       "    </tr>\n",
       "    <tr>\n",
       "      <th>poor</th>\n",
       "      <td>D</td>\n",
       "    </tr>\n",
       "    <tr>\n",
       "      <th>poor</th>\n",
       "      <td>D-</td>\n",
       "    </tr>\n",
       "  </tbody>\n",
       "</table>\n",
       "</div>"
      ],
      "text/plain": [
       "     grades\n",
       "ok       C+\n",
       "ok       C-\n",
       "poor     D+\n",
       "poor      D\n",
       "poor     D-"
      ]
     },
     "execution_count": 51,
     "metadata": {},
     "output_type": "execute_result"
    }
   ],
   "source": [
    "df[df[\"grades\"]> 'C'] # series"
   ]
  },
  {
   "cell_type": "code",
   "execution_count": 53,
   "id": "a97902cd",
   "metadata": {
    "scrolled": true
   },
   "outputs": [
    {
     "ename": "TypeError",
     "evalue": "Unordered Categoricals can only compare equality or not",
     "output_type": "error",
     "traceback": [
      "\u001b[1;31m---------------------------------------------------------------------------\u001b[0m",
      "\u001b[1;31mTypeError\u001b[0m                                 Traceback (most recent call last)",
      "\u001b[1;32mC:\\Users\\IRANIN~1\\AppData\\Local\\Temp/ipykernel_17092/789836615.py\u001b[0m in \u001b[0;36m<module>\u001b[1;34m\u001b[0m\n\u001b[1;32m----> 1\u001b[1;33m \u001b[0mcategorical_df\u001b[0m\u001b[1;33m[\u001b[0m\u001b[0mcategorical_df\u001b[0m \u001b[1;33m>\u001b[0m \u001b[1;34m'C'\u001b[0m\u001b[1;33m]\u001b[0m \u001b[1;31m# categorical series (or nominal seires)\u001b[0m\u001b[1;33m\u001b[0m\u001b[1;33m\u001b[0m\u001b[0m\n\u001b[0m",
      "\u001b[1;32mF:\\programs\\Anaconda\\lib\\site-packages\\pandas\\core\\ops\\common.py\u001b[0m in \u001b[0;36mnew_method\u001b[1;34m(self, other)\u001b[0m\n\u001b[0;32m     67\u001b[0m         \u001b[0mother\u001b[0m \u001b[1;33m=\u001b[0m \u001b[0mitem_from_zerodim\u001b[0m\u001b[1;33m(\u001b[0m\u001b[0mother\u001b[0m\u001b[1;33m)\u001b[0m\u001b[1;33m\u001b[0m\u001b[1;33m\u001b[0m\u001b[0m\n\u001b[0;32m     68\u001b[0m \u001b[1;33m\u001b[0m\u001b[0m\n\u001b[1;32m---> 69\u001b[1;33m         \u001b[1;32mreturn\u001b[0m \u001b[0mmethod\u001b[0m\u001b[1;33m(\u001b[0m\u001b[0mself\u001b[0m\u001b[1;33m,\u001b[0m \u001b[0mother\u001b[0m\u001b[1;33m)\u001b[0m\u001b[1;33m\u001b[0m\u001b[1;33m\u001b[0m\u001b[0m\n\u001b[0m\u001b[0;32m     70\u001b[0m \u001b[1;33m\u001b[0m\u001b[0m\n\u001b[0;32m     71\u001b[0m     \u001b[1;32mreturn\u001b[0m \u001b[0mnew_method\u001b[0m\u001b[1;33m\u001b[0m\u001b[1;33m\u001b[0m\u001b[0m\n",
      "\u001b[1;32mF:\\programs\\Anaconda\\lib\\site-packages\\pandas\\core\\arraylike.py\u001b[0m in \u001b[0;36m__gt__\u001b[1;34m(self, other)\u001b[0m\n\u001b[0;32m     46\u001b[0m     \u001b[1;33m@\u001b[0m\u001b[0munpack_zerodim_and_defer\u001b[0m\u001b[1;33m(\u001b[0m\u001b[1;34m\"__gt__\"\u001b[0m\u001b[1;33m)\u001b[0m\u001b[1;33m\u001b[0m\u001b[1;33m\u001b[0m\u001b[0m\n\u001b[0;32m     47\u001b[0m     \u001b[1;32mdef\u001b[0m \u001b[0m__gt__\u001b[0m\u001b[1;33m(\u001b[0m\u001b[0mself\u001b[0m\u001b[1;33m,\u001b[0m \u001b[0mother\u001b[0m\u001b[1;33m)\u001b[0m\u001b[1;33m:\u001b[0m\u001b[1;33m\u001b[0m\u001b[1;33m\u001b[0m\u001b[0m\n\u001b[1;32m---> 48\u001b[1;33m         \u001b[1;32mreturn\u001b[0m \u001b[0mself\u001b[0m\u001b[1;33m.\u001b[0m\u001b[0m_cmp_method\u001b[0m\u001b[1;33m(\u001b[0m\u001b[0mother\u001b[0m\u001b[1;33m,\u001b[0m \u001b[0moperator\u001b[0m\u001b[1;33m.\u001b[0m\u001b[0mgt\u001b[0m\u001b[1;33m)\u001b[0m\u001b[1;33m\u001b[0m\u001b[1;33m\u001b[0m\u001b[0m\n\u001b[0m\u001b[0;32m     49\u001b[0m \u001b[1;33m\u001b[0m\u001b[0m\n\u001b[0;32m     50\u001b[0m     \u001b[1;33m@\u001b[0m\u001b[0munpack_zerodim_and_defer\u001b[0m\u001b[1;33m(\u001b[0m\u001b[1;34m\"__ge__\"\u001b[0m\u001b[1;33m)\u001b[0m\u001b[1;33m\u001b[0m\u001b[1;33m\u001b[0m\u001b[0m\n",
      "\u001b[1;32mF:\\programs\\Anaconda\\lib\\site-packages\\pandas\\core\\series.py\u001b[0m in \u001b[0;36m_cmp_method\u001b[1;34m(self, other, op)\u001b[0m\n\u001b[0;32m   5500\u001b[0m \u001b[1;33m\u001b[0m\u001b[0m\n\u001b[0;32m   5501\u001b[0m         \u001b[1;32mwith\u001b[0m \u001b[0mnp\u001b[0m\u001b[1;33m.\u001b[0m\u001b[0merrstate\u001b[0m\u001b[1;33m(\u001b[0m\u001b[0mall\u001b[0m\u001b[1;33m=\u001b[0m\u001b[1;34m\"ignore\"\u001b[0m\u001b[1;33m)\u001b[0m\u001b[1;33m:\u001b[0m\u001b[1;33m\u001b[0m\u001b[1;33m\u001b[0m\u001b[0m\n\u001b[1;32m-> 5502\u001b[1;33m             \u001b[0mres_values\u001b[0m \u001b[1;33m=\u001b[0m \u001b[0mops\u001b[0m\u001b[1;33m.\u001b[0m\u001b[0mcomparison_op\u001b[0m\u001b[1;33m(\u001b[0m\u001b[0mlvalues\u001b[0m\u001b[1;33m,\u001b[0m \u001b[0mrvalues\u001b[0m\u001b[1;33m,\u001b[0m \u001b[0mop\u001b[0m\u001b[1;33m)\u001b[0m\u001b[1;33m\u001b[0m\u001b[1;33m\u001b[0m\u001b[0m\n\u001b[0m\u001b[0;32m   5503\u001b[0m \u001b[1;33m\u001b[0m\u001b[0m\n\u001b[0;32m   5504\u001b[0m         \u001b[1;32mreturn\u001b[0m \u001b[0mself\u001b[0m\u001b[1;33m.\u001b[0m\u001b[0m_construct_result\u001b[0m\u001b[1;33m(\u001b[0m\u001b[0mres_values\u001b[0m\u001b[1;33m,\u001b[0m \u001b[0mname\u001b[0m\u001b[1;33m=\u001b[0m\u001b[0mres_name\u001b[0m\u001b[1;33m)\u001b[0m\u001b[1;33m\u001b[0m\u001b[1;33m\u001b[0m\u001b[0m\n",
      "\u001b[1;32mF:\\programs\\Anaconda\\lib\\site-packages\\pandas\\core\\ops\\array_ops.py\u001b[0m in \u001b[0;36mcomparison_op\u001b[1;34m(left, right, op)\u001b[0m\n\u001b[0;32m    268\u001b[0m     ):\n\u001b[0;32m    269\u001b[0m         \u001b[1;31m# Call the method on lvalues\u001b[0m\u001b[1;33m\u001b[0m\u001b[1;33m\u001b[0m\u001b[0m\n\u001b[1;32m--> 270\u001b[1;33m         \u001b[0mres_values\u001b[0m \u001b[1;33m=\u001b[0m \u001b[0mop\u001b[0m\u001b[1;33m(\u001b[0m\u001b[0mlvalues\u001b[0m\u001b[1;33m,\u001b[0m \u001b[0mrvalues\u001b[0m\u001b[1;33m)\u001b[0m\u001b[1;33m\u001b[0m\u001b[1;33m\u001b[0m\u001b[0m\n\u001b[0m\u001b[0;32m    271\u001b[0m \u001b[1;33m\u001b[0m\u001b[0m\n\u001b[0;32m    272\u001b[0m     \u001b[1;32melif\u001b[0m \u001b[0mis_scalar\u001b[0m\u001b[1;33m(\u001b[0m\u001b[0mrvalues\u001b[0m\u001b[1;33m)\u001b[0m \u001b[1;32mand\u001b[0m \u001b[0misna\u001b[0m\u001b[1;33m(\u001b[0m\u001b[0mrvalues\u001b[0m\u001b[1;33m)\u001b[0m\u001b[1;33m:\u001b[0m\u001b[1;33m\u001b[0m\u001b[1;33m\u001b[0m\u001b[0m\n",
      "\u001b[1;32mF:\\programs\\Anaconda\\lib\\site-packages\\pandas\\core\\ops\\common.py\u001b[0m in \u001b[0;36mnew_method\u001b[1;34m(self, other)\u001b[0m\n\u001b[0;32m     67\u001b[0m         \u001b[0mother\u001b[0m \u001b[1;33m=\u001b[0m \u001b[0mitem_from_zerodim\u001b[0m\u001b[1;33m(\u001b[0m\u001b[0mother\u001b[0m\u001b[1;33m)\u001b[0m\u001b[1;33m\u001b[0m\u001b[1;33m\u001b[0m\u001b[0m\n\u001b[0;32m     68\u001b[0m \u001b[1;33m\u001b[0m\u001b[0m\n\u001b[1;32m---> 69\u001b[1;33m         \u001b[1;32mreturn\u001b[0m \u001b[0mmethod\u001b[0m\u001b[1;33m(\u001b[0m\u001b[0mself\u001b[0m\u001b[1;33m,\u001b[0m \u001b[0mother\u001b[0m\u001b[1;33m)\u001b[0m\u001b[1;33m\u001b[0m\u001b[1;33m\u001b[0m\u001b[0m\n\u001b[0m\u001b[0;32m     70\u001b[0m \u001b[1;33m\u001b[0m\u001b[0m\n\u001b[0;32m     71\u001b[0m     \u001b[1;32mreturn\u001b[0m \u001b[0mnew_method\u001b[0m\u001b[1;33m\u001b[0m\u001b[1;33m\u001b[0m\u001b[0m\n",
      "\u001b[1;32mF:\\programs\\Anaconda\\lib\\site-packages\\pandas\\core\\arrays\\categorical.py\u001b[0m in \u001b[0;36mfunc\u001b[1;34m(self, other)\u001b[0m\n\u001b[0;32m    135\u001b[0m         \u001b[1;32mif\u001b[0m \u001b[1;32mnot\u001b[0m \u001b[0mself\u001b[0m\u001b[1;33m.\u001b[0m\u001b[0mordered\u001b[0m\u001b[1;33m:\u001b[0m\u001b[1;33m\u001b[0m\u001b[1;33m\u001b[0m\u001b[0m\n\u001b[0;32m    136\u001b[0m             \u001b[1;32mif\u001b[0m \u001b[0mopname\u001b[0m \u001b[1;32min\u001b[0m \u001b[1;33m[\u001b[0m\u001b[1;34m\"__lt__\"\u001b[0m\u001b[1;33m,\u001b[0m \u001b[1;34m\"__gt__\"\u001b[0m\u001b[1;33m,\u001b[0m \u001b[1;34m\"__le__\"\u001b[0m\u001b[1;33m,\u001b[0m \u001b[1;34m\"__ge__\"\u001b[0m\u001b[1;33m]\u001b[0m\u001b[1;33m:\u001b[0m\u001b[1;33m\u001b[0m\u001b[1;33m\u001b[0m\u001b[0m\n\u001b[1;32m--> 137\u001b[1;33m                 raise TypeError(\n\u001b[0m\u001b[0;32m    138\u001b[0m                     \u001b[1;34m\"Unordered Categoricals can only compare equality or not\"\u001b[0m\u001b[1;33m\u001b[0m\u001b[1;33m\u001b[0m\u001b[0m\n\u001b[0;32m    139\u001b[0m                 )\n",
      "\u001b[1;31mTypeError\u001b[0m: Unordered Categoricals can only compare equality or not"
     ]
    }
   ],
   "source": [
    "categorical_df[categorical_df > 'C'] # categorical series (or nominal seires)"
   ]
  },
  {
   "cell_type": "markdown",
   "id": "ac6fb5f8",
   "metadata": {},
   "source": [
    "if we broadcast over the dataframe which has the type set to an ordered categorical, we can solve this problem."
   ]
  },
  {
   "cell_type": "code",
   "execution_count": 54,
   "id": "46b39269",
   "metadata": {},
   "outputs": [
    {
     "data": {
      "text/plain": [
       "excellent    A+\n",
       "excellent     A\n",
       "excellent    A-\n",
       "good         B+\n",
       "good          B\n",
       "good         B-\n",
       "ok           C+\n",
       "Name: grades, dtype: category\n",
       "Categories (12, object): ['D-' < 'D' < 'D+' < 'C-' ... 'B+' < 'A-' < 'A' < 'A+']"
      ]
     },
     "execution_count": 54,
     "metadata": {},
     "output_type": "execute_result"
    }
   ],
   "source": [
    "ordinal_series[ordinal_series > 'C']"
   ]
  },
  {
   "cell_type": "code",
   "execution_count": null,
   "id": "da9b55b9",
   "metadata": {},
   "outputs": [],
   "source": []
  },
  {
   "cell_type": "code",
   "execution_count": null,
   "id": "a3c2cf8b",
   "metadata": {},
   "outputs": [],
   "source": []
  },
  {
   "cell_type": "markdown",
   "id": "6a570c18",
   "metadata": {},
   "source": [
    "**Sometimes it is useful to represent categorical values** as __each__ being a **column with a true or a false** as to whether the category applies. This is especially common in **feature extraction**, which is a topic in the data mining course. \n",
    "\n",
    "**Variables with a boolean value** are typically called **dummy variables**, and **pandas has a builtin function** called **.get_dummies()** which **considers each value of a column we are interested in as a single column, and fill it with zeros and ones** indicating the **presence of the dummy variable**."
   ]
  },
  {
   "cell_type": "code",
   "execution_count": 60,
   "id": "747966d9",
   "metadata": {},
   "outputs": [
    {
     "data": {
      "text/html": [
       "<div>\n",
       "<style scoped>\n",
       "    .dataframe tbody tr th:only-of-type {\n",
       "        vertical-align: middle;\n",
       "    }\n",
       "\n",
       "    .dataframe tbody tr th {\n",
       "        vertical-align: top;\n",
       "    }\n",
       "\n",
       "    .dataframe thead th {\n",
       "        text-align: right;\n",
       "    }\n",
       "</style>\n",
       "<table border=\"1\" class=\"dataframe\">\n",
       "  <thead>\n",
       "    <tr style=\"text-align: right;\">\n",
       "      <th></th>\n",
       "      <th>A</th>\n",
       "      <th>A+</th>\n",
       "      <th>A-</th>\n",
       "      <th>B</th>\n",
       "      <th>B+</th>\n",
       "      <th>B-</th>\n",
       "      <th>C</th>\n",
       "      <th>C+</th>\n",
       "      <th>C-</th>\n",
       "      <th>D</th>\n",
       "      <th>D+</th>\n",
       "      <th>D-</th>\n",
       "    </tr>\n",
       "  </thead>\n",
       "  <tbody>\n",
       "    <tr>\n",
       "      <th>excellent</th>\n",
       "      <td>0</td>\n",
       "      <td>1</td>\n",
       "      <td>0</td>\n",
       "      <td>0</td>\n",
       "      <td>0</td>\n",
       "      <td>0</td>\n",
       "      <td>0</td>\n",
       "      <td>0</td>\n",
       "      <td>0</td>\n",
       "      <td>0</td>\n",
       "      <td>0</td>\n",
       "      <td>0</td>\n",
       "    </tr>\n",
       "    <tr>\n",
       "      <th>excellent</th>\n",
       "      <td>1</td>\n",
       "      <td>0</td>\n",
       "      <td>0</td>\n",
       "      <td>0</td>\n",
       "      <td>0</td>\n",
       "      <td>0</td>\n",
       "      <td>0</td>\n",
       "      <td>0</td>\n",
       "      <td>0</td>\n",
       "      <td>0</td>\n",
       "      <td>0</td>\n",
       "      <td>0</td>\n",
       "    </tr>\n",
       "    <tr>\n",
       "      <th>excellent</th>\n",
       "      <td>0</td>\n",
       "      <td>0</td>\n",
       "      <td>1</td>\n",
       "      <td>0</td>\n",
       "      <td>0</td>\n",
       "      <td>0</td>\n",
       "      <td>0</td>\n",
       "      <td>0</td>\n",
       "      <td>0</td>\n",
       "      <td>0</td>\n",
       "      <td>0</td>\n",
       "      <td>0</td>\n",
       "    </tr>\n",
       "    <tr>\n",
       "      <th>good</th>\n",
       "      <td>0</td>\n",
       "      <td>0</td>\n",
       "      <td>0</td>\n",
       "      <td>0</td>\n",
       "      <td>1</td>\n",
       "      <td>0</td>\n",
       "      <td>0</td>\n",
       "      <td>0</td>\n",
       "      <td>0</td>\n",
       "      <td>0</td>\n",
       "      <td>0</td>\n",
       "      <td>0</td>\n",
       "    </tr>\n",
       "    <tr>\n",
       "      <th>good</th>\n",
       "      <td>0</td>\n",
       "      <td>0</td>\n",
       "      <td>0</td>\n",
       "      <td>1</td>\n",
       "      <td>0</td>\n",
       "      <td>0</td>\n",
       "      <td>0</td>\n",
       "      <td>0</td>\n",
       "      <td>0</td>\n",
       "      <td>0</td>\n",
       "      <td>0</td>\n",
       "      <td>0</td>\n",
       "    </tr>\n",
       "    <tr>\n",
       "      <th>good</th>\n",
       "      <td>0</td>\n",
       "      <td>0</td>\n",
       "      <td>0</td>\n",
       "      <td>0</td>\n",
       "      <td>0</td>\n",
       "      <td>1</td>\n",
       "      <td>0</td>\n",
       "      <td>0</td>\n",
       "      <td>0</td>\n",
       "      <td>0</td>\n",
       "      <td>0</td>\n",
       "      <td>0</td>\n",
       "    </tr>\n",
       "    <tr>\n",
       "      <th>ok</th>\n",
       "      <td>0</td>\n",
       "      <td>0</td>\n",
       "      <td>0</td>\n",
       "      <td>0</td>\n",
       "      <td>0</td>\n",
       "      <td>0</td>\n",
       "      <td>0</td>\n",
       "      <td>1</td>\n",
       "      <td>0</td>\n",
       "      <td>0</td>\n",
       "      <td>0</td>\n",
       "      <td>0</td>\n",
       "    </tr>\n",
       "    <tr>\n",
       "      <th>ok</th>\n",
       "      <td>0</td>\n",
       "      <td>0</td>\n",
       "      <td>0</td>\n",
       "      <td>0</td>\n",
       "      <td>0</td>\n",
       "      <td>0</td>\n",
       "      <td>1</td>\n",
       "      <td>0</td>\n",
       "      <td>0</td>\n",
       "      <td>0</td>\n",
       "      <td>0</td>\n",
       "      <td>0</td>\n",
       "    </tr>\n",
       "    <tr>\n",
       "      <th>ok</th>\n",
       "      <td>0</td>\n",
       "      <td>0</td>\n",
       "      <td>0</td>\n",
       "      <td>0</td>\n",
       "      <td>0</td>\n",
       "      <td>0</td>\n",
       "      <td>0</td>\n",
       "      <td>0</td>\n",
       "      <td>1</td>\n",
       "      <td>0</td>\n",
       "      <td>0</td>\n",
       "      <td>0</td>\n",
       "    </tr>\n",
       "    <tr>\n",
       "      <th>poor</th>\n",
       "      <td>0</td>\n",
       "      <td>0</td>\n",
       "      <td>0</td>\n",
       "      <td>0</td>\n",
       "      <td>0</td>\n",
       "      <td>0</td>\n",
       "      <td>0</td>\n",
       "      <td>0</td>\n",
       "      <td>0</td>\n",
       "      <td>0</td>\n",
       "      <td>1</td>\n",
       "      <td>0</td>\n",
       "    </tr>\n",
       "    <tr>\n",
       "      <th>poor</th>\n",
       "      <td>0</td>\n",
       "      <td>0</td>\n",
       "      <td>0</td>\n",
       "      <td>0</td>\n",
       "      <td>0</td>\n",
       "      <td>0</td>\n",
       "      <td>0</td>\n",
       "      <td>0</td>\n",
       "      <td>0</td>\n",
       "      <td>1</td>\n",
       "      <td>0</td>\n",
       "      <td>0</td>\n",
       "    </tr>\n",
       "    <tr>\n",
       "      <th>poor</th>\n",
       "      <td>0</td>\n",
       "      <td>0</td>\n",
       "      <td>0</td>\n",
       "      <td>0</td>\n",
       "      <td>0</td>\n",
       "      <td>0</td>\n",
       "      <td>0</td>\n",
       "      <td>0</td>\n",
       "      <td>0</td>\n",
       "      <td>0</td>\n",
       "      <td>0</td>\n",
       "      <td>1</td>\n",
       "    </tr>\n",
       "  </tbody>\n",
       "</table>\n",
       "</div>"
      ],
      "text/plain": [
       "           A  A+  A-  B  B+  B-  C  C+  C-  D  D+  D-\n",
       "excellent  0   1   0  0   0   0  0   0   0  0   0   0\n",
       "excellent  1   0   0  0   0   0  0   0   0  0   0   0\n",
       "excellent  0   0   1  0   0   0  0   0   0  0   0   0\n",
       "good       0   0   0  0   1   0  0   0   0  0   0   0\n",
       "good       0   0   0  1   0   0  0   0   0  0   0   0\n",
       "good       0   0   0  0   0   1  0   0   0  0   0   0\n",
       "ok         0   0   0  0   0   0  0   1   0  0   0   0\n",
       "ok         0   0   0  0   0   0  1   0   0  0   0   0\n",
       "ok         0   0   0  0   0   0  0   0   1  0   0   0\n",
       "poor       0   0   0  0   0   0  0   0   0  0   1   0\n",
       "poor       0   0   0  0   0   0  0   0   0  1   0   0\n",
       "poor       0   0   0  0   0   0  0   0   0  0   0   1"
      ]
     },
     "execution_count": 60,
     "metadata": {},
     "output_type": "execute_result"
    }
   ],
   "source": [
    "pd.get_dummies(df[\"grades\"])"
   ]
  },
  {
   "cell_type": "code",
   "execution_count": null,
   "id": "a20ec4d5",
   "metadata": {},
   "outputs": [],
   "source": []
  },
  {
   "cell_type": "markdown",
   "id": "4325f2b5",
   "metadata": {},
   "source": [
    "There’s one more common scale-based operation I’d like to talk about, and that’s on **converting** a scale from something that is on **the interval or ratio scale, like a numeric grade, into** one which is **categorical**. \n",
    "\n",
    "**where can we use this ?**\n",
    "\n",
    "it’s commonly done in a couple of places. For instance:\n",
    "* if we are **visualizing the frequencies of categories**, this can be an extremely useful approach.\n",
    "* **histograms are regularly used** with converted interval or ratio data. \n",
    "* if we are using a **machine learning classification approach** on data, we need to be **using categorical data**, so **reducing dimensionality may be useful just to apply a given technique**. \n",
    "\n",
    "**to convert the interval or ratio scale into the categorical scale**, we must use **.cut()** built-in function.\n",
    "\n",
    "Pandas has a function called **.cut()** which **takes** as an argument like **a column of a dataframe or a series**. It also **takes a number of bins** to be used, and **all bins are kept at equal spacing**."
   ]
  },
  {
   "cell_type": "markdown",
   "id": "7c1a3a54",
   "metadata": {},
   "source": [
    "Lets go back to our census data for an example. We saw that we could group by state, then aggregate to get a list of the average county size by state. If we further apply cut to this with, say, ten bins, we can see the states listed as categoricals using the average county size.\n"
   ]
  },
  {
   "cell_type": "code",
   "execution_count": 89,
   "id": "3fbea7cd",
   "metadata": {},
   "outputs": [
    {
     "data": {
      "text/plain": [
       "STNAME\n",
       "Alabama                  71339.343284\n",
       "Alaska                   24490.724138\n",
       "Arizona                 426134.466667\n",
       "Arkansas                 38878.906667\n",
       "California              642309.586207\n",
       "Colorado                 78581.187500\n",
       "Connecticut             446762.125000\n",
       "Delaware                299311.333333\n",
       "District of Columbia    601723.000000\n",
       "Florida                 280616.567164\n",
       "Georgia                  60928.635220\n",
       "Hawaii                  272060.200000\n",
       "Idaho                    35626.863636\n",
       "Illinois                125790.509804\n",
       "Indiana                  70476.108696\n",
       "Iowa                     30771.262626\n",
       "Kansas                   27172.552381\n",
       "Kentucky                 36161.391667\n",
       "Louisiana                70833.937500\n",
       "Maine                    83022.562500\n",
       "Maryland                240564.666667\n",
       "Massachusetts           467687.785714\n",
       "Michigan                119080.000000\n",
       "Minnesota                60964.655172\n",
       "Mississippi              36186.548780\n",
       "Missouri                 52077.626087\n",
       "Montana                  17668.125000\n",
       "Nebraska                 19638.075269\n",
       "Nevada                  158855.941176\n",
       "New Hampshire           131647.000000\n",
       "New Jersey              418661.619048\n",
       "New Mexico               62399.363636\n",
       "New York                312550.032258\n",
       "North Carolina           95354.830000\n",
       "North Dakota             12690.396226\n",
       "Ohio                    131096.636364\n",
       "Oklahoma                 48718.844156\n",
       "Oregon                  106418.722222\n",
       "Pennsylvania            189587.746269\n",
       "Rhode Island            210513.400000\n",
       "South Carolina          100551.391304\n",
       "South Dakota             12336.060606\n",
       "Tennessee                66801.105263\n",
       "Texas                    98998.271654\n",
       "Utah                     95306.379310\n",
       "Vermont                  44695.785714\n",
       "Virginia                 60111.293233\n",
       "Washington              172424.102564\n",
       "West Virginia            33690.800000\n",
       "Wisconsin                78985.916667\n",
       "Wyoming                  24505.478261\n",
       "Name: CENSUS2010POP, dtype: float64"
      ]
     },
     "execution_count": 89,
     "metadata": {},
     "output_type": "execute_result"
    }
   ],
   "source": [
    "df = pd.read_csv(\"datasets/census.csv\")\n",
    "\n",
    "df = df[df[\"SUMLEV\"] == 50]\n",
    "\n",
    "series = df.groupby(\"STNAME\")[\"CENSUS2010POP\"].agg(np.nanmean)\n",
    "series"
   ]
  },
  {
   "cell_type": "code",
   "execution_count": 88,
   "id": "6e963a24",
   "metadata": {},
   "outputs": [
    {
     "name": "stdout",
     "output_type": "stream",
     "text": [
      "642309.5862068966\n",
      "12336.060606060606\n"
     ]
    }
   ],
   "source": [
    "print(series.max())\n",
    "print(series.min())"
   ]
  },
  {
   "cell_type": "code",
   "execution_count": 91,
   "id": "794c3adb",
   "metadata": {},
   "outputs": [
    {
     "data": {
      "text/plain": [
       "STNAME\n",
       "Alabama                   (11706.087, 75333.413]\n",
       "Alaska                    (11706.087, 75333.413]\n",
       "Arizona                 (390320.176, 453317.529]\n",
       "Arkansas                  (11706.087, 75333.413]\n",
       "California              (579312.234, 642309.586]\n",
       "Colorado                 (75333.413, 138330.766]\n",
       "Connecticut             (390320.176, 453317.529]\n",
       "Delaware                (264325.471, 327322.823]\n",
       "District of Columbia    (579312.234, 642309.586]\n",
       "Florida                 (264325.471, 327322.823]\n",
       "Georgia                   (11706.087, 75333.413]\n",
       "Hawaii                  (264325.471, 327322.823]\n",
       "Idaho                     (11706.087, 75333.413]\n",
       "Illinois                 (75333.413, 138330.766]\n",
       "Indiana                   (11706.087, 75333.413]\n",
       "Iowa                      (11706.087, 75333.413]\n",
       "Kansas                    (11706.087, 75333.413]\n",
       "Kentucky                  (11706.087, 75333.413]\n",
       "Louisiana                 (11706.087, 75333.413]\n",
       "Maine                    (75333.413, 138330.766]\n",
       "Maryland                (201328.118, 264325.471]\n",
       "Massachusetts           (453317.529, 516314.881]\n",
       "Michigan                 (75333.413, 138330.766]\n",
       "Minnesota                 (11706.087, 75333.413]\n",
       "Mississippi               (11706.087, 75333.413]\n",
       "Missouri                  (11706.087, 75333.413]\n",
       "Montana                   (11706.087, 75333.413]\n",
       "Nebraska                  (11706.087, 75333.413]\n",
       "Nevada                  (138330.766, 201328.118]\n",
       "New Hampshire            (75333.413, 138330.766]\n",
       "New Jersey              (390320.176, 453317.529]\n",
       "New Mexico                (11706.087, 75333.413]\n",
       "New York                (264325.471, 327322.823]\n",
       "North Carolina           (75333.413, 138330.766]\n",
       "North Dakota              (11706.087, 75333.413]\n",
       "Ohio                     (75333.413, 138330.766]\n",
       "Oklahoma                  (11706.087, 75333.413]\n",
       "Oregon                   (75333.413, 138330.766]\n",
       "Pennsylvania            (138330.766, 201328.118]\n",
       "Rhode Island            (201328.118, 264325.471]\n",
       "South Carolina           (75333.413, 138330.766]\n",
       "South Dakota              (11706.087, 75333.413]\n",
       "Tennessee                 (11706.087, 75333.413]\n",
       "Texas                    (75333.413, 138330.766]\n",
       "Utah                     (75333.413, 138330.766]\n",
       "Vermont                   (11706.087, 75333.413]\n",
       "Virginia                  (11706.087, 75333.413]\n",
       "Washington              (138330.766, 201328.118]\n",
       "West Virginia             (11706.087, 75333.413]\n",
       "Wisconsin                (75333.413, 138330.766]\n",
       "Wyoming                   (11706.087, 75333.413]\n",
       "Name: CENSUS2010POP, dtype: category\n",
       "Categories (10, interval[float64, right]): [(11706.087, 75333.413] < (75333.413, 138330.766] < (138330.766, 201328.118] < (201328.118, 264325.471] ... (390320.176, 453317.529] < (453317.529, 516314.881] < (516314.881, 579312.234] < (579312.234, 642309.586]]"
      ]
     },
     "execution_count": 91,
     "metadata": {},
     "output_type": "execute_result"
    }
   ],
   "source": [
    "pd.cut(series, bins=10) # we want 10 unordered categories"
   ]
  },
  {
   "cell_type": "markdown",
   "id": "e9961acc",
   "metadata": {},
   "source": [
    "these are our 10 categories:\n",
    "\n",
    "* (11706.087, 75333.413]\n",
    "* (75333.413, 138330.766]\n",
    "* (138330.766, 201328.118]\n",
    "* (201328.118, 264325.471]\n",
    "* (264325.471, 327322.823]\n",
    "* (327322.823, 390320.176]\n",
    "* (390320.176, 453317.529]\n",
    "* (453317.529, 516314.884]\n",
    "* (516314.884, 579312.234]\n",
    "* (579312.234, 642309.586]"
   ]
  },
  {
   "cell_type": "code",
   "execution_count": 72,
   "id": "a08adaff",
   "metadata": {},
   "outputs": [
    {
     "data": {
      "text/plain": [
       "62997.353"
      ]
     },
     "execution_count": 72,
     "metadata": {},
     "output_type": "execute_result"
    }
   ],
   "source": [
    "138330.766 - 75333.413"
   ]
  },
  {
   "cell_type": "code",
   "execution_count": 73,
   "id": "107a1b9a",
   "metadata": {},
   "outputs": [
    {
     "data": {
      "text/plain": [
       "62997.351999999984"
      ]
     },
     "execution_count": 73,
     "metadata": {},
     "output_type": "execute_result"
    }
   ],
   "source": [
    "201328.118 - 138330.766"
   ]
  },
  {
   "cell_type": "code",
   "execution_count": 74,
   "id": "4d32127d",
   "metadata": {},
   "outputs": [
    {
     "data": {
      "text/plain": [
       "62997.35300000003"
      ]
     },
     "execution_count": 74,
     "metadata": {},
     "output_type": "execute_result"
    }
   ],
   "source": [
    "264325.471 - 201328.118"
   ]
  },
  {
   "cell_type": "code",
   "execution_count": 75,
   "id": "5c4ace32",
   "metadata": {},
   "outputs": [
    {
     "data": {
      "text/plain": [
       "62997.351999999955"
      ]
     },
     "execution_count": 75,
     "metadata": {},
     "output_type": "execute_result"
    }
   ],
   "source": [
    "327322.823 - 264325.471"
   ]
  },
  {
   "cell_type": "markdown",
   "id": "afcb8124",
   "metadata": {},
   "source": [
    "Here we see that states like alabama and alaska fall into the same category, while california and the disctrict of columbia fall in a very different category.\n",
    "\n",
    "Now, **cutting is just one way to build categories from your data**, and **there are many other methods**. \n",
    "\n",
    "For instance, **.cut() gives us interval data, where the spacing between each category is equal sized**. sometimes we want to **form categories based on frequency**, and we want **the number of items in each bin to the be the same**, instead of the spacing between bins (or categories).\n",
    "\n",
    "It really depends on **what the shape of our data is**, and **what we’re planning to do with it**."
   ]
  },
  {
   "cell_type": "code",
   "execution_count": null,
   "id": "9a700001",
   "metadata": {},
   "outputs": [],
   "source": []
  }
 ],
 "metadata": {
  "kernelspec": {
   "display_name": "Python 3 (ipykernel)",
   "language": "python",
   "name": "python3"
  },
  "language_info": {
   "codemirror_mode": {
    "name": "ipython",
    "version": 3
   },
   "file_extension": ".py",
   "mimetype": "text/x-python",
   "name": "python",
   "nbconvert_exporter": "python",
   "pygments_lexer": "ipython3",
   "version": "3.9.7"
  },
  "latex_envs": {
   "LaTeX_envs_menu_present": true,
   "autoclose": false,
   "autocomplete": true,
   "bibliofile": "biblio.bib",
   "cite_by": "apalike",
   "current_citInitial": 1,
   "eqLabelWithNumbers": true,
   "eqNumInitial": 1,
   "hotkeys": {
    "equation": "Ctrl-E",
    "itemize": "Ctrl-I"
   },
   "labels_anchors": false,
   "latex_user_defs": false,
   "report_style_numbering": false,
   "user_envs_cfg": false
  }
 },
 "nbformat": 4,
 "nbformat_minor": 5
}
