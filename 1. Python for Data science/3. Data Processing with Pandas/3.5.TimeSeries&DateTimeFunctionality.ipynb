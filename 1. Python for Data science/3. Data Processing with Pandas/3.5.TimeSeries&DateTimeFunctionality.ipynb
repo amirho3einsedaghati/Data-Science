{
 "cells": [
  {
   "cell_type": "markdown",
   "id": "932bc832",
   "metadata": {},
   "source": [
    "in this lecture, we'll be looking at the time series and date functionality in pandas."
   ]
  },
  {
   "cell_type": "markdown",
   "id": "13265f21",
   "metadata": {},
   "source": [
    "**Manipulating dates and times is quite flexible** in Pandas and thus **allows us to conduct more analysis** such as time series analysis.\n",
    "\n",
    "pandas was originally created by Wes McKinney **to handle date and time data**."
   ]
  },
  {
   "cell_type": "code",
   "execution_count": 2,
   "id": "5b82543e",
   "metadata": {},
   "outputs": [],
   "source": [
    "import pandas as pd\n",
    "import numpy as np"
   ]
  },
  {
   "cell_type": "markdown",
   "id": "75714b95",
   "metadata": {},
   "source": [
    "**Pandas has four main classes related times and Dates, Timestamp, DatetimeIndex, Period, and PeriodIndex**."
   ]
  },
  {
   "cell_type": "markdown",
   "id": "154c9db0",
   "metadata": {},
   "source": [
    "# 1. Timestamp :"
   ]
  },
  {
   "cell_type": "markdown",
   "id": "03d901ae",
   "metadata": {},
   "source": [
    "**Timestamp class represents a single timestamp and associates values** with points in time.\n",
    "\n",
    "**Timestamp is interchangeable** with Python's **datetime** in most cases."
   ]
  },
  {
   "cell_type": "markdown",
   "id": "ada62da5",
   "metadata": {},
   "source": [
    "# S1"
   ]
  },
  {
   "cell_type": "markdown",
   "id": "b2d7a79c",
   "metadata": {},
   "source": [
    "We can **create a timestamp by passing a string including a date or/and time** such '9/29/2022 4:45PM'."
   ]
  },
  {
   "cell_type": "code",
   "execution_count": 2,
   "id": "7c5139b4",
   "metadata": {},
   "outputs": [
    {
     "data": {
      "text/plain": [
       "Timestamp('2022-09-29 16:45:00')"
      ]
     },
     "execution_count": 2,
     "metadata": {},
     "output_type": "execute_result"
    }
   ],
   "source": [
    "pd.Timestamp('9/29/2022 4:45PM')"
   ]
  },
  {
   "cell_type": "code",
   "execution_count": 3,
   "id": "c2075a58",
   "metadata": {},
   "outputs": [
    {
     "data": {
      "text/plain": [
       "pandas._libs.tslibs.timestamps.Timestamp"
      ]
     },
     "execution_count": 3,
     "metadata": {},
     "output_type": "execute_result"
    }
   ],
   "source": [
    "type(pd.Timestamp('6:14PM'))"
   ]
  },
  {
   "cell_type": "code",
   "execution_count": 4,
   "id": "4445b8f2",
   "metadata": {},
   "outputs": [
    {
     "data": {
      "text/plain": [
       "Timestamp('2022-09-29 00:00:00')"
      ]
     },
     "execution_count": 4,
     "metadata": {},
     "output_type": "execute_result"
    }
   ],
   "source": [
    "pd.Timestamp('9/29/2022')"
   ]
  },
  {
   "cell_type": "markdown",
   "id": "780f8e22",
   "metadata": {},
   "source": [
    "# S2"
   ]
  },
  {
   "cell_type": "markdown",
   "id": "f002563a",
   "metadata": {},
   "source": [
    "We can also **create a timestamp by passing multiple parameters** such as **year, month, date, hour, minute, or\n",
    "second**, separately."
   ]
  },
  {
   "cell_type": "code",
   "execution_count": 5,
   "id": "e29c4a2c",
   "metadata": {},
   "outputs": [
    {
     "data": {
      "text/plain": [
       "Timestamp('2022-09-29 16:45:00')"
      ]
     },
     "execution_count": 5,
     "metadata": {},
     "output_type": "execute_result"
    }
   ],
   "source": [
    "pd.Timestamp(2022, 9, 29, 16, 45)"
   ]
  },
  {
   "cell_type": "code",
   "execution_count": 6,
   "id": "6d424aa2",
   "metadata": {},
   "outputs": [
    {
     "data": {
      "text/plain": [
       "Timestamp('2022-09-29 16:59:23')"
      ]
     },
     "execution_count": 6,
     "metadata": {},
     "output_type": "execute_result"
    }
   ],
   "source": [
    "pd.Timestamp(2022, 9, 29, 16, 59, 23)"
   ]
  },
  {
   "cell_type": "code",
   "execution_count": null,
   "id": "e6e72c7a",
   "metadata": {},
   "outputs": [],
   "source": []
  },
  {
   "cell_type": "markdown",
   "id": "f14f898b",
   "metadata": {},
   "source": [
    "**Timestamp** also has some useful **attributes**, such as **isoweekday()**, which **shows the weekday of the timestamp** note that 1 represents Monday and 7 represents Sunday."
   ]
  },
  {
   "cell_type": "code",
   "execution_count": 7,
   "id": "6e71ac0c",
   "metadata": {},
   "outputs": [
    {
     "data": {
      "text/plain": [
       "4"
      ]
     },
     "execution_count": 7,
     "metadata": {},
     "output_type": "execute_result"
    }
   ],
   "source": [
    "pd.Timestamp('9/29/2022 4:55PM').isoweekday() # Thursday"
   ]
  },
  {
   "cell_type": "code",
   "execution_count": 8,
   "id": "fdd5933f",
   "metadata": {},
   "outputs": [
    {
     "data": {
      "text/plain": [
       "4"
      ]
     },
     "execution_count": 8,
     "metadata": {},
     "output_type": "execute_result"
    }
   ],
   "source": [
    "pd.Timestamp(2022, 9, 29).isoweekday()"
   ]
  },
  {
   "cell_type": "markdown",
   "id": "43d3d349",
   "metadata": {},
   "source": [
    "We can **extract** the specific **year, month, day, hour, minute, and second from a timestamp using their specific attributes**."
   ]
  },
  {
   "cell_type": "code",
   "execution_count": 9,
   "id": "f8d934d1",
   "metadata": {},
   "outputs": [
    {
     "data": {
      "text/plain": [
       "23"
      ]
     },
     "execution_count": 9,
     "metadata": {},
     "output_type": "execute_result"
    }
   ],
   "source": [
    "pd.Timestamp(\"9/29/2022 4:59:23PM\").second"
   ]
  },
  {
   "cell_type": "code",
   "execution_count": 10,
   "id": "f147c71d",
   "metadata": {},
   "outputs": [
    {
     "data": {
      "text/plain": [
       "59"
      ]
     },
     "execution_count": 10,
     "metadata": {},
     "output_type": "execute_result"
    }
   ],
   "source": [
    "pd.Timestamp(\"9/29/2022 4:59:23PM\").minute"
   ]
  },
  {
   "cell_type": "code",
   "execution_count": 11,
   "id": "1534b099",
   "metadata": {},
   "outputs": [
    {
     "data": {
      "text/plain": [
       "9"
      ]
     },
     "execution_count": 11,
     "metadata": {},
     "output_type": "execute_result"
    }
   ],
   "source": [
    "pd.Timestamp(2022, 9, 29, 16, 59, 23).month"
   ]
  },
  {
   "cell_type": "code",
   "execution_count": null,
   "id": "63f371b1",
   "metadata": {},
   "outputs": [],
   "source": []
  },
  {
   "cell_type": "markdown",
   "id": "e67cc9fc",
   "metadata": {},
   "source": [
    "# 2. Period :"
   ]
  },
  {
   "cell_type": "markdown",
   "id": "fd77533b",
   "metadata": {},
   "source": [
    "**Period** class **represents** a single **time span, such as a specific day or month**."
   ]
  },
  {
   "cell_type": "code",
   "execution_count": 12,
   "id": "68d7c411",
   "metadata": {},
   "outputs": [
    {
     "data": {
      "text/plain": [
       "Period('2019-02', 'M')"
      ]
     },
     "execution_count": 12,
     "metadata": {},
     "output_type": "execute_result"
    }
   ],
   "source": [
    "pd.Period('2/2019')"
   ]
  },
  {
   "cell_type": "code",
   "execution_count": 13,
   "id": "180417c9",
   "metadata": {},
   "outputs": [
    {
     "data": {
      "text/plain": [
       "pandas._libs.tslibs.period.Period"
      ]
     },
     "execution_count": 13,
     "metadata": {},
     "output_type": "execute_result"
    }
   ],
   "source": [
    "type(pd.Period(\"9/2022\"))"
   ]
  },
  {
   "cell_type": "code",
   "execution_count": 14,
   "id": "59ff664e",
   "metadata": {},
   "outputs": [
    {
     "data": {
      "text/plain": [
       "Period('2021-02-23', 'D')"
      ]
     },
     "execution_count": 14,
     "metadata": {},
     "output_type": "execute_result"
    }
   ],
   "source": [
    "pd.Period('2/23/2021')"
   ]
  },
  {
   "cell_type": "markdown",
   "id": "49f03306",
   "metadata": {},
   "source": [
    "**Period objects represent the full timespan** that you specify. **Arithmetic on Period object is very easy and intuitive**, for instance, if we want to find out 5 months after January 2016, we simply plus 5."
   ]
  },
  {
   "cell_type": "code",
   "execution_count": 15,
   "id": "d4c53a38",
   "metadata": {},
   "outputs": [
    {
     "data": {
      "text/plain": [
       "Period('2023-02', 'M')"
      ]
     },
     "execution_count": 15,
     "metadata": {},
     "output_type": "execute_result"
    }
   ],
   "source": [
    "pd.Period('9/2022') + 5"
   ]
  },
  {
   "cell_type": "markdown",
   "id": "c23ae4fc",
   "metadata": {},
   "source": [
    "If we want to find out two days before March 5th 2022, we\n",
    "simply subtract 2"
   ]
  },
  {
   "cell_type": "code",
   "execution_count": 16,
   "id": "51cddf19",
   "metadata": {},
   "outputs": [
    {
     "data": {
      "text/plain": [
       "Period('2022-03-03', 'D')"
      ]
     },
     "execution_count": 16,
     "metadata": {},
     "output_type": "execute_result"
    }
   ],
   "source": [
    "pd.Period('3/5/2022') - 2"
   ]
  },
  {
   "cell_type": "markdown",
   "id": "c002f63b",
   "metadata": {},
   "source": [
    "The key here is that the **period object encapsulates the granularity for arithmetic**."
   ]
  },
  {
   "cell_type": "code",
   "execution_count": null,
   "id": "b7ab6c60",
   "metadata": {},
   "outputs": [],
   "source": []
  },
  {
   "cell_type": "markdown",
   "id": "74176a79",
   "metadata": {},
   "source": [
    "# 3. DatetimeIndex :"
   ]
  },
  {
   "cell_type": "markdown",
   "id": "e449529a",
   "metadata": {},
   "source": [
    "**in DatetimeIndex**:\n",
    "\n",
    "* the **index lable values** are a **Timestamp object**.\n",
    "* **each Timestamp is the index** and **has a value associated with it**."
   ]
  },
  {
   "cell_type": "code",
   "execution_count": 17,
   "id": "8d12f3cd",
   "metadata": {},
   "outputs": [
    {
     "data": {
      "text/plain": [
       "2022-09-29    a\n",
       "2022-09-30    b\n",
       "2022-10-30    c\n",
       "dtype: object"
      ]
     },
     "execution_count": 17,
     "metadata": {},
     "output_type": "execute_result"
    }
   ],
   "source": [
    "s1 = pd.Series(data= list('abc'), index= [pd.Timestamp('2022-09-29'),\n",
    "                                          pd.Timestamp('2022-09-30'),\n",
    "                                          pd.Timestamp('2022-10-30')])\n",
    "s1"
   ]
  },
  {
   "cell_type": "code",
   "execution_count": 18,
   "id": "ec28259a",
   "metadata": {},
   "outputs": [
    {
     "data": {
      "text/plain": [
       "pandas.core.indexes.datetimes.DatetimeIndex"
      ]
     },
     "execution_count": 18,
     "metadata": {},
     "output_type": "execute_result"
    }
   ],
   "source": [
    "type(s1.index)"
   ]
  },
  {
   "cell_type": "code",
   "execution_count": null,
   "id": "0392803b",
   "metadata": {},
   "outputs": [],
   "source": []
  },
  {
   "cell_type": "markdown",
   "id": "c3124c67",
   "metadata": {},
   "source": [
    "# 4. PeriodIndex :"
   ]
  },
  {
   "cell_type": "markdown",
   "id": "704d9509",
   "metadata": {},
   "source": [
    "**in PeriodIndex**:\n",
    "\n",
    "* the **index lable values** are a **Period object**.\n",
    "* **each Timespan is the index** and **has a value associated with it**."
   ]
  },
  {
   "cell_type": "code",
   "execution_count": 19,
   "id": "80bfceab",
   "metadata": {},
   "outputs": [
    {
     "data": {
      "text/plain": [
       "2022-09    d\n",
       "2022-10    e\n",
       "2022-11    f\n",
       "Freq: M, dtype: object"
      ]
     },
     "execution_count": 19,
     "metadata": {},
     "output_type": "execute_result"
    }
   ],
   "source": [
    "s2 = pd.Series(list('def'), [pd.Period('9/2022'),\n",
    "                            pd.Period('2022-10'),\n",
    "                            pd.Period('11/2022')])\n",
    "s2"
   ]
  },
  {
   "cell_type": "code",
   "execution_count": 20,
   "id": "2c5cf685",
   "metadata": {},
   "outputs": [
    {
     "data": {
      "text/plain": [
       "pandas.core.indexes.period.PeriodIndex"
      ]
     },
     "execution_count": 20,
     "metadata": {},
     "output_type": "execute_result"
    }
   ],
   "source": [
    "type(s2.index)"
   ]
  },
  {
   "cell_type": "code",
   "execution_count": null,
   "id": "472f2369",
   "metadata": {},
   "outputs": [],
   "source": []
  },
  {
   "cell_type": "markdown",
   "id": "ba9cfa66",
   "metadata": {},
   "source": [
    "# Converting to DatatimeIndex :"
   ]
  },
  {
   "cell_type": "markdown",
   "id": "7465e892",
   "metadata": {},
   "source": [
    "with using pandas built-in function **.to_datetime()**, we can **convert index lable of a dataframe or series object to DatetimeIndex** and **put them in a standard format**."
   ]
  },
  {
   "cell_type": "code",
   "execution_count": 21,
   "id": "e4de049f",
   "metadata": {},
   "outputs": [
    {
     "data": {
      "text/plain": [
       "2 March 2017    94\n",
       "Aug 20, 2019    84\n",
       "2022-9-29       64\n",
       "12/2/21         11\n",
       "dtype: int32"
      ]
     },
     "execution_count": 21,
     "metadata": {},
     "output_type": "execute_result"
    }
   ],
   "source": [
    "dates = ['2 March 2017', 'Aug 20, 2019', '2022-9-29', '12/2/21']\n",
    "\n",
    "series = pd.Series(np.random.randint(0, 100, 4), index= dates)\n",
    "series"
   ]
  },
  {
   "cell_type": "code",
   "execution_count": 22,
   "id": "012b2d5d",
   "metadata": {},
   "outputs": [
    {
     "data": {
      "text/plain": [
       "pandas.core.indexes.base.Index"
      ]
     },
     "execution_count": 22,
     "metadata": {},
     "output_type": "execute_result"
    }
   ],
   "source": [
    "type(series.index)"
   ]
  },
  {
   "cell_type": "code",
   "execution_count": 23,
   "id": "392d4a2c",
   "metadata": {},
   "outputs": [
    {
     "data": {
      "text/plain": [
       "2017-03-02    94\n",
       "2019-08-20    84\n",
       "2022-09-29    64\n",
       "2021-12-02    11\n",
       "dtype: int32"
      ]
     },
     "execution_count": 23,
     "metadata": {},
     "output_type": "execute_result"
    }
   ],
   "source": [
    "series.index = pd.to_datetime(series.index)\n",
    "series"
   ]
  },
  {
   "cell_type": "code",
   "execution_count": 24,
   "id": "bdd9a7c7",
   "metadata": {},
   "outputs": [
    {
     "data": {
      "text/plain": [
       "pandas.core.indexes.datetimes.DatetimeIndex"
      ]
     },
     "execution_count": 24,
     "metadata": {},
     "output_type": "execute_result"
    }
   ],
   "source": [
    "type(series.index)"
   ]
  },
  {
   "cell_type": "code",
   "execution_count": null,
   "id": "874598e0",
   "metadata": {},
   "outputs": [],
   "source": []
  },
  {
   "cell_type": "code",
   "execution_count": 25,
   "id": "83a1b1c0",
   "metadata": {},
   "outputs": [
    {
     "data": {
      "text/html": [
       "<div>\n",
       "<style scoped>\n",
       "    .dataframe tbody tr th:only-of-type {\n",
       "        vertical-align: middle;\n",
       "    }\n",
       "\n",
       "    .dataframe tbody tr th {\n",
       "        vertical-align: top;\n",
       "    }\n",
       "\n",
       "    .dataframe thead th {\n",
       "        text-align: right;\n",
       "    }\n",
       "</style>\n",
       "<table border=\"1\" class=\"dataframe\">\n",
       "  <thead>\n",
       "    <tr style=\"text-align: right;\">\n",
       "      <th></th>\n",
       "      <th>v1</th>\n",
       "      <th>v2</th>\n",
       "    </tr>\n",
       "  </thead>\n",
       "  <tbody>\n",
       "    <tr>\n",
       "      <th>2 March 2017</th>\n",
       "      <td>40</td>\n",
       "      <td>59</td>\n",
       "    </tr>\n",
       "    <tr>\n",
       "      <th>Aug 20, 2019</th>\n",
       "      <td>26</td>\n",
       "      <td>85</td>\n",
       "    </tr>\n",
       "    <tr>\n",
       "      <th>2022-9-29</th>\n",
       "      <td>28</td>\n",
       "      <td>37</td>\n",
       "    </tr>\n",
       "    <tr>\n",
       "      <th>12/2/21</th>\n",
       "      <td>39</td>\n",
       "      <td>14</td>\n",
       "    </tr>\n",
       "  </tbody>\n",
       "</table>\n",
       "</div>"
      ],
      "text/plain": [
       "              v1  v2\n",
       "2 March 2017  40  59\n",
       "Aug 20, 2019  26  85\n",
       "2022-9-29     28  37\n",
       "12/2/21       39  14"
      ]
     },
     "execution_count": 25,
     "metadata": {},
     "output_type": "execute_result"
    }
   ],
   "source": [
    "dates = ['2 March 2017', 'Aug 20, 2019', '2022-9-29', '12/2/21']\n",
    "\n",
    "df = pd.DataFrame(np.random.randint(0, 100, (4, 2)),\n",
    "                 index= dates, columns= ['v1', 'v2'])\n",
    "\n",
    "df"
   ]
  },
  {
   "cell_type": "code",
   "execution_count": 26,
   "id": "a86838a2",
   "metadata": {},
   "outputs": [
    {
     "data": {
      "text/plain": [
       "pandas.core.indexes.base.Index"
      ]
     },
     "execution_count": 26,
     "metadata": {},
     "output_type": "execute_result"
    }
   ],
   "source": [
    "type(df.index)"
   ]
  },
  {
   "cell_type": "code",
   "execution_count": 27,
   "id": "e9aff9ba",
   "metadata": {},
   "outputs": [
    {
     "data": {
      "text/html": [
       "<div>\n",
       "<style scoped>\n",
       "    .dataframe tbody tr th:only-of-type {\n",
       "        vertical-align: middle;\n",
       "    }\n",
       "\n",
       "    .dataframe tbody tr th {\n",
       "        vertical-align: top;\n",
       "    }\n",
       "\n",
       "    .dataframe thead th {\n",
       "        text-align: right;\n",
       "    }\n",
       "</style>\n",
       "<table border=\"1\" class=\"dataframe\">\n",
       "  <thead>\n",
       "    <tr style=\"text-align: right;\">\n",
       "      <th></th>\n",
       "      <th>v1</th>\n",
       "      <th>v2</th>\n",
       "    </tr>\n",
       "  </thead>\n",
       "  <tbody>\n",
       "    <tr>\n",
       "      <th>2017-03-02</th>\n",
       "      <td>40</td>\n",
       "      <td>59</td>\n",
       "    </tr>\n",
       "    <tr>\n",
       "      <th>2019-08-20</th>\n",
       "      <td>26</td>\n",
       "      <td>85</td>\n",
       "    </tr>\n",
       "    <tr>\n",
       "      <th>2022-09-29</th>\n",
       "      <td>28</td>\n",
       "      <td>37</td>\n",
       "    </tr>\n",
       "    <tr>\n",
       "      <th>2021-12-02</th>\n",
       "      <td>39</td>\n",
       "      <td>14</td>\n",
       "    </tr>\n",
       "  </tbody>\n",
       "</table>\n",
       "</div>"
      ],
      "text/plain": [
       "            v1  v2\n",
       "2017-03-02  40  59\n",
       "2019-08-20  26  85\n",
       "2022-09-29  28  37\n",
       "2021-12-02  39  14"
      ]
     },
     "execution_count": 27,
     "metadata": {},
     "output_type": "execute_result"
    }
   ],
   "source": [
    "df.index = pd.to_datetime(df.index)\n",
    "df"
   ]
  },
  {
   "cell_type": "code",
   "execution_count": 28,
   "id": "bfaa5018",
   "metadata": {},
   "outputs": [
    {
     "data": {
      "text/plain": [
       "pandas.core.indexes.datetimes.DatetimeIndex"
      ]
     },
     "execution_count": 28,
     "metadata": {},
     "output_type": "execute_result"
    }
   ],
   "source": [
    "type(df.index)"
   ]
  },
  {
   "cell_type": "code",
   "execution_count": null,
   "id": "99ddce99",
   "metadata": {},
   "outputs": [],
   "source": []
  },
  {
   "cell_type": "markdown",
   "id": "2c03c4f8",
   "metadata": {},
   "source": [
    "# Converting to Timestamp :"
   ]
  },
  {
   "cell_type": "markdown",
   "id": "4b8af7ac",
   "metadata": {},
   "source": [
    "we can also **pass a string including a date or/and time** to the **.to_datetime()** function **to convert it to a timestamp object**."
   ]
  },
  {
   "cell_type": "code",
   "execution_count": 29,
   "id": "b0b3fe32",
   "metadata": {},
   "outputs": [
    {
     "data": {
      "text/plain": [
       "Timestamp('2022-09-29 00:00:00')"
      ]
     },
     "execution_count": 29,
     "metadata": {},
     "output_type": "execute_result"
    }
   ],
   "source": [
    "pd.to_datetime('9.29.22')"
   ]
  },
  {
   "cell_type": "markdown",
   "id": "2e3f5974",
   "metadata": {},
   "source": [
    "**.to_datetime()** also has options **to change the date parse order**. For example, we can pass in the argument **dayfirst = True to parse the date in European date**."
   ]
  },
  {
   "cell_type": "code",
   "execution_count": 30,
   "id": "53e88e7b",
   "metadata": {},
   "outputs": [
    {
     "data": {
      "text/plain": [
       "Timestamp('2022-10-09 00:00:00')"
      ]
     },
     "execution_count": 30,
     "metadata": {},
     "output_type": "execute_result"
    }
   ],
   "source": [
    "pd.to_datetime('9.10.22', dayfirst= True)"
   ]
  },
  {
   "cell_type": "code",
   "execution_count": 31,
   "id": "890626ed",
   "metadata": {},
   "outputs": [
    {
     "data": {
      "text/plain": [
       "Timestamp('2022-09-29 00:00:00')"
      ]
     },
     "execution_count": 31,
     "metadata": {},
     "output_type": "execute_result"
    }
   ],
   "source": [
    "pd.to_datetime('9.29.22', dayfirst= True)"
   ]
  },
  {
   "cell_type": "code",
   "execution_count": 32,
   "id": "f6b5b3e5",
   "metadata": {},
   "outputs": [
    {
     "data": {
      "text/plain": [
       "pandas._libs.tslibs.timestamps.Timestamp"
      ]
     },
     "execution_count": 32,
     "metadata": {},
     "output_type": "execute_result"
    }
   ],
   "source": [
    "type(pd.to_datetime('9.29.22', dayfirst= True))"
   ]
  },
  {
   "cell_type": "code",
   "execution_count": null,
   "id": "587f4398",
   "metadata": {},
   "outputs": [],
   "source": []
  },
  {
   "cell_type": "markdown",
   "id": "e60d2144",
   "metadata": {},
   "source": [
    "# Timedelta :"
   ]
  },
  {
   "cell_type": "markdown",
   "id": "dc395c0e",
   "metadata": {},
   "source": [
    "**Timedelta objects are differences in times with period objects**, but **conceptually are similar**.\n",
    "\n"
   ]
  },
  {
   "cell_type": "markdown",
   "id": "52cfb568",
   "metadata": {},
   "source": [
    "we get **a Timedelta object**, if we want to take the **differences between 2 different dates or/and times**."
   ]
  },
  {
   "cell_type": "code",
   "execution_count": 33,
   "id": "9002e387",
   "metadata": {},
   "outputs": [
    {
     "name": "stdout",
     "output_type": "stream",
     "text": [
      "25 days 00:00:00\n",
      "<class 'pandas._libs.tslibs.timedeltas.Timedelta'>\n"
     ]
    }
   ],
   "source": [
    "diff = pd.Timestamp('9/29/2022') - pd.Timestamp('9/4/2022')\n",
    "print(diff)\n",
    "print(type(diff))"
   ]
  },
  {
   "cell_type": "markdown",
   "id": "2b7c2c2e",
   "metadata": {},
   "source": [
    "with using **.Timedelta()**, We can also find **what the date and time is for 12 days and three hours past September 29th, at 8:10 AM**."
   ]
  },
  {
   "cell_type": "code",
   "execution_count": 34,
   "id": "1908fe27",
   "metadata": {},
   "outputs": [
    {
     "data": {
      "text/plain": [
       "Timestamp('2022-10-11 11:10:00')"
      ]
     },
     "execution_count": 34,
     "metadata": {},
     "output_type": "execute_result"
    }
   ],
   "source": [
    "pd.Timestamp('9.29.22 8:10AM') + pd.Timedelta('12D 3H')"
   ]
  },
  {
   "cell_type": "code",
   "execution_count": null,
   "id": "03c182ff",
   "metadata": {},
   "outputs": [],
   "source": []
  },
  {
   "cell_type": "markdown",
   "id": "3183a081",
   "metadata": {},
   "source": [
    "# Offset :"
   ]
  },
  {
   "cell_type": "markdown",
   "id": "a176c834",
   "metadata": {},
   "source": [
    "__Offset__ :\n",
    "\n",
    "* is **similar to Timedelta**.\n",
    "* follows **specific calendar duration rules**.\n",
    "* allows flexibility in terms of types of **time intervals**. \n",
    "* **has different classes such as Hour, Day, Week, Month, BusinessDay, MonthEnd, SemiMonthEnd, and etc classes**."
   ]
  },
  {
   "cell_type": "code",
   "execution_count": 35,
   "id": "9b8da428",
   "metadata": {},
   "outputs": [
    {
     "data": {
      "text/plain": [
       "Timestamp('2021-01-04 00:00:00')"
      ]
     },
     "execution_count": 35,
     "metadata": {},
     "output_type": "execute_result"
    }
   ],
   "source": [
    "pd.Timestamp('1/4/2021')"
   ]
  },
  {
   "cell_type": "code",
   "execution_count": 36,
   "id": "d926141e",
   "metadata": {},
   "outputs": [
    {
     "data": {
      "text/plain": [
       "1"
      ]
     },
     "execution_count": 36,
     "metadata": {},
     "output_type": "execute_result"
    }
   ],
   "source": [
    "pd.Timestamp('1/4/2021').isoweekday() # Monday"
   ]
  },
  {
   "cell_type": "markdown",
   "id": "53c6c1a5",
   "metadata": {},
   "source": [
    "we can now add the timestamp with **a week ahead**."
   ]
  },
  {
   "cell_type": "code",
   "execution_count": 37,
   "id": "e881b097",
   "metadata": {},
   "outputs": [
    {
     "data": {
      "text/plain": [
       "Timestamp('2021-01-11 00:00:00')"
      ]
     },
     "execution_count": 37,
     "metadata": {},
     "output_type": "execute_result"
    }
   ],
   "source": [
    "pd.Timestamp('1.4.21') + pd.offsets.Week()"
   ]
  },
  {
   "cell_type": "code",
   "execution_count": 38,
   "id": "7ace94b5",
   "metadata": {},
   "outputs": [
    {
     "data": {
      "text/plain": [
       "True"
      ]
     },
     "execution_count": 38,
     "metadata": {},
     "output_type": "execute_result"
    }
   ],
   "source": [
    "(pd.Timestamp('1.4.21') + pd.Timedelta('7D')) == (pd.Timestamp('1.4.21') + pd.offsets.Week())"
   ]
  },
  {
   "cell_type": "code",
   "execution_count": 39,
   "id": "3b8f5a71",
   "metadata": {},
   "outputs": [
    {
     "data": {
      "text/plain": [
       "Timestamp('2021-01-15 00:00:00')"
      ]
     },
     "execution_count": 39,
     "metadata": {},
     "output_type": "execute_result"
    }
   ],
   "source": [
    "pd.Timestamp('1.4.21') + pd.offsets.SemiMonthBegin()"
   ]
  },
  {
   "cell_type": "code",
   "execution_count": 40,
   "id": "21a5b8ef",
   "metadata": {},
   "outputs": [
    {
     "data": {
      "text/plain": [
       "Timestamp('2021-01-15 00:00:00')"
      ]
     },
     "execution_count": 40,
     "metadata": {},
     "output_type": "execute_result"
    }
   ],
   "source": [
    "pd.Timestamp('1.4.21') + pd.offsets.SemiMonthEnd()"
   ]
  },
  {
   "cell_type": "code",
   "execution_count": 8,
   "id": "92ffbd78",
   "metadata": {},
   "outputs": [
    {
     "data": {
      "text/plain": [
       "4"
      ]
     },
     "execution_count": 8,
     "metadata": {},
     "output_type": "execute_result"
    }
   ],
   "source": [
    "pd.Timestamp('11/29/2019').weekday()"
   ]
  },
  {
   "cell_type": "code",
   "execution_count": 9,
   "id": "b1a5a7d4",
   "metadata": {},
   "outputs": [
    {
     "data": {
      "text/plain": [
       "5"
      ]
     },
     "execution_count": 9,
     "metadata": {},
     "output_type": "execute_result"
    }
   ],
   "source": [
    "(pd.Timestamp('11/29/2019') + pd.offsets.MonthEnd()).weekday()"
   ]
  },
  {
   "cell_type": "code",
   "execution_count": 41,
   "id": "b5b68e78",
   "metadata": {},
   "outputs": [
    {
     "name": "stdout",
     "output_type": "stream",
     "text": [
      "<class 'pandas._libs.tslibs.offsets.BusinessDay'>\n"
     ]
    }
   ],
   "source": [
    "print(type(pd.offsets.BusinessDay()))"
   ]
  },
  {
   "cell_type": "code",
   "execution_count": null,
   "id": "c6bddec0",
   "metadata": {},
   "outputs": [],
   "source": []
  },
  {
   "cell_type": "code",
   "execution_count": 42,
   "id": "5ec9eb0f",
   "metadata": {},
   "outputs": [
    {
     "data": {
      "text/plain": [
       "5"
      ]
     },
     "execution_count": 42,
     "metadata": {},
     "output_type": "execute_result"
    }
   ],
   "source": [
    "pd.Timestamp(2022, 9, 30).isoweekday()"
   ]
  },
  {
   "cell_type": "markdown",
   "id": "826e149d",
   "metadata": {},
   "source": [
    "we can now add the timestamp with **a business day ahead**."
   ]
  },
  {
   "cell_type": "code",
   "execution_count": 43,
   "id": "91c051cd",
   "metadata": {},
   "outputs": [
    {
     "data": {
      "text/plain": [
       "Timestamp('2022-10-03 00:00:00')"
      ]
     },
     "execution_count": 43,
     "metadata": {},
     "output_type": "execute_result"
    }
   ],
   "source": [
    "pd.Timestamp(2022, 9, 30) + pd.offsets.BusinessDay()"
   ]
  },
  {
   "cell_type": "code",
   "execution_count": 44,
   "id": "0e67ce5e",
   "metadata": {},
   "outputs": [
    {
     "data": {
      "text/plain": [
       "Timestamp('2022-10-01 00:00:00')"
      ]
     },
     "execution_count": 44,
     "metadata": {},
     "output_type": "execute_result"
    }
   ],
   "source": [
    "pd.Timestamp(2022, 9, 30) + pd.offsets.MonthBegin()"
   ]
  },
  {
   "cell_type": "code",
   "execution_count": 45,
   "id": "93ca3de7",
   "metadata": {},
   "outputs": [
    {
     "data": {
      "text/plain": [
       "Timestamp('2022-10-31 00:00:00')"
      ]
     },
     "execution_count": 45,
     "metadata": {},
     "output_type": "execute_result"
    }
   ],
   "source": [
    "pd.Timestamp(2022, 9, 30) + pd.offsets.MonthEnd()"
   ]
  },
  {
   "cell_type": "code",
   "execution_count": 46,
   "id": "afc876ae",
   "metadata": {},
   "outputs": [
    {
     "data": {
      "text/plain": [
       "Timestamp('2022-10-15 00:00:00')"
      ]
     },
     "execution_count": 46,
     "metadata": {},
     "output_type": "execute_result"
    }
   ],
   "source": [
    "pd.Timestamp(2022, 9, 30) + pd.offsets.SemiMonthEnd()"
   ]
  },
  {
   "cell_type": "code",
   "execution_count": 47,
   "id": "54837d64",
   "metadata": {},
   "outputs": [
    {
     "data": {
      "text/plain": [
       "Timestamp('2022-10-01 00:00:00')"
      ]
     },
     "execution_count": 47,
     "metadata": {},
     "output_type": "execute_result"
    }
   ],
   "source": [
    "pd.Timestamp(2022, 9, 30) + pd.offsets.SemiMonthBegin()"
   ]
  },
  {
   "cell_type": "code",
   "execution_count": null,
   "id": "aa148119",
   "metadata": {},
   "outputs": [],
   "source": []
  },
  {
   "cell_type": "markdown",
   "id": "0d82c130",
   "metadata": {},
   "source": [
    "# Working with Dates in a DataFrame :"
   ]
  },
  {
   "cell_type": "code",
   "execution_count": 48,
   "id": "a6fd1227",
   "metadata": {},
   "outputs": [
    {
     "data": {
      "text/plain": [
       "5"
      ]
     },
     "execution_count": 48,
     "metadata": {},
     "output_type": "execute_result"
    }
   ],
   "source": [
    "pd.Timestamp('9-30-2022').isoweekday()"
   ]
  },
  {
   "cell_type": "markdown",
   "id": "a065a26e",
   "metadata": {},
   "source": [
    "Suppose we want to look at nine measurements, taken **bi-weekly, every Sunday**, starting in October 2016. \n",
    "\n",
    "\n",
    "**.date_range()** is a **built-in function in pandas**.\n",
    "\n",
    "**Using date_range**, we can **create a DatetimeIndex**. \n",
    "\n",
    "In **data_range**:\n",
    "* we have to either specify **the start or end date**. If it is not explicitly specified, by default, the date is considered the start date. \n",
    "* we have to specify **number of periods, and a frequency**. Here, we set __freq__ to __\"2W-SUN\"__, which means biweekly on Sunday."
   ]
  },
  {
   "cell_type": "code",
   "execution_count": 49,
   "id": "83f91835",
   "metadata": {},
   "outputs": [
    {
     "data": {
      "text/plain": [
       "DatetimeIndex(['2022-10-02', '2022-10-16', '2022-10-30', '2022-11-13',\n",
       "               '2022-11-27', '2022-12-11', '2022-12-25', '2023-01-08',\n",
       "               '2023-01-22'],\n",
       "              dtype='datetime64[ns]', freq='2W-SUN')"
      ]
     },
     "execution_count": 49,
     "metadata": {},
     "output_type": "execute_result"
    }
   ],
   "source": [
    "dates = pd.date_range('9-30-2022', periods= 9, freq= '2W-SUN')\n",
    "dates"
   ]
  },
  {
   "cell_type": "markdown",
   "id": "0c75477f",
   "metadata": {},
   "source": [
    "There are many other frequencies that we can use. For example, we can do **business day**. for doing this, we set __freq__ to __'B'__."
   ]
  },
  {
   "cell_type": "code",
   "execution_count": 50,
   "id": "990a3911",
   "metadata": {},
   "outputs": [
    {
     "data": {
      "text/plain": [
       "DatetimeIndex(['2022-09-30', '2022-10-03', '2022-10-04', '2022-10-05',\n",
       "               '2022-10-06', '2022-10-07', '2022-10-10', '2022-10-11',\n",
       "               '2022-10-12'],\n",
       "              dtype='datetime64[ns]', freq='B')"
      ]
     },
     "execution_count": 50,
     "metadata": {},
     "output_type": "execute_result"
    }
   ],
   "source": [
    "pd.date_range('9.30.22', periods= 9, freq= 'B')"
   ]
  },
  {
   "cell_type": "markdown",
   "id": "31bd8ea1",
   "metadata": {},
   "source": [
    "we can do quarterly, with the **quarter start in June**. for doing this, we set __freq__ to __'QS-SEP'__."
   ]
  },
  {
   "cell_type": "code",
   "execution_count": 51,
   "id": "6cddca5e",
   "metadata": {},
   "outputs": [
    {
     "data": {
      "text/plain": [
       "DatetimeIndex(['2022-12-01', '2023-03-01', '2023-06-01', '2023-09-01',\n",
       "               '2023-12-01', '2024-03-01', '2024-06-01', '2024-09-01',\n",
       "               '2024-12-01'],\n",
       "              dtype='datetime64[ns]', freq='QS-SEP')"
      ]
     },
     "execution_count": 51,
     "metadata": {},
     "output_type": "execute_result"
    }
   ],
   "source": [
    "pd.date_range('9.30.22', periods= 9, freq= 'QS-SEP')"
   ]
  },
  {
   "cell_type": "markdown",
   "id": "6a6476cc",
   "metadata": {},
   "source": [
    "we can do quarterly, with the **quarter start in October**. for doing this, we set **freq** to **'QS-OCT'**.\n"
   ]
  },
  {
   "cell_type": "code",
   "execution_count": 52,
   "id": "b5d20830",
   "metadata": {},
   "outputs": [
    {
     "data": {
      "text/plain": [
       "DatetimeIndex(['2022-10-01', '2023-01-01', '2023-04-01', '2023-07-01',\n",
       "               '2023-10-01', '2024-01-01', '2024-04-01', '2024-07-01',\n",
       "               '2024-10-01'],\n",
       "              dtype='datetime64[ns]', freq='QS-OCT')"
      ]
     },
     "execution_count": 52,
     "metadata": {},
     "output_type": "execute_result"
    }
   ],
   "source": [
    "pd.date_range('9.30.22', periods= 9, freq= 'QS-OCT')"
   ]
  },
  {
   "cell_type": "markdown",
   "id": "ee89f3cd",
   "metadata": {},
   "source": [
    "let's go back to our **bi-weekly on Sunday** example and **create a DataFrame** using these dates, and **some random data, and see what we can do with it.**"
   ]
  },
  {
   "cell_type": "code",
   "execution_count": 53,
   "id": "a1d7d320",
   "metadata": {},
   "outputs": [
    {
     "data": {
      "text/html": [
       "<div>\n",
       "<style scoped>\n",
       "    .dataframe tbody tr th:only-of-type {\n",
       "        vertical-align: middle;\n",
       "    }\n",
       "\n",
       "    .dataframe tbody tr th {\n",
       "        vertical-align: top;\n",
       "    }\n",
       "\n",
       "    .dataframe thead th {\n",
       "        text-align: right;\n",
       "    }\n",
       "</style>\n",
       "<table border=\"1\" class=\"dataframe\">\n",
       "  <thead>\n",
       "    <tr style=\"text-align: right;\">\n",
       "      <th></th>\n",
       "      <th>v1</th>\n",
       "      <th>v2</th>\n",
       "    </tr>\n",
       "  </thead>\n",
       "  <tbody>\n",
       "    <tr>\n",
       "      <th>2022-10-02</th>\n",
       "      <td>100</td>\n",
       "      <td>117</td>\n",
       "    </tr>\n",
       "    <tr>\n",
       "      <th>2022-10-16</th>\n",
       "      <td>108</td>\n",
       "      <td>126</td>\n",
       "    </tr>\n",
       "    <tr>\n",
       "      <th>2022-10-30</th>\n",
       "      <td>105</td>\n",
       "      <td>124</td>\n",
       "    </tr>\n",
       "    <tr>\n",
       "      <th>2022-11-13</th>\n",
       "      <td>100</td>\n",
       "      <td>127</td>\n",
       "    </tr>\n",
       "    <tr>\n",
       "      <th>2022-11-27</th>\n",
       "      <td>108</td>\n",
       "      <td>122</td>\n",
       "    </tr>\n",
       "    <tr>\n",
       "      <th>2022-12-11</th>\n",
       "      <td>105</td>\n",
       "      <td>123</td>\n",
       "    </tr>\n",
       "    <tr>\n",
       "      <th>2022-12-25</th>\n",
       "      <td>106</td>\n",
       "      <td>116</td>\n",
       "    </tr>\n",
       "    <tr>\n",
       "      <th>2023-01-08</th>\n",
       "      <td>105</td>\n",
       "      <td>115</td>\n",
       "    </tr>\n",
       "    <tr>\n",
       "      <th>2023-01-22</th>\n",
       "      <td>111</td>\n",
       "      <td>127</td>\n",
       "    </tr>\n",
       "  </tbody>\n",
       "</table>\n",
       "</div>"
      ],
      "text/plain": [
       "             v1   v2\n",
       "2022-10-02  100  117\n",
       "2022-10-16  108  126\n",
       "2022-10-30  105  124\n",
       "2022-11-13  100  127\n",
       "2022-11-27  108  122\n",
       "2022-12-11  105  123\n",
       "2022-12-25  106  116\n",
       "2023-01-08  105  115\n",
       "2023-01-22  111  127"
      ]
     },
     "execution_count": 53,
     "metadata": {},
     "output_type": "execute_result"
    }
   ],
   "source": [
    "dates = pd.date_range('9/30/2022', periods= 9, freq= '2W-SUN')\n",
    "df = pd.DataFrame({'v1': 100 + np.random.randint(-5, 10, 9).cumsum(),\n",
    "                  'v2': 120 + np.random.randint(-5, 10, 9)}, index= dates)\n",
    "df"
   ]
  },
  {
   "cell_type": "markdown",
   "id": "c62aeaa1",
   "metadata": {},
   "source": [
    "we can check what day of the week a specific date is. For example, here we can see that all the dates in our index are on Sunday. Which matches the frequency that we set."
   ]
  },
  {
   "cell_type": "code",
   "execution_count": 54,
   "id": "9bc88bfb",
   "metadata": {},
   "outputs": [
    {
     "name": "stdout",
     "output_type": "stream",
     "text": [
      "['Sunday', 'Sunday', 'Sunday', 'Sunday', 'Sunday', 'Sunday', 'Sunday', 'Sunday', 'Sunday']\n"
     ]
    }
   ],
   "source": [
    "print([\"Sunday\" for date in df.index if date.isoweekday() == 7])"
   ]
  },
  {
   "cell_type": "markdown",
   "id": "c5792b21",
   "metadata": {},
   "source": [
    "We can also use **.diff() to find the difference between each date's value**."
   ]
  },
  {
   "cell_type": "markdown",
   "id": "4a395e50",
   "metadata": {},
   "source": [
    "row 1:\n",
    "* 108 - 100 = 8\n",
    "* 126 - 117 = 9\n",
    "\n",
    "row 2:\n",
    "* 105 - 108 = -3\n",
    "* 124 - 126 = -2"
   ]
  },
  {
   "cell_type": "code",
   "execution_count": 55,
   "id": "34c7bc47",
   "metadata": {},
   "outputs": [
    {
     "data": {
      "text/html": [
       "<div>\n",
       "<style scoped>\n",
       "    .dataframe tbody tr th:only-of-type {\n",
       "        vertical-align: middle;\n",
       "    }\n",
       "\n",
       "    .dataframe tbody tr th {\n",
       "        vertical-align: top;\n",
       "    }\n",
       "\n",
       "    .dataframe thead th {\n",
       "        text-align: right;\n",
       "    }\n",
       "</style>\n",
       "<table border=\"1\" class=\"dataframe\">\n",
       "  <thead>\n",
       "    <tr style=\"text-align: right;\">\n",
       "      <th></th>\n",
       "      <th>v1</th>\n",
       "      <th>v2</th>\n",
       "    </tr>\n",
       "  </thead>\n",
       "  <tbody>\n",
       "    <tr>\n",
       "      <th>2022-10-02</th>\n",
       "      <td>NaN</td>\n",
       "      <td>NaN</td>\n",
       "    </tr>\n",
       "    <tr>\n",
       "      <th>2022-10-16</th>\n",
       "      <td>8.0</td>\n",
       "      <td>9.0</td>\n",
       "    </tr>\n",
       "    <tr>\n",
       "      <th>2022-10-30</th>\n",
       "      <td>-3.0</td>\n",
       "      <td>-2.0</td>\n",
       "    </tr>\n",
       "    <tr>\n",
       "      <th>2022-11-13</th>\n",
       "      <td>-5.0</td>\n",
       "      <td>3.0</td>\n",
       "    </tr>\n",
       "    <tr>\n",
       "      <th>2022-11-27</th>\n",
       "      <td>8.0</td>\n",
       "      <td>-5.0</td>\n",
       "    </tr>\n",
       "    <tr>\n",
       "      <th>2022-12-11</th>\n",
       "      <td>-3.0</td>\n",
       "      <td>1.0</td>\n",
       "    </tr>\n",
       "    <tr>\n",
       "      <th>2022-12-25</th>\n",
       "      <td>1.0</td>\n",
       "      <td>-7.0</td>\n",
       "    </tr>\n",
       "    <tr>\n",
       "      <th>2023-01-08</th>\n",
       "      <td>-1.0</td>\n",
       "      <td>-1.0</td>\n",
       "    </tr>\n",
       "    <tr>\n",
       "      <th>2023-01-22</th>\n",
       "      <td>6.0</td>\n",
       "      <td>12.0</td>\n",
       "    </tr>\n",
       "  </tbody>\n",
       "</table>\n",
       "</div>"
      ],
      "text/plain": [
       "             v1    v2\n",
       "2022-10-02  NaN   NaN\n",
       "2022-10-16  8.0   9.0\n",
       "2022-10-30 -3.0  -2.0\n",
       "2022-11-13 -5.0   3.0\n",
       "2022-11-27  8.0  -5.0\n",
       "2022-12-11 -3.0   1.0\n",
       "2022-12-25  1.0  -7.0\n",
       "2023-01-08 -1.0  -1.0\n",
       "2023-01-22  6.0  12.0"
      ]
     },
     "execution_count": 55,
     "metadata": {},
     "output_type": "execute_result"
    }
   ],
   "source": [
    "df.diff()"
   ]
  },
  {
   "cell_type": "markdown",
   "id": "45c37128",
   "metadata": {},
   "source": [
    "Suppose we want **to know what the mean count is for each month in our DataFrame**. We can do this using **.resample('M').mean()**. \n",
    "\n",
    "**Converting from a higher frequency to a lower frequency** is called **downsampling**."
   ]
  },
  {
   "cell_type": "markdown",
   "id": "daffa293",
   "metadata": {},
   "source": [
    "for example, for **the 10th month** :\n",
    "\n",
    "* (100 + 108 + 105) / 3 = 104.333333\n",
    "* (117 + 126 + 124) / 3 = 122.333333"
   ]
  },
  {
   "cell_type": "code",
   "execution_count": 56,
   "id": "7b3e9df8",
   "metadata": {},
   "outputs": [
    {
     "data": {
      "text/html": [
       "<div>\n",
       "<style scoped>\n",
       "    .dataframe tbody tr th:only-of-type {\n",
       "        vertical-align: middle;\n",
       "    }\n",
       "\n",
       "    .dataframe tbody tr th {\n",
       "        vertical-align: top;\n",
       "    }\n",
       "\n",
       "    .dataframe thead th {\n",
       "        text-align: right;\n",
       "    }\n",
       "</style>\n",
       "<table border=\"1\" class=\"dataframe\">\n",
       "  <thead>\n",
       "    <tr style=\"text-align: right;\">\n",
       "      <th></th>\n",
       "      <th>v1</th>\n",
       "      <th>v2</th>\n",
       "    </tr>\n",
       "  </thead>\n",
       "  <tbody>\n",
       "    <tr>\n",
       "      <th>2022-10-31</th>\n",
       "      <td>104.333333</td>\n",
       "      <td>122.333333</td>\n",
       "    </tr>\n",
       "    <tr>\n",
       "      <th>2022-11-30</th>\n",
       "      <td>104.000000</td>\n",
       "      <td>124.500000</td>\n",
       "    </tr>\n",
       "    <tr>\n",
       "      <th>2022-12-31</th>\n",
       "      <td>105.500000</td>\n",
       "      <td>119.500000</td>\n",
       "    </tr>\n",
       "    <tr>\n",
       "      <th>2023-01-31</th>\n",
       "      <td>108.000000</td>\n",
       "      <td>121.000000</td>\n",
       "    </tr>\n",
       "  </tbody>\n",
       "</table>\n",
       "</div>"
      ],
      "text/plain": [
       "                    v1          v2\n",
       "2022-10-31  104.333333  122.333333\n",
       "2022-11-30  104.000000  124.500000\n",
       "2022-12-31  105.500000  119.500000\n",
       "2023-01-31  108.000000  121.000000"
      ]
     },
     "execution_count": 56,
     "metadata": {},
     "output_type": "execute_result"
    }
   ],
   "source": [
    "df.resample('M').mean()"
   ]
  },
  {
   "cell_type": "code",
   "execution_count": null,
   "id": "88f54b0f",
   "metadata": {},
   "outputs": [],
   "source": []
  },
  {
   "cell_type": "markdown",
   "id": "31e44dd5",
   "metadata": {},
   "source": [
    "# datetime indexing :"
   ]
  },
  {
   "cell_type": "markdown",
   "id": "7884fa34",
   "metadata": {},
   "source": [
    "we can **use partial string indexing to find values** from a **particular year or month**."
   ]
  },
  {
   "cell_type": "code",
   "execution_count": 57,
   "id": "f18177d5",
   "metadata": {},
   "outputs": [
    {
     "data": {
      "text/html": [
       "<div>\n",
       "<style scoped>\n",
       "    .dataframe tbody tr th:only-of-type {\n",
       "        vertical-align: middle;\n",
       "    }\n",
       "\n",
       "    .dataframe tbody tr th {\n",
       "        vertical-align: top;\n",
       "    }\n",
       "\n",
       "    .dataframe thead th {\n",
       "        text-align: right;\n",
       "    }\n",
       "</style>\n",
       "<table border=\"1\" class=\"dataframe\">\n",
       "  <thead>\n",
       "    <tr style=\"text-align: right;\">\n",
       "      <th></th>\n",
       "      <th>v1</th>\n",
       "      <th>v2</th>\n",
       "    </tr>\n",
       "  </thead>\n",
       "  <tbody>\n",
       "    <tr>\n",
       "      <th>2022-10-02</th>\n",
       "      <td>100</td>\n",
       "      <td>117</td>\n",
       "    </tr>\n",
       "    <tr>\n",
       "      <th>2022-10-16</th>\n",
       "      <td>108</td>\n",
       "      <td>126</td>\n",
       "    </tr>\n",
       "    <tr>\n",
       "      <th>2022-10-30</th>\n",
       "      <td>105</td>\n",
       "      <td>124</td>\n",
       "    </tr>\n",
       "    <tr>\n",
       "      <th>2022-11-13</th>\n",
       "      <td>100</td>\n",
       "      <td>127</td>\n",
       "    </tr>\n",
       "    <tr>\n",
       "      <th>2022-11-27</th>\n",
       "      <td>108</td>\n",
       "      <td>122</td>\n",
       "    </tr>\n",
       "    <tr>\n",
       "      <th>2022-12-11</th>\n",
       "      <td>105</td>\n",
       "      <td>123</td>\n",
       "    </tr>\n",
       "    <tr>\n",
       "      <th>2022-12-25</th>\n",
       "      <td>106</td>\n",
       "      <td>116</td>\n",
       "    </tr>\n",
       "  </tbody>\n",
       "</table>\n",
       "</div>"
      ],
      "text/plain": [
       "             v1   v2\n",
       "2022-10-02  100  117\n",
       "2022-10-16  108  126\n",
       "2022-10-30  105  124\n",
       "2022-11-13  100  127\n",
       "2022-11-27  108  122\n",
       "2022-12-11  105  123\n",
       "2022-12-25  106  116"
      ]
     },
     "execution_count": 57,
     "metadata": {},
     "output_type": "execute_result"
    }
   ],
   "source": [
    "df.loc['2022']"
   ]
  },
  {
   "cell_type": "code",
   "execution_count": 58,
   "id": "35fd7b0c",
   "metadata": {},
   "outputs": [
    {
     "data": {
      "text/html": [
       "<div>\n",
       "<style scoped>\n",
       "    .dataframe tbody tr th:only-of-type {\n",
       "        vertical-align: middle;\n",
       "    }\n",
       "\n",
       "    .dataframe tbody tr th {\n",
       "        vertical-align: top;\n",
       "    }\n",
       "\n",
       "    .dataframe thead th {\n",
       "        text-align: right;\n",
       "    }\n",
       "</style>\n",
       "<table border=\"1\" class=\"dataframe\">\n",
       "  <thead>\n",
       "    <tr style=\"text-align: right;\">\n",
       "      <th></th>\n",
       "      <th>v1</th>\n",
       "      <th>v2</th>\n",
       "    </tr>\n",
       "  </thead>\n",
       "  <tbody>\n",
       "    <tr>\n",
       "      <th>2023-01-08</th>\n",
       "      <td>105</td>\n",
       "      <td>115</td>\n",
       "    </tr>\n",
       "    <tr>\n",
       "      <th>2023-01-22</th>\n",
       "      <td>111</td>\n",
       "      <td>127</td>\n",
       "    </tr>\n",
       "  </tbody>\n",
       "</table>\n",
       "</div>"
      ],
      "text/plain": [
       "             v1   v2\n",
       "2023-01-08  105  115\n",
       "2023-01-22  111  127"
      ]
     },
     "execution_count": 58,
     "metadata": {},
     "output_type": "execute_result"
    }
   ],
   "source": [
    "df.loc['2023', :]"
   ]
  },
  {
   "cell_type": "markdown",
   "id": "a55efddf",
   "metadata": {},
   "source": [
    "we can do it from **a particular month**."
   ]
  },
  {
   "cell_type": "code",
   "execution_count": 59,
   "id": "90a0e15a",
   "metadata": {},
   "outputs": [
    {
     "data": {
      "text/html": [
       "<div>\n",
       "<style scoped>\n",
       "    .dataframe tbody tr th:only-of-type {\n",
       "        vertical-align: middle;\n",
       "    }\n",
       "\n",
       "    .dataframe tbody tr th {\n",
       "        vertical-align: top;\n",
       "    }\n",
       "\n",
       "    .dataframe thead th {\n",
       "        text-align: right;\n",
       "    }\n",
       "</style>\n",
       "<table border=\"1\" class=\"dataframe\">\n",
       "  <thead>\n",
       "    <tr style=\"text-align: right;\">\n",
       "      <th></th>\n",
       "      <th>v1</th>\n",
       "      <th>v2</th>\n",
       "    </tr>\n",
       "  </thead>\n",
       "  <tbody>\n",
       "    <tr>\n",
       "      <th>2022-10-02</th>\n",
       "      <td>100</td>\n",
       "      <td>117</td>\n",
       "    </tr>\n",
       "    <tr>\n",
       "      <th>2022-10-16</th>\n",
       "      <td>108</td>\n",
       "      <td>126</td>\n",
       "    </tr>\n",
       "    <tr>\n",
       "      <th>2022-10-30</th>\n",
       "      <td>105</td>\n",
       "      <td>124</td>\n",
       "    </tr>\n",
       "  </tbody>\n",
       "</table>\n",
       "</div>"
      ],
      "text/plain": [
       "             v1   v2\n",
       "2022-10-02  100  117\n",
       "2022-10-16  108  126\n",
       "2022-10-30  105  124"
      ]
     },
     "execution_count": 59,
     "metadata": {},
     "output_type": "execute_result"
    }
   ],
   "source": [
    "df.loc['2022-10']"
   ]
  },
  {
   "cell_type": "code",
   "execution_count": null,
   "id": "8a991a56",
   "metadata": {},
   "outputs": [],
   "source": []
  },
  {
   "cell_type": "markdown",
   "id": "4b0ecf76",
   "metadata": {},
   "source": [
    "# datetime slicing :"
   ]
  },
  {
   "cell_type": "markdown",
   "id": "13d50009",
   "metadata": {},
   "source": [
    "we can even **slice on a range of dates** For example, here **we only want the values from October 2022 onwards**."
   ]
  },
  {
   "cell_type": "code",
   "execution_count": 60,
   "id": "d6fc717c",
   "metadata": {},
   "outputs": [
    {
     "data": {
      "text/html": [
       "<div>\n",
       "<style scoped>\n",
       "    .dataframe tbody tr th:only-of-type {\n",
       "        vertical-align: middle;\n",
       "    }\n",
       "\n",
       "    .dataframe tbody tr th {\n",
       "        vertical-align: top;\n",
       "    }\n",
       "\n",
       "    .dataframe thead th {\n",
       "        text-align: right;\n",
       "    }\n",
       "</style>\n",
       "<table border=\"1\" class=\"dataframe\">\n",
       "  <thead>\n",
       "    <tr style=\"text-align: right;\">\n",
       "      <th></th>\n",
       "      <th>v1</th>\n",
       "      <th>v2</th>\n",
       "    </tr>\n",
       "  </thead>\n",
       "  <tbody>\n",
       "    <tr>\n",
       "      <th>2022-12-11</th>\n",
       "      <td>105</td>\n",
       "      <td>123</td>\n",
       "    </tr>\n",
       "    <tr>\n",
       "      <th>2022-12-25</th>\n",
       "      <td>106</td>\n",
       "      <td>116</td>\n",
       "    </tr>\n",
       "    <tr>\n",
       "      <th>2023-01-08</th>\n",
       "      <td>105</td>\n",
       "      <td>115</td>\n",
       "    </tr>\n",
       "    <tr>\n",
       "      <th>2023-01-22</th>\n",
       "      <td>111</td>\n",
       "      <td>127</td>\n",
       "    </tr>\n",
       "  </tbody>\n",
       "</table>\n",
       "</div>"
      ],
      "text/plain": [
       "             v1   v2\n",
       "2022-12-11  105  123\n",
       "2022-12-25  106  116\n",
       "2023-01-08  105  115\n",
       "2023-01-22  111  127"
      ]
     },
     "execution_count": 60,
     "metadata": {},
     "output_type": "execute_result"
    }
   ],
   "source": [
    "df.loc['2022-12':]"
   ]
  },
  {
   "cell_type": "code",
   "execution_count": null,
   "id": "9d03240c",
   "metadata": {},
   "outputs": [],
   "source": []
  }
 ],
 "metadata": {
  "kernelspec": {
   "display_name": "Python 3 (ipykernel)",
   "language": "python",
   "name": "python3"
  },
  "language_info": {
   "codemirror_mode": {
    "name": "ipython",
    "version": 3
   },
   "file_extension": ".py",
   "mimetype": "text/x-python",
   "name": "python",
   "nbconvert_exporter": "python",
   "pygments_lexer": "ipython3",
   "version": "3.9.7"
  },
  "latex_envs": {
   "LaTeX_envs_menu_present": true,
   "autoclose": false,
   "autocomplete": true,
   "bibliofile": "biblio.bib",
   "cite_by": "apalike",
   "current_citInitial": 1,
   "eqLabelWithNumbers": true,
   "eqNumInitial": 1,
   "hotkeys": {
    "equation": "Ctrl-E",
    "itemize": "Ctrl-I"
   },
   "labels_anchors": false,
   "latex_user_defs": false,
   "report_style_numbering": false,
   "user_envs_cfg": false
  }
 },
 "nbformat": 4,
 "nbformat_minor": 5
}
