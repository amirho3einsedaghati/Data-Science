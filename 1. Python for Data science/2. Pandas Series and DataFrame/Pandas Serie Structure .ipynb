{
 "cells": [
  {
   "cell_type": "markdown",
   "id": "5dbce0ad",
   "metadata": {},
   "source": [
    "<br>\n",
    "we want to check out:\n",
    "\n",
    "* how to store and manipulate single dimensional indexed data in the Series object.\n",
    "* how to create a Series from lists and dictionaries?\n",
    "* how indicies on data work?\n",
    "* how pandas typecasts data including missing values?"
   ]
  },
  {
   "cell_type": "code",
   "execution_count": 1,
   "id": "77ea5d70",
   "metadata": {},
   "outputs": [],
   "source": [
    "import pandas as pd\n"
   ]
  },
  {
   "cell_type": "markdown",
   "id": "62af4595",
   "metadata": {},
   "source": [
    "<br>\n",
    "The Series is one of the core data structures in pandas. it is a cross between a list and a dictionary.\n",
    "\n",
    "data are all stored in an order and there's labels with which you can retrieve them. An easy way to visualize this is two columns of data. The first is the special index, a lot like keys in a dictionary. While the second is your actual data. It's important to note that the data column has a label of its own and can be retrieved using the .name attribute.\n",
    "\n",
    "This is different than with dictionaries and is useful when it comes to merging multiple columns of data."
   ]
  },
  {
   "cell_type": "markdown",
   "id": "9d64786e",
   "metadata": {},
   "source": [
    "<br>\n",
    "in the following example, We see here that the pandas has automatically identified the type of data in this Series as \"object\" and set the dytpe parameter as appropriate, and We see that the values are indexed with integers, starting at zero."
   ]
  },
  {
   "cell_type": "markdown",
   "id": "f0c9b3fa",
   "metadata": {},
   "source": [
    "# create a Series from lists"
   ]
  },
  {
   "cell_type": "code",
   "execution_count": 2,
   "id": "cd708e6d",
   "metadata": {},
   "outputs": [
    {
     "data": {
      "text/plain": [
       "0     Amir\n",
       "1     Reza\n",
       "2    Saleh\n",
       "dtype: object"
      ]
     },
     "execution_count": 2,
     "metadata": {},
     "output_type": "execute_result"
    }
   ],
   "source": [
    "students = ['Amir', 'Reza', 'Saleh']\n",
    "\n",
    "pd.Series(students)"
   ]
  },
  {
   "cell_type": "markdown",
   "id": "607a83d2",
   "metadata": {},
   "source": [
    "<br>\n",
    "Underneath pandas stores series values in a typed array using the Numpy library. This offers significant speedup when processing data versus traditional python lists."
   ]
  },
  {
   "cell_type": "code",
   "execution_count": 3,
   "id": "a07144fe",
   "metadata": {},
   "outputs": [
    {
     "data": {
      "text/plain": [
       "0    1\n",
       "1    2\n",
       "2    3\n",
       "3    4\n",
       "dtype: int64"
      ]
     },
     "execution_count": 3,
     "metadata": {},
     "output_type": "execute_result"
    }
   ],
   "source": [
    "numbers = [1,2,3,4]\n",
    "\n",
    "pd.Series(numbers)"
   ]
  },
  {
   "cell_type": "markdown",
   "id": "837f4822",
   "metadata": {},
   "source": [
    "how Numpy and thus pandas ***handle missing data*** ?"
   ]
  },
  {
   "cell_type": "markdown",
   "id": "57075998",
   "metadata": {},
   "source": [
    "In Python, we have the **none type** to indicate **a lack of data**."
   ]
  },
  {
   "cell_type": "markdown",
   "id": "f34fd3b4",
   "metadata": {},
   "source": [
    "Underneath, pandas does some **type conversion**. If we create **a list of strings** in that we have one element, a **None type**, **pandas automatically converts this to a special string value designated as a None and uses the type object for the underlying array**.\n"
   ]
  },
  {
   "cell_type": "code",
   "execution_count": 4,
   "id": "43d72801",
   "metadata": {},
   "outputs": [
    {
     "data": {
      "text/plain": [
       "0     Amir\n",
       "1        3\n",
       "2    Saleh\n",
       "dtype: object"
      ]
     },
     "execution_count": 4,
     "metadata": {},
     "output_type": "execute_result"
    }
   ],
   "source": [
    "students = [\"Amir\", 3, 'Saleh']\n",
    "\n",
    "pd.Series(students)"
   ]
  },
  {
   "cell_type": "markdown",
   "id": "c4dad7ab",
   "metadata": {},
   "source": [
    "it happens because **integers can be typecast to strings**."
   ]
  },
  {
   "cell_type": "code",
   "execution_count": 5,
   "id": "0042e3f0",
   "metadata": {},
   "outputs": [
    {
     "data": {
      "text/plain": [
       "0     Amir\n",
       "1        3\n",
       "2    Saleh\n",
       "dtype: object"
      ]
     },
     "execution_count": 5,
     "metadata": {},
     "output_type": "execute_result"
    }
   ],
   "source": [
    "students = [\"Amir\", 3, 'Saleh']\n",
    "\n",
    "pd.Series(students)"
   ]
  },
  {
   "cell_type": "markdown",
   "id": "3276bc6e",
   "metadata": {},
   "source": [
    "if we create **a list of numbers, integers or floats,** and put in the **None type**, **pandas automatically converts this to a special floating point value designated as NaN, which stands for \"Not a Number\"**.\n"
   ]
  },
  {
   "cell_type": "code",
   "execution_count": 6,
   "id": "b8d0cc80",
   "metadata": {},
   "outputs": [
    {
     "data": {
      "text/plain": [
       "0    1.0\n",
       "1    2.0\n",
       "2    NaN\n",
       "3    4.0\n",
       "dtype: float64"
      ]
     },
     "execution_count": 6,
     "metadata": {},
     "output_type": "execute_result"
    }
   ],
   "source": [
    "numbers = [1, 2, None, 4]\n",
    "\n",
    "pd.Series(numbers)"
   ]
  },
  {
   "cell_type": "markdown",
   "id": "bad9489c",
   "metadata": {},
   "source": [
    "You'll notice a couple of things:\n",
    "\n",
    "* First, **NaN can have different values**. \n",
    "* Second, pandas set the dytpe of this series to floating point numbers instead of object or ints.\n",
    "\n",
    "why not just leave this as an integer?\n",
    "\n",
    "Underneath, pandas represents NaN as a floating point number, because **integers can be typecast to floats**.\n",
    "\n",
    "so, when you're wondering why the list of integers you put into a Series is not floats, it returns the dtype of a float64 it's probably because there is some **missing data**."
   ]
  },
  {
   "cell_type": "code",
   "execution_count": null,
   "id": "cfdcd7a4",
   "metadata": {},
   "outputs": [],
   "source": []
  },
  {
   "cell_type": "markdown",
   "id": "1832c9b8",
   "metadata": {},
   "source": [
    "<br>\n",
    "None and NaN might be being used by the data scientist in the same way, to denote missing data, but that underneath these are not represented by pandas in the same\n",
    "way."
   ]
  },
  {
   "cell_type": "code",
   "execution_count": 7,
   "id": "72aad454",
   "metadata": {},
   "outputs": [],
   "source": [
    "import numpy as np"
   ]
  },
  {
   "cell_type": "markdown",
   "id": "25523a3e",
   "metadata": {},
   "source": [
    "**NaN is NOT equivilent to None** and when we try the **equality test**, the result is False."
   ]
  },
  {
   "cell_type": "code",
   "execution_count": 8,
   "id": "74aa3396",
   "metadata": {},
   "outputs": [
    {
     "data": {
      "text/plain": [
       "False"
      ]
     },
     "execution_count": 8,
     "metadata": {},
     "output_type": "execute_result"
    }
   ],
   "source": [
    "np.nan == None"
   ]
  },
  {
   "cell_type": "markdown",
   "id": "06a50cad",
   "metadata": {},
   "source": [
    "we actually **can't do an equality test of NAN to itself**. When you do, the answer is always False."
   ]
  },
  {
   "cell_type": "code",
   "execution_count": 9,
   "id": "ccd372f7",
   "metadata": {},
   "outputs": [
    {
     "data": {
      "text/plain": [
       "False"
      ]
     },
     "execution_count": 9,
     "metadata": {},
     "output_type": "execute_result"
    }
   ],
   "source": [
    "np.nan == np.nan"
   ]
  },
  {
   "cell_type": "markdown",
   "id": "adde52f2",
   "metadata": {},
   "source": [
    "we need to use special functions **to test for the presence of nan(not a number)**, such as the **Numpy library isnan()**."
   ]
  },
  {
   "cell_type": "code",
   "execution_count": 10,
   "id": "f2fbcf16",
   "metadata": {},
   "outputs": [
    {
     "data": {
      "text/plain": [
       "True"
      ]
     },
     "execution_count": 10,
     "metadata": {},
     "output_type": "execute_result"
    }
   ],
   "source": [
    "np.isnan(np.nan)"
   ]
  },
  {
   "cell_type": "markdown",
   "id": "634076e4",
   "metadata": {},
   "source": [
    "So keep in mind when we see **NaN, it's meaning is similar to None,** but it's **a numeric value and treated differently** for efficiency reasons."
   ]
  },
  {
   "cell_type": "code",
   "execution_count": null,
   "id": "035935f3",
   "metadata": {},
   "outputs": [],
   "source": []
  },
  {
   "cell_type": "markdown",
   "id": "34e096a6",
   "metadata": {},
   "source": [
    "# create a Series from dictionary"
   ]
  },
  {
   "cell_type": "markdown",
   "id": "1610ac57",
   "metadata": {},
   "source": [
    "oftentime, we have labeled data that you want to manipulate. \n",
    "\n",
    "A Series can be created directly from dictionary data. If you do this, **the index is automatically assigned to the keys of the dictionary** that you provided and not just \n",
    "incrementing integers.\n"
   ]
  },
  {
   "cell_type": "code",
   "execution_count": 11,
   "id": "e7c66c78",
   "metadata": {},
   "outputs": [
    {
     "data": {
      "text/plain": [
       "Amir       Software Engineering\n",
       "Sara                    Nursing\n",
       "Farshad                 Medical\n",
       "Shirin          Interior Design\n",
       "dtype: object"
      ]
     },
     "execution_count": 11,
     "metadata": {},
     "output_type": "execute_result"
    }
   ],
   "source": [
    "student_major = {\"Amir\" : \"Software Engineering\",\n",
    "                 \"Sara\" : \"Nursing\",\n",
    "                \"Farshad\" : \"Medical\",\n",
    "                \"Shirin\" : \"Interior Design\"}\n",
    "\n",
    "serie = pd.Series(student_major)\n",
    "serie"
   ]
  },
  {
   "cell_type": "markdown",
   "id": "80bbc5cc",
   "metadata": {},
   "source": [
    "We see that, since it was string data, pandas set the data type of the series to \"object\", and We see that the index, the first column, is also a list of strings."
   ]
  },
  {
   "cell_type": "code",
   "execution_count": null,
   "id": "3b116460",
   "metadata": {},
   "outputs": [],
   "source": []
  },
  {
   "cell_type": "markdown",
   "id": "ab31d58a",
   "metadata": {},
   "source": [
    "it happens because **integers can be typecast to strings**."
   ]
  },
  {
   "cell_type": "code",
   "execution_count": 12,
   "id": "1ba46652",
   "metadata": {},
   "outputs": [
    {
     "data": {
      "text/plain": [
       "Amir                    5\n",
       "Sara                    4\n",
       "Farhad                  3\n",
       "Shirin    Interior Design\n",
       "dtype: object"
      ]
     },
     "execution_count": 12,
     "metadata": {},
     "output_type": "execute_result"
    }
   ],
   "source": [
    "student_major = {'Amir' : 5,\n",
    "                 'Sara' : 4,\n",
    "                'Farhad' : 3,\n",
    "                'Shirin' : 'Interior Design'}\n",
    "\n",
    "pd.Series(student_major)"
   ]
  },
  {
   "cell_type": "markdown",
   "id": "629d6a0f",
   "metadata": {},
   "source": [
    "Once the series has been created, we can get the index object using the **.index** attribute."
   ]
  },
  {
   "cell_type": "code",
   "execution_count": 13,
   "id": "d6fe5844",
   "metadata": {},
   "outputs": [
    {
     "data": {
      "text/plain": [
       "Index(['Amir', 'Sara', 'Farshad', 'Shirin'], dtype='object')"
      ]
     },
     "execution_count": 13,
     "metadata": {},
     "output_type": "execute_result"
    }
   ],
   "source": [
    "serie.index"
   ]
  },
  {
   "cell_type": "code",
   "execution_count": 14,
   "id": "015c84d9",
   "metadata": {},
   "outputs": [
    {
     "data": {
      "text/plain": [
       "RangeIndex(start=0, stop=4, step=1)"
      ]
     },
     "execution_count": 14,
     "metadata": {},
     "output_type": "execute_result"
    }
   ],
   "source": [
    "numbers = [1, 2, None, 4]\n",
    "\n",
    "pd.Series(numbers).index"
   ]
  },
  {
   "cell_type": "markdown",
   "id": "911fe681",
   "metadata": {},
   "source": [
    "<br>\n",
    "a lot of things in the pandas are implemented as numpy arrays, and have the dtype value set. This is true of indicies, and here pandas infered that we were using string objects for the index."
   ]
  },
  {
   "cell_type": "code",
   "execution_count": null,
   "id": "825b4f52",
   "metadata": {},
   "outputs": [],
   "source": []
  },
  {
   "cell_type": "markdown",
   "id": "8e1286b8",
   "metadata": {},
   "source": [
    "<br>\n",
    "The dtype of object is not just for strings, but for arbitrary objects."
   ]
  },
  {
   "cell_type": "code",
   "execution_count": 15,
   "id": "fddc788f",
   "metadata": {},
   "outputs": [
    {
     "data": {
      "text/plain": [
       "0    (Amir Hosein, Sedaghati)\n",
       "1                (Reza, Avar)\n",
       "2              (Saleh, Falah)\n",
       "dtype: object"
      ]
     },
     "execution_count": 15,
     "metadata": {},
     "output_type": "execute_result"
    }
   ],
   "source": [
    "students = [('Amir Hosein', 'Sedaghati'), ('Reza', 'Avar'), ('Saleh', 'Falah')]\n",
    "\n",
    "pd.Series(students)"
   ]
  },
  {
   "cell_type": "markdown",
   "id": "da14ac2c",
   "metadata": {},
   "source": [
    "<br>\n",
    "We see that each of the tuples is stored in the series object, and the type is object."
   ]
  },
  {
   "cell_type": "code",
   "execution_count": null,
   "id": "2cdbf641",
   "metadata": {},
   "outputs": [],
   "source": []
  },
  {
   "cell_type": "code",
   "execution_count": 16,
   "id": "e1dbc052",
   "metadata": {},
   "outputs": [
    {
     "data": {
      "text/plain": [
       "Amir       Software Engineering\n",
       "Sara                    Nursing\n",
       "Farshad                 Medical\n",
       "Shirin           Interior Desig\n",
       "dtype: object"
      ]
     },
     "execution_count": 16,
     "metadata": {},
     "output_type": "execute_result"
    }
   ],
   "source": [
    "pd.Series(data= ['Software Engineering', 'Nursing', 'Medical', 'Interior Desig'], index= [\"Amir\", \"Sara\", \"Farshad\", \"Shirin\"])\n"
   ]
  },
  {
   "cell_type": "markdown",
   "id": "1bb7e23d",
   "metadata": {},
   "source": [
    "So, what happens if your list of values in the index object are not aligned with the keys in your dictionary for creating the series?\n",
    "\n",
    "Pandas will ignore from your dictionary all keys which are not in your index, and pandas will add None or NaN type values for any index value you provide, which is not in your dictionary key list."
   ]
  },
  {
   "cell_type": "code",
   "execution_count": 17,
   "id": "a64da5ee",
   "metadata": {},
   "outputs": [
    {
     "data": {
      "text/plain": [
       "Amir      Software Engineering\n",
       "Sara                   Nursing\n",
       "Davood                     NaN\n",
       "Reza                       NaN\n",
       "dtype: object"
      ]
     },
     "execution_count": 17,
     "metadata": {},
     "output_type": "execute_result"
    }
   ],
   "source": [
    "student_major = {\"Amir\" : \"Software Engineering\",\n",
    "                 \"Sara\" : \"Nursing\",\n",
    "                \"Farshad\" : \"Medical\",\n",
    "                \"Shirin\" : \"Interior Design\"}\n",
    "\n",
    "pd.Series(student_major, index= [\"Amir\", \"Sara\", \"Davood\", \"Reza\"])"
   ]
  },
  {
   "cell_type": "markdown",
   "id": "93d5f7bb",
   "metadata": {},
   "source": [
    "<br>\n",
    "The result is that the Series object doesn't have Farshad and Shririn in it, even though he was in our original dataset, but it explicitly does have Davood and Reza in it as a missing value."
   ]
  },
  {
   "cell_type": "code",
   "execution_count": null,
   "id": "3ed3a74f",
   "metadata": {},
   "outputs": [],
   "source": []
  }
 ],
 "metadata": {
  "kernelspec": {
   "display_name": "Python 3 (ipykernel)",
   "language": "python",
   "name": "python3"
  },
  "language_info": {
   "codemirror_mode": {
    "name": "ipython",
    "version": 3
   },
   "file_extension": ".py",
   "mimetype": "text/x-python",
   "name": "python",
   "nbconvert_exporter": "python",
   "pygments_lexer": "ipython3",
   "version": "3.9.7"
  },
  "latex_envs": {
   "LaTeX_envs_menu_present": true,
   "autoclose": false,
   "autocomplete": true,
   "bibliofile": "biblio.bib",
   "cite_by": "apalike",
   "current_citInitial": 1,
   "eqLabelWithNumbers": true,
   "eqNumInitial": 1,
   "hotkeys": {
    "equation": "Ctrl-E",
    "itemize": "Ctrl-I"
   },
   "labels_anchors": false,
   "latex_user_defs": false,
   "report_style_numbering": false,
   "user_envs_cfg": false
  }
 },
 "nbformat": 4,
 "nbformat_minor": 5
}
