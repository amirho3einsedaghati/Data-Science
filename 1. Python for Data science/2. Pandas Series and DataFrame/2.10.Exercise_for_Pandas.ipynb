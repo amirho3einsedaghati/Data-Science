{
 "cells": [
  {
   "cell_type": "code",
   "execution_count": 1,
   "id": "29d64279",
   "metadata": {},
   "outputs": [],
   "source": [
    "import pandas as pd\n",
    "import numpy as np"
   ]
  },
  {
   "cell_type": "code",
   "execution_count": 2,
   "id": "936cb6e6",
   "metadata": {},
   "outputs": [
    {
     "data": {
      "text/html": [
       "<div>\n",
       "<style scoped>\n",
       "    .dataframe tbody tr th:only-of-type {\n",
       "        vertical-align: middle;\n",
       "    }\n",
       "\n",
       "    .dataframe tbody tr th {\n",
       "        vertical-align: top;\n",
       "    }\n",
       "\n",
       "    .dataframe thead th {\n",
       "        text-align: right;\n",
       "    }\n",
       "</style>\n",
       "<table border=\"1\" class=\"dataframe\">\n",
       "  <thead>\n",
       "    <tr style=\"text-align: right;\">\n",
       "      <th></th>\n",
       "      <th>SEQNUMC</th>\n",
       "      <th>SEQNUMHH</th>\n",
       "      <th>PDAT</th>\n",
       "      <th>PROVWT_D</th>\n",
       "      <th>RDDWT_D</th>\n",
       "      <th>STRATUM</th>\n",
       "      <th>YEAR</th>\n",
       "      <th>AGECPOXR</th>\n",
       "      <th>HAD_CPOX</th>\n",
       "      <th>AGEGRP</th>\n",
       "      <th>...</th>\n",
       "      <th>XVRCTY2</th>\n",
       "      <th>XVRCTY3</th>\n",
       "      <th>XVRCTY4</th>\n",
       "      <th>XVRCTY5</th>\n",
       "      <th>XVRCTY6</th>\n",
       "      <th>XVRCTY7</th>\n",
       "      <th>XVRCTY8</th>\n",
       "      <th>XVRCTY9</th>\n",
       "      <th>INS_STAT2_I</th>\n",
       "      <th>INS_BREAK_I</th>\n",
       "    </tr>\n",
       "  </thead>\n",
       "  <tbody>\n",
       "    <tr>\n",
       "      <th>1</th>\n",
       "      <td>128521</td>\n",
       "      <td>12852</td>\n",
       "      <td>2</td>\n",
       "      <td>NaN</td>\n",
       "      <td>235.916956</td>\n",
       "      <td>1031</td>\n",
       "      <td>2017</td>\n",
       "      <td>NaN</td>\n",
       "      <td>2</td>\n",
       "      <td>1</td>\n",
       "      <td>...</td>\n",
       "      <td></td>\n",
       "      <td></td>\n",
       "      <td>NaN</td>\n",
       "      <td>NaN</td>\n",
       "      <td>NaN</td>\n",
       "      <td>NaN</td>\n",
       "      <td>NaN</td>\n",
       "      <td>NaN</td>\n",
       "      <td>NaN</td>\n",
       "      <td>NaN</td>\n",
       "    </tr>\n",
       "    <tr>\n",
       "      <th>2</th>\n",
       "      <td>10741</td>\n",
       "      <td>1074</td>\n",
       "      <td>2</td>\n",
       "      <td>NaN</td>\n",
       "      <td>957.353840</td>\n",
       "      <td>1068</td>\n",
       "      <td>2017</td>\n",
       "      <td>NaN</td>\n",
       "      <td>2</td>\n",
       "      <td>1</td>\n",
       "      <td>...</td>\n",
       "      <td></td>\n",
       "      <td></td>\n",
       "      <td>NaN</td>\n",
       "      <td>NaN</td>\n",
       "      <td>NaN</td>\n",
       "      <td>NaN</td>\n",
       "      <td>NaN</td>\n",
       "      <td>NaN</td>\n",
       "      <td>NaN</td>\n",
       "      <td>NaN</td>\n",
       "    </tr>\n",
       "    <tr>\n",
       "      <th>3</th>\n",
       "      <td>220011</td>\n",
       "      <td>22001</td>\n",
       "      <td>2</td>\n",
       "      <td>NaN</td>\n",
       "      <td>189.611299</td>\n",
       "      <td>1050</td>\n",
       "      <td>2017</td>\n",
       "      <td>NaN</td>\n",
       "      <td>2</td>\n",
       "      <td>3</td>\n",
       "      <td>...</td>\n",
       "      <td></td>\n",
       "      <td></td>\n",
       "      <td>NaN</td>\n",
       "      <td>NaN</td>\n",
       "      <td>NaN</td>\n",
       "      <td>NaN</td>\n",
       "      <td>NaN</td>\n",
       "      <td>NaN</td>\n",
       "      <td>NaN</td>\n",
       "      <td>NaN</td>\n",
       "    </tr>\n",
       "    <tr>\n",
       "      <th>4</th>\n",
       "      <td>86131</td>\n",
       "      <td>8613</td>\n",
       "      <td>1</td>\n",
       "      <td>675.430817</td>\n",
       "      <td>333.447418</td>\n",
       "      <td>1040</td>\n",
       "      <td>2017</td>\n",
       "      <td>NaN</td>\n",
       "      <td>2</td>\n",
       "      <td>1</td>\n",
       "      <td>...</td>\n",
       "      <td></td>\n",
       "      <td></td>\n",
       "      <td>NaN</td>\n",
       "      <td>NaN</td>\n",
       "      <td>NaN</td>\n",
       "      <td>NaN</td>\n",
       "      <td>NaN</td>\n",
       "      <td>NaN</td>\n",
       "      <td>1.0</td>\n",
       "      <td>2.0</td>\n",
       "    </tr>\n",
       "    <tr>\n",
       "      <th>5</th>\n",
       "      <td>227141</td>\n",
       "      <td>22714</td>\n",
       "      <td>1</td>\n",
       "      <td>482.617748</td>\n",
       "      <td>278.768063</td>\n",
       "      <td>1008</td>\n",
       "      <td>2017</td>\n",
       "      <td>NaN</td>\n",
       "      <td>2</td>\n",
       "      <td>1</td>\n",
       "      <td>...</td>\n",
       "      <td></td>\n",
       "      <td></td>\n",
       "      <td>NaN</td>\n",
       "      <td>NaN</td>\n",
       "      <td>NaN</td>\n",
       "      <td>NaN</td>\n",
       "      <td>NaN</td>\n",
       "      <td>NaN</td>\n",
       "      <td>2.0</td>\n",
       "      <td>1.0</td>\n",
       "    </tr>\n",
       "    <tr>\n",
       "      <th>...</th>\n",
       "      <td>...</td>\n",
       "      <td>...</td>\n",
       "      <td>...</td>\n",
       "      <td>...</td>\n",
       "      <td>...</td>\n",
       "      <td>...</td>\n",
       "      <td>...</td>\n",
       "      <td>...</td>\n",
       "      <td>...</td>\n",
       "      <td>...</td>\n",
       "      <td>...</td>\n",
       "      <td>...</td>\n",
       "      <td>...</td>\n",
       "      <td>...</td>\n",
       "      <td>...</td>\n",
       "      <td>...</td>\n",
       "      <td>...</td>\n",
       "      <td>...</td>\n",
       "      <td>...</td>\n",
       "      <td>...</td>\n",
       "      <td>...</td>\n",
       "    </tr>\n",
       "    <tr>\n",
       "      <th>28461</th>\n",
       "      <td>19141</td>\n",
       "      <td>1914</td>\n",
       "      <td>2</td>\n",
       "      <td>NaN</td>\n",
       "      <td>21.188088</td>\n",
       "      <td>2062</td>\n",
       "      <td>2017</td>\n",
       "      <td>NaN</td>\n",
       "      <td>2</td>\n",
       "      <td>3</td>\n",
       "      <td>...</td>\n",
       "      <td></td>\n",
       "      <td></td>\n",
       "      <td>NaN</td>\n",
       "      <td>NaN</td>\n",
       "      <td>NaN</td>\n",
       "      <td>NaN</td>\n",
       "      <td>NaN</td>\n",
       "      <td>NaN</td>\n",
       "      <td>NaN</td>\n",
       "      <td>NaN</td>\n",
       "    </tr>\n",
       "    <tr>\n",
       "      <th>28462</th>\n",
       "      <td>121401</td>\n",
       "      <td>12140</td>\n",
       "      <td>2</td>\n",
       "      <td>NaN</td>\n",
       "      <td>26.503010</td>\n",
       "      <td>2004</td>\n",
       "      <td>2017</td>\n",
       "      <td>NaN</td>\n",
       "      <td>2</td>\n",
       "      <td>3</td>\n",
       "      <td>...</td>\n",
       "      <td></td>\n",
       "      <td></td>\n",
       "      <td>NaN</td>\n",
       "      <td>NaN</td>\n",
       "      <td>NaN</td>\n",
       "      <td>NaN</td>\n",
       "      <td>NaN</td>\n",
       "      <td>NaN</td>\n",
       "      <td>NaN</td>\n",
       "      <td>NaN</td>\n",
       "    </tr>\n",
       "    <tr>\n",
       "      <th>28463</th>\n",
       "      <td>128831</td>\n",
       "      <td>12883</td>\n",
       "      <td>2</td>\n",
       "      <td>NaN</td>\n",
       "      <td>27.520652</td>\n",
       "      <td>2004</td>\n",
       "      <td>2017</td>\n",
       "      <td>NaN</td>\n",
       "      <td>2</td>\n",
       "      <td>3</td>\n",
       "      <td>...</td>\n",
       "      <td></td>\n",
       "      <td></td>\n",
       "      <td>NaN</td>\n",
       "      <td>NaN</td>\n",
       "      <td>NaN</td>\n",
       "      <td>NaN</td>\n",
       "      <td>NaN</td>\n",
       "      <td>NaN</td>\n",
       "      <td>NaN</td>\n",
       "      <td>NaN</td>\n",
       "    </tr>\n",
       "    <tr>\n",
       "      <th>28464</th>\n",
       "      <td>82921</td>\n",
       "      <td>8292</td>\n",
       "      <td>2</td>\n",
       "      <td>NaN</td>\n",
       "      <td>22.390587</td>\n",
       "      <td>2062</td>\n",
       "      <td>2017</td>\n",
       "      <td>NaN</td>\n",
       "      <td>2</td>\n",
       "      <td>3</td>\n",
       "      <td>...</td>\n",
       "      <td></td>\n",
       "      <td></td>\n",
       "      <td>NaN</td>\n",
       "      <td>NaN</td>\n",
       "      <td>NaN</td>\n",
       "      <td>NaN</td>\n",
       "      <td>NaN</td>\n",
       "      <td>NaN</td>\n",
       "      <td>NaN</td>\n",
       "      <td>NaN</td>\n",
       "    </tr>\n",
       "    <tr>\n",
       "      <th>28465</th>\n",
       "      <td>244621</td>\n",
       "      <td>24462</td>\n",
       "      <td>2</td>\n",
       "      <td>NaN</td>\n",
       "      <td>27.520652</td>\n",
       "      <td>2004</td>\n",
       "      <td>2017</td>\n",
       "      <td>NaN</td>\n",
       "      <td>2</td>\n",
       "      <td>3</td>\n",
       "      <td>...</td>\n",
       "      <td></td>\n",
       "      <td></td>\n",
       "      <td>NaN</td>\n",
       "      <td>NaN</td>\n",
       "      <td>NaN</td>\n",
       "      <td>NaN</td>\n",
       "      <td>NaN</td>\n",
       "      <td>NaN</td>\n",
       "      <td>NaN</td>\n",
       "      <td>NaN</td>\n",
       "    </tr>\n",
       "  </tbody>\n",
       "</table>\n",
       "<p>28465 rows × 453 columns</p>\n",
       "</div>"
      ],
      "text/plain": [
       "       SEQNUMC  SEQNUMHH  PDAT    PROVWT_D     RDDWT_D  STRATUM  YEAR  \\\n",
       "1       128521     12852     2         NaN  235.916956     1031  2017   \n",
       "2        10741      1074     2         NaN  957.353840     1068  2017   \n",
       "3       220011     22001     2         NaN  189.611299     1050  2017   \n",
       "4        86131      8613     1  675.430817  333.447418     1040  2017   \n",
       "5       227141     22714     1  482.617748  278.768063     1008  2017   \n",
       "...        ...       ...   ...         ...         ...      ...   ...   \n",
       "28461    19141      1914     2         NaN   21.188088     2062  2017   \n",
       "28462   121401     12140     2         NaN   26.503010     2004  2017   \n",
       "28463   128831     12883     2         NaN   27.520652     2004  2017   \n",
       "28464    82921      8292     2         NaN   22.390587     2062  2017   \n",
       "28465   244621     24462     2         NaN   27.520652     2004  2017   \n",
       "\n",
       "       AGECPOXR  HAD_CPOX  AGEGRP  ...  XVRCTY2  XVRCTY3  XVRCTY4  XVRCTY5  \\\n",
       "1           NaN         2       1  ...                        NaN      NaN   \n",
       "2           NaN         2       1  ...                        NaN      NaN   \n",
       "3           NaN         2       3  ...                        NaN      NaN   \n",
       "4           NaN         2       1  ...                        NaN      NaN   \n",
       "5           NaN         2       1  ...                        NaN      NaN   \n",
       "...         ...       ...     ...  ...      ...      ...      ...      ...   \n",
       "28461       NaN         2       3  ...                        NaN      NaN   \n",
       "28462       NaN         2       3  ...                        NaN      NaN   \n",
       "28463       NaN         2       3  ...                        NaN      NaN   \n",
       "28464       NaN         2       3  ...                        NaN      NaN   \n",
       "28465       NaN         2       3  ...                        NaN      NaN   \n",
       "\n",
       "       XVRCTY6  XVRCTY7  XVRCTY8  XVRCTY9  INS_STAT2_I  INS_BREAK_I  \n",
       "1          NaN      NaN      NaN      NaN          NaN          NaN  \n",
       "2          NaN      NaN      NaN      NaN          NaN          NaN  \n",
       "3          NaN      NaN      NaN      NaN          NaN          NaN  \n",
       "4          NaN      NaN      NaN      NaN          1.0          2.0  \n",
       "5          NaN      NaN      NaN      NaN          2.0          1.0  \n",
       "...        ...      ...      ...      ...          ...          ...  \n",
       "28461      NaN      NaN      NaN      NaN          NaN          NaN  \n",
       "28462      NaN      NaN      NaN      NaN          NaN          NaN  \n",
       "28463      NaN      NaN      NaN      NaN          NaN          NaN  \n",
       "28464      NaN      NaN      NaN      NaN          NaN          NaN  \n",
       "28465      NaN      NaN      NaN      NaN          NaN          NaN  \n",
       "\n",
       "[28465 rows x 453 columns]"
      ]
     },
     "execution_count": 2,
     "metadata": {},
     "output_type": "execute_result"
    }
   ],
   "source": [
    "df = pd.read_csv(\"datasets/NISPUF17.csv\", index_col= 0)\n",
    "df"
   ]
  },
  {
   "cell_type": "markdown",
   "id": "303b99fc",
   "metadata": {},
   "source": [
    "## Question 1\n",
    "Write a function called `proportion_of_education` which returns the proportion of children in the dataset who had a mother with the education levels equal to less than high school (<12), high school (12), more than high school but not a college graduate (>12) and college degree.\n",
    "\n",
    "*This function should return a dictionary in the form of (use the correct numbers, do not round numbers):* \n",
    "```\n",
    "    {\"less than high school\":0.2,\n",
    "    \"high school\":0.4,\n",
    "    \"more than high school but not college\":0.2,\n",
    "    \"college\":0.2}\n",
    "```"
   ]
  },
  {
   "cell_type": "markdown",
   "id": "d5699afc",
   "metadata": {},
   "source": [
    "EDUC1 – education of the mother  \n",
    "* <12 years : 1 (n = 2904)\n",
    "* 12 years : 2 (n = 4906)\n",
    "* greater than >12 years, not a college graduate : 3 (n = 6999)\n",
    "* College graduate : 4 (n = 13656)"
   ]
  },
  {
   "cell_type": "code",
   "execution_count": 3,
   "id": "9fce8657",
   "metadata": {},
   "outputs": [],
   "source": [
    "def proportion_of_education():\n",
    "    dic = {\"less than high school\" : len(df[\"EDUC1\"][df[\"EDUC1\"] == 1]) / len(df),\n",
    "          \"high school\" : len(df[\"EDUC1\"][df[\"EDUC1\"] == 2]) / len(df),\n",
    "          \"more than high school but not college\" : len(df[\"EDUC1\"][df[\"EDUC1\"] == 3]) / len(df),\n",
    "          \"college\" : len(df[\"EDUC1\"][df[\"EDUC1\"] == 4]) / len(df)}\n",
    "    \n",
    "    return dic\n",
    "\n",
    "    raise NotImplementedError()"
   ]
  },
  {
   "cell_type": "code",
   "execution_count": 4,
   "id": "4c2c2c04",
   "metadata": {
    "scrolled": true
   },
   "outputs": [
    {
     "data": {
      "text/plain": [
       "{'less than high school': 0.10202002459160373,\n",
       " 'high school': 0.172352011241876,\n",
       " 'more than high school but not college': 0.24588090637625154,\n",
       " 'college': 0.47974705779026877}"
      ]
     },
     "execution_count": 4,
     "metadata": {},
     "output_type": "execute_result"
    }
   ],
   "source": [
    "proportion_of_education()"
   ]
  },
  {
   "cell_type": "code",
   "execution_count": 5,
   "id": "4a567a9d",
   "metadata": {},
   "outputs": [],
   "source": [
    "assert type(proportion_of_education())==type({}), \"You must return a dictionary.\"\n",
    "assert len(proportion_of_education()) == 4, \"You have not returned a dictionary with four items in it.\"\n",
    "assert \"less than high school\" in proportion_of_education().keys(), \"You have not returned a dictionary with the correct keys.\"\n",
    "assert \"high school\" in proportion_of_education().keys(), \"You have not returned a dictionary with the correct keys.\"\n",
    "assert \"more than high school but not college\" in proportion_of_education().keys(), \"You have not returned a dictionary with the correct keys.\"\n",
    "assert \"college\" in proportion_of_education().keys(), \"You have not returned a dictionary with the correct keys.\"\n"
   ]
  },
  {
   "cell_type": "markdown",
   "id": "7903db0a",
   "metadata": {},
   "source": [
    "## Question 2\n",
    "\n",
    "Let's explore the relationship between being fed breastmilk as a child and getting a seasonal influenza vaccine from a healthcare provider. Return a tuple of the average number of influenza vaccines for those children we know received breastmilk as a child and those who know did not.\n",
    "\n",
    "*This function should return a tuple in the form (use the correct numbers:*\n",
    "```\n",
    "(2.5, 0.1)\n",
    "```"
   ]
  },
  {
   "cell_type": "markdown",
   "id": "2b73fb89",
   "metadata": {},
   "source": [
    "CBF_01 – child ever fed breast milk\n",
    "\n",
    "* Yes : 1\n",
    "* No : 2"
   ]
  },
  {
   "cell_type": "markdown",
   "id": "185a00d3",
   "metadata": {},
   "source": [
    "P_NUMVRC – total number of varicella doses"
   ]
  },
  {
   "cell_type": "code",
   "execution_count": 6,
   "id": "527fe3cf",
   "metadata": {},
   "outputs": [],
   "source": [
    "def average_influenza_doses():\n",
    "    new_df = df[['CBF_01', 'P_NUMFLU']]\n",
    "    \n",
    "    with_breast_milk_df = new_df[new_df[\"CBF_01\"] == 1] # category 1 \n",
    "    yes_mean = with_breast_milk_df[\"P_NUMFLU\"].mean()\n",
    "    \n",
    "    without_breast_milk_df = new_df[new_df[\"CBF_01\"] == 2] # category 2\n",
    "    no_mean = without_breast_milk_df[\"P_NUMFLU\"].mean()\n",
    "\n",
    "    return (yes_mean, no_mean)\n",
    "\n",
    "    raise NotImplementedError()"
   ]
  },
  {
   "cell_type": "code",
   "execution_count": 7,
   "id": "3c6d323e",
   "metadata": {},
   "outputs": [
    {
     "data": {
      "text/plain": [
       "(1.8799187420058687, 1.5963945918878317)"
      ]
     },
     "execution_count": 7,
     "metadata": {},
     "output_type": "execute_result"
    }
   ],
   "source": [
    "average_influenza_doses() # 1.0298833518816206"
   ]
  },
  {
   "cell_type": "code",
   "execution_count": 8,
   "id": "3563fe52",
   "metadata": {},
   "outputs": [],
   "source": [
    "assert len(average_influenza_doses())==2, \"Return two values in a tuple, the first for yes and the second for no.\""
   ]
  },
  {
   "cell_type": "markdown",
   "id": "1a0e58a2",
   "metadata": {},
   "source": [
    "assert len(average_influenza_doses())==2, \"Return two values in a tuple, the first for yes and the second for no.\""
   ]
  },
  {
   "cell_type": "markdown",
   "id": "b75592b9",
   "metadata": {},
   "source": [
    "## Question 3\n",
    "It would be interesting to see if there is any evidence of a link between vaccine effectiveness and sex of the child. Calculate the ratio of the number of children who contracted chickenpox but were vaccinated against it (at least one varicella dose) versus those who were vaccinated but did not contract chicken pox. Return results by sex. \n",
    "\n",
    "*This function should return a dictionary in the form of (use the correct numbers):* \n",
    "```\n",
    "    {\"male\":0.2,\n",
    "    \"female\":0.4}\n",
    "```\n",
    "\n",
    "Note: To aid in verification, the `chickenpox_by_sex()['female']` value the autograder is looking for starts with the digits `0.0077`."
   ]
  },
  {
   "cell_type": "markdown",
   "id": "b7a94226",
   "metadata": {},
   "source": [
    "SEX – sex of child\n",
    "\n",
    "* male : 1 (n = 14717)\n",
    "* female : 2 (n = 13748)"
   ]
  },
  {
   "cell_type": "markdown",
   "id": "afe4ceed",
   "metadata": {},
   "source": [
    "HAD_CPOX – did child ever have chicken pox\n",
    "\n",
    "* Yes : 1\n",
    "* No : 2"
   ]
  },
  {
   "cell_type": "markdown",
   "id": "87666eb2",
   "metadata": {},
   "source": [
    "P_NUMFLU – total number of seasonal influenza doses"
   ]
  },
  {
   "cell_type": "code",
   "execution_count": 9,
   "id": "e0e075bf",
   "metadata": {},
   "outputs": [],
   "source": [
    "def chickenpox_by_sex():\n",
    "    new_df = df[[\"SEX\", \"HAD_CPOX\", \"P_NUMVRC\"]]\n",
    "    new_df = new_df[new_df[\"P_NUMVRC\"] > 0] # we only want the information of presons who injected at least one varicella dose\n",
    "    \n",
    "    male_df = new_df[new_df[\"SEX\"] == 1] # category 1\n",
    "    female_df = new_df[new_df[\"SEX\"] == 2] # category 2\n",
    "    \n",
    "    male_ratio = len(male_df[male_df[\"HAD_CPOX\"] == 1]) / len(male_df[male_df[\"HAD_CPOX\"] == 2])\n",
    "    female_ratio = len(female_df[female_df[\"HAD_CPOX\"] == 1]) / len(female_df[female_df[\"HAD_CPOX\"] == 2])\n",
    "    \n",
    "    return {\"male\" : male_ratio,\n",
    "            \"female\" : female_ratio}\n",
    "\n",
    "    raise NotImplementedError()"
   ]
  },
  {
   "cell_type": "code",
   "execution_count": 10,
   "id": "64ae2b1e",
   "metadata": {},
   "outputs": [
    {
     "data": {
      "text/plain": [
       "{'male': 0.009675583380762664, 'female': 0.0077918259335489565}"
      ]
     },
     "execution_count": 10,
     "metadata": {},
     "output_type": "execute_result"
    }
   ],
   "source": [
    "chickenpox_by_sex()"
   ]
  },
  {
   "cell_type": "code",
   "execution_count": 11,
   "id": "5fff6ac7",
   "metadata": {},
   "outputs": [],
   "source": [
    "assert len(chickenpox_by_sex())==2, \"Return a dictionary with two items, the first for males and the second for females.\"\n",
    "\n"
   ]
  },
  {
   "cell_type": "markdown",
   "id": "5eb60e56",
   "metadata": {},
   "source": [
    "## Question 4\n",
    "A correlation is a statistical relationship between two variables. If we wanted to know if vaccines work, we might look at the correlation between the use of the vaccine and whether it results in prevention of the infection or disease [1]. In this question, you are to see if there is a correlation between having had the chicken pox and the number of chickenpox vaccine doses given (varicella).\n",
    "\n",
    "Some notes on interpreting the answer.The`had_chickenpox_column` is either `1` (for yes) or `2` (for no), and the `num_chickenpox_vaccine_column` is the number of doses a child has been given of the varicella vaccine. A positive correlation (e.g., `corr > 0`) means that an increase in `had_chickenpox_column` (which means more no’s) would also increase the values of`num_chickenpox_vaccine_column` (which means more doses of vaccine). If there is a negative correlation (e.g., `corr < 0`), it indicates that having had chickenpox is related to an increase in the number of vaccine doses.\n",
    "\n",
    "Also, `pval` is the probability that we observe a correlation between `had_chickenpox_column` and `num_chickenpox_vaccine_column` which is greater than or equal to a particular value occurred by chance. A small `pval` means that the observed correlation is highly unlikely to occur by chance. In this case, `pval` should be very small (will end in `e-18` indicating a very small number).\n",
    "\n",
    "[1] This isn’t really the full picture, since we are not looking at when the dose was given. It’s possible that children had chickenpox and then their parents went to get them the vaccine. Does this dataset have the data we would need to investigate the timing of the dose?"
   ]
  },
  {
   "cell_type": "code",
   "execution_count": 12,
   "id": "582f72a0",
   "metadata": {},
   "outputs": [
    {
     "data": {
      "text/plain": [
       "28465"
      ]
     },
     "execution_count": 12,
     "metadata": {},
     "output_type": "execute_result"
    }
   ],
   "source": [
    "new_df = df[[\"HAD_CPOX\", \"P_NUMVRC\"]] # 2: 28357\n",
    "len(new_df)"
   ]
  },
  {
   "cell_type": "code",
   "execution_count": 13,
   "id": "5d6416ed",
   "metadata": {},
   "outputs": [
    {
     "data": {
      "text/plain": [
       "402"
      ]
     },
     "execution_count": 13,
     "metadata": {},
     "output_type": "execute_result"
    }
   ],
   "source": [
    "len(new_df[new_df[\"HAD_CPOX\"] == 1])"
   ]
  },
  {
   "cell_type": "code",
   "execution_count": 14,
   "id": "80178a95",
   "metadata": {},
   "outputs": [
    {
     "data": {
      "text/plain": [
       "27955"
      ]
     },
     "execution_count": 14,
     "metadata": {},
     "output_type": "execute_result"
    }
   ],
   "source": [
    "len(new_df[new_df[\"HAD_CPOX\"] == 2])"
   ]
  },
  {
   "cell_type": "code",
   "execution_count": 15,
   "id": "ada58a98",
   "metadata": {},
   "outputs": [
    {
     "data": {
      "text/plain": [
       "28357"
      ]
     },
     "execution_count": 15,
     "metadata": {},
     "output_type": "execute_result"
    }
   ],
   "source": [
    "402 + 27955"
   ]
  },
  {
   "cell_type": "code",
   "execution_count": 16,
   "id": "721c549b",
   "metadata": {},
   "outputs": [
    {
     "data": {
      "text/plain": [
       "108"
      ]
     },
     "execution_count": 16,
     "metadata": {},
     "output_type": "execute_result"
    }
   ],
   "source": [
    "28465 - 28357 # what is this 108 items ?"
   ]
  },
  {
   "cell_type": "code",
   "execution_count": 17,
   "id": "c788a5ae",
   "metadata": {},
   "outputs": [
    {
     "data": {
      "text/plain": [
       "0"
      ]
     },
     "execution_count": 17,
     "metadata": {},
     "output_type": "execute_result"
    }
   ],
   "source": [
    "len(new_df[new_df[\"HAD_CPOX\"].isna() == True]) # we don't have any missing value in the \"HAD_CPOX\" cloumn of the new_df "
   ]
  },
  {
   "cell_type": "code",
   "execution_count": 18,
   "id": "e7b02511",
   "metadata": {},
   "outputs": [
    {
     "data": {
      "text/html": [
       "<div>\n",
       "<style scoped>\n",
       "    .dataframe tbody tr th:only-of-type {\n",
       "        vertical-align: middle;\n",
       "    }\n",
       "\n",
       "    .dataframe tbody tr th {\n",
       "        vertical-align: top;\n",
       "    }\n",
       "\n",
       "    .dataframe thead th {\n",
       "        text-align: right;\n",
       "    }\n",
       "</style>\n",
       "<table border=\"1\" class=\"dataframe\">\n",
       "  <thead>\n",
       "    <tr style=\"text-align: right;\">\n",
       "      <th></th>\n",
       "      <th>HAD_CPOX</th>\n",
       "      <th>P_NUMVRC</th>\n",
       "    </tr>\n",
       "  </thead>\n",
       "  <tbody>\n",
       "    <tr>\n",
       "      <th>222</th>\n",
       "      <td>77</td>\n",
       "      <td>1.0</td>\n",
       "    </tr>\n",
       "    <tr>\n",
       "      <th>223</th>\n",
       "      <td>77</td>\n",
       "      <td>1.0</td>\n",
       "    </tr>\n",
       "    <tr>\n",
       "      <th>550</th>\n",
       "      <td>77</td>\n",
       "      <td>1.0</td>\n",
       "    </tr>\n",
       "    <tr>\n",
       "      <th>654</th>\n",
       "      <td>77</td>\n",
       "      <td>1.0</td>\n",
       "    </tr>\n",
       "    <tr>\n",
       "      <th>756</th>\n",
       "      <td>77</td>\n",
       "      <td>NaN</td>\n",
       "    </tr>\n",
       "    <tr>\n",
       "      <th>...</th>\n",
       "      <td>...</td>\n",
       "      <td>...</td>\n",
       "    </tr>\n",
       "    <tr>\n",
       "      <th>27490</th>\n",
       "      <td>77</td>\n",
       "      <td>NaN</td>\n",
       "    </tr>\n",
       "    <tr>\n",
       "      <th>27573</th>\n",
       "      <td>77</td>\n",
       "      <td>1.0</td>\n",
       "    </tr>\n",
       "    <tr>\n",
       "      <th>27825</th>\n",
       "      <td>77</td>\n",
       "      <td>1.0</td>\n",
       "    </tr>\n",
       "    <tr>\n",
       "      <th>28133</th>\n",
       "      <td>77</td>\n",
       "      <td>NaN</td>\n",
       "    </tr>\n",
       "    <tr>\n",
       "      <th>28282</th>\n",
       "      <td>77</td>\n",
       "      <td>NaN</td>\n",
       "    </tr>\n",
       "  </tbody>\n",
       "</table>\n",
       "<p>108 rows × 2 columns</p>\n",
       "</div>"
      ],
      "text/plain": [
       "       HAD_CPOX  P_NUMVRC\n",
       "222          77       1.0\n",
       "223          77       1.0\n",
       "550          77       1.0\n",
       "654          77       1.0\n",
       "756          77       NaN\n",
       "...         ...       ...\n",
       "27490        77       NaN\n",
       "27573        77       1.0\n",
       "27825        77       1.0\n",
       "28133        77       NaN\n",
       "28282        77       NaN\n",
       "\n",
       "[108 rows x 2 columns]"
      ]
     },
     "execution_count": 18,
     "metadata": {},
     "output_type": "execute_result"
    }
   ],
   "source": [
    "new_df[~new_df[\"HAD_CPOX\"].isin(range(1,3))] # that 108 items are a number of nonsense values '77'."
   ]
  },
  {
   "cell_type": "code",
   "execution_count": 19,
   "id": "9ee710cd",
   "metadata": {},
   "outputs": [],
   "source": [
    "def corr_chickenpox():\n",
    "    import scipy.stats as stats\n",
    "    \n",
    "    new_df = df[[\"HAD_CPOX\", \"P_NUMVRC\"]]\n",
    "    new_df = new_df[new_df[\"HAD_CPOX\"] <= 2]\n",
    "    new_df = new_df[~new_df[\"P_NUMVRC\"].isna() & ~new_df[\"HAD_CPOX\"].isna()] # for removing NaNs, we write this code\n",
    "    \n",
    "    corr, pval= stats.pearsonr(new_df[\"HAD_CPOX\"], new_df[\"P_NUMVRC\"])\n",
    "    \n",
    "    return corr\n",
    "\n",
    "    raise NotImplementedError()"
   ]
  },
  {
   "cell_type": "code",
   "execution_count": 22,
   "id": "6b7f5c50",
   "metadata": {},
   "outputs": [
    {
     "data": {
      "text/plain": [
       "0.07044873460148016"
      ]
     },
     "execution_count": 22,
     "metadata": {},
     "output_type": "execute_result"
    }
   ],
   "source": [
    "corr_chickenpox()"
   ]
  },
  {
   "cell_type": "code",
   "execution_count": 21,
   "id": "9d318d96",
   "metadata": {
    "scrolled": true
   },
   "outputs": [],
   "source": [
    "assert -1<=corr_chickenpox()<=1, \"You must return a float number between -1.0 and 1.0.\"\n"
   ]
  },
  {
   "cell_type": "code",
   "execution_count": null,
   "id": "2222bbd9",
   "metadata": {},
   "outputs": [],
   "source": []
  },
  {
   "cell_type": "code",
   "execution_count": null,
   "id": "53483208",
   "metadata": {},
   "outputs": [],
   "source": []
  }
 ],
 "metadata": {
  "kernelspec": {
   "display_name": "Python 3 (ipykernel)",
   "language": "python",
   "name": "python3"
  },
  "language_info": {
   "codemirror_mode": {
    "name": "ipython",
    "version": 3
   },
   "file_extension": ".py",
   "mimetype": "text/x-python",
   "name": "python",
   "nbconvert_exporter": "python",
   "pygments_lexer": "ipython3",
   "version": "3.9.7"
  },
  "latex_envs": {
   "LaTeX_envs_menu_present": true,
   "autoclose": false,
   "autocomplete": true,
   "bibliofile": "biblio.bib",
   "cite_by": "apalike",
   "current_citInitial": 1,
   "eqLabelWithNumbers": true,
   "eqNumInitial": 1,
   "hotkeys": {
    "equation": "Ctrl-E",
    "itemize": "Ctrl-I"
   },
   "labels_anchors": false,
   "latex_user_defs": false,
   "report_style_numbering": false,
   "user_envs_cfg": false
  }
 },
 "nbformat": 4,
 "nbformat_minor": 5
}
