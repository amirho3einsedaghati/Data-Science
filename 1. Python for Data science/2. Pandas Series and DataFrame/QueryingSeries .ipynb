{
 "cells": [
  {
   "cell_type": "markdown",
   "id": "67ab3bc4",
   "metadata": {},
   "source": [
    "<br>\n",
    "in this lecture, we'll learn about:\n",
    "\n",
    "* how to query and merge Series objects together.\n",
    "* the importance of thinking about parallelization."
   ]
  },
  {
   "cell_type": "markdown",
   "id": "7865872a",
   "metadata": {},
   "source": [
    "# Querying Series "
   ]
  },
  {
   "cell_type": "markdown",
   "id": "428a7306",
   "metadata": {},
   "source": [
    "in this section, we'll how to get data out of the Series object."
   ]
  },
  {
   "cell_type": "markdown",
   "id": "1d110a8d",
   "metadata": {},
   "source": [
    "A pandas Series can be queried either by the index position or the index label. \n",
    "\n",
    "**To query by numeric location**, starting at zero, use the **iloc** attribute. \n",
    "\n",
    "**To query by the index label**, you can use the **loc** attribute. "
   ]
  },
  {
   "cell_type": "code",
   "execution_count": 1,
   "id": "b8b939d1",
   "metadata": {},
   "outputs": [],
   "source": [
    "import pandas as pd "
   ]
  },
  {
   "cell_type": "code",
   "execution_count": 2,
   "id": "e803c2b6",
   "metadata": {},
   "outputs": [
    {
     "data": {
      "text/plain": [
       "Amir               internship\n",
       "Reza     internet engineering\n",
       "Saleh                 history\n",
       "Sara         software project\n",
       "dtype: object"
      ]
     },
     "execution_count": 2,
     "metadata": {},
     "output_type": "execute_result"
    }
   ],
   "source": [
    "student_classes = {'Amir' : 'Internship',\n",
    "                  'Reza' : 'Internet Engineering',\n",
    "                  'Saleh' : 'History',\n",
    "                  'Sara' : 'Software Project'}\n",
    "\n",
    "serie = pd.Series(student_classes)\n",
    "serie"
   ]
  },
  {
   "cell_type": "markdown",
   "id": "9417fd60",
   "metadata": {},
   "source": [
    "Keep in mind that iloc and loc are not methods, they are attributes. So you don't use parentheses to query them, but square brackets instead, which is called the indexing operator."
   ]
  },
  {
   "cell_type": "code",
   "execution_count": 3,
   "id": "f1f76b8f",
   "metadata": {},
   "outputs": [
    {
     "data": {
      "text/plain": [
       "'software project'"
      ]
     },
     "execution_count": 3,
     "metadata": {},
     "output_type": "execute_result"
    }
   ],
   "source": [
    "serie.iloc[3]"
   ]
  },
  {
   "cell_type": "code",
   "execution_count": 4,
   "id": "caa5a1eb",
   "metadata": {},
   "outputs": [
    {
     "data": {
      "text/plain": [
       "'internship'"
      ]
     },
     "execution_count": 4,
     "metadata": {},
     "output_type": "execute_result"
    }
   ],
   "source": [
    "serie.loc[\"Amir\"]"
   ]
  },
  {
   "cell_type": "markdown",
   "id": "be958c07",
   "metadata": {},
   "source": [
    "Pandas tries to make our code a bit more readable and provides a sort of smart syntax using the indexing operator directly on the series itself. \n",
    "\n",
    "if we pass in an integer parameter, the operator will behave as if you want it to query via the **iloc** attribute."
   ]
  },
  {
   "cell_type": "code",
   "execution_count": 5,
   "id": "74b9405b",
   "metadata": {},
   "outputs": [
    {
     "data": {
      "text/plain": [
       "'history'"
      ]
     },
     "execution_count": 5,
     "metadata": {},
     "output_type": "execute_result"
    }
   ],
   "source": [
    "serie[2]"
   ]
  },
  {
   "cell_type": "markdown",
   "id": "2c82839a",
   "metadata": {},
   "source": [
    "If you pass in an object, it will query as if you wanted to use the label based **loc** attribute."
   ]
  },
  {
   "cell_type": "code",
   "execution_count": 6,
   "id": "a96c10e0",
   "metadata": {},
   "outputs": [
    {
     "data": {
      "text/plain": [
       "'software project'"
      ]
     },
     "execution_count": 6,
     "metadata": {},
     "output_type": "execute_result"
    }
   ],
   "source": [
    "serie[\"Sara\"]"
   ]
  },
  {
   "cell_type": "markdown",
   "id": "d4e5be8a",
   "metadata": {},
   "source": [
    "If you don't give an index to the series when querying, the outcome of index position and index label will be effectively the same values. "
   ]
  },
  {
   "cell_type": "code",
   "execution_count": 7,
   "id": "ad4ce372",
   "metadata": {},
   "outputs": [
    {
     "data": {
      "text/plain": [
       "0    1.0\n",
       "1    2.0\n",
       "2    NaN\n",
       "dtype: float64"
      ]
     },
     "execution_count": 7,
     "metadata": {},
     "output_type": "execute_result"
    }
   ],
   "source": [
    "s = pd.Series([1, 2, None])\n",
    "s"
   ]
  },
  {
   "cell_type": "code",
   "execution_count": 8,
   "id": "0da16a93",
   "metadata": {},
   "outputs": [
    {
     "data": {
      "text/plain": [
       "2.0"
      ]
     },
     "execution_count": 8,
     "metadata": {},
     "output_type": "execute_result"
    }
   ],
   "source": [
    "s[1]"
   ]
  },
  {
   "cell_type": "code",
   "execution_count": 9,
   "id": "69ced0bd",
   "metadata": {},
   "outputs": [
    {
     "data": {
      "text/plain": [
       "nan"
      ]
     },
     "execution_count": 9,
     "metadata": {},
     "output_type": "execute_result"
    }
   ],
   "source": [
    "s.iloc[2]"
   ]
  },
  {
   "cell_type": "code",
   "execution_count": 10,
   "id": "456798bc",
   "metadata": {},
   "outputs": [
    {
     "data": {
      "text/plain": [
       "nan"
      ]
     },
     "execution_count": 10,
     "metadata": {},
     "output_type": "execute_result"
    }
   ],
   "source": [
    "s.loc[2]"
   ]
  },
  {
   "cell_type": "code",
   "execution_count": 11,
   "id": "0abf6393",
   "metadata": {},
   "outputs": [
    {
     "data": {
      "text/plain": [
       "False"
      ]
     },
     "execution_count": 11,
     "metadata": {},
     "output_type": "execute_result"
    }
   ],
   "source": [
    "s.iloc[2] == s.loc[2]"
   ]
  },
  {
   "cell_type": "markdown",
   "id": "b9762387",
   "metadata": {},
   "source": [
    "what happens if your index is a list of integers? \n",
    "\n",
    "This is a bit complicated and Pandas can't determine automatically whether you're intending to query by index position or index label. So you need to be careful when using the indexing operator on the Series itself. The safer option is to be more explicit and use the iloc or loc attributes directly."
   ]
  },
  {
   "cell_type": "code",
   "execution_count": 12,
   "id": "5ec14f1d",
   "metadata": {},
   "outputs": [],
   "source": [
    "class_code = {100 : 'History',\n",
    "             102 : 'Physics',\n",
    "             98 : 'Mathmatics',\n",
    "             142 : 'software engineering'}\n",
    "\n",
    "s = pd.Series(class_code)"
   ]
  },
  {
   "cell_type": "markdown",
   "id": "1caa8806",
   "metadata": {},
   "source": [
    "the below error hapend because pandas didn't call s.iloc[0] underneath as one might expect."
   ]
  },
  {
   "cell_type": "code",
   "execution_count": 13,
   "id": "3d670494",
   "metadata": {},
   "outputs": [
    {
     "ename": "KeyError",
     "evalue": "0",
     "output_type": "error",
     "traceback": [
      "\u001b[1;31m---------------------------------------------------------------------------\u001b[0m",
      "\u001b[1;31mKeyError\u001b[0m                                  Traceback (most recent call last)",
      "\u001b[1;32mF:\\programs\\Anaconda\\lib\\site-packages\\pandas\\core\\indexes\\base.py\u001b[0m in \u001b[0;36mget_loc\u001b[1;34m(self, key, method, tolerance)\u001b[0m\n\u001b[0;32m   3360\u001b[0m             \u001b[1;32mtry\u001b[0m\u001b[1;33m:\u001b[0m\u001b[1;33m\u001b[0m\u001b[1;33m\u001b[0m\u001b[0m\n\u001b[1;32m-> 3361\u001b[1;33m                 \u001b[1;32mreturn\u001b[0m \u001b[0mself\u001b[0m\u001b[1;33m.\u001b[0m\u001b[0m_engine\u001b[0m\u001b[1;33m.\u001b[0m\u001b[0mget_loc\u001b[0m\u001b[1;33m(\u001b[0m\u001b[0mcasted_key\u001b[0m\u001b[1;33m)\u001b[0m\u001b[1;33m\u001b[0m\u001b[1;33m\u001b[0m\u001b[0m\n\u001b[0m\u001b[0;32m   3362\u001b[0m             \u001b[1;32mexcept\u001b[0m \u001b[0mKeyError\u001b[0m \u001b[1;32mas\u001b[0m \u001b[0merr\u001b[0m\u001b[1;33m:\u001b[0m\u001b[1;33m\u001b[0m\u001b[1;33m\u001b[0m\u001b[0m\n",
      "\u001b[1;32mF:\\programs\\Anaconda\\lib\\site-packages\\pandas\\_libs\\index.pyx\u001b[0m in \u001b[0;36mpandas._libs.index.IndexEngine.get_loc\u001b[1;34m()\u001b[0m\n",
      "\u001b[1;32mF:\\programs\\Anaconda\\lib\\site-packages\\pandas\\_libs\\index.pyx\u001b[0m in \u001b[0;36mpandas._libs.index.IndexEngine.get_loc\u001b[1;34m()\u001b[0m\n",
      "\u001b[1;32mpandas\\_libs\\hashtable_class_helper.pxi\u001b[0m in \u001b[0;36mpandas._libs.hashtable.Int64HashTable.get_item\u001b[1;34m()\u001b[0m\n",
      "\u001b[1;32mpandas\\_libs\\hashtable_class_helper.pxi\u001b[0m in \u001b[0;36mpandas._libs.hashtable.Int64HashTable.get_item\u001b[1;34m()\u001b[0m\n",
      "\u001b[1;31mKeyError\u001b[0m: 0",
      "\nThe above exception was the direct cause of the following exception:\n",
      "\u001b[1;31mKeyError\u001b[0m                                  Traceback (most recent call last)",
      "\u001b[1;32mC:\\Users\\IRANIN~1\\AppData\\Local\\Temp/ipykernel_11416/243613605.py\u001b[0m in \u001b[0;36m<module>\u001b[1;34m\u001b[0m\n\u001b[1;32m----> 1\u001b[1;33m \u001b[0ms\u001b[0m\u001b[1;33m[\u001b[0m\u001b[1;36m0\u001b[0m\u001b[1;33m]\u001b[0m\u001b[1;33m\u001b[0m\u001b[1;33m\u001b[0m\u001b[0m\n\u001b[0m",
      "\u001b[1;32mF:\\programs\\Anaconda\\lib\\site-packages\\pandas\\core\\series.py\u001b[0m in \u001b[0;36m__getitem__\u001b[1;34m(self, key)\u001b[0m\n\u001b[0;32m    940\u001b[0m \u001b[1;33m\u001b[0m\u001b[0m\n\u001b[0;32m    941\u001b[0m         \u001b[1;32melif\u001b[0m \u001b[0mkey_is_scalar\u001b[0m\u001b[1;33m:\u001b[0m\u001b[1;33m\u001b[0m\u001b[1;33m\u001b[0m\u001b[0m\n\u001b[1;32m--> 942\u001b[1;33m             \u001b[1;32mreturn\u001b[0m \u001b[0mself\u001b[0m\u001b[1;33m.\u001b[0m\u001b[0m_get_value\u001b[0m\u001b[1;33m(\u001b[0m\u001b[0mkey\u001b[0m\u001b[1;33m)\u001b[0m\u001b[1;33m\u001b[0m\u001b[1;33m\u001b[0m\u001b[0m\n\u001b[0m\u001b[0;32m    943\u001b[0m \u001b[1;33m\u001b[0m\u001b[0m\n\u001b[0;32m    944\u001b[0m         \u001b[1;32mif\u001b[0m \u001b[0mis_hashable\u001b[0m\u001b[1;33m(\u001b[0m\u001b[0mkey\u001b[0m\u001b[1;33m)\u001b[0m\u001b[1;33m:\u001b[0m\u001b[1;33m\u001b[0m\u001b[1;33m\u001b[0m\u001b[0m\n",
      "\u001b[1;32mF:\\programs\\Anaconda\\lib\\site-packages\\pandas\\core\\series.py\u001b[0m in \u001b[0;36m_get_value\u001b[1;34m(self, label, takeable)\u001b[0m\n\u001b[0;32m   1049\u001b[0m \u001b[1;33m\u001b[0m\u001b[0m\n\u001b[0;32m   1050\u001b[0m         \u001b[1;31m# Similar to Index.get_value, but we do not fall back to positional\u001b[0m\u001b[1;33m\u001b[0m\u001b[1;33m\u001b[0m\u001b[0m\n\u001b[1;32m-> 1051\u001b[1;33m         \u001b[0mloc\u001b[0m \u001b[1;33m=\u001b[0m \u001b[0mself\u001b[0m\u001b[1;33m.\u001b[0m\u001b[0mindex\u001b[0m\u001b[1;33m.\u001b[0m\u001b[0mget_loc\u001b[0m\u001b[1;33m(\u001b[0m\u001b[0mlabel\u001b[0m\u001b[1;33m)\u001b[0m\u001b[1;33m\u001b[0m\u001b[1;33m\u001b[0m\u001b[0m\n\u001b[0m\u001b[0;32m   1052\u001b[0m         \u001b[1;32mreturn\u001b[0m \u001b[0mself\u001b[0m\u001b[1;33m.\u001b[0m\u001b[0mindex\u001b[0m\u001b[1;33m.\u001b[0m\u001b[0m_get_values_for_loc\u001b[0m\u001b[1;33m(\u001b[0m\u001b[0mself\u001b[0m\u001b[1;33m,\u001b[0m \u001b[0mloc\u001b[0m\u001b[1;33m,\u001b[0m \u001b[0mlabel\u001b[0m\u001b[1;33m)\u001b[0m\u001b[1;33m\u001b[0m\u001b[1;33m\u001b[0m\u001b[0m\n\u001b[0;32m   1053\u001b[0m \u001b[1;33m\u001b[0m\u001b[0m\n",
      "\u001b[1;32mF:\\programs\\Anaconda\\lib\\site-packages\\pandas\\core\\indexes\\base.py\u001b[0m in \u001b[0;36mget_loc\u001b[1;34m(self, key, method, tolerance)\u001b[0m\n\u001b[0;32m   3361\u001b[0m                 \u001b[1;32mreturn\u001b[0m \u001b[0mself\u001b[0m\u001b[1;33m.\u001b[0m\u001b[0m_engine\u001b[0m\u001b[1;33m.\u001b[0m\u001b[0mget_loc\u001b[0m\u001b[1;33m(\u001b[0m\u001b[0mcasted_key\u001b[0m\u001b[1;33m)\u001b[0m\u001b[1;33m\u001b[0m\u001b[1;33m\u001b[0m\u001b[0m\n\u001b[0;32m   3362\u001b[0m             \u001b[1;32mexcept\u001b[0m \u001b[0mKeyError\u001b[0m \u001b[1;32mas\u001b[0m \u001b[0merr\u001b[0m\u001b[1;33m:\u001b[0m\u001b[1;33m\u001b[0m\u001b[1;33m\u001b[0m\u001b[0m\n\u001b[1;32m-> 3363\u001b[1;33m                 \u001b[1;32mraise\u001b[0m \u001b[0mKeyError\u001b[0m\u001b[1;33m(\u001b[0m\u001b[0mkey\u001b[0m\u001b[1;33m)\u001b[0m \u001b[1;32mfrom\u001b[0m \u001b[0merr\u001b[0m\u001b[1;33m\u001b[0m\u001b[1;33m\u001b[0m\u001b[0m\n\u001b[0m\u001b[0;32m   3364\u001b[0m \u001b[1;33m\u001b[0m\u001b[0m\n\u001b[0;32m   3365\u001b[0m         \u001b[1;32mif\u001b[0m \u001b[0mis_scalar\u001b[0m\u001b[1;33m(\u001b[0m\u001b[0mkey\u001b[0m\u001b[1;33m)\u001b[0m \u001b[1;32mand\u001b[0m \u001b[0misna\u001b[0m\u001b[1;33m(\u001b[0m\u001b[0mkey\u001b[0m\u001b[1;33m)\u001b[0m \u001b[1;32mand\u001b[0m \u001b[1;32mnot\u001b[0m \u001b[0mself\u001b[0m\u001b[1;33m.\u001b[0m\u001b[0mhasnans\u001b[0m\u001b[1;33m:\u001b[0m\u001b[1;33m\u001b[0m\u001b[1;33m\u001b[0m\u001b[0m\n",
      "\u001b[1;31mKeyError\u001b[0m: 0"
     ]
    }
   ],
   "source": [
    "s[0]"
   ]
  },
  {
   "cell_type": "code",
   "execution_count": 14,
   "id": "97f03a93",
   "metadata": {},
   "outputs": [
    {
     "data": {
      "text/plain": [
       "'History'"
      ]
     },
     "execution_count": 14,
     "metadata": {},
     "output_type": "execute_result"
    }
   ],
   "source": [
    "s.iloc[0]"
   ]
  },
  {
   "cell_type": "code",
   "execution_count": 15,
   "id": "354c8ef3",
   "metadata": {},
   "outputs": [
    {
     "data": {
      "text/plain": [
       "'software engineering'"
      ]
     },
     "execution_count": 15,
     "metadata": {},
     "output_type": "execute_result"
    }
   ],
   "source": [
    "s.loc[142]"
   ]
  },
  {
   "cell_type": "markdown",
   "id": "12ef9018",
   "metadata": {},
   "source": [
    "# parallel computing:"
   ]
  },
  {
   "cell_type": "markdown",
   "id": "b735936e",
   "metadata": {},
   "source": [
    "<br>\n",
    "A typical programmatic approach to consider all of the values inside of a Series and do some sort of operation would be to iterate over all the items in the series."
   ]
  },
  {
   "cell_type": "code",
   "execution_count": 16,
   "id": "06edf9b5",
   "metadata": {},
   "outputs": [
    {
     "data": {
      "text/plain": [
       "82.5"
      ]
     },
     "execution_count": 16,
     "metadata": {},
     "output_type": "execute_result"
    }
   ],
   "source": [
    "student_grades = pd.Series([90, 70, 80, 100, 95, 60])\n",
    "\n",
    "total = 0\n",
    "for grade in student_grades:\n",
    "    total += grade\n",
    "    \n",
    "total / len(student_grades)"
   ]
  },
  {
   "cell_type": "markdown",
   "id": "d3a0ece0",
   "metadata": {},
   "source": [
    "<br>\n",
    "This works, but it's slow. Modern computers can do many tasks simultaneously, especially, but not only, tasks involving mathematics."
   ]
  },
  {
   "cell_type": "markdown",
   "id": "12617bb2",
   "metadata": {},
   "source": [
    "Pandas and the underlying numpy libraries support a method of computation called vectorization.\n",
    "\n",
    "Vectorization works **with most of the functions in the numpy library**, including the sum function."
   ]
  },
  {
   "cell_type": "code",
   "execution_count": 17,
   "id": "f733df92",
   "metadata": {},
   "outputs": [],
   "source": [
    "import numpy as np"
   ]
  },
  {
   "cell_type": "code",
   "execution_count": 18,
   "id": "ffe98695",
   "metadata": {},
   "outputs": [
    {
     "data": {
      "text/plain": [
       "82.5"
      ]
     },
     "execution_count": 18,
     "metadata": {},
     "output_type": "execute_result"
    }
   ],
   "source": [
    "total = np.sum(student_grades)\n",
    "total / len(student_grades)"
   ]
  },
  {
   "cell_type": "markdown",
   "id": "b496b3b9",
   "metadata": {},
   "source": [
    "is the second one actually faster? \n",
    "\n",
    "The Jupyter Notebook has a magic function which can help us to know."
   ]
  },
  {
   "cell_type": "markdown",
   "id": "8781c45e",
   "metadata": {},
   "source": [
    "when we're using **np.random.randint()**, we must determine how many random integer numbers we want and what we want those numbers between."
   ]
  },
  {
   "cell_type": "code",
   "execution_count": 19,
   "id": "c7af0be1",
   "metadata": {},
   "outputs": [],
   "source": [
    "numbers = pd.Series(np.random.randint(0, 1000, 10000))"
   ]
  },
  {
   "cell_type": "markdown",
   "id": "ffd87824",
   "metadata": {},
   "source": [
    "to look at the top five items in the Series, we should use **.head()** function."
   ]
  },
  {
   "cell_type": "code",
   "execution_count": 20,
   "id": "a2be8533",
   "metadata": {},
   "outputs": [
    {
     "data": {
      "text/plain": [
       "0    161\n",
       "1     51\n",
       "2    241\n",
       "3     48\n",
       "4    964\n",
       "dtype: int32"
      ]
     },
     "execution_count": 20,
     "metadata": {},
     "output_type": "execute_result"
    }
   ],
   "source": [
    "numbers.head()"
   ]
  },
  {
   "cell_type": "code",
   "execution_count": 21,
   "id": "10af3b39",
   "metadata": {},
   "outputs": [
    {
     "data": {
      "text/plain": [
       "10000"
      ]
     },
     "execution_count": 21,
     "metadata": {},
     "output_type": "execute_result"
    }
   ],
   "source": [
    "len(numbers)"
   ]
  },
  {
   "cell_type": "markdown",
   "id": "08222b60",
   "metadata": {},
   "source": [
    "The ipython interpreter has something called magic functions begin with a percentage sign. If we type this sign and then hit the Tab key, we can see a list of the available magic functions."
   ]
  },
  {
   "cell_type": "markdown",
   "id": "10699d6b",
   "metadata": {},
   "source": [
    "we're actually going to use what's called a **cellular magic function**. These start with **two percentage signs** and **wrap the code in the current Jupyter cell**. The function we're going to use is called **timeit**. This function **will run our code a few times to determine, on average, how long it takes**.\n",
    "\n",
    "we can give **timeit** the **number of loops** that you would like to **run**. **By default, it is 1,000 loops**.\n",
    "\n",
    "Note that in order to use a cellular magic function, it has to be the first line in the cell."
   ]
  },
  {
   "cell_type": "code",
   "execution_count": 22,
   "id": "813271e0",
   "metadata": {},
   "outputs": [
    {
     "name": "stdout",
     "output_type": "stream",
     "text": [
      "1.56 ms ± 114 µs per loop (mean ± std. dev. of 7 runs, 1000 loops each)\n"
     ]
    }
   ],
   "source": [
    "%%timeit \n",
    "\n",
    "total = 0\n",
    "\n",
    "for num in numbers:\n",
    "    total += 0\n",
    "    \n",
    "total / len(numbers)"
   ]
  },
  {
   "cell_type": "code",
   "execution_count": 23,
   "id": "a729c515",
   "metadata": {},
   "outputs": [
    {
     "name": "stdout",
     "output_type": "stream",
     "text": [
      "98.3 µs ± 3.71 µs per loop (mean ± std. dev. of 7 runs, 10000 loops each)\n"
     ]
    }
   ],
   "source": [
    "%%timeit\n",
    "\n",
    "total = np.sum(numbers)\n",
    "total / len(numbers)"
   ]
  },
  {
   "cell_type": "markdown",
   "id": "0c970be4",
   "metadata": {},
   "source": [
    "<br>\n",
    "This is a pretty shocking difference in the speed and demonstrates why one should be aware of parallel computing features and start thinking in functional programming terms.\n",
    "\n",
    "vectorization is the ability for a computer to execute multiple instructions at once, and with high performance chips, especially graphics cards, we can get dramatic\n",
    "speedups. \n",
    "\n",
    "Modern graphics cards can run thousands of instructions in parallel."
   ]
  },
  {
   "cell_type": "code",
   "execution_count": null,
   "id": "bb7f0230",
   "metadata": {},
   "outputs": [],
   "source": []
  },
  {
   "cell_type": "markdown",
   "id": "96e30b20",
   "metadata": {},
   "source": [
    "### broadcasting"
   ]
  },
  {
   "cell_type": "markdown",
   "id": "90973dfc",
   "metadata": {},
   "source": [
    "A Related feature in pandas and nummy is called broadcasting. \n",
    "\n",
    "With broadcasting, we can apply an operation to every value in the series, changing the series. For instance, if we wanted to increase every random variable by 2, we could do so quickly using the += operator \n",
    "directly on the Series object. "
   ]
  },
  {
   "cell_type": "code",
   "execution_count": 24,
   "id": "a33f75b8",
   "metadata": {},
   "outputs": [
    {
     "data": {
      "text/plain": [
       "0    161\n",
       "1     51\n",
       "2    241\n",
       "3     48\n",
       "4    964\n",
       "dtype: int32"
      ]
     },
     "execution_count": 24,
     "metadata": {},
     "output_type": "execute_result"
    }
   ],
   "source": [
    "numbers.head()"
   ]
  },
  {
   "cell_type": "code",
   "execution_count": 25,
   "id": "fc919ec6",
   "metadata": {},
   "outputs": [
    {
     "data": {
      "text/plain": [
       "0    163\n",
       "1     53\n",
       "2    243\n",
       "3     50\n",
       "4    966\n",
       "dtype: int32"
      ]
     },
     "execution_count": 25,
     "metadata": {},
     "output_type": "execute_result"
    }
   ],
   "source": [
    "numbers += 2\n",
    "numbers.head()"
   ]
  },
  {
   "cell_type": "markdown",
   "id": "4a118613",
   "metadata": {},
   "source": [
    "The procedural way of doing this would be to iterate through all of the items in the series and increase the values directly.\n",
    "\n",
    "Pandas does support **iterating** through a series much like a dictionary, allowing you to unpack values easily."
   ]
  },
  {
   "cell_type": "markdown",
   "id": "9ddfaa3f",
   "metadata": {},
   "source": [
    "the **iteritems()**  returns **a label and value**."
   ]
  },
  {
   "cell_type": "code",
   "execution_count": 35,
   "id": "d304cc2b",
   "metadata": {},
   "outputs": [
    {
     "name": "stdout",
     "output_type": "stream",
     "text": [
      "64 ms ± 1.73 ms per loop (mean ± std. dev. of 7 runs, 100 loops each)\n"
     ]
    }
   ],
   "source": [
    "%%timeit -n 100\n",
    "\n",
    "numbers = pd.Series(np.random.randint(0, 1000, 1000))\n",
    "\n",
    "for label, value in numbers.iteritems():\n",
    "    numbers.loc[label] = value + 2 "
   ]
  },
  {
   "cell_type": "code",
   "execution_count": 36,
   "id": "23051cf5",
   "metadata": {},
   "outputs": [
    {
     "name": "stdout",
     "output_type": "stream",
     "text": [
      "273 µs ± 43.8 µs per loop (mean ± std. dev. of 7 runs, 100 loops each)\n"
     ]
    }
   ],
   "source": [
    "%%timeit -n 100\n",
    "\n",
    "numbers = pd.Series(np.random.randint(0, 1000, 1000))\n",
    "\n",
    "numbers += 2"
   ]
  },
  {
   "cell_type": "markdown",
   "id": "9e8abafe",
   "metadata": {},
   "source": [
    "not only it is significantly faster, but it's more concise and even easier to read too. \n",
    "\n",
    "**The typical mathematical operations** we would expect are **vectorized in the numpy**."
   ]
  },
  {
   "cell_type": "code",
   "execution_count": null,
   "id": "b0a91214",
   "metadata": {},
   "outputs": [],
   "source": []
  },
  {
   "cell_type": "markdown",
   "id": "4e3f5cef",
   "metadata": {},
   "source": [
    "**loc** attribute lets you not only **modify data** in place, but also **add new data&& as well. If the value you pass in as the index doesn't exist, then a new entry is added."
   ]
  },
  {
   "cell_type": "markdown",
   "id": "58844dc6",
   "metadata": {},
   "source": [
    "keep in mind, we can have **mixed types** for **data values or index labels**."
   ]
  },
  {
   "cell_type": "code",
   "execution_count": 40,
   "id": "be69c4d5",
   "metadata": {},
   "outputs": [
    {
     "data": {
      "text/plain": [
       "0                   1\n",
       "1                   2\n",
       "2                   3\n",
       "Mathmatics    (9, 18)\n",
       "dtype: object"
      ]
     },
     "execution_count": 40,
     "metadata": {},
     "output_type": "execute_result"
    }
   ],
   "source": [
    "s = pd.Series([1,2,3])\n",
    "s.loc[\"Mathmatics\"] = (9, 18)\n",
    "s"
   ]
  },
  {
   "cell_type": "markdown",
   "id": "7744e068",
   "metadata": {},
   "source": [
    "# Merging Sereis "
   ]
  },
  {
   "cell_type": "markdown",
   "id": "63599a96",
   "metadata": {},
   "source": [
    "**in the Series**, we **can not have unique indexes**.\n",
    "\n",
    "this makes pandas Series a little different conceptually than a relational database."
   ]
  },
  {
   "cell_type": "code",
   "execution_count": 56,
   "id": "fd74bcea",
   "metadata": {},
   "outputs": [
    {
     "data": {
      "text/plain": [
       "Amir               Internship\n",
       "Reza     Internet Engineering\n",
       "Saleh                 History\n",
       "Sara         Software Project\n",
       "dtype: object"
      ]
     },
     "execution_count": 56,
     "metadata": {},
     "output_type": "execute_result"
    }
   ],
   "source": [
    "student_classes = {\"Amir\" : \"Internship\",\n",
    "                  \"Reza\" : \"Internet Engineering\",\n",
    "                  \"Saleh\" : \"History\",\n",
    "                  \"Sara\" : \"Software Project\"}\n",
    "\n",
    "s1 = pd.Series(student_classes)\n",
    "s1"
   ]
  },
  {
   "cell_type": "code",
   "execution_count": 60,
   "id": "7ab1fe82",
   "metadata": {},
   "outputs": [
    {
     "data": {
      "text/plain": [
       "Arman                      DB\n",
       "Arman                      AI\n",
       "Arman    Internet Engineering\n",
       "dtype: object"
      ]
     },
     "execution_count": 60,
     "metadata": {},
     "output_type": "execute_result"
    }
   ],
   "source": [
    "Arman_classes = [\"DB\", \"AI\", \"Internet Engineering\"]\n",
    "\n",
    "s2 = pd.Series(Arman_classes, [\"Arman\", \"Arman\", \"Arman\"])\n",
    "s2"
   ]
  },
  {
   "cell_type": "markdown",
   "id": "680180be",
   "metadata": {},
   "source": [
    "There are a couple of important considerations when using append.\n",
    "\n",
    "* First, Pandas will take the series and try to infer the best data types to use.\n",
    "* Second, the append method doesn't actually change the underlying Series objects, it instead returns a new series which is made up of the two appended together."
   ]
  },
  {
   "cell_type": "code",
   "execution_count": 61,
   "id": "c695ba1e",
   "metadata": {},
   "outputs": [
    {
     "data": {
      "text/plain": [
       "Amir               Internship\n",
       "Reza     Internet Engineering\n",
       "Saleh                 History\n",
       "Sara         Software Project\n",
       "Arman                      DB\n",
       "Arman                      AI\n",
       "Arman    Internet Engineering\n",
       "dtype: object"
      ]
     },
     "execution_count": 61,
     "metadata": {},
     "output_type": "execute_result"
    }
   ],
   "source": [
    "s3 = s1.append(s2)\n",
    "s3"
   ]
  },
  {
   "cell_type": "code",
   "execution_count": 62,
   "id": "8f0bb12b",
   "metadata": {},
   "outputs": [
    {
     "data": {
      "text/plain": [
       "Amir               Internship\n",
       "Reza     Internet Engineering\n",
       "Saleh                 History\n",
       "Sara         Software Project\n",
       "dtype: object"
      ]
     },
     "execution_count": 62,
     "metadata": {},
     "output_type": "execute_result"
    }
   ],
   "source": [
    "s1"
   ]
  },
  {
   "cell_type": "code",
   "execution_count": 63,
   "id": "2b10fee1",
   "metadata": {},
   "outputs": [
    {
     "data": {
      "text/plain": [
       "Arman                      DB\n",
       "Arman                      AI\n",
       "Arman    Internet Engineering\n",
       "dtype: object"
      ]
     },
     "execution_count": 63,
     "metadata": {},
     "output_type": "execute_result"
    }
   ],
   "source": [
    "s2"
   ]
  },
  {
   "cell_type": "markdown",
   "id": "5d41aa62",
   "metadata": {},
   "source": [
    "<br>\n",
    "we see that when we query the appended series for Arman, we don't get a single value, but a series itself. "
   ]
  },
  {
   "cell_type": "code",
   "execution_count": 65,
   "id": "c45805d8",
   "metadata": {},
   "outputs": [
    {
     "data": {
      "text/plain": [
       "Arman                      DB\n",
       "Arman                      AI\n",
       "Arman    Internet Engineering\n",
       "dtype: object"
      ]
     },
     "execution_count": 65,
     "metadata": {},
     "output_type": "execute_result"
    }
   ],
   "source": [
    "s3.loc[\"Arman\"]\n"
   ]
  },
  {
   "cell_type": "code",
   "execution_count": null,
   "id": "ef750210",
   "metadata": {},
   "outputs": [],
   "source": []
  }
 ],
 "metadata": {
  "kernelspec": {
   "display_name": "Python 3 (ipykernel)",
   "language": "python",
   "name": "python3"
  },
  "language_info": {
   "codemirror_mode": {
    "name": "ipython",
    "version": 3
   },
   "file_extension": ".py",
   "mimetype": "text/x-python",
   "name": "python",
   "nbconvert_exporter": "python",
   "pygments_lexer": "ipython3",
   "version": "3.9.7"
  },
  "latex_envs": {
   "LaTeX_envs_menu_present": true,
   "autoclose": false,
   "autocomplete": true,
   "bibliofile": "biblio.bib",
   "cite_by": "apalike",
   "current_citInitial": 1,
   "eqLabelWithNumbers": true,
   "eqNumInitial": 1,
   "hotkeys": {
    "equation": "Ctrl-E",
    "itemize": "Ctrl-I"
   },
   "labels_anchors": false,
   "latex_user_defs": false,
   "report_style_numbering": false,
   "user_envs_cfg": false
  }
 },
 "nbformat": 4,
 "nbformat_minor": 5
}
