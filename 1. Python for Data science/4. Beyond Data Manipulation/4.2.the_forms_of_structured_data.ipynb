{
 "cells": [
  {
   "cell_type": "markdown",
   "id": "0827ca2d",
   "metadata": {},
   "source": [
    "In during different lectures, we've talked primarily about structuring data in a tabular form using a DataFrame object. This builds off with spreadsheets which have been used for last 30 years.\n",
    "\n",
    "it's important to recognize that **there's nothing in the data which is structured this way**.\n",
    "\n",
    "**the tabular data** :\n",
    "\n",
    "* is an excellent **way to show relationships between instances** which are sometimes called **observations, entities**, or **in** the case of **Pandas, rows**, and **the attributes that these instances have**. Which are often called **features** or **in Pandas, columns**.  \n",
    "\n",
    "* is an **abstraction** that allows us **to** quickly **do operations** such as **summarizing data fields** or **applying a machine learning algorithm**, or build manipulation routines with certain properties.\n",
    "\n",
    "\n",
    "there are many different forms of abstractions that we\n",
    "should be aware of.\n",
    "\n",
    "I think **one of the most common forms of abstractions** that we use is a **network diagram**. \n",
    "\n",
    "We can think of **a network being made up of individuals** which\n",
    "**have attributes**, and that those **individuals are connected to other individuals** and **the connection itself also has attributes**.\n",
    "\n",
    "Let's take Twitter data as an example. Individual users have attributes such as their Twitter user ID, their picture, and their name. They can be connected to other individuals. For instance, Chris might be connected to Paul Resnik because I follow him on Twitter and he might be connected back to me because he blocks me on Twitter. We see that **these connections could even have a direction that the attribute on the connections**, such as whether Paul blocks someone. so **it's important to distinguish the connection attributes when connecting the individuals**. Because we want to represent that the inference is that Paul is blocking Chris and not the other."
   ]
  },
  {
   "cell_type": "markdown",
   "id": "5efed52c",
   "metadata": {},
   "source": [
    "![A Simple Network](Shot1.png)"
   ]
  },
  {
   "cell_type": "code",
   "execution_count": null,
   "id": "424930a3",
   "metadata": {},
   "outputs": [],
   "source": []
  },
  {
   "cell_type": "markdown",
   "id": "35d6a644",
   "metadata": {},
   "source": [
    "\n"
   ]
  },
  {
   "cell_type": "markdown",
   "id": "fb2fef57",
   "metadata": {},
   "source": [
    "we can think of **networks as being made up of nodes** and that these **could represent anything, people, sports teams, planets**. It all depends on what your data is.\n",
    "\n",
    "**The nodes are connected through edges** which may be **directed or undirected**.\n",
    "\n",
    "Sometimes **a network is referred to as a graph**, and sometimes **nodes are referred to as vertices**. But conceptually, these\n",
    "are all the same things. \n",
    "What's really important for us to know is that **we can convert between representations**. **Being a solid data scientist**, means that we'rable to **take one representation and change it to another to apply techniques you may already know**. This is especially important **when talking to different clients and collaborators** who might **have different disciplinary\n",
    "backgrounds**. \n",
    "\n",
    "For networks, **a common second representation** is an **adjacency matrix**.\n",
    "\n",
    "In this case, we might have two matrices, one for following and\n",
    "one for blocking. **The rows and columns list all the potential people that we might have linkages between**. In the **following matrix, we might have a value of true between Chris's rows and Paul's**, indicating that Chris follows Paul. While on the **blocking matrix we might have a value of true between Paul's\n",
    "row and Michael**. We can just represent these **matrices in NumPy** as we did in python prerequisite. We can then use libraries such as **NetworkX** in Python **to visualize\n",
    "these networks**, and we can **apply certain algorithms to answer interesting questions**. Such as, is there an indirect\n",
    "connection between Chris, and one of the deans Chris maybe don't follow like Beth Yakel?\n",
    "\n",
    "**the adjacency matrix** is heavily used in **social science research to understand influence and social connections**.\n",
    "\n",
    "We just want to foreshadow that this is a obstruction that will be in your tool kit as a data scientist. \n",
    "\n",
    "moving between these obstructions is important. There's actually some specific **subtypes of networks** that we'll run into as well. Perhaps **the most common of these is the tree structure**. \n",
    "\n",
    "In a general form, a tree can be thought of as a network with a hierarchy. Where there's **a node at the top level(level = 0)**, we can call this the **root** and **subsequent nodes appear in the underneath levels**, and **they're connected to the nodes above**. Sometimes **the connections are singular**, where a given **node can only connect to one node above it**. Sometimes **the connections are multiple**, such as in a family tree where **node can connect to two parents**, often used to represent\n",
    "genetic lineage.\n",
    "\n",
    "Actually, despite calling this structure a tree, **we really don't model it** much after **living trees**. But we do **use nomenclature** from family trees and we **refer to nodes** as having **siblings, parents, and children of their** own. **All of this language** is used only **to describe the relationship a node has with other nodes in the tree**.\n",
    "\n",
    "**as far as the levels of the node go**, and **not to infer** anything else such as **attributes a node has**. We do call **all of the nodes at the bottom of a tree leaf nodes**though.\n",
    "\n"
   ]
  },
  {
   "cell_type": "markdown",
   "id": "f61de981",
   "metadata": {},
   "source": [
    "![the networks of nodes](Shot2.png)"
   ]
  },
  {
   "cell_type": "code",
   "execution_count": null,
   "id": "a5b9df29",
   "metadata": {},
   "outputs": [],
   "source": []
  },
  {
   "cell_type": "markdown",
   "id": "4335262f",
   "metadata": {},
   "source": [
    "**Trees like graphs and matrices** just **give us a language for describing relationships** which we **can apply to different domains**. \n",
    "\n",
    "An example of trees which we'll learn about is from natural language processing or NLP. **In NLP**, it's common to **represent a chunk of text as a language parse tree**, which **helps to contextualize ambiguity**.\n",
    "\n",
    "Here's an example from the docs of one of the most popular Python libraries for text processing, the Natural Language\n",
    "Toolkit or NLTK. In it they've taken a sentence, **the little bear saw a fine fat trout in the brook**, and **built languge parse tree based on the English language gramma**r.\n",
    "\n",
    "You can see that the leaf nodes are the words themselves, which each have one parent node, which is a part of speech tag. For instance, little is an adjective and bear is a noun, and **these nodes each have a common parent**. In this case it's been\n",
    "classified **as a nominal**, which has a parent of a noun phrase. **The data scientists** can then **use this parse tree to find out relationships between words**, such as **which adjectives refer to specific nouns**, an important task\n",
    "in the analytics of product reviews for instance.\n",
    "\n",
    "These structures are representations that we impose on the underlying data.\n",
    "\n",
    "**The meaning of the data** that we derive from these\n",
    "representations can **change based on how we decide\n",
    "to apply a representation**.\n",
    "\n",
    "**A data scientist** needs to **be able to interact with a broad array of other stakeholders** and as such needs to **be able to be flexible with how they conceive of and represent data**."
   ]
  },
  {
   "cell_type": "markdown",
   "id": "416c9f17",
   "metadata": {},
   "source": [
    "![Language parse tree](Shot3.png)"
   ]
  },
  {
   "cell_type": "code",
   "execution_count": null,
   "id": "febf28eb",
   "metadata": {},
   "outputs": [],
   "source": []
  }
 ],
 "metadata": {
  "kernelspec": {
   "display_name": "Python 3 (ipykernel)",
   "language": "python",
   "name": "python3"
  },
  "language_info": {
   "codemirror_mode": {
    "name": "ipython",
    "version": 3
   },
   "file_extension": ".py",
   "mimetype": "text/x-python",
   "name": "python",
   "nbconvert_exporter": "python",
   "pygments_lexer": "ipython3",
   "version": "3.9.7"
  },
  "latex_envs": {
   "LaTeX_envs_menu_present": true,
   "autoclose": false,
   "autocomplete": true,
   "bibliofile": "biblio.bib",
   "cite_by": "apalike",
   "current_citInitial": 1,
   "eqLabelWithNumbers": true,
   "eqNumInitial": 1,
   "hotkeys": {
    "equation": "Ctrl-E",
    "itemize": "Ctrl-I"
   },
   "labels_anchors": false,
   "latex_user_defs": false,
   "report_style_numbering": false,
   "user_envs_cfg": false
  }
 },
 "nbformat": 4,
 "nbformat_minor": 5
}
