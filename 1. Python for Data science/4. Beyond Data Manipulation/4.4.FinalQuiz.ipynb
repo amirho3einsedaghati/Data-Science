{
 "cells": [
  {
   "cell_type": "markdown",
   "id": "2a9cd20e",
   "metadata": {},
   "source": [
    "# q1 :\n",
    "\n",
    "\n",
    "Consider the given NumPy arrays a and b. What will be the value of c after the following code is executed?"
   ]
  },
  {
   "cell_type": "code",
   "execution_count": 1,
   "id": "dab7eb66",
   "metadata": {},
   "outputs": [],
   "source": [
    "import numpy as np"
   ]
  },
  {
   "cell_type": "code",
   "execution_count": 2,
   "id": "2a49cf88",
   "metadata": {},
   "outputs": [],
   "source": [
    "a = np.arange(8)\n",
    "b = a[4:6] # 'b' is a subarray of 'a'\n",
    "b[:] = 40\n",
    "c= a[4] + a[6]"
   ]
  },
  {
   "cell_type": "code",
   "execution_count": 3,
   "id": "09ac4438",
   "metadata": {},
   "outputs": [
    {
     "name": "stdout",
     "output_type": "stream",
     "text": [
      "a = [ 0  1  2  3 40 40  6  7]\n",
      "b = [40 40]\n",
      "c = 46\n"
     ]
    }
   ],
   "source": [
    "print(\"a = \"+ str(a))\n",
    "print(\"b = {}\".format(b))\n",
    "print('c = {}'.format(c))"
   ]
  },
  {
   "cell_type": "markdown",
   "id": "ab1115e6",
   "metadata": {},
   "source": [
    "# q2 :\n",
    "\n",
    "Given the string s as shown below, which of the following expressions will be True?"
   ]
  },
  {
   "cell_type": "code",
   "execution_count": 4,
   "id": "d5fb05ef",
   "metadata": {},
   "outputs": [],
   "source": [
    "import re\n",
    "s = 'ABCAC'"
   ]
  },
  {
   "cell_type": "code",
   "execution_count": 5,
   "id": "7f9c85c6",
   "metadata": {},
   "outputs": [
    {
     "data": {
      "text/plain": [
       "['', 'BC', 'C']"
      ]
     },
     "execution_count": 5,
     "metadata": {},
     "output_type": "execute_result"
    }
   ],
   "source": [
    "re.split('A', s)"
   ]
  },
  {
   "cell_type": "code",
   "execution_count": 7,
   "id": "c309c51a",
   "metadata": {},
   "outputs": [
    {
     "ename": "TypeError",
     "evalue": "object of type 're.Match' has no len()",
     "output_type": "error",
     "traceback": [
      "\u001b[1;31m---------------------------------------------------------------------------\u001b[0m",
      "\u001b[1;31mTypeError\u001b[0m                                 Traceback (most recent call last)",
      "\u001b[1;32mC:\\Users\\IRANIN~1\\AppData\\Local\\Temp/ipykernel_17380/550389710.py\u001b[0m in \u001b[0;36m<module>\u001b[1;34m\u001b[0m\n\u001b[1;32m----> 1\u001b[1;33m \u001b[0mlen\u001b[0m\u001b[1;33m(\u001b[0m\u001b[0mre\u001b[0m\u001b[1;33m.\u001b[0m\u001b[0msearch\u001b[0m\u001b[1;33m(\u001b[0m\u001b[1;34m'A'\u001b[0m\u001b[1;33m,\u001b[0m \u001b[0ms\u001b[0m\u001b[1;33m)\u001b[0m\u001b[1;33m)\u001b[0m\u001b[1;33m\u001b[0m\u001b[1;33m\u001b[0m\u001b[0m\n\u001b[0m",
      "\u001b[1;31mTypeError\u001b[0m: object of type 're.Match' has no len()"
     ]
    }
   ],
   "source": [
    "len(re.search('A', s)) "
   ]
  },
  {
   "cell_type": "code",
   "execution_count": 8,
   "id": "0cf60225",
   "metadata": {},
   "outputs": [
    {
     "data": {
      "text/plain": [
       "True"
      ]
     },
     "execution_count": 8,
     "metadata": {},
     "output_type": "execute_result"
    }
   ],
   "source": [
    "bool(re.match('A', s)) == True"
   ]
  },
  {
   "cell_type": "code",
   "execution_count": 9,
   "id": "4c13167b",
   "metadata": {},
   "outputs": [
    {
     "data": {
      "text/plain": [
       "False"
      ]
     },
     "execution_count": 9,
     "metadata": {},
     "output_type": "execute_result"
    }
   ],
   "source": [
    "re.match('A', s) == True\n"
   ]
  },
  {
   "cell_type": "markdown",
   "id": "ef2af58f",
   "metadata": {},
   "source": [
    "# q3 :\n",
    "\n",
    "Consider a string s. We want to find all characters (other than A) which are followed by triple A, i.e., have AAA to the right. We don’t want to include the triple A in the output and just want the character immediately preceding AAA . "
   ]
  },
  {
   "cell_type": "code",
   "execution_count": 125,
   "id": "5b4f25fe",
   "metadata": {},
   "outputs": [
    {
     "data": {
      "text/plain": [
       "['C', 'F', 'B']"
      ]
     },
     "execution_count": 125,
     "metadata": {},
     "output_type": "execute_result"
    }
   ],
   "source": [
    "def answer_three():\n",
    "    s = 'ACAABAACAAABACDBADDDFSDDDFFSSSASDAFAAACBAAAFASD'\n",
    "\n",
    "    result = []\n",
    "    pattern = '([A-S])(?=A{3})'\n",
    "    for item in re.finditer(pattern, s):\n",
    "        # identify groups\n",
    "        result.append(item.group())\n",
    "      \n",
    "    return result\n",
    "\n",
    "answer_three()"
   ]
  },
  {
   "cell_type": "markdown",
   "id": "7cde3d99",
   "metadata": {},
   "source": [
    "# q4 :\n",
    "\n",
    "identify All of expressions have the same value except one expression."
   ]
  },
  {
   "cell_type": "code",
   "execution_count": 44,
   "id": "af12e624",
   "metadata": {},
   "outputs": [],
   "source": [
    "import pandas as pd"
   ]
  },
  {
   "cell_type": "code",
   "execution_count": 45,
   "id": "c9228479",
   "metadata": {},
   "outputs": [
    {
     "data": {
      "text/plain": [
       "d    4\n",
       "b    7\n",
       "a   -5\n",
       "c    3\n",
       "dtype: int64"
      ]
     },
     "execution_count": 45,
     "metadata": {},
     "output_type": "execute_result"
    }
   ],
   "source": [
    "series = pd.Series([4, 7, -5, 3], ['d', 'b', 'a', 'c'])\n",
    "series"
   ]
  },
  {
   "cell_type": "code",
   "execution_count": 46,
   "id": "aee863b5",
   "metadata": {},
   "outputs": [
    {
     "data": {
      "text/plain": [
       "4"
      ]
     },
     "execution_count": 46,
     "metadata": {},
     "output_type": "execute_result"
    }
   ],
   "source": [
    "series.iloc[0]"
   ]
  },
  {
   "cell_type": "code",
   "execution_count": 47,
   "id": "5724e244",
   "metadata": {},
   "outputs": [
    {
     "data": {
      "text/plain": [
       "4"
      ]
     },
     "execution_count": 47,
     "metadata": {},
     "output_type": "execute_result"
    }
   ],
   "source": [
    "series[0]"
   ]
  },
  {
   "cell_type": "code",
   "execution_count": 48,
   "id": "7860e875",
   "metadata": {},
   "outputs": [
    {
     "data": {
      "text/plain": [
       "'d'"
      ]
     },
     "execution_count": 48,
     "metadata": {},
     "output_type": "execute_result"
    }
   ],
   "source": [
    "series.index[0]"
   ]
  },
  {
   "cell_type": "code",
   "execution_count": 49,
   "id": "80540636",
   "metadata": {},
   "outputs": [
    {
     "data": {
      "text/plain": [
       "4"
      ]
     },
     "execution_count": 49,
     "metadata": {},
     "output_type": "execute_result"
    }
   ],
   "source": [
    "series['d']"
   ]
  },
  {
   "cell_type": "markdown",
   "id": "ea43f0f3",
   "metadata": {},
   "source": [
    "# q5 :"
   ]
  },
  {
   "cell_type": "markdown",
   "id": "ea76e8f3",
   "metadata": {},
   "source": [
    "Consider the two pandas Series objects shown above, representing the no. of items of different yogurt flavors that were sold in a day from two different stores, s1 and s2. Which of the following statements is True regarding the Series s3 defined below?"
   ]
  },
  {
   "cell_type": "code",
   "execution_count": 75,
   "id": "1fd740e8",
   "metadata": {},
   "outputs": [
    {
     "data": {
      "text/plain": [
       "Banana         NaN\n",
       "Blueberry      NaN\n",
       "Mango         40.0\n",
       "Plain          NaN\n",
       "Strawberry    35.0\n",
       "Vanilla       61.0\n",
       "dtype: float64"
      ]
     },
     "execution_count": 75,
     "metadata": {},
     "output_type": "execute_result"
    }
   ],
   "source": [
    "s1 = pd.Series([20, 15, 18, 31],\n",
    "               ['Mango', 'Strawberry', 'Blueberry', 'Vanilla'])\n",
    "s2 = pd.Series([20, 30, 15, 20, 20],\n",
    "              ['Strawberry', 'Vanilla', 'Banana', 'Mango', 'Plain'])\n",
    "s3 = s1.add(s2)\n",
    "s3"
   ]
  },
  {
   "cell_type": "code",
   "execution_count": 76,
   "id": "50aeb4bf",
   "metadata": {},
   "outputs": [
    {
     "data": {
      "text/plain": [
       "False"
      ]
     },
     "execution_count": 76,
     "metadata": {},
     "output_type": "execute_result"
    }
   ],
   "source": [
    "s3['Plain'] >= s3['Mango']"
   ]
  },
  {
   "cell_type": "code",
   "execution_count": 77,
   "id": "ff0f60de",
   "metadata": {},
   "outputs": [
    {
     "data": {
      "text/plain": [
       "True"
      ]
     },
     "execution_count": 77,
     "metadata": {},
     "output_type": "execute_result"
    }
   ],
   "source": [
    "s3['Mango'] >= s1.add(other= s2, fill_value= 0)['Mango']"
   ]
  },
  {
   "cell_type": "code",
   "execution_count": 78,
   "id": "36e37c82",
   "metadata": {},
   "outputs": [
    {
     "data": {
      "text/plain": [
       "False"
      ]
     },
     "execution_count": 78,
     "metadata": {},
     "output_type": "execute_result"
    }
   ],
   "source": [
    "s3['Blueberry'] == s1.add(s2, fill_value= 0)['Blueberry']"
   ]
  },
  {
   "cell_type": "code",
   "execution_count": 81,
   "id": "71259f16",
   "metadata": {},
   "outputs": [
    {
     "data": {
      "text/plain": [
       "False"
      ]
     },
     "execution_count": 81,
     "metadata": {},
     "output_type": "execute_result"
    }
   ],
   "source": [
    "s3['Blueberry'] == s1['Blueberry']"
   ]
  },
  {
   "cell_type": "markdown",
   "id": "0dcb46d7",
   "metadata": {},
   "source": [
    "# q6 :"
   ]
  },
  {
   "cell_type": "code",
   "execution_count": 83,
   "id": "37f3e8be",
   "metadata": {},
   "outputs": [
    {
     "data": {
      "text/html": [
       "<div>\n",
       "<style scoped>\n",
       "    .dataframe tbody tr th:only-of-type {\n",
       "        vertical-align: middle;\n",
       "    }\n",
       "\n",
       "    .dataframe tbody tr th {\n",
       "        vertical-align: top;\n",
       "    }\n",
       "\n",
       "    .dataframe thead th {\n",
       "        text-align: right;\n",
       "    }\n",
       "</style>\n",
       "<table border=\"1\" class=\"dataframe\">\n",
       "  <thead>\n",
       "    <tr style=\"text-align: right;\">\n",
       "      <th></th>\n",
       "      <th>0</th>\n",
       "      <th>1</th>\n",
       "      <th>2</th>\n",
       "      <th>3</th>\n",
       "      <th>4</th>\n",
       "      <th>5</th>\n",
       "      <th>6</th>\n",
       "      <th>7</th>\n",
       "      <th>8</th>\n",
       "      <th>9</th>\n",
       "      <th>...</th>\n",
       "      <th>90</th>\n",
       "      <th>91</th>\n",
       "      <th>92</th>\n",
       "      <th>93</th>\n",
       "      <th>94</th>\n",
       "      <th>95</th>\n",
       "      <th>96</th>\n",
       "      <th>97</th>\n",
       "      <th>98</th>\n",
       "      <th>99</th>\n",
       "    </tr>\n",
       "  </thead>\n",
       "  <tbody>\n",
       "    <tr>\n",
       "      <th>0</th>\n",
       "      <td>0.749343</td>\n",
       "      <td>0.062660</td>\n",
       "      <td>0.564687</td>\n",
       "      <td>0.271248</td>\n",
       "      <td>0.648471</td>\n",
       "      <td>0.852326</td>\n",
       "      <td>0.840339</td>\n",
       "      <td>0.844134</td>\n",
       "      <td>0.758372</td>\n",
       "      <td>0.040962</td>\n",
       "      <td>...</td>\n",
       "      <td>0.837836</td>\n",
       "      <td>0.381429</td>\n",
       "      <td>0.515857</td>\n",
       "      <td>0.303484</td>\n",
       "      <td>0.583150</td>\n",
       "      <td>0.307272</td>\n",
       "      <td>0.373399</td>\n",
       "      <td>0.187103</td>\n",
       "      <td>0.397417</td>\n",
       "      <td>0.186456</td>\n",
       "    </tr>\n",
       "    <tr>\n",
       "      <th>1</th>\n",
       "      <td>0.040605</td>\n",
       "      <td>0.618271</td>\n",
       "      <td>0.588981</td>\n",
       "      <td>0.986315</td>\n",
       "      <td>0.351138</td>\n",
       "      <td>0.591995</td>\n",
       "      <td>0.849757</td>\n",
       "      <td>0.720434</td>\n",
       "      <td>0.541742</td>\n",
       "      <td>0.071283</td>\n",
       "      <td>...</td>\n",
       "      <td>0.536766</td>\n",
       "      <td>0.002318</td>\n",
       "      <td>0.490822</td>\n",
       "      <td>0.413330</td>\n",
       "      <td>0.822984</td>\n",
       "      <td>0.958306</td>\n",
       "      <td>0.424656</td>\n",
       "      <td>0.580428</td>\n",
       "      <td>0.618606</td>\n",
       "      <td>0.653447</td>\n",
       "    </tr>\n",
       "    <tr>\n",
       "      <th>2</th>\n",
       "      <td>0.887539</td>\n",
       "      <td>0.769327</td>\n",
       "      <td>0.514628</td>\n",
       "      <td>0.153016</td>\n",
       "      <td>0.477902</td>\n",
       "      <td>0.672530</td>\n",
       "      <td>0.189727</td>\n",
       "      <td>0.604668</td>\n",
       "      <td>0.275175</td>\n",
       "      <td>0.888092</td>\n",
       "      <td>...</td>\n",
       "      <td>0.806334</td>\n",
       "      <td>0.856026</td>\n",
       "      <td>0.048334</td>\n",
       "      <td>0.122111</td>\n",
       "      <td>0.503989</td>\n",
       "      <td>0.827649</td>\n",
       "      <td>0.431314</td>\n",
       "      <td>0.015496</td>\n",
       "      <td>0.281287</td>\n",
       "      <td>0.028421</td>\n",
       "    </tr>\n",
       "    <tr>\n",
       "      <th>3</th>\n",
       "      <td>0.774927</td>\n",
       "      <td>0.969037</td>\n",
       "      <td>0.832165</td>\n",
       "      <td>0.561759</td>\n",
       "      <td>0.214281</td>\n",
       "      <td>0.857542</td>\n",
       "      <td>0.852827</td>\n",
       "      <td>0.252099</td>\n",
       "      <td>0.707878</td>\n",
       "      <td>0.489704</td>\n",
       "      <td>...</td>\n",
       "      <td>0.585040</td>\n",
       "      <td>0.030889</td>\n",
       "      <td>0.265946</td>\n",
       "      <td>0.196720</td>\n",
       "      <td>0.425469</td>\n",
       "      <td>0.935086</td>\n",
       "      <td>0.441454</td>\n",
       "      <td>0.189439</td>\n",
       "      <td>0.197862</td>\n",
       "      <td>0.071036</td>\n",
       "    </tr>\n",
       "    <tr>\n",
       "      <th>4</th>\n",
       "      <td>0.592631</td>\n",
       "      <td>0.992634</td>\n",
       "      <td>0.238636</td>\n",
       "      <td>0.319526</td>\n",
       "      <td>0.039668</td>\n",
       "      <td>0.651133</td>\n",
       "      <td>0.230234</td>\n",
       "      <td>0.488629</td>\n",
       "      <td>0.570719</td>\n",
       "      <td>0.703891</td>\n",
       "      <td>...</td>\n",
       "      <td>0.607742</td>\n",
       "      <td>0.832683</td>\n",
       "      <td>0.435565</td>\n",
       "      <td>0.472435</td>\n",
       "      <td>0.142551</td>\n",
       "      <td>0.296564</td>\n",
       "      <td>0.797406</td>\n",
       "      <td>0.176874</td>\n",
       "      <td>0.652124</td>\n",
       "      <td>0.195166</td>\n",
       "    </tr>\n",
       "  </tbody>\n",
       "</table>\n",
       "<p>5 rows × 100 columns</p>\n",
       "</div>"
      ],
      "text/plain": [
       "         0         1         2         3         4         5         6   \\\n",
       "0  0.749343  0.062660  0.564687  0.271248  0.648471  0.852326  0.840339   \n",
       "1  0.040605  0.618271  0.588981  0.986315  0.351138  0.591995  0.849757   \n",
       "2  0.887539  0.769327  0.514628  0.153016  0.477902  0.672530  0.189727   \n",
       "3  0.774927  0.969037  0.832165  0.561759  0.214281  0.857542  0.852827   \n",
       "4  0.592631  0.992634  0.238636  0.319526  0.039668  0.651133  0.230234   \n",
       "\n",
       "         7         8         9   ...        90        91        92        93  \\\n",
       "0  0.844134  0.758372  0.040962  ...  0.837836  0.381429  0.515857  0.303484   \n",
       "1  0.720434  0.541742  0.071283  ...  0.536766  0.002318  0.490822  0.413330   \n",
       "2  0.604668  0.275175  0.888092  ...  0.806334  0.856026  0.048334  0.122111   \n",
       "3  0.252099  0.707878  0.489704  ...  0.585040  0.030889  0.265946  0.196720   \n",
       "4  0.488629  0.570719  0.703891  ...  0.607742  0.832683  0.435565  0.472435   \n",
       "\n",
       "         94        95        96        97        98        99  \n",
       "0  0.583150  0.307272  0.373399  0.187103  0.397417  0.186456  \n",
       "1  0.822984  0.958306  0.424656  0.580428  0.618606  0.653447  \n",
       "2  0.503989  0.827649  0.431314  0.015496  0.281287  0.028421  \n",
       "3  0.425469  0.935086  0.441454  0.189439  0.197862  0.071036  \n",
       "4  0.142551  0.296564  0.797406  0.176874  0.652124  0.195166  \n",
       "\n",
       "[5 rows x 100 columns]"
      ]
     },
     "execution_count": 83,
     "metadata": {},
     "output_type": "execute_result"
    }
   ],
   "source": [
    "df = pd.DataFrame([np.random.random(100) for item in range(100)])\n",
    "df.head()"
   ]
  },
  {
   "cell_type": "markdown",
   "id": "0abb322b",
   "metadata": {},
   "source": [
    "Every time we call df.set_index(), the old index will be discarded."
   ]
  },
  {
   "cell_type": "code",
   "execution_count": 85,
   "id": "e9d65118",
   "metadata": {
    "scrolled": true
   },
   "outputs": [
    {
     "data": {
      "text/html": [
       "<div>\n",
       "<style scoped>\n",
       "    .dataframe tbody tr th:only-of-type {\n",
       "        vertical-align: middle;\n",
       "    }\n",
       "\n",
       "    .dataframe tbody tr th {\n",
       "        vertical-align: top;\n",
       "    }\n",
       "\n",
       "    .dataframe thead th {\n",
       "        text-align: right;\n",
       "    }\n",
       "</style>\n",
       "<table border=\"1\" class=\"dataframe\">\n",
       "  <thead>\n",
       "    <tr style=\"text-align: right;\">\n",
       "      <th></th>\n",
       "      <th>2</th>\n",
       "      <th>3</th>\n",
       "      <th>4</th>\n",
       "      <th>5</th>\n",
       "      <th>6</th>\n",
       "      <th>7</th>\n",
       "      <th>8</th>\n",
       "      <th>9</th>\n",
       "      <th>10</th>\n",
       "      <th>11</th>\n",
       "      <th>...</th>\n",
       "      <th>90</th>\n",
       "      <th>91</th>\n",
       "      <th>92</th>\n",
       "      <th>93</th>\n",
       "      <th>94</th>\n",
       "      <th>95</th>\n",
       "      <th>96</th>\n",
       "      <th>97</th>\n",
       "      <th>98</th>\n",
       "      <th>99</th>\n",
       "    </tr>\n",
       "    <tr>\n",
       "      <th>1</th>\n",
       "      <th></th>\n",
       "      <th></th>\n",
       "      <th></th>\n",
       "      <th></th>\n",
       "      <th></th>\n",
       "      <th></th>\n",
       "      <th></th>\n",
       "      <th></th>\n",
       "      <th></th>\n",
       "      <th></th>\n",
       "      <th></th>\n",
       "      <th></th>\n",
       "      <th></th>\n",
       "      <th></th>\n",
       "      <th></th>\n",
       "      <th></th>\n",
       "      <th></th>\n",
       "      <th></th>\n",
       "      <th></th>\n",
       "      <th></th>\n",
       "      <th></th>\n",
       "    </tr>\n",
       "  </thead>\n",
       "  <tbody>\n",
       "    <tr>\n",
       "      <th>0.062660</th>\n",
       "      <td>0.564687</td>\n",
       "      <td>0.271248</td>\n",
       "      <td>0.648471</td>\n",
       "      <td>0.852326</td>\n",
       "      <td>0.840339</td>\n",
       "      <td>0.844134</td>\n",
       "      <td>0.758372</td>\n",
       "      <td>0.040962</td>\n",
       "      <td>0.337995</td>\n",
       "      <td>0.602505</td>\n",
       "      <td>...</td>\n",
       "      <td>0.837836</td>\n",
       "      <td>0.381429</td>\n",
       "      <td>0.515857</td>\n",
       "      <td>0.303484</td>\n",
       "      <td>0.583150</td>\n",
       "      <td>0.307272</td>\n",
       "      <td>0.373399</td>\n",
       "      <td>0.187103</td>\n",
       "      <td>0.397417</td>\n",
       "      <td>0.186456</td>\n",
       "    </tr>\n",
       "    <tr>\n",
       "      <th>0.618271</th>\n",
       "      <td>0.588981</td>\n",
       "      <td>0.986315</td>\n",
       "      <td>0.351138</td>\n",
       "      <td>0.591995</td>\n",
       "      <td>0.849757</td>\n",
       "      <td>0.720434</td>\n",
       "      <td>0.541742</td>\n",
       "      <td>0.071283</td>\n",
       "      <td>0.947294</td>\n",
       "      <td>0.344809</td>\n",
       "      <td>...</td>\n",
       "      <td>0.536766</td>\n",
       "      <td>0.002318</td>\n",
       "      <td>0.490822</td>\n",
       "      <td>0.413330</td>\n",
       "      <td>0.822984</td>\n",
       "      <td>0.958306</td>\n",
       "      <td>0.424656</td>\n",
       "      <td>0.580428</td>\n",
       "      <td>0.618606</td>\n",
       "      <td>0.653447</td>\n",
       "    </tr>\n",
       "    <tr>\n",
       "      <th>0.769327</th>\n",
       "      <td>0.514628</td>\n",
       "      <td>0.153016</td>\n",
       "      <td>0.477902</td>\n",
       "      <td>0.672530</td>\n",
       "      <td>0.189727</td>\n",
       "      <td>0.604668</td>\n",
       "      <td>0.275175</td>\n",
       "      <td>0.888092</td>\n",
       "      <td>0.833369</td>\n",
       "      <td>0.522054</td>\n",
       "      <td>...</td>\n",
       "      <td>0.806334</td>\n",
       "      <td>0.856026</td>\n",
       "      <td>0.048334</td>\n",
       "      <td>0.122111</td>\n",
       "      <td>0.503989</td>\n",
       "      <td>0.827649</td>\n",
       "      <td>0.431314</td>\n",
       "      <td>0.015496</td>\n",
       "      <td>0.281287</td>\n",
       "      <td>0.028421</td>\n",
       "    </tr>\n",
       "    <tr>\n",
       "      <th>0.969037</th>\n",
       "      <td>0.832165</td>\n",
       "      <td>0.561759</td>\n",
       "      <td>0.214281</td>\n",
       "      <td>0.857542</td>\n",
       "      <td>0.852827</td>\n",
       "      <td>0.252099</td>\n",
       "      <td>0.707878</td>\n",
       "      <td>0.489704</td>\n",
       "      <td>0.495154</td>\n",
       "      <td>0.528608</td>\n",
       "      <td>...</td>\n",
       "      <td>0.585040</td>\n",
       "      <td>0.030889</td>\n",
       "      <td>0.265946</td>\n",
       "      <td>0.196720</td>\n",
       "      <td>0.425469</td>\n",
       "      <td>0.935086</td>\n",
       "      <td>0.441454</td>\n",
       "      <td>0.189439</td>\n",
       "      <td>0.197862</td>\n",
       "      <td>0.071036</td>\n",
       "    </tr>\n",
       "    <tr>\n",
       "      <th>0.992634</th>\n",
       "      <td>0.238636</td>\n",
       "      <td>0.319526</td>\n",
       "      <td>0.039668</td>\n",
       "      <td>0.651133</td>\n",
       "      <td>0.230234</td>\n",
       "      <td>0.488629</td>\n",
       "      <td>0.570719</td>\n",
       "      <td>0.703891</td>\n",
       "      <td>0.198641</td>\n",
       "      <td>0.385561</td>\n",
       "      <td>...</td>\n",
       "      <td>0.607742</td>\n",
       "      <td>0.832683</td>\n",
       "      <td>0.435565</td>\n",
       "      <td>0.472435</td>\n",
       "      <td>0.142551</td>\n",
       "      <td>0.296564</td>\n",
       "      <td>0.797406</td>\n",
       "      <td>0.176874</td>\n",
       "      <td>0.652124</td>\n",
       "      <td>0.195166</td>\n",
       "    </tr>\n",
       "    <tr>\n",
       "      <th>...</th>\n",
       "      <td>...</td>\n",
       "      <td>...</td>\n",
       "      <td>...</td>\n",
       "      <td>...</td>\n",
       "      <td>...</td>\n",
       "      <td>...</td>\n",
       "      <td>...</td>\n",
       "      <td>...</td>\n",
       "      <td>...</td>\n",
       "      <td>...</td>\n",
       "      <td>...</td>\n",
       "      <td>...</td>\n",
       "      <td>...</td>\n",
       "      <td>...</td>\n",
       "      <td>...</td>\n",
       "      <td>...</td>\n",
       "      <td>...</td>\n",
       "      <td>...</td>\n",
       "      <td>...</td>\n",
       "      <td>...</td>\n",
       "      <td>...</td>\n",
       "    </tr>\n",
       "    <tr>\n",
       "      <th>0.707745</th>\n",
       "      <td>0.246967</td>\n",
       "      <td>0.194290</td>\n",
       "      <td>0.249919</td>\n",
       "      <td>0.048454</td>\n",
       "      <td>0.998263</td>\n",
       "      <td>0.693023</td>\n",
       "      <td>0.356434</td>\n",
       "      <td>0.080067</td>\n",
       "      <td>0.517043</td>\n",
       "      <td>0.503789</td>\n",
       "      <td>...</td>\n",
       "      <td>0.416404</td>\n",
       "      <td>0.949692</td>\n",
       "      <td>0.485381</td>\n",
       "      <td>0.926619</td>\n",
       "      <td>0.479355</td>\n",
       "      <td>0.867280</td>\n",
       "      <td>0.266985</td>\n",
       "      <td>0.667168</td>\n",
       "      <td>0.707919</td>\n",
       "      <td>0.249292</td>\n",
       "    </tr>\n",
       "    <tr>\n",
       "      <th>0.310003</th>\n",
       "      <td>0.146046</td>\n",
       "      <td>0.251770</td>\n",
       "      <td>0.876462</td>\n",
       "      <td>0.127422</td>\n",
       "      <td>0.799907</td>\n",
       "      <td>0.968555</td>\n",
       "      <td>0.448510</td>\n",
       "      <td>0.238136</td>\n",
       "      <td>0.103509</td>\n",
       "      <td>0.302535</td>\n",
       "      <td>...</td>\n",
       "      <td>0.759691</td>\n",
       "      <td>0.511331</td>\n",
       "      <td>0.838171</td>\n",
       "      <td>0.159348</td>\n",
       "      <td>0.219285</td>\n",
       "      <td>0.623250</td>\n",
       "      <td>0.205688</td>\n",
       "      <td>0.040556</td>\n",
       "      <td>0.867998</td>\n",
       "      <td>0.527901</td>\n",
       "    </tr>\n",
       "    <tr>\n",
       "      <th>0.870771</th>\n",
       "      <td>0.986362</td>\n",
       "      <td>0.561609</td>\n",
       "      <td>0.203568</td>\n",
       "      <td>0.747194</td>\n",
       "      <td>0.675158</td>\n",
       "      <td>0.213213</td>\n",
       "      <td>0.715934</td>\n",
       "      <td>0.288649</td>\n",
       "      <td>0.496999</td>\n",
       "      <td>0.350961</td>\n",
       "      <td>...</td>\n",
       "      <td>0.356584</td>\n",
       "      <td>0.841388</td>\n",
       "      <td>0.489683</td>\n",
       "      <td>0.508162</td>\n",
       "      <td>0.358480</td>\n",
       "      <td>0.024890</td>\n",
       "      <td>0.410743</td>\n",
       "      <td>0.382740</td>\n",
       "      <td>0.136359</td>\n",
       "      <td>0.224419</td>\n",
       "    </tr>\n",
       "    <tr>\n",
       "      <th>0.312897</th>\n",
       "      <td>0.200640</td>\n",
       "      <td>0.026629</td>\n",
       "      <td>0.143094</td>\n",
       "      <td>0.605778</td>\n",
       "      <td>0.643815</td>\n",
       "      <td>0.417127</td>\n",
       "      <td>0.072187</td>\n",
       "      <td>0.153177</td>\n",
       "      <td>0.114676</td>\n",
       "      <td>0.463983</td>\n",
       "      <td>...</td>\n",
       "      <td>0.300384</td>\n",
       "      <td>0.399093</td>\n",
       "      <td>0.833935</td>\n",
       "      <td>0.371166</td>\n",
       "      <td>0.667144</td>\n",
       "      <td>0.360004</td>\n",
       "      <td>0.787795</td>\n",
       "      <td>0.536079</td>\n",
       "      <td>0.803890</td>\n",
       "      <td>0.568520</td>\n",
       "    </tr>\n",
       "    <tr>\n",
       "      <th>0.452718</th>\n",
       "      <td>0.565357</td>\n",
       "      <td>0.513662</td>\n",
       "      <td>0.751168</td>\n",
       "      <td>0.620178</td>\n",
       "      <td>0.531218</td>\n",
       "      <td>0.300324</td>\n",
       "      <td>0.052756</td>\n",
       "      <td>0.598333</td>\n",
       "      <td>0.095602</td>\n",
       "      <td>0.496574</td>\n",
       "      <td>...</td>\n",
       "      <td>0.977825</td>\n",
       "      <td>0.130846</td>\n",
       "      <td>0.163798</td>\n",
       "      <td>0.515177</td>\n",
       "      <td>0.629770</td>\n",
       "      <td>0.091870</td>\n",
       "      <td>0.193908</td>\n",
       "      <td>0.716767</td>\n",
       "      <td>0.579764</td>\n",
       "      <td>0.182621</td>\n",
       "    </tr>\n",
       "  </tbody>\n",
       "</table>\n",
       "<p>100 rows × 98 columns</p>\n",
       "</div>"
      ],
      "text/plain": [
       "                2         3         4         5         6         7   \\\n",
       "1                                                                      \n",
       "0.062660  0.564687  0.271248  0.648471  0.852326  0.840339  0.844134   \n",
       "0.618271  0.588981  0.986315  0.351138  0.591995  0.849757  0.720434   \n",
       "0.769327  0.514628  0.153016  0.477902  0.672530  0.189727  0.604668   \n",
       "0.969037  0.832165  0.561759  0.214281  0.857542  0.852827  0.252099   \n",
       "0.992634  0.238636  0.319526  0.039668  0.651133  0.230234  0.488629   \n",
       "...            ...       ...       ...       ...       ...       ...   \n",
       "0.707745  0.246967  0.194290  0.249919  0.048454  0.998263  0.693023   \n",
       "0.310003  0.146046  0.251770  0.876462  0.127422  0.799907  0.968555   \n",
       "0.870771  0.986362  0.561609  0.203568  0.747194  0.675158  0.213213   \n",
       "0.312897  0.200640  0.026629  0.143094  0.605778  0.643815  0.417127   \n",
       "0.452718  0.565357  0.513662  0.751168  0.620178  0.531218  0.300324   \n",
       "\n",
       "                8         9         10        11  ...        90        91  \\\n",
       "1                                                 ...                       \n",
       "0.062660  0.758372  0.040962  0.337995  0.602505  ...  0.837836  0.381429   \n",
       "0.618271  0.541742  0.071283  0.947294  0.344809  ...  0.536766  0.002318   \n",
       "0.769327  0.275175  0.888092  0.833369  0.522054  ...  0.806334  0.856026   \n",
       "0.969037  0.707878  0.489704  0.495154  0.528608  ...  0.585040  0.030889   \n",
       "0.992634  0.570719  0.703891  0.198641  0.385561  ...  0.607742  0.832683   \n",
       "...            ...       ...       ...       ...  ...       ...       ...   \n",
       "0.707745  0.356434  0.080067  0.517043  0.503789  ...  0.416404  0.949692   \n",
       "0.310003  0.448510  0.238136  0.103509  0.302535  ...  0.759691  0.511331   \n",
       "0.870771  0.715934  0.288649  0.496999  0.350961  ...  0.356584  0.841388   \n",
       "0.312897  0.072187  0.153177  0.114676  0.463983  ...  0.300384  0.399093   \n",
       "0.452718  0.052756  0.598333  0.095602  0.496574  ...  0.977825  0.130846   \n",
       "\n",
       "                92        93        94        95        96        97  \\\n",
       "1                                                                      \n",
       "0.062660  0.515857  0.303484  0.583150  0.307272  0.373399  0.187103   \n",
       "0.618271  0.490822  0.413330  0.822984  0.958306  0.424656  0.580428   \n",
       "0.769327  0.048334  0.122111  0.503989  0.827649  0.431314  0.015496   \n",
       "0.969037  0.265946  0.196720  0.425469  0.935086  0.441454  0.189439   \n",
       "0.992634  0.435565  0.472435  0.142551  0.296564  0.797406  0.176874   \n",
       "...            ...       ...       ...       ...       ...       ...   \n",
       "0.707745  0.485381  0.926619  0.479355  0.867280  0.266985  0.667168   \n",
       "0.310003  0.838171  0.159348  0.219285  0.623250  0.205688  0.040556   \n",
       "0.870771  0.489683  0.508162  0.358480  0.024890  0.410743  0.382740   \n",
       "0.312897  0.833935  0.371166  0.667144  0.360004  0.787795  0.536079   \n",
       "0.452718  0.163798  0.515177  0.629770  0.091870  0.193908  0.716767   \n",
       "\n",
       "                98        99  \n",
       "1                             \n",
       "0.062660  0.397417  0.186456  \n",
       "0.618271  0.618606  0.653447  \n",
       "0.769327  0.281287  0.028421  \n",
       "0.969037  0.197862  0.071036  \n",
       "0.992634  0.652124  0.195166  \n",
       "...            ...       ...  \n",
       "0.707745  0.707919  0.249292  \n",
       "0.310003  0.867998  0.527901  \n",
       "0.870771  0.136359  0.224419  \n",
       "0.312897  0.803890  0.568520  \n",
       "0.452718  0.579764  0.182621  \n",
       "\n",
       "[100 rows x 98 columns]"
      ]
     },
     "execution_count": 85,
     "metadata": {},
     "output_type": "execute_result"
    }
   ],
   "source": [
    "df.set_index(0).set_index(1)"
   ]
  },
  {
   "cell_type": "markdown",
   "id": "778edbf9",
   "metadata": {},
   "source": [
    "Every time we call df.reset_index(), the old index will be set as a new column."
   ]
  },
  {
   "cell_type": "code",
   "execution_count": 88,
   "id": "90c6ff48",
   "metadata": {},
   "outputs": [
    {
     "data": {
      "text/html": [
       "<div>\n",
       "<style scoped>\n",
       "    .dataframe tbody tr th:only-of-type {\n",
       "        vertical-align: middle;\n",
       "    }\n",
       "\n",
       "    .dataframe tbody tr th {\n",
       "        vertical-align: top;\n",
       "    }\n",
       "\n",
       "    .dataframe thead th {\n",
       "        text-align: right;\n",
       "    }\n",
       "</style>\n",
       "<table border=\"1\" class=\"dataframe\">\n",
       "  <thead>\n",
       "    <tr style=\"text-align: right;\">\n",
       "      <th></th>\n",
       "      <th>1</th>\n",
       "      <th>2</th>\n",
       "      <th>3</th>\n",
       "      <th>4</th>\n",
       "      <th>5</th>\n",
       "      <th>6</th>\n",
       "      <th>7</th>\n",
       "      <th>8</th>\n",
       "      <th>9</th>\n",
       "      <th>10</th>\n",
       "      <th>...</th>\n",
       "      <th>90</th>\n",
       "      <th>91</th>\n",
       "      <th>92</th>\n",
       "      <th>93</th>\n",
       "      <th>94</th>\n",
       "      <th>95</th>\n",
       "      <th>96</th>\n",
       "      <th>97</th>\n",
       "      <th>98</th>\n",
       "      <th>99</th>\n",
       "    </tr>\n",
       "  </thead>\n",
       "  <tbody>\n",
       "    <tr>\n",
       "      <th>0</th>\n",
       "      <td>0.062660</td>\n",
       "      <td>0.564687</td>\n",
       "      <td>0.271248</td>\n",
       "      <td>0.648471</td>\n",
       "      <td>0.852326</td>\n",
       "      <td>0.840339</td>\n",
       "      <td>0.844134</td>\n",
       "      <td>0.758372</td>\n",
       "      <td>0.040962</td>\n",
       "      <td>0.337995</td>\n",
       "      <td>...</td>\n",
       "      <td>0.837836</td>\n",
       "      <td>0.381429</td>\n",
       "      <td>0.515857</td>\n",
       "      <td>0.303484</td>\n",
       "      <td>0.583150</td>\n",
       "      <td>0.307272</td>\n",
       "      <td>0.373399</td>\n",
       "      <td>0.187103</td>\n",
       "      <td>0.397417</td>\n",
       "      <td>0.186456</td>\n",
       "    </tr>\n",
       "    <tr>\n",
       "      <th>1</th>\n",
       "      <td>0.618271</td>\n",
       "      <td>0.588981</td>\n",
       "      <td>0.986315</td>\n",
       "      <td>0.351138</td>\n",
       "      <td>0.591995</td>\n",
       "      <td>0.849757</td>\n",
       "      <td>0.720434</td>\n",
       "      <td>0.541742</td>\n",
       "      <td>0.071283</td>\n",
       "      <td>0.947294</td>\n",
       "      <td>...</td>\n",
       "      <td>0.536766</td>\n",
       "      <td>0.002318</td>\n",
       "      <td>0.490822</td>\n",
       "      <td>0.413330</td>\n",
       "      <td>0.822984</td>\n",
       "      <td>0.958306</td>\n",
       "      <td>0.424656</td>\n",
       "      <td>0.580428</td>\n",
       "      <td>0.618606</td>\n",
       "      <td>0.653447</td>\n",
       "    </tr>\n",
       "    <tr>\n",
       "      <th>2</th>\n",
       "      <td>0.769327</td>\n",
       "      <td>0.514628</td>\n",
       "      <td>0.153016</td>\n",
       "      <td>0.477902</td>\n",
       "      <td>0.672530</td>\n",
       "      <td>0.189727</td>\n",
       "      <td>0.604668</td>\n",
       "      <td>0.275175</td>\n",
       "      <td>0.888092</td>\n",
       "      <td>0.833369</td>\n",
       "      <td>...</td>\n",
       "      <td>0.806334</td>\n",
       "      <td>0.856026</td>\n",
       "      <td>0.048334</td>\n",
       "      <td>0.122111</td>\n",
       "      <td>0.503989</td>\n",
       "      <td>0.827649</td>\n",
       "      <td>0.431314</td>\n",
       "      <td>0.015496</td>\n",
       "      <td>0.281287</td>\n",
       "      <td>0.028421</td>\n",
       "    </tr>\n",
       "    <tr>\n",
       "      <th>3</th>\n",
       "      <td>0.969037</td>\n",
       "      <td>0.832165</td>\n",
       "      <td>0.561759</td>\n",
       "      <td>0.214281</td>\n",
       "      <td>0.857542</td>\n",
       "      <td>0.852827</td>\n",
       "      <td>0.252099</td>\n",
       "      <td>0.707878</td>\n",
       "      <td>0.489704</td>\n",
       "      <td>0.495154</td>\n",
       "      <td>...</td>\n",
       "      <td>0.585040</td>\n",
       "      <td>0.030889</td>\n",
       "      <td>0.265946</td>\n",
       "      <td>0.196720</td>\n",
       "      <td>0.425469</td>\n",
       "      <td>0.935086</td>\n",
       "      <td>0.441454</td>\n",
       "      <td>0.189439</td>\n",
       "      <td>0.197862</td>\n",
       "      <td>0.071036</td>\n",
       "    </tr>\n",
       "    <tr>\n",
       "      <th>4</th>\n",
       "      <td>0.992634</td>\n",
       "      <td>0.238636</td>\n",
       "      <td>0.319526</td>\n",
       "      <td>0.039668</td>\n",
       "      <td>0.651133</td>\n",
       "      <td>0.230234</td>\n",
       "      <td>0.488629</td>\n",
       "      <td>0.570719</td>\n",
       "      <td>0.703891</td>\n",
       "      <td>0.198641</td>\n",
       "      <td>...</td>\n",
       "      <td>0.607742</td>\n",
       "      <td>0.832683</td>\n",
       "      <td>0.435565</td>\n",
       "      <td>0.472435</td>\n",
       "      <td>0.142551</td>\n",
       "      <td>0.296564</td>\n",
       "      <td>0.797406</td>\n",
       "      <td>0.176874</td>\n",
       "      <td>0.652124</td>\n",
       "      <td>0.195166</td>\n",
       "    </tr>\n",
       "    <tr>\n",
       "      <th>...</th>\n",
       "      <td>...</td>\n",
       "      <td>...</td>\n",
       "      <td>...</td>\n",
       "      <td>...</td>\n",
       "      <td>...</td>\n",
       "      <td>...</td>\n",
       "      <td>...</td>\n",
       "      <td>...</td>\n",
       "      <td>...</td>\n",
       "      <td>...</td>\n",
       "      <td>...</td>\n",
       "      <td>...</td>\n",
       "      <td>...</td>\n",
       "      <td>...</td>\n",
       "      <td>...</td>\n",
       "      <td>...</td>\n",
       "      <td>...</td>\n",
       "      <td>...</td>\n",
       "      <td>...</td>\n",
       "      <td>...</td>\n",
       "      <td>...</td>\n",
       "    </tr>\n",
       "    <tr>\n",
       "      <th>95</th>\n",
       "      <td>0.707745</td>\n",
       "      <td>0.246967</td>\n",
       "      <td>0.194290</td>\n",
       "      <td>0.249919</td>\n",
       "      <td>0.048454</td>\n",
       "      <td>0.998263</td>\n",
       "      <td>0.693023</td>\n",
       "      <td>0.356434</td>\n",
       "      <td>0.080067</td>\n",
       "      <td>0.517043</td>\n",
       "      <td>...</td>\n",
       "      <td>0.416404</td>\n",
       "      <td>0.949692</td>\n",
       "      <td>0.485381</td>\n",
       "      <td>0.926619</td>\n",
       "      <td>0.479355</td>\n",
       "      <td>0.867280</td>\n",
       "      <td>0.266985</td>\n",
       "      <td>0.667168</td>\n",
       "      <td>0.707919</td>\n",
       "      <td>0.249292</td>\n",
       "    </tr>\n",
       "    <tr>\n",
       "      <th>96</th>\n",
       "      <td>0.310003</td>\n",
       "      <td>0.146046</td>\n",
       "      <td>0.251770</td>\n",
       "      <td>0.876462</td>\n",
       "      <td>0.127422</td>\n",
       "      <td>0.799907</td>\n",
       "      <td>0.968555</td>\n",
       "      <td>0.448510</td>\n",
       "      <td>0.238136</td>\n",
       "      <td>0.103509</td>\n",
       "      <td>...</td>\n",
       "      <td>0.759691</td>\n",
       "      <td>0.511331</td>\n",
       "      <td>0.838171</td>\n",
       "      <td>0.159348</td>\n",
       "      <td>0.219285</td>\n",
       "      <td>0.623250</td>\n",
       "      <td>0.205688</td>\n",
       "      <td>0.040556</td>\n",
       "      <td>0.867998</td>\n",
       "      <td>0.527901</td>\n",
       "    </tr>\n",
       "    <tr>\n",
       "      <th>97</th>\n",
       "      <td>0.870771</td>\n",
       "      <td>0.986362</td>\n",
       "      <td>0.561609</td>\n",
       "      <td>0.203568</td>\n",
       "      <td>0.747194</td>\n",
       "      <td>0.675158</td>\n",
       "      <td>0.213213</td>\n",
       "      <td>0.715934</td>\n",
       "      <td>0.288649</td>\n",
       "      <td>0.496999</td>\n",
       "      <td>...</td>\n",
       "      <td>0.356584</td>\n",
       "      <td>0.841388</td>\n",
       "      <td>0.489683</td>\n",
       "      <td>0.508162</td>\n",
       "      <td>0.358480</td>\n",
       "      <td>0.024890</td>\n",
       "      <td>0.410743</td>\n",
       "      <td>0.382740</td>\n",
       "      <td>0.136359</td>\n",
       "      <td>0.224419</td>\n",
       "    </tr>\n",
       "    <tr>\n",
       "      <th>98</th>\n",
       "      <td>0.312897</td>\n",
       "      <td>0.200640</td>\n",
       "      <td>0.026629</td>\n",
       "      <td>0.143094</td>\n",
       "      <td>0.605778</td>\n",
       "      <td>0.643815</td>\n",
       "      <td>0.417127</td>\n",
       "      <td>0.072187</td>\n",
       "      <td>0.153177</td>\n",
       "      <td>0.114676</td>\n",
       "      <td>...</td>\n",
       "      <td>0.300384</td>\n",
       "      <td>0.399093</td>\n",
       "      <td>0.833935</td>\n",
       "      <td>0.371166</td>\n",
       "      <td>0.667144</td>\n",
       "      <td>0.360004</td>\n",
       "      <td>0.787795</td>\n",
       "      <td>0.536079</td>\n",
       "      <td>0.803890</td>\n",
       "      <td>0.568520</td>\n",
       "    </tr>\n",
       "    <tr>\n",
       "      <th>99</th>\n",
       "      <td>0.452718</td>\n",
       "      <td>0.565357</td>\n",
       "      <td>0.513662</td>\n",
       "      <td>0.751168</td>\n",
       "      <td>0.620178</td>\n",
       "      <td>0.531218</td>\n",
       "      <td>0.300324</td>\n",
       "      <td>0.052756</td>\n",
       "      <td>0.598333</td>\n",
       "      <td>0.095602</td>\n",
       "      <td>...</td>\n",
       "      <td>0.977825</td>\n",
       "      <td>0.130846</td>\n",
       "      <td>0.163798</td>\n",
       "      <td>0.515177</td>\n",
       "      <td>0.629770</td>\n",
       "      <td>0.091870</td>\n",
       "      <td>0.193908</td>\n",
       "      <td>0.716767</td>\n",
       "      <td>0.579764</td>\n",
       "      <td>0.182621</td>\n",
       "    </tr>\n",
       "  </tbody>\n",
       "</table>\n",
       "<p>100 rows × 99 columns</p>\n",
       "</div>"
      ],
      "text/plain": [
       "          1         2         3         4         5         6         7   \\\n",
       "0   0.062660  0.564687  0.271248  0.648471  0.852326  0.840339  0.844134   \n",
       "1   0.618271  0.588981  0.986315  0.351138  0.591995  0.849757  0.720434   \n",
       "2   0.769327  0.514628  0.153016  0.477902  0.672530  0.189727  0.604668   \n",
       "3   0.969037  0.832165  0.561759  0.214281  0.857542  0.852827  0.252099   \n",
       "4   0.992634  0.238636  0.319526  0.039668  0.651133  0.230234  0.488629   \n",
       "..       ...       ...       ...       ...       ...       ...       ...   \n",
       "95  0.707745  0.246967  0.194290  0.249919  0.048454  0.998263  0.693023   \n",
       "96  0.310003  0.146046  0.251770  0.876462  0.127422  0.799907  0.968555   \n",
       "97  0.870771  0.986362  0.561609  0.203568  0.747194  0.675158  0.213213   \n",
       "98  0.312897  0.200640  0.026629  0.143094  0.605778  0.643815  0.417127   \n",
       "99  0.452718  0.565357  0.513662  0.751168  0.620178  0.531218  0.300324   \n",
       "\n",
       "          8         9         10  ...        90        91        92        93  \\\n",
       "0   0.758372  0.040962  0.337995  ...  0.837836  0.381429  0.515857  0.303484   \n",
       "1   0.541742  0.071283  0.947294  ...  0.536766  0.002318  0.490822  0.413330   \n",
       "2   0.275175  0.888092  0.833369  ...  0.806334  0.856026  0.048334  0.122111   \n",
       "3   0.707878  0.489704  0.495154  ...  0.585040  0.030889  0.265946  0.196720   \n",
       "4   0.570719  0.703891  0.198641  ...  0.607742  0.832683  0.435565  0.472435   \n",
       "..       ...       ...       ...  ...       ...       ...       ...       ...   \n",
       "95  0.356434  0.080067  0.517043  ...  0.416404  0.949692  0.485381  0.926619   \n",
       "96  0.448510  0.238136  0.103509  ...  0.759691  0.511331  0.838171  0.159348   \n",
       "97  0.715934  0.288649  0.496999  ...  0.356584  0.841388  0.489683  0.508162   \n",
       "98  0.072187  0.153177  0.114676  ...  0.300384  0.399093  0.833935  0.371166   \n",
       "99  0.052756  0.598333  0.095602  ...  0.977825  0.130846  0.163798  0.515177   \n",
       "\n",
       "          94        95        96        97        98        99  \n",
       "0   0.583150  0.307272  0.373399  0.187103  0.397417  0.186456  \n",
       "1   0.822984  0.958306  0.424656  0.580428  0.618606  0.653447  \n",
       "2   0.503989  0.827649  0.431314  0.015496  0.281287  0.028421  \n",
       "3   0.425469  0.935086  0.441454  0.189439  0.197862  0.071036  \n",
       "4   0.142551  0.296564  0.797406  0.176874  0.652124  0.195166  \n",
       "..       ...       ...       ...       ...       ...       ...  \n",
       "95  0.479355  0.867280  0.266985  0.667168  0.707919  0.249292  \n",
       "96  0.219285  0.623250  0.205688  0.040556  0.867998  0.527901  \n",
       "97  0.358480  0.024890  0.410743  0.382740  0.136359  0.224419  \n",
       "98  0.667144  0.360004  0.787795  0.536079  0.803890  0.568520  \n",
       "99  0.629770  0.091870  0.193908  0.716767  0.579764  0.182621  \n",
       "\n",
       "[100 rows x 99 columns]"
      ]
     },
     "execution_count": 88,
     "metadata": {},
     "output_type": "execute_result"
    }
   ],
   "source": [
    "df.set_index(0).set_index(1).reset_index()"
   ]
  },
  {
   "cell_type": "markdown",
   "id": "511c3f36",
   "metadata": {},
   "source": [
    "# q7 :\n",
    "\n",
    "Consider the Series object S defined below. Which of the following is an incorrect way to slice S such that we obtain all data points corresponding to the indices 'b', 'c', and 'd'?"
   ]
  },
  {
   "cell_type": "code",
   "execution_count": 93,
   "id": "bbd2c104",
   "metadata": {},
   "outputs": [
    {
     "data": {
      "text/plain": [
       "a    0\n",
       "b    1\n",
       "c    2\n",
       "d    3\n",
       "e    4\n",
       "dtype: int32"
      ]
     },
     "execution_count": 93,
     "metadata": {},
     "output_type": "execute_result"
    }
   ],
   "source": [
    "S = pd.Series(np.arange(5), index= ['a', 'b', 'c', 'd', 'e'])\n",
    "S"
   ]
  },
  {
   "cell_type": "code",
   "execution_count": 94,
   "id": "c6f34953",
   "metadata": {},
   "outputs": [
    {
     "data": {
      "text/plain": [
       "b    1\n",
       "c    2\n",
       "d    3\n",
       "e    4\n",
       "dtype: int32"
      ]
     },
     "execution_count": 94,
     "metadata": {},
     "output_type": "execute_result"
    }
   ],
   "source": [
    "S['b':'e']"
   ]
  },
  {
   "cell_type": "code",
   "execution_count": 95,
   "id": "edb2e822",
   "metadata": {},
   "outputs": [
    {
     "data": {
      "text/plain": [
       "b    1\n",
       "c    2\n",
       "d    3\n",
       "dtype: int32"
      ]
     },
     "execution_count": 95,
     "metadata": {},
     "output_type": "execute_result"
    }
   ],
   "source": [
    "S[['b', 'c', 'd']]"
   ]
  },
  {
   "cell_type": "code",
   "execution_count": 97,
   "id": "6fe1196e",
   "metadata": {},
   "outputs": [
    {
     "data": {
      "text/plain": [
       "b    1\n",
       "c    2\n",
       "d    3\n",
       "dtype: int32"
      ]
     },
     "execution_count": 97,
     "metadata": {},
     "output_type": "execute_result"
    }
   ],
   "source": [
    "S[S <= 3][S > 0]"
   ]
  },
  {
   "cell_type": "code",
   "execution_count": 98,
   "id": "28bca85e",
   "metadata": {},
   "outputs": [
    {
     "data": {
      "text/plain": [
       "b    1\n",
       "c    2\n",
       "d    3\n",
       "dtype: int32"
      ]
     },
     "execution_count": 98,
     "metadata": {},
     "output_type": "execute_result"
    }
   ],
   "source": [
    "S[1:4]"
   ]
  },
  {
   "cell_type": "markdown",
   "id": "c6504c5b",
   "metadata": {},
   "source": [
    "# q8 : \n",
    "\n",
    "Consider the DataFrame df shown above with indexes 'R1', 'R2', 'R3', and 'R4'.  In the following code, a new DataFrame df_new is created using df. What will be the value of df_new[1] after the below code is executed?"
   ]
  },
  {
   "cell_type": "code",
   "execution_count": 105,
   "id": "7c21ea68",
   "metadata": {},
   "outputs": [
    {
     "data": {
      "text/plain": [
       "a     76\n",
       "b     88\n",
       "c    112\n",
       "dtype: int64"
      ]
     },
     "execution_count": 105,
     "metadata": {},
     "output_type": "execute_result"
    }
   ],
   "source": [
    "df = pd.DataFrame({'a': [5, 5, 71, 67],\n",
    "                  'b': [6, 82, 31, 37],\n",
    "                  'c': [20, 28, 92, 49]},\n",
    "                 index= ['R1', 'R2', 'R3', 'R4'])\n",
    "new_df = df.apply(lambda x: x.max() + x.min())\n",
    "new_df"
   ]
  },
  {
   "cell_type": "code",
   "execution_count": 106,
   "id": "d58cadb2",
   "metadata": {},
   "outputs": [
    {
     "data": {
      "text/plain": [
       "88"
      ]
     },
     "execution_count": 106,
     "metadata": {},
     "output_type": "execute_result"
    }
   ],
   "source": [
    "new_df[1]"
   ]
  },
  {
   "cell_type": "markdown",
   "id": "551a93fb",
   "metadata": {},
   "source": [
    "# q9 :"
   ]
  },
  {
   "cell_type": "code",
   "execution_count": 124,
   "id": "17b92c77",
   "metadata": {},
   "outputs": [
    {
     "data": {
      "text/plain": [
       "30"
      ]
     },
     "execution_count": 124,
     "metadata": {},
     "output_type": "execute_result"
    }
   ],
   "source": [
    "df = pd.DataFrame({'Item': ['item_1', 'item_1', 'item_1',\n",
    "                           'item_2', 'item_2', 'item_2'],\n",
    "                  'Store': ['A', 'B', 'C', 'A', 'B', 'C'],\n",
    "                  'Quantity sold': [10.0, 20.0, np.nan,\n",
    "                                   5.0, 10.0, 15.0]})\n",
    "\n",
    "num = int(df.groupby('Item').sum().iloc[0]['Quantity sold'])\n",
    "num"
   ]
  },
  {
   "cell_type": "code",
   "execution_count": null,
   "id": "3cb30b58",
   "metadata": {},
   "outputs": [],
   "source": []
  }
 ],
 "metadata": {
  "kernelspec": {
   "display_name": "Python 3 (ipykernel)",
   "language": "python",
   "name": "python3"
  },
  "language_info": {
   "codemirror_mode": {
    "name": "ipython",
    "version": 3
   },
   "file_extension": ".py",
   "mimetype": "text/x-python",
   "name": "python",
   "nbconvert_exporter": "python",
   "pygments_lexer": "ipython3",
   "version": "3.9.7"
  },
  "latex_envs": {
   "LaTeX_envs_menu_present": true,
   "autoclose": false,
   "autocomplete": true,
   "bibliofile": "biblio.bib",
   "cite_by": "apalike",
   "current_citInitial": 1,
   "eqLabelWithNumbers": true,
   "eqNumInitial": 1,
   "hotkeys": {
    "equation": "Ctrl-E",
    "itemize": "Ctrl-I"
   },
   "labels_anchors": false,
   "latex_user_defs": false,
   "report_style_numbering": false,
   "user_envs_cfg": false
  }
 },
 "nbformat": 4,
 "nbformat_minor": 5
}
